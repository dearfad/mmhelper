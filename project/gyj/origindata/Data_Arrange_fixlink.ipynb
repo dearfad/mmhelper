{
 "cells": [
  {
   "cell_type": "code",
   "execution_count": 7,
   "metadata": {},
   "outputs": [],
   "source": [
    "import pandas as pd\n",
    "\n",
    "data = pd.read_csv('tempdata.csv')"
   ]
  },
  {
   "cell_type": "code",
   "execution_count": 8,
   "metadata": {},
   "outputs": [],
   "source": [
    "data['link'] = 'http://www.thecfa.cn' + data['link']"
   ]
  },
  {
   "cell_type": "code",
   "execution_count": 10,
   "metadata": {},
   "outputs": [
    {
     "data": {
      "text/plain": [
       "0       http://www.thecfa.cn/cftz/20200606/28670.html\n",
       "1       http://www.thecfa.cn/cftz/20191105/28428.html\n",
       "2       http://www.thecfa.cn/cftz/20191105/28427.html\n",
       "3       http://www.thecfa.cn/cftz/20191024/28426.html\n",
       "4       http://www.thecfa.cn/cftz/20191024/28425.html\n",
       "                            ...                      \n",
       "1097     http://www.thecfa.cn/cftz/20041227/8305.html\n",
       "1098     http://www.thecfa.cn/cftz/20041227/8304.html\n",
       "1099     http://www.thecfa.cn/cftz/20041227/8303.html\n",
       "1100     http://www.thecfa.cn/cftz/20041227/8302.html\n",
       "1101     http://www.thecfa.cn/cftz/20041227/8301.html\n",
       "Name: link, Length: 1102, dtype: object"
      ]
     },
     "execution_count": 10,
     "metadata": {},
     "output_type": "execute_result"
    }
   ],
   "source": [
    "data['link']"
   ]
  },
  {
   "cell_type": "code",
   "execution_count": 11,
   "metadata": {},
   "outputs": [],
   "source": [
    "data.to_csv('tempdata.csv', encoding='utf_8_sig', index=0)"
   ]
  },
  {
   "cell_type": "code",
   "execution_count": null,
   "metadata": {},
   "outputs": [],
   "source": []
  }
 ],
 "metadata": {
  "kernelspec": {
   "display_name": "Python 3",
   "language": "python",
   "name": "python3"
  },
  "language_info": {
   "codemirror_mode": {
    "name": "ipython",
    "version": 3
   },
   "file_extension": ".py",
   "mimetype": "text/x-python",
   "name": "python",
   "nbconvert_exporter": "python",
   "pygments_lexer": "ipython3",
   "version": "3.8.3"
  }
 },
 "nbformat": 4,
 "nbformat_minor": 4
}
