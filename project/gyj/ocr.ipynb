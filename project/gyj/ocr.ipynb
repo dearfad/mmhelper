{
 "cells": [
  {
   "cell_type": "code",
   "execution_count": 4,
   "metadata": {},
   "outputs": [],
   "source": [
    "#从相应的aip导入AipOcr模块\n",
    "from aip import AipOcr\n",
    "#输入凭证\n",
    "APP_ID=\"21412937\"\n",
    "API_Key=\"TY7G0xr7GyXHjcYbG6mlojRL\"\n",
    "Secret_Key=\"xqzKTu1uToZ6YHlrO2hM8NzFpeSwdB4m\"\n",
    "aipOcr=AipOcr(APP_ID,API_Key,Secret_Key)\n",
    "\n",
    "#输入资源\n",
    "filePath=r\"test.jpg\"\n",
    "image=open(filePath,\"rb\").read()\n",
    "#接通ocr接口\n",
    "result=aipOcr.basicGeneral(image)\n",
    "#输出\n",
    "mywords=result[\"words_result\"]"
   ]
  },
  {
   "cell_type": "code",
   "execution_count": 5,
   "metadata": {
    "scrolled": true
   },
   "outputs": [
    {
     "data": {
      "text/plain": [
       "[{'words': '足球字(2016)207号'},\n",
       " {'words': '关于对足协杯武汉赛区通报批评的决定'},\n",
       " {'words': '各赛区委员会、各足球俱乐部:'},\n",
       " {'words': '2016年5月11日,中国足球协会杯赛第45场,武汉市宏兴柏'},\n",
       " {'words': '润足球俱乐部队与江苏苏宁足球俱乐部苏宁易购队的比赛中,出现了'},\n",
       " {'words': '严重的赛场骚乱情形,体育场内发生武汉市宏兴柏润足球俱乐部官'},\n",
       " {'words': '员、队员殴打他人的情况,安保组织松散不力,并有球迷燃放冷烟火、'},\n",
       " {'words': '向场内大量投掷水瓶,造成不良的社会影响。'},\n",
       " {'words': '在此,中国足协对武汉赛区提出通报批评。同时严令加强赛区工'},\n",
       " {'words': '作整改,责令武汉赛区向中国足协提交该场比赛有关事件的后续处理'},\n",
       " {'words': '情况以及司法处理结果。'},\n",
       " {'words': '赛场上的暴力行为、球迷的不文明行为等都会导致比赛秩序的混'},\n",
       " {'words': '乱,身为比赛的监管者与组织者,赛区工作有序是赛事健康发展的重'},\n",
       " {'words': '要保障,相关单位应当强化管理组织意识,防微杜渐,加强管理,维'},\n",
       " {'words': '护中国足球来之不易的良好环境。'},\n",
       " {'words': '足'},\n",
       " {'words': 'CHINESE'},\n",
       " {'words': '国足球协'},\n",
       " {'words': '206年524日'}]"
      ]
     },
     "execution_count": 5,
     "metadata": {},
     "output_type": "execute_result"
    }
   ],
   "source": [
    "mywords"
   ]
  },
  {
   "cell_type": "code",
   "execution_count": 6,
   "metadata": {},
   "outputs": [
    {
     "data": {
      "text/plain": [
       "{'log_id': 1434645853295486960,\n",
       " 'words_result_num': 19,\n",
       " 'words_result': [{'words': '足球字(2016)207号'},\n",
       "  {'words': '关于对足协杯武汉赛区通报批评的决定'},\n",
       "  {'words': '各赛区委员会、各足球俱乐部:'},\n",
       "  {'words': '2016年5月11日,中国足球协会杯赛第45场,武汉市宏兴柏'},\n",
       "  {'words': '润足球俱乐部队与江苏苏宁足球俱乐部苏宁易购队的比赛中,出现了'},\n",
       "  {'words': '严重的赛场骚乱情形,体育场内发生武汉市宏兴柏润足球俱乐部官'},\n",
       "  {'words': '员、队员殴打他人的情况,安保组织松散不力,并有球迷燃放冷烟火、'},\n",
       "  {'words': '向场内大量投掷水瓶,造成不良的社会影响。'},\n",
       "  {'words': '在此,中国足协对武汉赛区提出通报批评。同时严令加强赛区工'},\n",
       "  {'words': '作整改,责令武汉赛区向中国足协提交该场比赛有关事件的后续处理'},\n",
       "  {'words': '情况以及司法处理结果。'},\n",
       "  {'words': '赛场上的暴力行为、球迷的不文明行为等都会导致比赛秩序的混'},\n",
       "  {'words': '乱,身为比赛的监管者与组织者,赛区工作有序是赛事健康发展的重'},\n",
       "  {'words': '要保障,相关单位应当强化管理组织意识,防微杜渐,加强管理,维'},\n",
       "  {'words': '护中国足球来之不易的良好环境。'},\n",
       "  {'words': '足'},\n",
       "  {'words': 'CHINESE'},\n",
       "  {'words': '国足球协'},\n",
       "  {'words': '206年524日'}]}"
      ]
     },
     "execution_count": 6,
     "metadata": {},
     "output_type": "execute_result"
    }
   ],
   "source": [
    "result"
   ]
  },
  {
   "cell_type": "code",
   "execution_count": null,
   "metadata": {},
   "outputs": [],
   "source": []
  }
 ],
 "metadata": {
  "kernelspec": {
   "display_name": "Python 3",
   "language": "python",
   "name": "python3"
  },
  "language_info": {
   "codemirror_mode": {
    "name": "ipython",
    "version": 3
   },
   "file_extension": ".py",
   "mimetype": "text/x-python",
   "name": "python",
   "nbconvert_exporter": "python",
   "pygments_lexer": "ipython3",
   "version": "3.8.3"
  }
 },
 "nbformat": 4,
 "nbformat_minor": 4
}
