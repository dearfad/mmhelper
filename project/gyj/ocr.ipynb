{
 "cells": [
  {
   "cell_type": "code",
   "execution_count": 1,
   "metadata": {},
   "outputs": [],
   "source": [
    "#从相应的aip导入AipOcr模块\n",
    "from aip import AipOcr\n",
    "#输入凭证\n",
    "APP_ID=\"21412937\"\n",
    "API_Key=\"TY7G0xr7GyXHjcYbG6mlojRL\"\n",
    "Secret_Key=\"xqzKTu1uToZ6YHlrO2hM8NzFpeSwdB4m\"\n",
    "aipOcr=AipOcr(APP_ID,API_Key,Secret_Key)\n",
    "\n",
    "#输入资源\n",
    "filePath=r\"96.jpg\"\n",
    "image=open(filePath,\"rb\").read()\n",
    "#接通ocr接口\n",
    "result=aipOcr.basicGeneral(image)\n",
    "#输出\n",
    "mywords=result[\"words_result\"]"
   ]
  },
  {
   "cell_type": "code",
   "execution_count": 2,
   "metadata": {
    "scrolled": true
   },
   "outputs": [
    {
     "data": {
      "text/plain": [
       "[{'words': '足纪字(2018)092号'},\n",
       " {'words': '关于对贵州恒丰足球俱乐部队官员佩德莱斯库'},\n",
       " {'words': '违规违纪的处罚决定'},\n",
       " {'words': '各赛区委员会、各足球俱乐部:'},\n",
       " {'words': '2018年9月22日,中国足球协会超级联赛第二十三轮场序181'},\n",
       " {'words': '场,贵州恒丰足球俱乐部队与北京中赫国安足球俱乐部队的比赛在贵'},\n",
       " {'words': '阳市奥体中心体育场举行。'},\n",
       " {'words': '根据比赛监督报告、裁判员报告及视频等,当比赛进行到第40'},\n",
       " {'words': '分钟时,贵州恒丰足球俱乐部队官员佩德莱斯库使用侮辱性语言辱骂'},\n",
       " {'words': '裁判员,造成不良社会影响。'},\n",
       " {'words': '依据《中国足球协会纪律准则》第五十四条、第四十七条及第四'},\n",
       " {'words': '十九条之规定,做出如下处罚:'},\n",
       " {'words': '、禁止贵州恒丰足球俱乐部队官员佩德莱斯库进入替补席7'},\n",
       " {'words': '场'},\n",
       " {'words': '二、罚款人民币4.9万元。'},\n",
       " {'words': '上述处罚应按照《中国足球协会关于违规违纪的停赛执行细则》、'},\n",
       " {'words': '《中国足球协会纪律准则》第十七条的规定执行。'},\n",
       " {'words': '本处罚决定自公布之日起立即生效。'},\n",
       " {'words': '中国足球协会将依照《中国足球协会纪律准则》的规定,坚决严'},\n",
       " {'words': '肃处理各类违规违纪行为,净化赛场风气。望各参与方能够共同维护'},\n",
       " {'words': '比赛秩序和来之不易的足球发展环境'},\n",
       " {'words': '中国足球协会纪律委员会'},\n",
       " {'words': '主任:王小平'},\n",
       " {'words': '2018年9月27日'}]"
      ]
     },
     "execution_count": 2,
     "metadata": {},
     "output_type": "execute_result"
    }
   ],
   "source": [
    "mywords"
   ]
  },
  {
   "cell_type": "code",
   "execution_count": 4,
   "metadata": {},
   "outputs": [
    {
     "data": {
      "text/plain": [
       "dict"
      ]
     },
     "execution_count": 4,
     "metadata": {},
     "output_type": "execute_result"
    }
   ],
   "source": [
    "type(mywords[0])"
   ]
  },
  {
   "cell_type": "code",
   "execution_count": null,
   "metadata": {},
   "outputs": [],
   "source": []
  }
 ],
 "metadata": {
  "kernelspec": {
   "display_name": "Python 3",
   "language": "python",
   "name": "python3"
  },
  "language_info": {
   "codemirror_mode": {
    "name": "ipython",
    "version": 3
   },
   "file_extension": ".py",
   "mimetype": "text/x-python",
   "name": "python",
   "nbconvert_exporter": "python",
   "pygments_lexer": "ipython3",
   "version": "3.8.3"
  }
 },
 "nbformat": 4,
 "nbformat_minor": 4
}
