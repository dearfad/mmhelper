{
 "cells": [
  {
   "cell_type": "markdown",
   "metadata": {},
   "source": [
    "## 中国足球协会处罚决定\n",
    "* 网址：http://www.thecfa.cn/cftz/index.html"
   ]
  },
  {
   "cell_type": "markdown",
   "metadata": {},
   "source": [
    "### 分页情况：\n",
    "* index -> index_2 -> ... -> index_74.html"
   ]
  },
  {
   "cell_type": "markdown",
   "metadata": {},
   "source": [
    "### 数据备注：\n",
    "\n",
    "* 首行：关于对中国U19国家男子足球队球员陶强龙、刘祝润、彭号、任丽昊、韩东、何龙海违规违纪的处罚决定\n",
    "* 末行：（8月10日）关于2004蓝带中国足协杯赛中违规违纪的处罚决定\n",
    "* 共计：1102"
   ]
  },
  {
   "cell_type": "markdown",
   "metadata": {},
   "source": [
    "### 抓取内容：\n",
    "* 序列编号  id\n",
    "* 发布日期  date\n",
    "* 网址链接  link\n",
    "* 处罚名称  title"
   ]
  },
  {
   "cell_type": "code",
   "execution_count": 55,
   "metadata": {},
   "outputs": [],
   "source": [
    "import pandas as pd\n",
    "\n",
    "data = pd.DataFrame(columns=['id', 'date', 'link', 'title'])"
   ]
  },
  {
   "cell_type": "code",
   "execution_count": 56,
   "metadata": {},
   "outputs": [],
   "source": [
    "data['id'] = [ x for x in range(1102) ]"
   ]
  },
  {
   "cell_type": "code",
   "execution_count": 57,
   "metadata": {},
   "outputs": [],
   "source": [
    "import requests\n",
    "import time\n",
    "import random\n",
    "from bs4 import BeautifulSoup\n",
    "\n",
    "\n",
    "header = {\n",
    "    'Connection': 'keep-alive',\n",
    "    'User-Agent': 'Mozilla/5.0 (Windows NT 10.0; Win64; x64) AppleWebKit/537.36 (KHTML, like Gecko) Chrome/84.0.4147.89 Safari/537.36',\n",
    "    'Accept': 'text/css,*/*;q=0.1',\n",
    "    'Accept-Encoding': 'gzip, deflate',\n",
    "    'Accept-Language': 'zh-CN,zh;q=0.9,en;q=0.8,ja;q=0.7,zh-TW;q=0.6'\n",
    "}\n",
    "\n",
    "timeout = 5\n",
    "\n",
    "prefix = 'http://www.thecfa.cn/cftz/index'\n",
    "\n",
    "suffix = '.html'\n",
    "\n",
    "date = []\n",
    "link = []\n",
    "title = []"
   ]
  },
  {
   "cell_type": "code",
   "execution_count": null,
   "metadata": {
    "scrolled": true
   },
   "outputs": [],
   "source": [
    "for i in range(1, 75):\n",
    "    print(i)\n",
    "    if i==1:\n",
    "        url = prefix + suffix\n",
    "    else:\n",
    "        url = prefix + '_'+ str(i) + suffix\n",
    "\n",
    "    page = requests.get(url, headers = header, timeout = timeout)\n",
    "\n",
    "    if page.status_code == 200:    \n",
    "        soup = BeautifulSoup(page.text, 'lxml')\n",
    "        itemlist = soup.find_all('li', 'clear')\n",
    "        for item in itemlist:\n",
    "            date.append(item.span.text)\n",
    "            link.append(item.a['href'])\n",
    "            title.append(item.a.text)\n",
    "    else:\n",
    "        print('error')\n"
   ]
  },
  {
   "cell_type": "code",
   "execution_count": null,
   "metadata": {},
   "outputs": [],
   "source": [
    "data['date'] = date\n",
    "data['link'] = link\n",
    "data['title'] = title\n",
    "data"
   ]
  },
  {
   "cell_type": "code",
   "execution_count": 66,
   "metadata": {},
   "outputs": [],
   "source": [
    "# data.to_csv('pdlist.csv', encoding='utf_8_sig', index=0)"
   ]
  }
 ],
 "metadata": {
  "kernelspec": {
   "display_name": "Python 3",
   "language": "python",
   "name": "python3"
  },
  "language_info": {
   "codemirror_mode": {
    "name": "ipython",
    "version": 3
   },
   "file_extension": ".py",
   "mimetype": "text/x-python",
   "name": "python",
   "nbconvert_exporter": "python",
   "pygments_lexer": "ipython3",
   "version": "3.8.3"
  }
 },
 "nbformat": 4,
 "nbformat_minor": 4
}
