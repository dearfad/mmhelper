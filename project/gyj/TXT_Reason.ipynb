{
 "cells": [
  {
   "cell_type": "code",
   "execution_count": 17,
   "metadata": {},
   "outputs": [],
   "source": [
    "data.to_csv('txtdata.csv', encoding='utf_8_sig', index=0)"
   ]
  },
  {
   "cell_type": "code",
   "execution_count": 14,
   "metadata": {},
   "outputs": [],
   "source": [
    "import pandas as pd\n",
    "import numpy as np\n",
    "import re\n",
    "\n",
    "data = pd.read_csv('txtdata.csv')"
   ]
  },
  {
   "cell_type": "code",
   "execution_count": 15,
   "metadata": {},
   "outputs": [],
   "source": [
    "count = 0\n",
    "for i in range(1102):\n",
    "#     print(i)\n",
    "    reason1 = data.iloc[i]['reason1']\n",
    "    if reason1 is not np.nan:\n",
    "        if '举行' in reason1:\n",
    "            reason = reason1.split('举行')[-1]\n",
    "            count += 1\n",
    "        else:\n",
    "            if '进行' in reason1:\n",
    "                reason = reason1.split('进行')[-1]\n",
    "                count +=1\n",
    "    data.loc[i,'reason'] = reason.strip('。').strip()"
   ]
  },
  {
   "cell_type": "code",
   "execution_count": null,
   "metadata": {},
   "outputs": [],
   "source": []
  }
 ],
 "metadata": {
  "kernelspec": {
   "display_name": "Python 3",
   "language": "python",
   "name": "python3"
  },
  "language_info": {
   "codemirror_mode": {
    "name": "ipython",
    "version": 3
   },
   "file_extension": ".py",
   "mimetype": "text/x-python",
   "name": "python",
   "nbconvert_exporter": "python",
   "pygments_lexer": "ipython3",
   "version": "3.8.3"
  }
 },
 "nbformat": 4,
 "nbformat_minor": 4
}
