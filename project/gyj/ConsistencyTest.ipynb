{
 "cells": [
  {
   "cell_type": "markdown",
   "metadata": {},
   "source": [
    "要做一致性检验，统计方法怎么选？ - 医小咖的文章 - 知乎\n",
    "https://zhuanlan.zhihu.com/p/100139276"
   ]
  },
  {
   "cell_type": "markdown",
   "metadata": {},
   "source": [
    "## 1、是否进行一致性检验？\n",
    "一致性检验主要分为4种：（1）重测一致性，用于分析同一检测方法多次测量的一致性；（2）观察者一致性，用于分析不同观察者对同一研究对象进行评估的一致性；（3）内部一致性，用于分析测量工具（如问卷）中不同问题对同一事物的测量信度；（4）诊断试验一致性，用于判断新方法与金标准的检验结果一致性。"
   ]
  },
  {
   "cell_type": "markdown",
   "metadata": {},
   "source": [
    "### 重测一致性，均由中国足协发出的处罚公告"
   ]
  },
  {
   "cell_type": "markdown",
   "metadata": {},
   "source": [
    "## 2、 判断研究设计类型"
   ]
  },
  {
   "cell_type": "markdown",
   "metadata": {},
   "source": [
    "4.1.3 无序分类变量(1) 2次重复测量Kappa一致性检验。该检验又称Cohen's kappa，常用于对比两项检验结果的可重复性，多用于重测一致性、观察者一致性和诊断试验一致性分析。（更多阅读：SPSS操作：一致性检验，如何计算Kappa值？）(2) 重复测量3次及以上Fleiss' kappa系数。该检验适用于分析重复测量3次及以上且测量结果是无序分类变量的重测一致性或观察者一致性检验。SPSS没有内置操作模块，但可以通过拓展包输出结果。\n"
   ]
  },
  {
   "cell_type": "code",
   "execution_count": null,
   "metadata": {},
   "outputs": [],
   "source": []
  }
 ],
 "metadata": {
  "kernelspec": {
   "display_name": "Python 3",
   "language": "python",
   "name": "python3"
  },
  "language_info": {
   "codemirror_mode": {
    "name": "ipython",
    "version": 3
   },
   "file_extension": ".py",
   "mimetype": "text/x-python",
   "name": "python",
   "nbconvert_exporter": "python",
   "pygments_lexer": "ipython3",
   "version": "3.8.3"
  }
 },
 "nbformat": 4,
 "nbformat_minor": 4
}
