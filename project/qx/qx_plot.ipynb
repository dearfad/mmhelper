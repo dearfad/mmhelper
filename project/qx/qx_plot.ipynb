{
 "cells": [
  {
   "cell_type": "code",
   "execution_count": 1,
   "metadata": {},
   "outputs": [],
   "source": [
    "import numpy as np\n",
    "import pandas as pd\n",
    "import matplotlib.pyplot as plt"
   ]
  },
  {
   "cell_type": "code",
   "execution_count": 6,
   "metadata": {},
   "outputs": [],
   "source": [
    "spdata = pd.read_pickle('SP.pkl')\n",
    "mpdata = pd.read_pickle('MP.pkl')"
   ]
  },
  {
   "cell_type": "code",
   "execution_count": 14,
   "metadata": {},
   "outputs": [
    {
     "data": {
      "text/plain": [
       "Index(['Patient ID', 'Race recode (W, B, AI, API)',\n",
       "       'Race recode (White, Black, Other)', 'Year of diagnosis',\n",
       "       'Site recode ICD-O-3/WHO 2008', 'Primary Site - labeled',\n",
       "       'Histologic Type ICD-O-3', 'Grade', 'Laterality',\n",
       "       'ICD-O-3 Hist/behav, malignant',\n",
       "       'Derived AJCC Stage Group, 7th ed (2010-2015)',\n",
       "       'Derived AJCC T, 7th ed (2010-2015)',\n",
       "       'Derived AJCC N, 7th ed (2010-2015)',\n",
       "       'Derived AJCC M, 7th ed (2010-2015)',\n",
       "       'Derived SEER Cmb Stg Grp (2016+)', 'Derived SEER Combined T (2016+)',\n",
       "       'Derived SEER Combined N (2016+)', 'Derived SEER Combined M (2016+)',\n",
       "       'RX Summ--Surg Prim Site (1998+)', 'Radiation sequence with surgery',\n",
       "       'Radiation recode', 'Chemotherapy recode (yes, no/unk)',\n",
       "       'SEER Combined Mets at DX-bone (2010+)',\n",
       "       'SEER Combined Mets at DX-brain (2010+)',\n",
       "       'SEER Combined Mets at DX-liver (2010+)',\n",
       "       'SEER Combined Mets at DX-lung (2010+)', 'Breast Subtype (2010+)',\n",
       "       'ER Status Recode Breast Cancer (1990+)',\n",
       "       'PR Status Recode Breast Cancer (1990+)', 'Derived HER2 Recode (2010+)',\n",
       "       'Tumor Size Summary (2016+)', 'CS tumor size (2004-2015)',\n",
       "       'CS site-specific factor 7 (2004+ varying by schema)',\n",
       "       'COD to site recode', 'Survival months', 'COD to site rec KM',\n",
       "       'Sequence number', 'Age at diagnosis', 'Marital status at diagnosis'],\n",
       "      dtype='object')"
      ]
     },
     "execution_count": 14,
     "metadata": {},
     "output_type": "execute_result"
    }
   ],
   "source": [
    "spdata.columns"
   ]
  },
  {
   "cell_type": "code",
   "execution_count": 13,
   "metadata": {},
   "outputs": [
    {
     "data": {
      "text/plain": [
       "Index(['Patient ID', 'Record number recode',\n",
       "       'Site recode B ICD-O-3/WHO 2008 (Event Variable)', 'Year of diagnosis',\n",
       "       'Race recode (W, B, AI, API)', 'Site recode ICD-O-3/WHO 2008',\n",
       "       'Age recode with <1 year olds', 'Age at diagnosis',\n",
       "       'Primary Site - labeled', 'Histologic Type ICD-O-3', 'Grade',\n",
       "       'Laterality', 'Derived AJCC Stage Group, 7th ed (2010-2015)',\n",
       "       'Derived AJCC T, 7th ed (2010-2015)',\n",
       "       'Derived AJCC N, 7th ed (2010-2015)',\n",
       "       'Derived AJCC M, 7th ed (2010-2015)',\n",
       "       'Derived SEER Cmb Stg Grp (2016+)', 'Derived SEER Combined T (2016+)',\n",
       "       'Derived SEER Combined N (2016+)', 'Derived SEER Combined M (2016+)',\n",
       "       'RX Summ--Surg Prim Site (1998+)', 'Radiation sequence with surgery',\n",
       "       'Radiation recode', 'Chemotherapy recode (yes, no/unk)',\n",
       "       'Tumor Size Summary (2016+)', 'CS tumor size (2004-2015)',\n",
       "       'SEER Combined Mets at DX-bone (2010+)',\n",
       "       'SEER Combined Mets at DX-brain (2010+)',\n",
       "       'SEER Combined Mets at DX-liver (2010+)',\n",
       "       'SEER Combined Mets at DX-lung (2010+)', 'Breast Subtype (2010+)',\n",
       "       'ER Status Recode Breast Cancer (1990+)',\n",
       "       'PR Status Recode Breast Cancer (1990+)', 'Derived HER2 Recode (2010+)',\n",
       "       'CS site-specific factor 7 (2004+ varying by schema)',\n",
       "       'COD to site recode', 'Survival months', 'Sequence number',\n",
       "       'First malignant primary indicator',\n",
       "       'Total number of in situ/malignant tumors for patient',\n",
       "       'Total number of benign/borderline tumors for patient',\n",
       "       'Marital status at diagnosis',\n",
       "       'Vital status recode (study cutoff used)', 'Month of diagnosis recode',\n",
       "       'Month of follow-up recode', 'Year of follow-up recode', 'Event Number',\n",
       "       'Reason for Exit', 'Sequence Number (Calculated)',\n",
       "       'Age at Event in Months (Calculated)',\n",
       "       'Months Since Index (Calculated)', 'Person Time Years (Calculated)'],\n",
       "      dtype='object')"
      ]
     },
     "execution_count": 13,
     "metadata": {},
     "output_type": "execute_result"
    }
   ],
   "source": [
    "mpdata.columns"
   ]
  },
  {
   "cell_type": "markdown",
   "metadata": {},
   "source": [
    "1. Time Feature in mpdata"
   ]
  },
  {
   "cell_type": "code",
   "execution_count": 85,
   "metadata": {},
   "outputs": [],
   "source": [
    "sp_age = spdata.groupby('Age at diagnosis').size()/spdata.shape[0]\n",
    "mp_age = mpdata[mpdata['Record number recode']==1].groupby('Age at diagnosis').size()/mpdata[mpdata['Record number recode']==1].shape[0]\n",
    "op_age = mpdata[mpdata['Record number recode']==2].groupby('Age at diagnosis').size()/mpdata[mpdata['Record number recode']==2].shape[0]"
   ]
  },
  {
   "cell_type": "code",
   "execution_count": 86,
   "metadata": {},
   "outputs": [
    {
     "data": {
      "image/png": "[encoded data removed]",
      "text/plain": [
       "<Figure size 720x360 with 1 Axes>"
      ]
     },
     "metadata": {
      "needs_background": "light"
     },
     "output_type": "display_data"
    }
   ],
   "source": [
    "plt.figure(figsize=(10,5))\n",
    "plt.scatter(sp_age.index, sp_age.values, label='spdata');\n",
    "plt.scatter(mp_age.index, mp_age.values, label='mpdata');\n",
    "plt.scatter(op_age.index, op_age.values, label='opdata');\n",
    "plt.legend();\n",
    "plt.show()"
   ]
  },
  {
   "cell_type": "code",
   "execution_count": 28,
   "metadata": {},
   "outputs": [],
   "source": []
  },
  {
   "cell_type": "code",
   "execution_count": null,
   "metadata": {},
   "outputs": [],
   "source": []
  }
 ],
 "metadata": {
  "kernelspec": {
   "display_name": "Python 3",
   "language": "python",
   "name": "python3"
  },
  "language_info": {
   "codemirror_mode": {
    "name": "ipython",
    "version": 3
   },
   "file_extension": ".py",
   "mimetype": "text/x-python",
   "name": "python",
   "nbconvert_exporter": "python",
   "pygments_lexer": "ipython3",
   "version": "3.8.5"
  }
 },
 "nbformat": 4,
 "nbformat_minor": 4
}
