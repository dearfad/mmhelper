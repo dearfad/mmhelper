{
 "metadata": {
  "language_info": {
   "codemirror_mode": {
    "name": "ipython",
    "version": 3
   },
   "file_extension": ".py",
   "mimetype": "text/x-python",
   "name": "python",
   "nbconvert_exporter": "python",
   "pygments_lexer": "ipython3",
   "version": "3.8.5-final"
  },
  "orig_nbformat": 2,
  "kernelspec": {
   "name": "Python 3.8.5 64-bit",
   "display_name": "Python 3.8.5 64-bit",
   "metadata": {
    "interpreter": {
     "hash": "6b881b2749935116588268fee9d7176cbb8d0c7eeface6b1ec191983ac516378"
    }
   }
  }
 },
 "nbformat": 4,
 "nbformat_minor": 2,
 "cells": [
  {
   "cell_type": "code",
   "execution_count": 34,
   "metadata": {},
   "outputs": [],
   "source": [
    "import numpy as np\n",
    "import pandas as pd\n",
    "from scipy.stats import chi2_contingency\n",
    "\n",
    "spdata = pd.read_pickle('SP.pkl')\n",
    "mpdata = pd.read_pickle('MP.pkl')"
   ]
  },
  {
   "cell_type": "code",
   "execution_count": 35,
   "metadata": {},
   "outputs": [],
   "source": [
    "# 标记 p < 0.05\n",
    "def highlight_diff(rowdata):\n",
    "    return ['background-color: darkgreen' if rowdata['p'] < 0.05 else '' for v in rowdata]"
   ]
  },
  {
   "cell_type": "code",
   "execution_count": 38,
   "metadata": {},
   "outputs": [],
   "source": [
    "# 对照spdata, mpdata交集列显示统计信息\n",
    "def columninfo(tag, spdata, mpdata):\n",
    "\n",
    "    print('='*90)\n",
    "\n",
    "    # 分项统计\n",
    "    svalue = spdata.groupby(tag).size().sort_values(ascending=False)\n",
    "    print('spdata:', svalue)\n",
    "    print('-'*90)    \n",
    "    mvalue = mpdata[mpdata['Record number recode']==1].groupby(tag).size().sort_values(ascending=False)\n",
    "    print('mpdata:', mvalue)\n",
    "    print('-'*90)\n",
    "\n",
    "    # 项目列表\n",
    "    snunique = spdata[tag].nunique()\n",
    "    mnunique = mpdata[mpdata['Record number recode']==1][tag].nunique()\n",
    "    print(f'spdata: {snunique}, mpdata: {mnunique}')\n",
    "    sunique = spdata[tag].unique()\n",
    "    munique = mpdata[mpdata['Record number recode']==1][tag].unique()\n",
    "    index = list(set(sunique).intersection(set(munique)))\n",
    "    print('difference:\\n')\n",
    "    sdiff = list(set(sunique).difference(set(munique)))\n",
    "    print('spdata: ', sdiff)\n",
    "    mdiff = list(set(munique).difference(set(sunique)))\n",
    "    print('mpdata: ', mdiff)\n",
    "    print('*'*90)\n",
    "\n",
    "    # 同项目卡方检验，排序时用'0'，排序后换回0\n",
    "    obs = np.array([svalue[index], mvalue[index]]).T\n",
    "\n",
    "    obsframe = pd.DataFrame(index=index, columns=['svalue','mvalue','percent'])\n",
    "    obsframe['svalue'] = obs[:,0]\n",
    "    obsframe['mvalue'] = obs[:,1]\n",
    "    obsframe['percent'] = round(obsframe['mvalue']/(obsframe['svalue']+obsframe['mvalue']), 3)\n",
    "    print(obsframe.sort_values(by='percent', ascending=False))\n",
    "    \n",
    "    # 整体差异性\n",
    "    print('p = ', round(chi2_contingency(obs)[1], 3))\n",
    "    print('-'*90)\n",
    "\n",
    "    # 组间两两比较\n",
    "    result = pd.DataFrame()\n",
    "    result_type1 = []\n",
    "    result_percent1 = []\n",
    "    result_type2 = []\n",
    "    result_percent2 = []\n",
    "    result_p = []\n",
    "    for type1 in range(len(obs)):\n",
    "        for type2 in range(type1+1, len(obs)):\n",
    "            result_type1.append(index[type1])\n",
    "            result_percent1.append(obsframe.loc[index[type1], 'percent'])\n",
    "            result_type2.append(index[type2])\n",
    "            result_percent2.append(obsframe.loc[index[type2], 'percent'])\n",
    "            result_p.append(round(chi2_contingency(np.array([obs[type1], obs[type2]]))[1],3))\n",
    "    result['type1'] = result_type1\n",
    "    result['percent1'] = result_percent1\n",
    "    result['type2'] = result_type2\n",
    "    result['percent2'] = result_percent2\n",
    "    result['p'] = result_p\n",
    "\n",
    "    return result.style.apply(highlight_diff, axis=1).format({'p': '{:.3f}', 'percent1': '{:.3f}', 'percent2': '{:.3f}'})"
   ]
  },
  {
   "cell_type": "code",
   "execution_count": 39,
   "metadata": {
    "tags": []
   },
   "outputs": [
    {
     "output_type": "stream",
     "name": "stdout",
     "text": "============================================================\nintersection:\n ['RX Summ--Surg Prim Site (1998+)', 'Derived SEER Cmb Stg Grp (2016+)', 'SEER Combined Mets at DX-bone (2010+)', 'Sequence number', 'Derived AJCC T, 7th ed (2010-2015)', 'Derived SEER Combined N (2016+)', 'Patient ID', 'Radiation sequence with surgery', 'Derived AJCC N, 7th ed (2010-2015)', 'COD to site recode', 'SEER Combined Mets at DX-brain (2010+)', 'Race recode (W, B, AI, API)', 'Primary Site - labeled', 'Marital status at diagnosis', 'Site recode ICD-O-3/WHO 2008', 'Derived SEER Combined M (2016+)', 'Chemotherapy recode (yes, no/unk)', 'Survival months', 'SEER Combined Mets at DX-lung (2010+)', 'Derived AJCC M, 7th ed (2010-2015)', 'Derived SEER Combined T (2016+)', 'ER Status Recode Breast Cancer (1990+)', 'Derived HER2 Recode (2010+)', 'Age at diagnosis', 'Derived AJCC Stage Group, 7th ed (2010-2015)', 'PR Status Recode Breast Cancer (1990+)', 'Laterality', 'Radiation recode', 'Tumor Size Summary (2016+)', 'CS site-specific factor 7 (2004+ varying by schema)', 'Year of diagnosis', 'Breast Subtype (2010+)', 'Grade', 'CS tumor size (2004-2015)', 'SEER Combined Mets at DX-liver (2010+)', 'Histologic Type ICD-O-3']\n------------------------------------------------------------\nspdata:\n ['Race recode (White, Black, Other)', 'COD to site rec KM', 'ICD-O-3 Hist/behav, malignant']\n------------------------------------------------------------\nmpdata:\n ['Person Time Years (Calculated)', 'Vital status recode (study cutoff used)', 'First malignant primary indicator', 'Months Since Index (Calculated)', 'Total number of benign/borderline tumors for patient', 'Age at Event in Months (Calculated)', 'Event Number', 'Sequence Number (Calculated)', 'Month of follow-up recode', 'Reason for Exit', 'Record number recode', 'Total number of in situ/malignant tumors for patient', 'Age recode with <1 year olds', 'Year of follow-up recode', 'Site recode B ICD-O-3/WHO 2008 (Event Variable)', 'Month of diagnosis recode']\n============================================================\n"
    }
   ],
   "source": [
    "# 项目交集\n",
    "print('='*60)\n",
    "intersection_columns = list(set(spdata.columns).intersection(set(mpdata.columns)))\n",
    "print('intersection:\\n', intersection_columns)\n",
    "print('-'*60)\n",
    "# 项目差集\n",
    "spdata_difference_columns = list(set(spdata.columns).difference(set(mpdata.columns)))\n",
    "print('spdata:\\n', spdata_difference_columns)\n",
    "print('-'*60)\n",
    "mpdata_difference_columns = list(set(mpdata.columns).difference(set(spdata.columns)))\n",
    "print('mpdata:\\n', mpdata_difference_columns)\n",
    "print('='*60)"
   ]
  },
  {
   "cell_type": "code",
   "execution_count": 42,
   "metadata": {
    "tags": []
   },
   "outputs": [
    {
     "output_type": "stream",
     "name": "stdout",
     "text": "==========================================================================================\nspdata: Breast Subtype (2010+)\nHR+/HER2- (Luminal A)          212508\nHR-/HER2- (Triple Negative)     33828\nHR+/HER2+ (Luminal B)           33269\nUnknown                         21166\nHR-/HER2+ (HER2 enriched)       14376\ndtype: int64\n------------------------------------------------------------------------------------------\nmpdata: Breast Subtype (2010+)\nHR+/HER2- (Luminal A)          5741\nHR-/HER2- (Triple Negative)     948\nHR+/HER2+ (Luminal B)           696\nUnknown                         604\nHR-/HER2+ (HER2 enriched)       299\ndtype: int64\n------------------------------------------------------------------------------------------\nspdata: 5, mpdata: 5\ndifference:\n\nspdata:  []\nmpdata:  []\n******************************************************************************************\n                             svalue  mvalue  percent\nUnknown                       21166     604    0.028\nHR-/HER2- (Triple Negative)   33828     948    0.027\nHR+/HER2- (Luminal A)        212508    5741    0.026\nHR+/HER2+ (Luminal B)         33269     696    0.020\nHR-/HER2+ (HER2 enriched)     14376     299    0.020\np =  0.0\n------------------------------------------------------------------------------------------\n"
    },
    {
     "output_type": "execute_result",
     "data": {
      "text/plain": "<pandas.io.formats.style.Styler at 0x28540571160>",
      "text/html": "<style  type=\"text/css\" >\n#T_de0d9eb6_0172_11eb_9dd4_107b44a389e7row1_col0,#T_de0d9eb6_0172_11eb_9dd4_107b44a389e7row1_col1,#T_de0d9eb6_0172_11eb_9dd4_107b44a389e7row1_col2,#T_de0d9eb6_0172_11eb_9dd4_107b44a389e7row1_col3,#T_de0d9eb6_0172_11eb_9dd4_107b44a389e7row1_col4,#T_de0d9eb6_0172_11eb_9dd4_107b44a389e7row2_col0,#T_de0d9eb6_0172_11eb_9dd4_107b44a389e7row2_col1,#T_de0d9eb6_0172_11eb_9dd4_107b44a389e7row2_col2,#T_de0d9eb6_0172_11eb_9dd4_107b44a389e7row2_col3,#T_de0d9eb6_0172_11eb_9dd4_107b44a389e7row2_col4,#T_de0d9eb6_0172_11eb_9dd4_107b44a389e7row3_col0,#T_de0d9eb6_0172_11eb_9dd4_107b44a389e7row3_col1,#T_de0d9eb6_0172_11eb_9dd4_107b44a389e7row3_col2,#T_de0d9eb6_0172_11eb_9dd4_107b44a389e7row3_col3,#T_de0d9eb6_0172_11eb_9dd4_107b44a389e7row3_col4,#T_de0d9eb6_0172_11eb_9dd4_107b44a389e7row4_col0,#T_de0d9eb6_0172_11eb_9dd4_107b44a389e7row4_col1,#T_de0d9eb6_0172_11eb_9dd4_107b44a389e7row4_col2,#T_de0d9eb6_0172_11eb_9dd4_107b44a389e7row4_col3,#T_de0d9eb6_0172_11eb_9dd4_107b44a389e7row4_col4,#T_de0d9eb6_0172_11eb_9dd4_107b44a389e7row5_col0,#T_de0d9eb6_0172_11eb_9dd4_107b44a389e7row5_col1,#T_de0d9eb6_0172_11eb_9dd4_107b44a389e7row5_col2,#T_de0d9eb6_0172_11eb_9dd4_107b44a389e7row5_col3,#T_de0d9eb6_0172_11eb_9dd4_107b44a389e7row5_col4,#T_de0d9eb6_0172_11eb_9dd4_107b44a389e7row6_col0,#T_de0d9eb6_0172_11eb_9dd4_107b44a389e7row6_col1,#T_de0d9eb6_0172_11eb_9dd4_107b44a389e7row6_col2,#T_de0d9eb6_0172_11eb_9dd4_107b44a389e7row6_col3,#T_de0d9eb6_0172_11eb_9dd4_107b44a389e7row6_col4{\n            background-color:  darkgreen;\n        }</style><table id=\"T_de0d9eb6_0172_11eb_9dd4_107b44a389e7\" ><thead>    <tr>        <th class=\"blank level0\" ></th>        <th class=\"col_heading level0 col0\" >type1</th>        <th class=\"col_heading level0 col1\" >percent1</th>        <th class=\"col_heading level0 col2\" >type2</th>        <th class=\"col_heading level0 col3\" >percent2</th>        <th class=\"col_heading level0 col4\" >p</th>    </tr></thead><tbody>\n                <tr>\n                        <th id=\"T_de0d9eb6_0172_11eb_9dd4_107b44a389e7level0_row0\" class=\"row_heading level0 row0\" >0</th>\n                        <td id=\"T_de0d9eb6_0172_11eb_9dd4_107b44a389e7row0_col0\" class=\"data row0 col0\" >HR+/HER2+ (Luminal B)</td>\n                        <td id=\"T_de0d9eb6_0172_11eb_9dd4_107b44a389e7row0_col1\" class=\"data row0 col1\" >0.020</td>\n                        <td id=\"T_de0d9eb6_0172_11eb_9dd4_107b44a389e7row0_col2\" class=\"data row0 col2\" >HR-/HER2+ (HER2 enriched)</td>\n                        <td id=\"T_de0d9eb6_0172_11eb_9dd4_107b44a389e7row0_col3\" class=\"data row0 col3\" >0.020</td>\n                        <td id=\"T_de0d9eb6_0172_11eb_9dd4_107b44a389e7row0_col4\" class=\"data row0 col4\" >0.961</td>\n            </tr>\n            <tr>\n                        <th id=\"T_de0d9eb6_0172_11eb_9dd4_107b44a389e7level0_row1\" class=\"row_heading level0 row1\" >1</th>\n                        <td id=\"T_de0d9eb6_0172_11eb_9dd4_107b44a389e7row1_col0\" class=\"data row1 col0\" >HR+/HER2+ (Luminal B)</td>\n                        <td id=\"T_de0d9eb6_0172_11eb_9dd4_107b44a389e7row1_col1\" class=\"data row1 col1\" >0.020</td>\n                        <td id=\"T_de0d9eb6_0172_11eb_9dd4_107b44a389e7row1_col2\" class=\"data row1 col2\" >Unknown</td>\n                        <td id=\"T_de0d9eb6_0172_11eb_9dd4_107b44a389e7row1_col3\" class=\"data row1 col3\" >0.028</td>\n                        <td id=\"T_de0d9eb6_0172_11eb_9dd4_107b44a389e7row1_col4\" class=\"data row1 col4\" >0.000</td>\n            </tr>\n            <tr>\n                        <th id=\"T_de0d9eb6_0172_11eb_9dd4_107b44a389e7level0_row2\" class=\"row_heading level0 row2\" >2</th>\n                        <td id=\"T_de0d9eb6_0172_11eb_9dd4_107b44a389e7row2_col0\" class=\"data row2 col0\" >HR+/HER2+ (Luminal B)</td>\n                        <td id=\"T_de0d9eb6_0172_11eb_9dd4_107b44a389e7row2_col1\" class=\"data row2 col1\" >0.020</td>\n                        <td id=\"T_de0d9eb6_0172_11eb_9dd4_107b44a389e7row2_col2\" class=\"data row2 col2\" >HR+/HER2- (Luminal A)</td>\n                        <td id=\"T_de0d9eb6_0172_11eb_9dd4_107b44a389e7row2_col3\" class=\"data row2 col3\" >0.026</td>\n                        <td id=\"T_de0d9eb6_0172_11eb_9dd4_107b44a389e7row2_col4\" class=\"data row2 col4\" >0.000</td>\n            </tr>\n            <tr>\n                        <th id=\"T_de0d9eb6_0172_11eb_9dd4_107b44a389e7level0_row3\" class=\"row_heading level0 row3\" >3</th>\n                        <td id=\"T_de0d9eb6_0172_11eb_9dd4_107b44a389e7row3_col0\" class=\"data row3 col0\" >HR+/HER2+ (Luminal B)</td>\n                        <td id=\"T_de0d9eb6_0172_11eb_9dd4_107b44a389e7row3_col1\" class=\"data row3 col1\" >0.020</td>\n                        <td id=\"T_de0d9eb6_0172_11eb_9dd4_107b44a389e7row3_col2\" class=\"data row3 col2\" >HR-/HER2- (Triple Negative)</td>\n                        <td id=\"T_de0d9eb6_0172_11eb_9dd4_107b44a389e7row3_col3\" class=\"data row3 col3\" >0.027</td>\n                        <td id=\"T_de0d9eb6_0172_11eb_9dd4_107b44a389e7row3_col4\" class=\"data row3 col4\" >0.000</td>\n            </tr>\n            <tr>\n                        <th id=\"T_de0d9eb6_0172_11eb_9dd4_107b44a389e7level0_row4\" class=\"row_heading level0 row4\" >4</th>\n                        <td id=\"T_de0d9eb6_0172_11eb_9dd4_107b44a389e7row4_col0\" class=\"data row4 col0\" >HR-/HER2+ (HER2 enriched)</td>\n                        <td id=\"T_de0d9eb6_0172_11eb_9dd4_107b44a389e7row4_col1\" class=\"data row4 col1\" >0.020</td>\n                        <td id=\"T_de0d9eb6_0172_11eb_9dd4_107b44a389e7row4_col2\" class=\"data row4 col2\" >Unknown</td>\n                        <td id=\"T_de0d9eb6_0172_11eb_9dd4_107b44a389e7row4_col3\" class=\"data row4 col3\" >0.028</td>\n                        <td id=\"T_de0d9eb6_0172_11eb_9dd4_107b44a389e7row4_col4\" class=\"data row4 col4\" >0.000</td>\n            </tr>\n            <tr>\n                        <th id=\"T_de0d9eb6_0172_11eb_9dd4_107b44a389e7level0_row5\" class=\"row_heading level0 row5\" >5</th>\n                        <td id=\"T_de0d9eb6_0172_11eb_9dd4_107b44a389e7row5_col0\" class=\"data row5 col0\" >HR-/HER2+ (HER2 enriched)</td>\n                        <td id=\"T_de0d9eb6_0172_11eb_9dd4_107b44a389e7row5_col1\" class=\"data row5 col1\" >0.020</td>\n                        <td id=\"T_de0d9eb6_0172_11eb_9dd4_107b44a389e7row5_col2\" class=\"data row5 col2\" >HR+/HER2- (Luminal A)</td>\n                        <td id=\"T_de0d9eb6_0172_11eb_9dd4_107b44a389e7row5_col3\" class=\"data row5 col3\" >0.026</td>\n                        <td id=\"T_de0d9eb6_0172_11eb_9dd4_107b44a389e7row5_col4\" class=\"data row5 col4\" >0.000</td>\n            </tr>\n            <tr>\n                        <th id=\"T_de0d9eb6_0172_11eb_9dd4_107b44a389e7level0_row6\" class=\"row_heading level0 row6\" >6</th>\n                        <td id=\"T_de0d9eb6_0172_11eb_9dd4_107b44a389e7row6_col0\" class=\"data row6 col0\" >HR-/HER2+ (HER2 enriched)</td>\n                        <td id=\"T_de0d9eb6_0172_11eb_9dd4_107b44a389e7row6_col1\" class=\"data row6 col1\" >0.020</td>\n                        <td id=\"T_de0d9eb6_0172_11eb_9dd4_107b44a389e7row6_col2\" class=\"data row6 col2\" >HR-/HER2- (Triple Negative)</td>\n                        <td id=\"T_de0d9eb6_0172_11eb_9dd4_107b44a389e7row6_col3\" class=\"data row6 col3\" >0.027</td>\n                        <td id=\"T_de0d9eb6_0172_11eb_9dd4_107b44a389e7row6_col4\" class=\"data row6 col4\" >0.000</td>\n            </tr>\n            <tr>\n                        <th id=\"T_de0d9eb6_0172_11eb_9dd4_107b44a389e7level0_row7\" class=\"row_heading level0 row7\" >7</th>\n                        <td id=\"T_de0d9eb6_0172_11eb_9dd4_107b44a389e7row7_col0\" class=\"data row7 col0\" >Unknown</td>\n                        <td id=\"T_de0d9eb6_0172_11eb_9dd4_107b44a389e7row7_col1\" class=\"data row7 col1\" >0.028</td>\n                        <td id=\"T_de0d9eb6_0172_11eb_9dd4_107b44a389e7row7_col2\" class=\"data row7 col2\" >HR+/HER2- (Luminal A)</td>\n                        <td id=\"T_de0d9eb6_0172_11eb_9dd4_107b44a389e7row7_col3\" class=\"data row7 col3\" >0.026</td>\n                        <td id=\"T_de0d9eb6_0172_11eb_9dd4_107b44a389e7row7_col4\" class=\"data row7 col4\" >0.215</td>\n            </tr>\n            <tr>\n                        <th id=\"T_de0d9eb6_0172_11eb_9dd4_107b44a389e7level0_row8\" class=\"row_heading level0 row8\" >8</th>\n                        <td id=\"T_de0d9eb6_0172_11eb_9dd4_107b44a389e7row8_col0\" class=\"data row8 col0\" >Unknown</td>\n                        <td id=\"T_de0d9eb6_0172_11eb_9dd4_107b44a389e7row8_col1\" class=\"data row8 col1\" >0.028</td>\n                        <td id=\"T_de0d9eb6_0172_11eb_9dd4_107b44a389e7row8_col2\" class=\"data row8 col2\" >HR-/HER2- (Triple Negative)</td>\n                        <td id=\"T_de0d9eb6_0172_11eb_9dd4_107b44a389e7row8_col3\" class=\"data row8 col3\" >0.027</td>\n                        <td id=\"T_de0d9eb6_0172_11eb_9dd4_107b44a389e7row8_col4\" class=\"data row8 col4\" >0.752</td>\n            </tr>\n            <tr>\n                        <th id=\"T_de0d9eb6_0172_11eb_9dd4_107b44a389e7level0_row9\" class=\"row_heading level0 row9\" >9</th>\n                        <td id=\"T_de0d9eb6_0172_11eb_9dd4_107b44a389e7row9_col0\" class=\"data row9 col0\" >HR+/HER2- (Luminal A)</td>\n                        <td id=\"T_de0d9eb6_0172_11eb_9dd4_107b44a389e7row9_col1\" class=\"data row9 col1\" >0.026</td>\n                        <td id=\"T_de0d9eb6_0172_11eb_9dd4_107b44a389e7row9_col2\" class=\"data row9 col2\" >HR-/HER2- (Triple Negative)</td>\n                        <td id=\"T_de0d9eb6_0172_11eb_9dd4_107b44a389e7row9_col3\" class=\"data row9 col3\" >0.027</td>\n                        <td id=\"T_de0d9eb6_0172_11eb_9dd4_107b44a389e7row9_col4\" class=\"data row9 col4\" >0.311</td>\n            </tr>\n    </tbody></table>"
     },
     "metadata": {},
     "execution_count": 42
    }
   ],
   "source": [
    "columninfo('Breast Subtype (2010+)', spdata, mpdata)"
   ]
  },
  {
   "cell_type": "code",
   "execution_count": null,
   "metadata": {},
   "outputs": [],
   "source": []
  }
 ]
}