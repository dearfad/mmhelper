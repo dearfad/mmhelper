{
 "metadata": {
  "language_info": {
   "codemirror_mode": {
    "name": "ipython",
    "version": 3
   },
   "file_extension": ".py",
   "mimetype": "text/x-python",
   "name": "python",
   "nbconvert_exporter": "python",
   "pygments_lexer": "ipython3",
   "version": "3.8.5-final"
  },
  "orig_nbformat": 2,
  "kernelspec": {
   "name": "python_defaultSpec_1600759447924",
   "display_name": "Python 3.8.5 64-bit"
  }
 },
 "nbformat": 4,
 "nbformat_minor": 2,
 "cells": [
  {
   "cell_type": "code",
   "execution_count": 188,
   "metadata": {},
   "outputs": [],
   "source": [
    "import numpy as np\n",
    "import pandas as pd\n",
    "from scipy.stats import chi2_contingency\n",
    "\n",
    "spdata = pd.read_pickle('SP.pkl')\n",
    "mpdata = pd.read_pickle('MP.pkl')"
   ]
  },
  {
   "cell_type": "code",
   "execution_count": 189,
   "metadata": {},
   "outputs": [
    {
     "output_type": "execute_result",
     "data": {
      "text/plain": "Index(['Patient ID', 'Race recode (W, B, AI, API)',\n       'Race recode (White, Black, Other)', 'Year of diagnosis',\n       'Site recode ICD-O-3/WHO 2008', 'Primary Site - labeled',\n       'Histologic Type ICD-O-3', 'Grade', 'Laterality',\n       'ICD-O-3 Hist/behav, malignant',\n       'Derived AJCC Stage Group, 7th ed (2010-2015)',\n       'Derived AJCC T, 7th ed (2010-2015)',\n       'Derived AJCC N, 7th ed (2010-2015)',\n       'Derived AJCC M, 7th ed (2010-2015)',\n       'Derived SEER Cmb Stg Grp (2016+)', 'Derived SEER Combined T (2016+)',\n       'Derived SEER Combined N (2016+)', 'Derived SEER Combined M (2016+)',\n       'RX Summ--Surg Prim Site (1998+)', 'Radiation sequence with surgery',\n       'Radiation recode', 'Chemotherapy recode (yes, no/unk)',\n       'SEER Combined Mets at DX-bone (2010+)',\n       'SEER Combined Mets at DX-brain (2010+)',\n       'SEER Combined Mets at DX-liver (2010+)',\n       'SEER Combined Mets at DX-lung (2010+)', 'Breast Subtype (2010+)',\n       'ER Status Recode Breast Cancer (1990+)',\n       'PR Status Recode Breast Cancer (1990+)', 'Derived HER2 Recode (2010+)',\n       'Tumor Size Summary (2016+)', 'CS tumor size (2004-2015)',\n       'CS site-specific factor 7 (2004+ varying by schema)',\n       'COD to site recode', 'Survival months', 'COD to site rec KM',\n       'Sequence number', 'Age at diagnosis', 'Marital status at diagnosis'],\n      dtype='object')"
     },
     "metadata": {},
     "execution_count": 189
    }
   ],
   "source": [
    "spdata.columns"
   ]
  },
  {
   "cell_type": "code",
   "execution_count": 190,
   "metadata": {},
   "outputs": [
    {
     "output_type": "execute_result",
     "data": {
      "text/plain": "Index(['Patient ID', 'Record number recode',\n       'Site recode B ICD-O-3/WHO 2008 (Event Variable)', 'Year of diagnosis',\n       'Race recode (W, B, AI, API)', 'Site recode ICD-O-3/WHO 2008',\n       'Age recode with <1 year olds', 'Age at diagnosis',\n       'Primary Site - labeled', 'Histologic Type ICD-O-3', 'Grade',\n       'Laterality', 'Derived AJCC Stage Group, 7th ed (2010-2015)',\n       'Derived AJCC T, 7th ed (2010-2015)',\n       'Derived AJCC N, 7th ed (2010-2015)',\n       'Derived AJCC M, 7th ed (2010-2015)',\n       'Derived SEER Cmb Stg Grp (2016+)', 'Derived SEER Combined T (2016+)',\n       'Derived SEER Combined N (2016+)', 'Derived SEER Combined M (2016+)',\n       'RX Summ--Surg Prim Site (1998+)', 'Radiation sequence with surgery',\n       'Radiation recode', 'Chemotherapy recode (yes, no/unk)',\n       'Tumor Size Summary (2016+)', 'CS tumor size (2004-2015)',\n       'SEER Combined Mets at DX-bone (2010+)',\n       'SEER Combined Mets at DX-brain (2010+)',\n       'SEER Combined Mets at DX-liver (2010+)',\n       'SEER Combined Mets at DX-lung (2010+)', 'Breast Subtype (2010+)',\n       'ER Status Recode Breast Cancer (1990+)',\n       'PR Status Recode Breast Cancer (1990+)', 'Derived HER2 Recode (2010+)',\n       'CS site-specific factor 7 (2004+ varying by schema)',\n       'COD to site recode', 'Survival months', 'Sequence number',\n       'First malignant primary indicator',\n       'Total number of in situ/malignant tumors for patient',\n       'Total number of benign/borderline tumors for patient',\n       'Marital status at diagnosis',\n       'Vital status recode (study cutoff used)', 'Month of diagnosis recode',\n       'Month of follow-up recode', 'Year of follow-up recode', 'Event Number',\n       'Reason for Exit', 'Sequence Number (Calculated)',\n       'Age at Event in Months (Calculated)',\n       'Months Since Index (Calculated)', 'Person Time Years (Calculated)'],\n      dtype='object')"
     },
     "metadata": {},
     "execution_count": 190
    }
   ],
   "source": [
    "mpdata.columns"
   ]
  },
  {
   "source": [
    "#### 2.3.7 'Primary Site - labeled'"
   ],
   "cell_type": "markdown",
   "metadata": {}
  },
  {
   "cell_type": "code",
   "execution_count": 191,
   "metadata": {},
   "outputs": [
    {
     "output_type": "execute_result",
     "data": {
      "text/plain": "array(['C50.8-Overlapping lesion of breast',\n       'C50.1-Central portion of breast',\n       'C50.2-Upper-inner quadrant of breast',\n       'C50.3-Lower-inner quadrant of breast',\n       'C50.4-Upper-outer quadrant of breast', 'C50.9-Breast, NOS',\n       'C50.5-Lower-outer quadrant of breast', 'C50.0-Nipple',\n       'C50.6-Axillary tail of breast'], dtype=object)"
     },
     "metadata": {},
     "execution_count": 191
    }
   ],
   "source": [
    "spdata['Primary Site - labeled'].unique()"
   ]
  },
  {
   "cell_type": "code",
   "execution_count": 192,
   "metadata": {},
   "outputs": [
    {
     "output_type": "execute_result",
     "data": {
      "text/plain": "array(['C50.9-Breast, NOS', 'C50.4-Upper-outer quadrant of breast',\n       'C50.2-Upper-inner quadrant of breast',\n       'C50.1-Central portion of breast',\n       'C50.8-Overlapping lesion of breast',\n       'C50.3-Lower-inner quadrant of breast',\n       'C50.5-Lower-outer quadrant of breast',\n       'C50.6-Axillary tail of breast', 'C50.0-Nipple'], dtype=object)"
     },
     "metadata": {},
     "execution_count": 192
    }
   ],
   "source": [
    "mpdata[mpdata['Record number recode']==1]['Primary Site - labeled'].unique()"
   ]
  },
  {
   "cell_type": "code",
   "execution_count": 193,
   "metadata": {},
   "outputs": [
    {
     "output_type": "execute_result",
     "data": {
      "text/plain": "Primary Site - labeled\nC50.0-Nipple                              1323\nC50.1-Central portion of breast          14344\nC50.2-Upper-inner quadrant of breast     38222\nC50.3-Lower-inner quadrant of breast     17149\nC50.4-Upper-outer quadrant of breast    107245\nC50.5-Lower-outer quadrant of breast     23363\nC50.6-Axillary tail of breast             1528\nC50.8-Overlapping lesion of breast       71496\nC50.9-Breast, NOS                        40477\ndtype: int64"
     },
     "metadata": {},
     "execution_count": 193
    }
   ],
   "source": [
    "spdata.groupby('Primary Site - labeled').size()"
   ]
  },
  {
   "cell_type": "code",
   "execution_count": 194,
   "metadata": {},
   "outputs": [
    {
     "output_type": "execute_result",
     "data": {
      "text/plain": "Primary Site - labeled\nC50.0-Nipple                              52\nC50.1-Central portion of breast          427\nC50.2-Upper-inner quadrant of breast    1010\nC50.3-Lower-inner quadrant of breast     471\nC50.4-Upper-outer quadrant of breast    2733\nC50.5-Lower-outer quadrant of breast     541\nC50.6-Axillary tail of breast             38\nC50.8-Overlapping lesion of breast      1959\nC50.9-Breast, NOS                       1057\ndtype: int64"
     },
     "metadata": {},
     "execution_count": 194
    }
   ],
   "source": [
    "mpdata[mpdata['Record number recode']==1].groupby('Primary Site - labeled').size()"
   ]
  },
  {
   "source": [
    "---\n",
    "\n",
    "**解析**\n",
    "\n",
    "1. 位置上未见区别，顺序为 外上 -> 内上 -> 内下/外下\n",
    "\n",
    "---"
   ],
   "cell_type": "markdown",
   "metadata": {}
  },
  {
   "source": [
    "#### 2.3.8 'Histologic Type ICD-O-3'"
   ],
   "cell_type": "markdown",
   "metadata": {}
  },
  {
   "cell_type": "code",
   "execution_count": 195,
   "metadata": {},
   "outputs": [
    {
     "output_type": "execute_result",
     "data": {
      "text/plain": "array([8522, 8520, 8500, 9120, 8140, 8480, 8211, 8523, 8543, 8246, 8502,\n       8490, 8050, 8524, 8510, 8575, 8010, 8530, 8504, 8507, 8201, 9020,\n       8503, 8260, 8200, 8343, 8401, 8541, 8013, 8800, 8022, 8481, 8070,\n       8230, 8560, 8249, 8046, 8521, 8123, 8890, 8540, 8501, 8980, 8323,\n       8453, 8000, 8574, 8570, 8344, 8550, 8255, 8830, 8982, 8035, 8074,\n       8033, 8525, 8513, 8572, 8147, 8935, 8041, 8310, 8032, 9180, 8141,\n       8315, 8801, 8045, 8571, 8071, 8802, 8082, 8805, 8512, 8983, 8811,\n       8430, 8004, 9041, 8240, 8470, 8072, 8020, 8001, 8410, 9040, 8021,\n       8851, 8005, 8251, 8858, 8850, 9260, 8852, 8832, 9580, 8900, 8854,\n       8130, 8090, 8042, 8012, 8573, 8290, 8243, 8471, 8815, 8562, 8804,\n       8030, 9183, 8912, 8341, 8460, 8542, 8990, 8052, 8810, 8440, 8720,\n       8920], dtype=int64)"
     },
     "metadata": {},
     "execution_count": 195
    }
   ],
   "source": [
    "spdata['Histologic Type ICD-O-3'].unique()"
   ]
  },
  {
   "cell_type": "code",
   "execution_count": 196,
   "metadata": {},
   "outputs": [
    {
     "output_type": "execute_result",
     "data": {
      "text/plain": "array([8500, 8520, 8480, 8504, 8507, 8575, 8523, 8522, 8046, 8211, 8530,\n       8010, 8260, 8543, 9020, 8521, 8510, 8050, 8140, 8524, 8255, 8201,\n       8503, 8200, 8540, 8560, 8401, 8070, 8000, 8032, 8501, 8541, 8502,\n       8246, 9181, 8574, 8230, 8041, 8490, 8310, 8800, 8832, 9180, 8343,\n       8071, 8980, 9120, 8550, 8801, 8802, 8033, 8481, 8141, 8470, 8940,\n       8035], dtype=int64)"
     },
     "metadata": {},
     "execution_count": 196
    }
   ],
   "source": [
    "mpdata[mpdata['Record number recode']==1]['Histologic Type ICD-O-3'].unique()"
   ]
  },
  {
   "cell_type": "code",
   "execution_count": 197,
   "metadata": {},
   "outputs": [
    {
     "output_type": "execute_result",
     "data": {
      "text/plain": "Histologic Type ICD-O-3\n8500    236433\n8520     27572\n8522     16542\n8523      9998\n8480      5725\n8010      2747\n8140      1830\n8211      1574\n8575      1382\n8507      1262\ndtype: int64"
     },
     "metadata": {},
     "execution_count": 197
    }
   ],
   "source": [
    "spdata.groupby('Histologic Type ICD-O-3').size().sort_values(ascending=False).head(10)"
   ]
  },
  {
   "cell_type": "code",
   "execution_count": 198,
   "metadata": {},
   "outputs": [
    {
     "output_type": "execute_result",
     "data": {
      "text/plain": "Histologic Type ICD-O-3\n8500    5998\n8520     764\n8522     470\n8523     291\n8480     207\n8010      65\n8211      52\n8575      43\n8140      37\n8503      36\ndtype: int64"
     },
     "metadata": {},
     "execution_count": 198
    }
   ],
   "source": [
    "mpdata[mpdata['Record number recode']==1].groupby('Histologic Type ICD-O-3').size().sort_values(ascending=False).head(10)"
   ]
  },
  {
   "source": [
    "---\n",
    "\n",
    "**解析**\n",
    "\n",
    "1. 组织学类型前5名均为 8500 -> 8520 -> 8522 -> 8523 -> 8480\n",
    "\n",
    "---"
   ],
   "cell_type": "markdown",
   "metadata": {}
  },
  {
   "source": [
    "#### 2.3.9 'Grade'"
   ],
   "cell_type": "markdown",
   "metadata": {}
  },
  {
   "cell_type": "code",
   "execution_count": 199,
   "metadata": {},
   "outputs": [
    {
     "output_type": "execute_result",
     "data": {
      "text/plain": "array(['Moderately differentiated; Grade II',\n       'Poorly differentiated; Grade III', 'Well differentiated; Grade I',\n       'Unknown', 'Undifferentiated; anaplastic; Grade IV'], dtype=object)"
     },
     "metadata": {},
     "execution_count": 199
    }
   ],
   "source": [
    "spdata['Grade'].unique()"
   ]
  },
  {
   "cell_type": "code",
   "execution_count": 200,
   "metadata": {},
   "outputs": [
    {
     "output_type": "execute_result",
     "data": {
      "text/plain": "array(['Poorly differentiated; Grade III',\n       'Moderately differentiated; Grade II',\n       'Well differentiated; Grade I', 'Unknown',\n       'Undifferentiated; anaplastic; Grade IV'], dtype=object)"
     },
     "metadata": {},
     "execution_count": 200
    }
   ],
   "source": [
    "mpdata[mpdata['Record number recode']==1]['Grade'].unique()"
   ]
  },
  {
   "cell_type": "code",
   "execution_count": 201,
   "metadata": {},
   "outputs": [
    {
     "output_type": "execute_result",
     "data": {
      "text/plain": "Grade\nModerately differentiated; Grade II       130554\nPoorly differentiated; Grade III           98754\nWell differentiated; Grade I               67025\nUnknown                                    17801\nUndifferentiated; anaplastic; Grade IV      1013\ndtype: int64"
     },
     "metadata": {},
     "execution_count": 201
    }
   ],
   "source": [
    "spdata.groupby('Grade').size().sort_values(ascending=False)"
   ]
  },
  {
   "cell_type": "code",
   "execution_count": 202,
   "metadata": {},
   "outputs": [
    {
     "output_type": "execute_result",
     "data": {
      "text/plain": "Grade\nModerately differentiated; Grade II       3421\nPoorly differentiated; Grade III          2467\nWell differentiated; Grade I              1911\nUnknown                                    459\nUndifferentiated; anaplastic; Grade IV      30\ndtype: int64"
     },
     "metadata": {},
     "execution_count": 202
    }
   ],
   "source": [
    "mpdata[mpdata['Record number recode']==1].groupby('Grade').size().sort_values(ascending=False)"
   ]
  },
  {
   "cell_type": "code",
   "execution_count": 203,
   "metadata": {},
   "outputs": [],
   "source": [
    "sgrade = spdata.groupby('Grade').size().sort_values(ascending=False)\n",
    "mgrade = mpdata[mpdata['Record number recode']==1].groupby('Grade').size().sort_values(ascending=False)"
   ]
  },
  {
   "cell_type": "code",
   "execution_count": 204,
   "metadata": {
    "tags": []
   },
   "outputs": [
    {
     "output_type": "stream",
     "name": "stdout",
     "text": "[[130554   3421]\n [ 98754   2467]\n [ 67025   1911]\n [ 17801    459]\n [  1013     30]]\n"
    },
    {
     "output_type": "execute_result",
     "data": {
      "text/plain": "(19.123676217914262,\n 0.0007431662505579445,\n 4,\n array([[1.30541900e+05, 3.43310031e+03],\n        [9.86272187e+04, 2.59378128e+03],\n        [6.71695197e+04, 1.76648034e+03],\n        [1.77920887e+04, 4.67911265e+02],\n        [1.01627320e+03, 2.67268045e+01]]))"
     },
     "metadata": {},
     "execution_count": 204
    }
   ],
   "source": [
    "obs = np.array([sgrade, mgrade]).T\n",
    "print(obs)\n",
    "chi2_contingency(obs)"
   ]
  },
  {
   "cell_type": "code",
   "execution_count": 205,
   "metadata": {
    "tags": []
   },
   "outputs": [
    {
     "output_type": "stream",
     "name": "stdout",
     "text": "II III 0.076\nII I 0.004\nII UN 0.768\nII IV 0.576\nIII I 0.0\nIII UN 0.556\nIII IV 0.416\nI UN 0.06\nI IV 0.914\nUN IV 0.533\n"
    }
   ],
   "source": [
    "tag = ['II','III','I','UN','IV']\n",
    "for row in range(len(obs)):\n",
    "    # test = np.array([obs[0], obs[1]])\n",
    "    for row2 in range(row+1, len(obs)):\n",
    "        test = np.array([obs[row], obs[row2]])\n",
    "        print(tag[row], tag[row2], round(chi2_contingency(test)[1], 3))"
   ]
  },
  {
   "cell_type": "code",
   "execution_count": null,
   "metadata": {},
   "outputs": [],
   "source": []
  }
 ]
}