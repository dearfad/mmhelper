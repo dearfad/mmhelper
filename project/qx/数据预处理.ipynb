{
 "cells": [
  {
   "cell_type": "code",
   "execution_count": 1,
   "metadata": {},
   "outputs": [],
   "source": [
    "import pandas as pd\n",
    "df = pd.read_excel('test100.xlsx')\n",
    "# 读取excel里面的数据"
   ]
  },
  {
   "cell_type": "code",
   "execution_count": 2,
   "metadata": {},
   "outputs": [],
   "source": [
    "replace_dict = {'White': 0, 'Black': 1,'Other (American Indian/AK Native, Asian/Pacific Islander)': 2, 'Unknown': 4}\n",
    "column_name_1 = 'Race recode (White, Black, Other)'\n",
    "df[column_name_1].replace(replace_dict, inplace=True)\n",
    "#_1 文本特征一对一转换为指定数值（适用于无需合并其他变量的字段，如性别、种族等Balbalbal）"
   ]
  },
  {
   "cell_type": "code",
   "execution_count": 3,
   "metadata": {},
   "outputs": [],
   "source": [
    "column_name_2 = 'Age at diagnosis'\n",
    "#_2 根据数值特征的大小筛选出符合条件的数据，批量替换为指定数值(适用于年龄、手术方式编码等变量)"
   ]
  },
  {
   "cell_type": "code",
   "execution_count": 4,
   "metadata": {},
   "outputs": [],
   "source": [
    "df.loc[df[column_name_2] < 45, [column_name_2]] = 0\n",
    "\n",
    "df.loc[(df[column_name_2] >= 45) & (df[column_name_2] < 55), [column_name_2]] = 1\n",
    "\n",
    "df.loc[(df[column_name_2] >= 55) & (df[column_name_2] < 65), [column_name_2]] = 2\n",
    "\n",
    "df.loc[(df[column_name_2] >= 65) & (df[column_name_2] < 75), [column_name_2]] = 3\n",
    "\n",
    "df.loc[(df[column_name_2] >= 75) & (df[column_name_2] < 85), [column_name_2]] = 4\n",
    "\n",
    "df.loc[df[column_name_2] >= 85, [column_name_2]] = 5"
   ]
  },
  {
   "cell_type": "code",
   "execution_count": 5,
   "metadata": {},
   "outputs": [],
   "source": [
    "column_name_3 = 'COD to site recode'\n",
    "df.loc[(df[column_name_3] != 'Alive') & (df[column_name_3] != 'Breast'), [column_name_3]] = 2\n",
    "df.loc[df[column_name_3] == 'Alive', [column_name_3]] = 0\n",
    "df.loc[df[column_name_3] == 'Breast', [column_name_3]] = 1\n",
    "#_3 文本特征多对一转换为指定数值，先替换其他特征，再替换指定特征（适用于有合并变量的字段，如其他原因死亡均为2）\n",
    "#  ！就是“不要”！"
   ]
  },
  {
   "cell_type": "code",
   "execution_count": 7,
   "metadata": {
    "scrolled": false
   },
   "outputs": [],
   "source": [
    "replace_dict = {'Female': 0, 'Male': 1}\n",
    "column_name_4 = 'Sex'\n",
    "df[column_name_4].replace(replace_dict, inplace=True)"
   ]
  },
  {
   "cell_type": "code",
   "execution_count": 9,
   "metadata": {},
   "outputs": [],
   "source": [
    "column_name_5 = 'Radiation recode'\n",
    "df.loc[(df[column_name_5] != 'None/Unknown') , [column_name_5]] = 1\n",
    "df.loc[df[column_name_5] == 'None/Unknown', [column_name_5]] = 0"
   ]
  },
  {
   "cell_type": "code",
   "execution_count": 10,
   "metadata": {},
   "outputs": [],
   "source": [
    "df.to_excel('test00-3.xlsx', index=False)\n",
    "#_4 换个名字，否则会覆盖之前的文件嗷"
   ]
  },
  {
   "cell_type": "code",
   "execution_count": null,
   "metadata": {},
   "outputs": [],
   "source": []
  }
 ],
 "metadata": {
  "kernelspec": {
   "display_name": "Python 3",
   "language": "python",
   "name": "python3"
  },
  "language_info": {
   "codemirror_mode": {
    "name": "ipython",
    "version": 3
   },
   "file_extension": ".py",
   "mimetype": "text/x-python",
   "name": "python",
   "nbconvert_exporter": "python",
   "pygments_lexer": "ipython3",
   "version": "3.7.4"
  }
 },
 "nbformat": 4,
 "nbformat_minor": 2
}
