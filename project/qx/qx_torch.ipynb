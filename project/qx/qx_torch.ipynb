{
 "metadata": {
  "language_info": {
   "codemirror_mode": {
    "name": "ipython",
    "version": 3
   },
   "file_extension": ".py",
   "mimetype": "text/x-python",
   "name": "python",
   "nbconvert_exporter": "python",
   "pygments_lexer": "ipython3",
   "version": "3.8.5-final"
  },
  "orig_nbformat": 2,
  "kernelspec": {
   "name": "Python 3.8.5 64-bit",
   "display_name": "Python 3.8.5 64-bit",
   "metadata": {
    "interpreter": {
     "hash": "6b881b2749935116588268fee9d7176cbb8d0c7eeface6b1ec191983ac516378"
    }
   }
  }
 },
 "nbformat": 4,
 "nbformat_minor": 2,
 "cells": [
  {
   "cell_type": "code",
   "execution_count": 1,
   "metadata": {},
   "outputs": [],
   "source": [
    "import torch\n",
    "import numpy as np\n",
    "import pandas as pd\n",
    "from sklearn import preprocessing\n",
    "from sklearn.model_selection import train_test_split\n",
    "from sklearn.metrics import confusion_matrix\n",
    "from imblearn.under_sampling import ClusterCentroids\n",
    "from scipy.stats import chi2_contingency\n",
    "from sklearn import metrics\n",
    "\n",
    "# 所有变量格式化\n",
    "from IPython.core.interactiveshell import InteractiveShell\n",
    "InteractiveShell.ast_node_interactivity = 'all'"
   ]
  },
  {
   "cell_type": "code",
   "execution_count": 2,
   "metadata": {},
   "outputs": [],
   "source": [
    "spdata = pd.read_pickle('SP.pkl')\n",
    "mpdata = pd.read_pickle('MP.pkl')"
   ]
  },
  {
   "cell_type": "code",
   "execution_count": 3,
   "metadata": {},
   "outputs": [],
   "source": [
    "# 指定标签\n",
    "\n",
    "spdata['label'] = 0\n",
    "mpdata['label'] = 1"
   ]
  },
  {
   "cell_type": "code",
   "execution_count": 4,
   "metadata": {},
   "outputs": [],
   "source": [
    "# 提取共有特征\n",
    "\n",
    "intersection_columns = list(set(spdata.columns).intersection(set(mpdata.columns)))"
   ]
  },
  {
   "cell_type": "code",
   "execution_count": 5,
   "metadata": {},
   "outputs": [],
   "source": [
    "# 合并单双原发癌表\n",
    "\n",
    "mixdata = pd.DataFrame()\n",
    "# mixdata = mixdata.append(spdata[intersection_columns].sample(n=8288, random_state=1))\n",
    "mixdata = mixdata.append(spdata[intersection_columns])\n",
    "mixdata = mixdata.append(mpdata[mpdata['Record number recode']==1][intersection_columns])"
   ]
  },
  {
   "cell_type": "code",
   "execution_count": 6,
   "metadata": {},
   "outputs": [],
   "source": [
    "# 标记 p < 0.05\n",
    "def highlight_diff(rowdata):\n",
    "    return ['background-color: darkgreen' if rowdata['p'] < 0.05 else '' for v in rowdata]"
   ]
  },
  {
   "cell_type": "code",
   "execution_count": 7,
   "metadata": {},
   "outputs": [],
   "source": [
    "# 对照spdata, mpdata交集列显示统计信息\n",
    "def columninfo(tag, spdata, mpdata):\n",
    "\n",
    "    print('='*90)\n",
    "\n",
    "    # 分项统计\n",
    "    svalue = spdata.groupby(tag).size().sort_values(ascending=False)\n",
    "    print('spdata:', svalue)\n",
    "    print('-'*90)    \n",
    "    mvalue = mpdata[mpdata['Record number recode']==1].groupby(tag).size().sort_values(ascending=False)\n",
    "    print('mpdata:', mvalue)\n",
    "    print('-'*90)\n",
    "\n",
    "    # 项目列表\n",
    "    snunique = spdata[tag].nunique()\n",
    "    mnunique = mpdata[mpdata['Record number recode']==1][tag].nunique()\n",
    "    print(f'spdata: {snunique}, mpdata: {mnunique}')\n",
    "    sunique = spdata[tag].unique()\n",
    "    munique = mpdata[mpdata['Record number recode']==1][tag].unique()\n",
    "    index = list(set(sunique).intersection(set(munique)))\n",
    "    print('difference:\\n')\n",
    "    sdiff = list(set(sunique).difference(set(munique)))\n",
    "    print('spdata: ', sdiff)\n",
    "    mdiff = list(set(munique).difference(set(sunique)))\n",
    "    print('mpdata: ', mdiff)\n",
    "    print('*'*90)\n",
    "\n",
    "    # 同项目卡方检验，排序时用'0'，排序后换回0\n",
    "    obs = np.array([svalue[index], mvalue[index]]).T\n",
    "\n",
    "    obsframe = pd.DataFrame(index=index, columns=['svalue','mvalue','percent'])\n",
    "    obsframe['svalue'] = obs[:,0]\n",
    "    obsframe['mvalue'] = obs[:,1]\n",
    "    obsframe['percent'] = round(obsframe['mvalue']/(obsframe['svalue']+obsframe['mvalue']), 3)\n",
    "    print(obsframe.sort_values(by='percent', ascending=False))\n",
    "    \n",
    "    # 整体差异性\n",
    "    print('p = ', round(chi2_contingency(obs)[1], 3))\n",
    "    print('-'*90)\n",
    "\n",
    "    # 组间两两比较\n",
    "    result = pd.DataFrame()\n",
    "    result_type1 = []\n",
    "    result_percent1 = []\n",
    "    result_type2 = []\n",
    "    result_percent2 = []\n",
    "    result_p = []\n",
    "    for type1 in range(len(obs)):\n",
    "        for type2 in range(type1+1, len(obs)):\n",
    "            result_type1.append(index[type1])\n",
    "            result_percent1.append(obsframe.loc[index[type1], 'percent'])\n",
    "            result_type2.append(index[type2])\n",
    "            result_percent2.append(obsframe.loc[index[type2], 'percent'])\n",
    "            result_p.append(round(chi2_contingency(np.array([obs[type1], obs[type2]]))[1],3))\n",
    "    result['type1'] = result_type1\n",
    "    result['percent1'] = result_percent1\n",
    "    result['type2'] = result_type2\n",
    "    result['percent2'] = result_percent2\n",
    "    result['p'] = result_p\n",
    "\n",
    "    return result.style.apply(highlight_diff, axis=1).format({'p': '{:.3f}', 'percent1': '{:.3f}', 'percent2': '{:.3f}'})"
   ]
  },
  {
   "cell_type": "code",
   "execution_count": 8,
   "metadata": {},
   "outputs": [
    {
     "output_type": "execute_result",
     "data": {
      "text/plain": "Index([&#39;Radiation recode&#39;, &#39;ER Status Recode Breast Cancer (1990+)&#39;,\n       &#39;Age at diagnosis&#39;, &#39;CS tumor size (2004-2015)&#39;, &#39;Year of diagnosis&#39;,\n       &#39;label&#39;, &#39;Race recode (W, B, AI, API)&#39;, &#39;Patient ID&#39;,\n       &#39;RX Summ--Surg Prim Site (1998+)&#39;, &#39;Breast Subtype (2010+)&#39;,\n       &#39;SEER Combined Mets at DX-brain (2010+)&#39;,\n       &#39;Derived SEER Cmb Stg Grp (2016+)&#39;,\n       &#39;SEER Combined Mets at DX-liver (2010+)&#39;,\n       &#39;Radiation sequence with surgery&#39;,\n       &#39;Derived AJCC Stage Group, 7th ed (2010-2015)&#39;,\n       &#39;Tumor Size Summary (2016+)&#39;, &#39;Site recode ICD-O-3/WHO 2008&#39;,\n       &#39;Derived AJCC N, 7th ed (2010-2015)&#39;, &#39;Derived SEER Combined T (2016+)&#39;,\n       &#39;Chemotherapy recode (yes, no/unk)&#39;, &#39;Primary Site - labeled&#39;,\n       &#39;SEER Combined Mets at DX-lung (2010+)&#39;,\n       &#39;Derived AJCC T, 7th ed (2010-2015)&#39;, &#39;Sequence number&#39;,\n       &#39;Derived HER2 Recode (2010+)&#39;, &#39;Grade&#39;,\n       &#39;PR Status Recode Breast Cancer (1990+)&#39;,\n       &#39;CS site-specific factor 7 (2004+ varying by schema)&#39;,\n       &#39;Derived AJCC M, 7th ed (2010-2015)&#39;, &#39;COD to site recode&#39;,\n       &#39;Survival months&#39;, &#39;Derived SEER Combined N (2016+)&#39;,\n       &#39;Derived SEER Combined M (2016+)&#39;, &#39;Histologic Type ICD-O-3&#39;,\n       &#39;SEER Combined Mets at DX-bone (2010+)&#39;, &#39;Marital status at diagnosis&#39;,\n       &#39;Laterality&#39;],\n      dtype=&#39;object&#39;)"
     },
     "metadata": {},
     "execution_count": 8
    }
   ],
   "source": [
    "mixdata.columns"
   ]
  },
  {
   "cell_type": "code",
   "execution_count": 9,
   "metadata": {
    "tags": []
   },
   "outputs": [
    {
     "output_type": "execute_result",
     "data": {
      "text/plain": "(323435, 37)"
     },
     "metadata": {},
     "execution_count": 9
    }
   ],
   "source": [
    "mixdata.shape"
   ]
  },
  {
   "cell_type": "code",
   "execution_count": 10,
   "metadata": {
    "tags": []
   },
   "outputs": [],
   "source": [
    "# 指定标签及特征\n",
    "\n",
    "data = mixdata[['label', 'Age at diagnosis', 'Derived AJCC Stage Group, 7th ed (2010-2015)', 'Derived AJCC T, 7th ed (2010-2015)', 'Derived AJCC N, 7th ed (2010-2015)', 'Derived AJCC M, 7th ed (2010-2015)', 'Grade', 'Breast Subtype (2010+)', 'ER Status Recode Breast Cancer (1990+)', 'PR Status Recode Breast Cancer (1990+)', 'Derived HER2 Recode (2010+)']]"
   ]
  },
  {
   "cell_type": "code",
   "execution_count": 11,
   "metadata": {},
   "outputs": [],
   "source": [
    "data = data.dropna()"
   ]
  },
  {
   "cell_type": "code",
   "execution_count": 12,
   "metadata": {},
   "outputs": [],
   "source": [
    "# Age按照50岁分组\n",
    "\n",
    "data['Age'] = pd.cut(data['Age at diagnosis'], bins=[0,50,200], right=False)\n",
    "data = data.drop(columns='Age at diagnosis')"
   ]
  },
  {
   "cell_type": "code",
   "execution_count": 13,
   "metadata": {},
   "outputs": [],
   "source": [
    "# 去掉Stage中无意义项目\n",
    "\n",
    "data = data.drop(data[data['Derived AJCC Stage Group, 7th ed (2010-2015)'].isin(['Blank(s)', 'UNK Stage', 0, 'IIINOS'])].index)\n",
    "data = data.rename(columns={'Derived AJCC Stage Group, 7th ed (2010-2015)': 'Stage'})"
   ]
  },
  {
   "cell_type": "code",
   "execution_count": 14,
   "metadata": {},
   "outputs": [],
   "source": [
    "# 去掉T无意义项目\n",
    "\n",
    "data = data.drop(data[data['Derived AJCC T, 7th ed (2010-2015)'].isin(['T0', 'T1mic', 'TX', 'T4NOS', 'T1NOS'])].index)\n",
    "data = data.rename(columns={'Derived AJCC T, 7th ed (2010-2015)': 'T'})"
   ]
  },
  {
   "cell_type": "code",
   "execution_count": 15,
   "metadata": {},
   "outputs": [],
   "source": [
    "# 去掉N无意义项目\n",
    "\n",
    "data = data.drop(data[data['Derived AJCC N, 7th ed (2010-2015)'].isin(['N1mi', 'N2NOS', 'N1NOS', 'N0(mol-)', 'N3NOS', 'NX', 'N0(mol+)'])].index)\n",
    "data = data.rename(columns={'Derived AJCC N, 7th ed (2010-2015)': 'N'})"
   ]
  },
  {
   "cell_type": "code",
   "execution_count": 16,
   "metadata": {},
   "outputs": [],
   "source": [
    "# 去掉M1\n",
    "\n",
    "data = data.drop(data[data['Derived AJCC M, 7th ed (2010-2015)'].isin(['M1', 'M0(i+)'])].index)\n",
    "data = data.drop(columns='Derived AJCC M, 7th ed (2010-2015)')"
   ]
  },
  {
   "cell_type": "code",
   "execution_count": 17,
   "metadata": {},
   "outputs": [],
   "source": [
    "# 去掉Grade无意义项目\n",
    "\n",
    "data = data.drop(data[data['Grade'].isin(['Unknown'])].index)"
   ]
  },
  {
   "cell_type": "code",
   "execution_count": 18,
   "metadata": {},
   "outputs": [],
   "source": [
    "# 去掉Subtype无意义项目\n",
    "\n",
    "data = data.drop(data[data['Breast Subtype (2010+)'].isin(['Unknown'])].index)\n",
    "data = data.rename(columns={'Breast Subtype (2010+)': 'Subtype'})"
   ]
  },
  {
   "cell_type": "code",
   "execution_count": 19,
   "metadata": {},
   "outputs": [],
   "source": [
    "# 去掉ER无意义项目\n",
    "\n",
    "data = data.drop(data[data['ER Status Recode Breast Cancer (1990+)'].isin(['Unknown', 'Borderline'])].index)\n",
    "data = data.rename(columns={'ER Status Recode Breast Cancer (1990+)': 'ER'})"
   ]
  },
  {
   "cell_type": "code",
   "execution_count": 20,
   "metadata": {},
   "outputs": [],
   "source": [
    "# 去掉PR无意义项目\n",
    "\n",
    "data = data.drop(data[data['PR Status Recode Breast Cancer (1990+)'].isin(['Unknown', 'Borderline'])].index)\n",
    "data = data.rename(columns={'PR Status Recode Breast Cancer (1990+)': 'PR'})"
   ]
  },
  {
   "cell_type": "code",
   "execution_count": 21,
   "metadata": {},
   "outputs": [],
   "source": [
    "# 去掉HER2无意义项目\n",
    "\n",
    "data = data.drop(data[data['Derived HER2 Recode (2010+)'].isin(['Unknown', 'Borderline'])].index)\n",
    "data = data.rename(columns={'Derived HER2 Recode (2010+)': 'HER2'})"
   ]
  },
  {
   "cell_type": "code",
   "execution_count": 22,
   "metadata": {},
   "outputs": [
    {
     "output_type": "execute_result",
     "data": {
      "text/plain": "       label Stage    T       N                                Grade  \\\n1          0   IIB   T2     N1a  Moderately differentiated; Grade II   \n2          0   IIB   T2     N1a     Poorly differentiated; Grade III   \n6          0    IA  T1c      N0  Moderately differentiated; Grade II   \n11         0  IIIA  T1c     N2a     Poorly differentiated; Grade III   \n12         0  IIIA   T2     N2a  Moderately differentiated; Grade II   \n...      ...   ...  ...     ...                                  ...   \n16214      1   IIA  T1b     N1a     Poorly differentiated; Grade III   \n16264      1    IA  T1b  N0(i-)         Well differentiated; Grade I   \n16354      1    IA  T1c  N0(i-)     Poorly differentiated; Grade III   \n16452      1   IIA   T2      N0     Poorly differentiated; Grade III   \n16536      1    IA  T1c      N0  Moderately differentiated; Grade II   \n\n                           Subtype        ER        PR      HER2        Age  \n1            HR+/HER2- (Luminal A)  Positive  Positive  Negative  [50, 200)  \n2            HR+/HER2- (Luminal A)  Positive  Negative  Negative  [50, 200)  \n6            HR+/HER2- (Luminal A)  Negative  Positive  Negative  [50, 200)  \n11           HR+/HER2- (Luminal A)  Positive  Positive  Negative  [50, 200)  \n12           HR+/HER2- (Luminal A)  Positive  Positive  Negative  [50, 200)  \n...                            ...       ...       ...       ...        ...  \n16214  HR-/HER2- (Triple Negative)  Negative  Negative  Negative  [50, 200)  \n16264        HR+/HER2- (Luminal A)  Positive  Positive  Negative  [50, 200)  \n16354        HR+/HER2- (Luminal A)  Positive  Positive  Negative  [50, 200)  \n16452  HR-/HER2- (Triple Negative)  Negative  Negative  Negative  [50, 200)  \n16536        HR+/HER2- (Luminal A)  Positive  Positive  Negative  [50, 200)  \n\n[208247 rows x 10 columns]",
      "text/html": "<div>\n<style scoped>\n    .dataframe tbody tr th:only-of-type {\n        vertical-align: middle;\n    }\n\n    .dataframe tbody tr th {\n        vertical-align: top;\n    }\n\n    .dataframe thead th {\n        text-align: right;\n    }\n</style>\n<table border=\"1\" class=\"dataframe\">\n  <thead>\n    <tr style=\"text-align: right;\">\n      <th></th>\n      <th>label</th>\n      <th>Stage</th>\n      <th>T</th>\n      <th>N</th>\n      <th>Grade</th>\n      <th>Subtype</th>\n      <th>ER</th>\n      <th>PR</th>\n      <th>HER2</th>\n      <th>Age</th>\n    </tr>\n  </thead>\n  <tbody>\n    <tr>\n      <th>1</th>\n      <td>0</td>\n      <td>IIB</td>\n      <td>T2</td>\n      <td>N1a</td>\n      <td>Moderately differentiated; Grade II</td>\n      <td>HR+/HER2- (Luminal A)</td>\n      <td>Positive</td>\n      <td>Positive</td>\n      <td>Negative</td>\n      <td>[50, 200)</td>\n    </tr>\n    <tr>\n      <th>2</th>\n      <td>0</td>\n      <td>IIB</td>\n      <td>T2</td>\n      <td>N1a</td>\n      <td>Poorly differentiated; Grade III</td>\n      <td>HR+/HER2- (Luminal A)</td>\n      <td>Positive</td>\n      <td>Negative</td>\n      <td>Negative</td>\n      <td>[50, 200)</td>\n    </tr>\n    <tr>\n      <th>6</th>\n      <td>0</td>\n      <td>IA</td>\n      <td>T1c</td>\n      <td>N0</td>\n      <td>Moderately differentiated; Grade II</td>\n      <td>HR+/HER2- (Luminal A)</td>\n      <td>Negative</td>\n      <td>Positive</td>\n      <td>Negative</td>\n      <td>[50, 200)</td>\n    </tr>\n    <tr>\n      <th>11</th>\n      <td>0</td>\n      <td>IIIA</td>\n      <td>T1c</td>\n      <td>N2a</td>\n      <td>Poorly differentiated; Grade III</td>\n      <td>HR+/HER2- (Luminal A)</td>\n      <td>Positive</td>\n      <td>Positive</td>\n      <td>Negative</td>\n      <td>[50, 200)</td>\n    </tr>\n    <tr>\n      <th>12</th>\n      <td>0</td>\n      <td>IIIA</td>\n      <td>T2</td>\n      <td>N2a</td>\n      <td>Moderately differentiated; Grade II</td>\n      <td>HR+/HER2- (Luminal A)</td>\n      <td>Positive</td>\n      <td>Positive</td>\n      <td>Negative</td>\n      <td>[50, 200)</td>\n    </tr>\n    <tr>\n      <th>...</th>\n      <td>...</td>\n      <td>...</td>\n      <td>...</td>\n      <td>...</td>\n      <td>...</td>\n      <td>...</td>\n      <td>...</td>\n      <td>...</td>\n      <td>...</td>\n      <td>...</td>\n    </tr>\n    <tr>\n      <th>16214</th>\n      <td>1</td>\n      <td>IIA</td>\n      <td>T1b</td>\n      <td>N1a</td>\n      <td>Poorly differentiated; Grade III</td>\n      <td>HR-/HER2- (Triple Negative)</td>\n      <td>Negative</td>\n      <td>Negative</td>\n      <td>Negative</td>\n      <td>[50, 200)</td>\n    </tr>\n    <tr>\n      <th>16264</th>\n      <td>1</td>\n      <td>IA</td>\n      <td>T1b</td>\n      <td>N0(i-)</td>\n      <td>Well differentiated; Grade I</td>\n      <td>HR+/HER2- (Luminal A)</td>\n      <td>Positive</td>\n      <td>Positive</td>\n      <td>Negative</td>\n      <td>[50, 200)</td>\n    </tr>\n    <tr>\n      <th>16354</th>\n      <td>1</td>\n      <td>IA</td>\n      <td>T1c</td>\n      <td>N0(i-)</td>\n      <td>Poorly differentiated; Grade III</td>\n      <td>HR+/HER2- (Luminal A)</td>\n      <td>Positive</td>\n      <td>Positive</td>\n      <td>Negative</td>\n      <td>[50, 200)</td>\n    </tr>\n    <tr>\n      <th>16452</th>\n      <td>1</td>\n      <td>IIA</td>\n      <td>T2</td>\n      <td>N0</td>\n      <td>Poorly differentiated; Grade III</td>\n      <td>HR-/HER2- (Triple Negative)</td>\n      <td>Negative</td>\n      <td>Negative</td>\n      <td>Negative</td>\n      <td>[50, 200)</td>\n    </tr>\n    <tr>\n      <th>16536</th>\n      <td>1</td>\n      <td>IA</td>\n      <td>T1c</td>\n      <td>N0</td>\n      <td>Moderately differentiated; Grade II</td>\n      <td>HR+/HER2- (Luminal A)</td>\n      <td>Positive</td>\n      <td>Positive</td>\n      <td>Negative</td>\n      <td>[50, 200)</td>\n    </tr>\n  </tbody>\n</table>\n<p>208247 rows × 10 columns</p>\n</div>"
     },
     "metadata": {},
     "execution_count": 22
    }
   ],
   "source": [
    "data"
   ]
  },
  {
   "cell_type": "code",
   "execution_count": 23,
   "metadata": {},
   "outputs": [],
   "source": [
    "labels = data['label']\n",
    "\n",
    "features = data[['Age', 'Stage', 'T', 'N', 'Grade', 'Subtype', 'ER', 'PR', 'HER2']]"
   ]
  },
  {
   "cell_type": "code",
   "execution_count": 24,
   "metadata": {},
   "outputs": [],
   "source": [
    "# One-Hot 编码分类数据\n",
    "\n",
    "features = pd.get_dummies(features)"
   ]
  },
  {
   "cell_type": "code",
   "execution_count": 25,
   "metadata": {},
   "outputs": [
    {
     "output_type": "execute_result",
     "data": {
      "text/plain": "       Age_[0, 50)  Age_[50, 200)  Stage_IA  Stage_IIA  Stage_IIB  Stage_IIIA  \\\n1                0              1         0          0          1           0   \n2                0              1         0          0          1           0   \n6                0              1         1          0          0           0   \n11               0              1         0          0          0           1   \n12               0              1         0          0          0           1   \n...            ...            ...       ...        ...        ...         ...   \n16214            0              1         0          1          0           0   \n16264            0              1         1          0          0           0   \n16354            0              1         1          0          0           0   \n16452            0              1         0          1          0           0   \n16536            0              1         1          0          0           0   \n\n       Stage_IIIB  Stage_IIIC  T_T1a  T_T1b  ...  \\\n1               0           0      0      0  ...   \n2               0           0      0      0  ...   \n6               0           0      0      0  ...   \n11              0           0      0      0  ...   \n12              0           0      0      0  ...   \n...           ...         ...    ...    ...  ...   \n16214           0           0      0      1  ...   \n16264           0           0      0      1  ...   \n16354           0           0      0      0  ...   \n16452           0           0      0      0  ...   \n16536           0           0      0      0  ...   \n\n       Subtype_HR+/HER2+ (Luminal B)  Subtype_HR+/HER2- (Luminal A)  \\\n1                                  0                              1   \n2                                  0                              1   \n6                                  0                              1   \n11                                 0                              1   \n12                                 0                              1   \n...                              ...                            ...   \n16214                              0                              0   \n16264                              0                              1   \n16354                              0                              1   \n16452                              0                              0   \n16536                              0                              1   \n\n       Subtype_HR-/HER2+ (HER2 enriched)  Subtype_HR-/HER2- (Triple Negative)  \\\n1                                      0                                    0   \n2                                      0                                    0   \n6                                      0                                    0   \n11                                     0                                    0   \n12                                     0                                    0   \n...                                  ...                                  ...   \n16214                                  0                                    1   \n16264                                  0                                    0   \n16354                                  0                                    0   \n16452                                  0                                    1   \n16536                                  0                                    0   \n\n       ER_Negative  ER_Positive  PR_Negative  PR_Positive  HER2_Negative  \\\n1                0            1            0            1              1   \n2                0            1            1            0              1   \n6                1            0            0            1              1   \n11               0            1            0            1              1   \n12               0            1            0            1              1   \n...            ...          ...          ...          ...            ...   \n16214            1            0            1            0              1   \n16264            0            1            0            1              1   \n16354            0            1            0            1              1   \n16452            1            0            1            0              1   \n16536            0            1            0            1              1   \n\n       HER2_Positive  \n1                  0  \n2                  0  \n6                  0  \n11                 0  \n12                 0  \n...              ...  \n16214              0  \n16264              0  \n16354              0  \n16452              0  \n16536              0  \n\n[208247 rows x 43 columns]",
      "text/html": "<div>\n<style scoped>\n    .dataframe tbody tr th:only-of-type {\n        vertical-align: middle;\n    }\n\n    .dataframe tbody tr th {\n        vertical-align: top;\n    }\n\n    .dataframe thead th {\n        text-align: right;\n    }\n</style>\n<table border=\"1\" class=\"dataframe\">\n  <thead>\n    <tr style=\"text-align: right;\">\n      <th></th>\n      <th>Age_[0, 50)</th>\n      <th>Age_[50, 200)</th>\n      <th>Stage_IA</th>\n      <th>Stage_IIA</th>\n      <th>Stage_IIB</th>\n      <th>Stage_IIIA</th>\n      <th>Stage_IIIB</th>\n      <th>Stage_IIIC</th>\n      <th>T_T1a</th>\n      <th>T_T1b</th>\n      <th>...</th>\n      <th>Subtype_HR+/HER2+ (Luminal B)</th>\n      <th>Subtype_HR+/HER2- (Luminal A)</th>\n      <th>Subtype_HR-/HER2+ (HER2 enriched)</th>\n      <th>Subtype_HR-/HER2- (Triple Negative)</th>\n      <th>ER_Negative</th>\n      <th>ER_Positive</th>\n      <th>PR_Negative</th>\n      <th>PR_Positive</th>\n      <th>HER2_Negative</th>\n      <th>HER2_Positive</th>\n    </tr>\n  </thead>\n  <tbody>\n    <tr>\n      <th>1</th>\n      <td>0</td>\n      <td>1</td>\n      <td>0</td>\n      <td>0</td>\n      <td>1</td>\n      <td>0</td>\n      <td>0</td>\n      <td>0</td>\n      <td>0</td>\n      <td>0</td>\n      <td>...</td>\n      <td>0</td>\n      <td>1</td>\n      <td>0</td>\n      <td>0</td>\n      <td>0</td>\n      <td>1</td>\n      <td>0</td>\n      <td>1</td>\n      <td>1</td>\n      <td>0</td>\n    </tr>\n    <tr>\n      <th>2</th>\n      <td>0</td>\n      <td>1</td>\n      <td>0</td>\n      <td>0</td>\n      <td>1</td>\n      <td>0</td>\n      <td>0</td>\n      <td>0</td>\n      <td>0</td>\n      <td>0</td>\n      <td>...</td>\n      <td>0</td>\n      <td>1</td>\n      <td>0</td>\n      <td>0</td>\n      <td>0</td>\n      <td>1</td>\n      <td>1</td>\n      <td>0</td>\n      <td>1</td>\n      <td>0</td>\n    </tr>\n    <tr>\n      <th>6</th>\n      <td>0</td>\n      <td>1</td>\n      <td>1</td>\n      <td>0</td>\n      <td>0</td>\n      <td>0</td>\n      <td>0</td>\n      <td>0</td>\n      <td>0</td>\n      <td>0</td>\n      <td>...</td>\n      <td>0</td>\n      <td>1</td>\n      <td>0</td>\n      <td>0</td>\n      <td>1</td>\n      <td>0</td>\n      <td>0</td>\n      <td>1</td>\n      <td>1</td>\n      <td>0</td>\n    </tr>\n    <tr>\n      <th>11</th>\n      <td>0</td>\n      <td>1</td>\n      <td>0</td>\n      <td>0</td>\n      <td>0</td>\n      <td>1</td>\n      <td>0</td>\n      <td>0</td>\n      <td>0</td>\n      <td>0</td>\n      <td>...</td>\n      <td>0</td>\n      <td>1</td>\n      <td>0</td>\n      <td>0</td>\n      <td>0</td>\n      <td>1</td>\n      <td>0</td>\n      <td>1</td>\n      <td>1</td>\n      <td>0</td>\n    </tr>\n    <tr>\n      <th>12</th>\n      <td>0</td>\n      <td>1</td>\n      <td>0</td>\n      <td>0</td>\n      <td>0</td>\n      <td>1</td>\n      <td>0</td>\n      <td>0</td>\n      <td>0</td>\n      <td>0</td>\n      <td>...</td>\n      <td>0</td>\n      <td>1</td>\n      <td>0</td>\n      <td>0</td>\n      <td>0</td>\n      <td>1</td>\n      <td>0</td>\n      <td>1</td>\n      <td>1</td>\n      <td>0</td>\n    </tr>\n    <tr>\n      <th>...</th>\n      <td>...</td>\n      <td>...</td>\n      <td>...</td>\n      <td>...</td>\n      <td>...</td>\n      <td>...</td>\n      <td>...</td>\n      <td>...</td>\n      <td>...</td>\n      <td>...</td>\n      <td>...</td>\n      <td>...</td>\n      <td>...</td>\n      <td>...</td>\n      <td>...</td>\n      <td>...</td>\n      <td>...</td>\n      <td>...</td>\n      <td>...</td>\n      <td>...</td>\n      <td>...</td>\n    </tr>\n    <tr>\n      <th>16214</th>\n      <td>0</td>\n      <td>1</td>\n      <td>0</td>\n      <td>1</td>\n      <td>0</td>\n      <td>0</td>\n      <td>0</td>\n      <td>0</td>\n      <td>0</td>\n      <td>1</td>\n      <td>...</td>\n      <td>0</td>\n      <td>0</td>\n      <td>0</td>\n      <td>1</td>\n      <td>1</td>\n      <td>0</td>\n      <td>1</td>\n      <td>0</td>\n      <td>1</td>\n      <td>0</td>\n    </tr>\n    <tr>\n      <th>16264</th>\n      <td>0</td>\n      <td>1</td>\n      <td>1</td>\n      <td>0</td>\n      <td>0</td>\n      <td>0</td>\n      <td>0</td>\n      <td>0</td>\n      <td>0</td>\n      <td>1</td>\n      <td>...</td>\n      <td>0</td>\n      <td>1</td>\n      <td>0</td>\n      <td>0</td>\n      <td>0</td>\n      <td>1</td>\n      <td>0</td>\n      <td>1</td>\n      <td>1</td>\n      <td>0</td>\n    </tr>\n    <tr>\n      <th>16354</th>\n      <td>0</td>\n      <td>1</td>\n      <td>1</td>\n      <td>0</td>\n      <td>0</td>\n      <td>0</td>\n      <td>0</td>\n      <td>0</td>\n      <td>0</td>\n      <td>0</td>\n      <td>...</td>\n      <td>0</td>\n      <td>1</td>\n      <td>0</td>\n      <td>0</td>\n      <td>0</td>\n      <td>1</td>\n      <td>0</td>\n      <td>1</td>\n      <td>1</td>\n      <td>0</td>\n    </tr>\n    <tr>\n      <th>16452</th>\n      <td>0</td>\n      <td>1</td>\n      <td>0</td>\n      <td>1</td>\n      <td>0</td>\n      <td>0</td>\n      <td>0</td>\n      <td>0</td>\n      <td>0</td>\n      <td>0</td>\n      <td>...</td>\n      <td>0</td>\n      <td>0</td>\n      <td>0</td>\n      <td>1</td>\n      <td>1</td>\n      <td>0</td>\n      <td>1</td>\n      <td>0</td>\n      <td>1</td>\n      <td>0</td>\n    </tr>\n    <tr>\n      <th>16536</th>\n      <td>0</td>\n      <td>1</td>\n      <td>1</td>\n      <td>0</td>\n      <td>0</td>\n      <td>0</td>\n      <td>0</td>\n      <td>0</td>\n      <td>0</td>\n      <td>0</td>\n      <td>...</td>\n      <td>0</td>\n      <td>1</td>\n      <td>0</td>\n      <td>0</td>\n      <td>0</td>\n      <td>1</td>\n      <td>0</td>\n      <td>1</td>\n      <td>1</td>\n      <td>0</td>\n    </tr>\n  </tbody>\n</table>\n<p>208247 rows × 43 columns</p>\n</div>"
     },
     "metadata": {},
     "execution_count": 25
    }
   ],
   "source": [
    "features"
   ]
  },
  {
   "cell_type": "code",
   "execution_count": 26,
   "metadata": {},
   "outputs": [],
   "source": [
    "x_train, x_test, y_train, y_test = train_test_split(features, labels, test_size=0.2, random_state=1, stratify=labels)"
   ]
  },
  {
   "cell_type": "code",
   "execution_count": 27,
   "metadata": {},
   "outputs": [],
   "source": [
    "# 数值标准化\n",
    "\n",
    "# features = preprocessing.StandardScaler().fit_transform(features)"
   ]
  },
  {
   "cell_type": "code",
   "execution_count": 28,
   "metadata": {},
   "outputs": [
    {
     "output_type": "execute_result",
     "data": {
      "text/plain": "(166597, 43)"
     },
     "metadata": {},
     "execution_count": 28
    },
    {
     "output_type": "execute_result",
     "data": {
      "text/plain": "(166597,)"
     },
     "metadata": {},
     "execution_count": 28
    }
   ],
   "source": [
    "x_train.shape\n",
    "y_train.shape"
   ]
  },
  {
   "cell_type": "code",
   "execution_count": 29,
   "metadata": {},
   "outputs": [],
   "source": [
    "from imblearn.under_sampling import NearMiss\n",
    "\n",
    "nm3 = NearMiss(version=3)\n",
    "\n",
    "x_resample, y_resample = nm3.fit_resample(x_train, y_train)"
   ]
  },
  {
   "cell_type": "code",
   "execution_count": 30,
   "metadata": {},
   "outputs": [],
   "source": [
    "# 指定 x, y\n",
    "\n",
    "x_train = torch.from_numpy(np.array(x_resample)).float().cuda()\n",
    "y_train = torch.from_numpy(np.array(y_resample)).cuda()"
   ]
  },
  {
   "cell_type": "code",
   "execution_count": 31,
   "metadata": {},
   "outputs": [],
   "source": [
    "# 构建网络\n",
    "\n",
    "net = torch.nn.Sequential(\n",
    "    torch.nn.Linear(x_train.shape[1], 200),\n",
    "    torch.nn.Sigmoid(),\n",
    "    torch.nn.Linear(200, 2)\n",
    ")\n",
    "\n",
    "optimizer = torch.optim.Adam(net.parameters(), lr=0.5)\n",
    "loss_func = torch.nn.CrossEntropyLoss()"
   ]
  },
  {
   "cell_type": "code",
   "execution_count": 32,
   "metadata": {},
   "outputs": [],
   "source": [
    "net = net.cuda()"
   ]
  },
  {
   "cell_type": "code",
   "execution_count": 33,
   "metadata": {},
   "outputs": [
    {
     "output_type": "execute_result",
     "data": {
      "text/plain": "torch.Size([5295, 43])"
     },
     "metadata": {},
     "execution_count": 33
    }
   ],
   "source": [
    "x_train.shape"
   ]
  },
  {
   "cell_type": "code",
   "execution_count": 34,
   "metadata": {},
   "outputs": [
    {
     "output_type": "execute_result",
     "data": {
      "text/plain": "torch.Size([5295])"
     },
     "metadata": {},
     "execution_count": 34
    }
   ],
   "source": [
    "y_train.shape"
   ]
  },
  {
   "cell_type": "code",
   "execution_count": 35,
   "metadata": {
    "tags": []
   },
   "outputs": [
    {
     "output_type": "stream",
     "name": "stdout",
     "text": "0 tensor(0.8030, device=&#39;cuda:0&#39;, grad_fn=&lt;NllLossBackward&gt;)\n500 tensor(0.4867, device=&#39;cuda:0&#39;, grad_fn=&lt;NllLossBackward&gt;)\n1000 tensor(0.4868, device=&#39;cuda:0&#39;, grad_fn=&lt;NllLossBackward&gt;)\n1500 tensor(0.4867, device=&#39;cuda:0&#39;, grad_fn=&lt;NllLossBackward&gt;)\n2000 tensor(0.4883, device=&#39;cuda:0&#39;, grad_fn=&lt;NllLossBackward&gt;)\n2500 tensor(0.4844, device=&#39;cuda:0&#39;, grad_fn=&lt;NllLossBackward&gt;)\n3000 tensor(0.4843, device=&#39;cuda:0&#39;, grad_fn=&lt;NllLossBackward&gt;)\n3500 tensor(0.4838, device=&#39;cuda:0&#39;, grad_fn=&lt;NllLossBackward&gt;)\n4000 tensor(0.4838, device=&#39;cuda:0&#39;, grad_fn=&lt;NllLossBackward&gt;)\n4500 tensor(0.4837, device=&#39;cuda:0&#39;, grad_fn=&lt;NllLossBackward&gt;)\n5000 tensor(0.4847, device=&#39;cuda:0&#39;, grad_fn=&lt;NllLossBackward&gt;)\n5500 tensor(0.4841, device=&#39;cuda:0&#39;, grad_fn=&lt;NllLossBackward&gt;)\n6000 tensor(0.4839, device=&#39;cuda:0&#39;, grad_fn=&lt;NllLossBackward&gt;)\n6500 tensor(0.4837, device=&#39;cuda:0&#39;, grad_fn=&lt;NllLossBackward&gt;)\n7000 tensor(0.4837, device=&#39;cuda:0&#39;, grad_fn=&lt;NllLossBackward&gt;)\n7500 tensor(0.4847, device=&#39;cuda:0&#39;, grad_fn=&lt;NllLossBackward&gt;)\n8000 tensor(0.4838, device=&#39;cuda:0&#39;, grad_fn=&lt;NllLossBackward&gt;)\n8500 tensor(0.4838, device=&#39;cuda:0&#39;, grad_fn=&lt;NllLossBackward&gt;)\n9000 tensor(0.4842, device=&#39;cuda:0&#39;, grad_fn=&lt;NllLossBackward&gt;)\n9500 tensor(0.4843, device=&#39;cuda:0&#39;, grad_fn=&lt;NllLossBackward&gt;)\n"
    }
   ],
   "source": [
    "for t in range(10000):\n",
    "    prediction = net(x_train)\n",
    "    loss = loss_func(prediction, y_train)\n",
    "\n",
    "    if t%500==0:\n",
    "        print(t, loss)\n",
    "\n",
    "    optimizer.zero_grad()\n",
    "    loss.backward()\n",
    "    optimizer.step()"
   ]
  },
  {
   "cell_type": "code",
   "execution_count": 49,
   "metadata": {},
   "outputs": [
    {
     "output_type": "execute_result",
     "data": {
      "text/plain": "tensor(0.9747, device=&#39;cuda:0&#39;, grad_fn=&lt;MaxBackward1&gt;)"
     },
     "metadata": {},
     "execution_count": 49
    }
   ],
   "source": [
    "torch.max(torch.nn.functional.softmax(net(torch.from_numpy(np.array(x_test)).float().cuda())))"
   ]
  },
  {
   "cell_type": "code",
   "execution_count": 45,
   "metadata": {},
   "outputs": [
    {
     "output_type": "error",
     "ename": "TypeError",
     "evalue": "Singleton array tensor(0.9747, grad_fn=&lt;CopyBackwards&gt;) cannot be considered a valid collection.",
     "traceback": [
      "\u001b[1;31m---------------------------------------------------------------------------\u001b[0m",
      "\u001b[1;31mTypeError\u001b[0m                                 Traceback (most recent call last)",
      "\u001b[1;32m&lt;ipython-input-45-0732d6f55448&gt;\u001b[0m in \u001b[0;36m&lt;module&gt;\u001b[1;34m\u001b[0m\n\u001b[0;32m      1\u001b[0m \u001b[0my_predict\u001b[0m \u001b[1;33m=\u001b[0m \u001b[0mtorch\u001b[0m\u001b[1;33m.\u001b[0m\u001b[0mmax\u001b[0m\u001b[1;33m(\u001b[0m\u001b[0mtorch\u001b[0m\u001b[1;33m.\u001b[0m\u001b[0mnn\u001b[0m\u001b[1;33m.\u001b[0m\u001b[0mfunctional\u001b[0m\u001b[1;33m.\u001b[0m\u001b[0msoftmax\u001b[0m\u001b[1;33m(\u001b[0m\u001b[0mnet\u001b[0m\u001b[1;33m(\u001b[0m\u001b[0mtorch\u001b[0m\u001b[1;33m.\u001b[0m\u001b[0mfrom_numpy\u001b[0m\u001b[1;33m(\u001b[0m\u001b[0mnp\u001b[0m\u001b[1;33m.\u001b[0m\u001b[0marray\u001b[0m\u001b[1;33m(\u001b[0m\u001b[0mx_test\u001b[0m\u001b[1;33m)\u001b[0m\u001b[1;33m)\u001b[0m\u001b[1;33m.\u001b[0m\u001b[0mfloat\u001b[0m\u001b[1;33m(\u001b[0m\u001b[1;33m)\u001b[0m\u001b[1;33m.\u001b[0m\u001b[0mcuda\u001b[0m\u001b[1;33m(\u001b[0m\u001b[1;33m)\u001b[0m\u001b[1;33m)\u001b[0m\u001b[1;33m,\u001b[0m\u001b[1;36m1\u001b[0m\u001b[1;33m)\u001b[0m\u001b[1;33m)\u001b[0m\u001b[1;33m\u001b[0m\u001b[1;33m\u001b[0m\u001b[0m\n\u001b[1;32m----&gt; 2\u001b[1;33m \u001b[0mmatrix\u001b[0m \u001b[1;33m=\u001b[0m \u001b[0mconfusion_matrix\u001b[0m\u001b[1;33m(\u001b[0m\u001b[0my_test\u001b[0m\u001b[1;33m,\u001b[0m \u001b[0my_predict\u001b[0m\u001b[1;33m.\u001b[0m\u001b[0mcpu\u001b[0m\u001b[1;33m(\u001b[0m\u001b[1;33m)\u001b[0m\u001b[1;33m)\u001b[0m\u001b[1;33m\u001b[0m\u001b[1;33m\u001b[0m\u001b[0m\n\u001b[0m\u001b[0;32m      3\u001b[0m \u001b[0mmatrix\u001b[0m\u001b[1;33m\u001b[0m\u001b[1;33m\u001b[0m\u001b[0m\n",
      "\u001b[1;32md:\\GitHub\\WPy64-3850\\python-3.8.5.amd64\\lib\\site-packages\\sklearn\\utils\\validation.py\u001b[0m in \u001b[0;36minner_f\u001b[1;34m(*args, **kwargs)\u001b[0m\n\u001b[0;32m     70\u001b[0m                           FutureWarning)\n\u001b[0;32m     71\u001b[0m         \u001b[0mkwargs\u001b[0m\u001b[1;33m.\u001b[0m\u001b[0mupdate\u001b[0m\u001b[1;33m(\u001b[0m\u001b[1;33m{\u001b[0m\u001b[0mk\u001b[0m\u001b[1;33m:\u001b[0m \u001b[0marg\u001b[0m \u001b[1;32mfor\u001b[0m \u001b[0mk\u001b[0m\u001b[1;33m,\u001b[0m \u001b[0marg\u001b[0m \u001b[1;32min\u001b[0m \u001b[0mzip\u001b[0m\u001b[1;33m(\u001b[0m\u001b[0msig\u001b[0m\u001b[1;33m.\u001b[0m\u001b[0mparameters\u001b[0m\u001b[1;33m,\u001b[0m \u001b[0margs\u001b[0m\u001b[1;33m)\u001b[0m\u001b[1;33m}\u001b[0m\u001b[1;33m)\u001b[0m\u001b[1;33m\u001b[0m\u001b[1;33m\u001b[0m\u001b[0m\n\u001b[1;32m---&gt; 72\u001b[1;33m         \u001b[1;32mreturn\u001b[0m \u001b[0mf\u001b[0m\u001b[1;33m(\u001b[0m\u001b[1;33m**\u001b[0m\u001b[0mkwargs\u001b[0m\u001b[1;33m)\u001b[0m\u001b[1;33m\u001b[0m\u001b[1;33m\u001b[0m\u001b[0m\n\u001b[0m\u001b[0;32m     73\u001b[0m     \u001b[1;32mreturn\u001b[0m \u001b[0minner_f\u001b[0m\u001b[1;33m\u001b[0m\u001b[1;33m\u001b[0m\u001b[0m\n\u001b[0;32m     74\u001b[0m \u001b[1;33m\u001b[0m\u001b[0m\n",
      "\u001b[1;32md:\\GitHub\\WPy64-3850\\python-3.8.5.amd64\\lib\\site-packages\\sklearn\\metrics\\_classification.py\u001b[0m in \u001b[0;36mconfusion_matrix\u001b[1;34m(y_true, y_pred, labels, sample_weight, normalize)\u001b[0m\n\u001b[0;32m    274\u001b[0m \u001b[1;33m\u001b[0m\u001b[0m\n\u001b[0;32m    275\u001b[0m     &quot;&quot;&quot;\n\u001b[1;32m--&gt; 276\u001b[1;33m     \u001b[0my_type\u001b[0m\u001b[1;33m,\u001b[0m \u001b[0my_true\u001b[0m\u001b[1;33m,\u001b[0m \u001b[0my_pred\u001b[0m \u001b[1;33m=\u001b[0m \u001b[0m_check_targets\u001b[0m\u001b[1;33m(\u001b[0m\u001b[0my_true\u001b[0m\u001b[1;33m,\u001b[0m \u001b[0my_pred\u001b[0m\u001b[1;33m)\u001b[0m\u001b[1;33m\u001b[0m\u001b[1;33m\u001b[0m\u001b[0m\n\u001b[0m\u001b[0;32m    277\u001b[0m     \u001b[1;32mif\u001b[0m \u001b[0my_type\u001b[0m \u001b[1;32mnot\u001b[0m \u001b[1;32min\u001b[0m \u001b[1;33m(\u001b[0m\u001b[1;34m&quot;binary&quot;\u001b[0m\u001b[1;33m,\u001b[0m \u001b[1;34m&quot;multiclass&quot;\u001b[0m\u001b[1;33m)\u001b[0m\u001b[1;33m:\u001b[0m\u001b[1;33m\u001b[0m\u001b[1;33m\u001b[0m\u001b[0m\n\u001b[0;32m    278\u001b[0m         \u001b[1;32mraise\u001b[0m \u001b[0mValueError\u001b[0m\u001b[1;33m(\u001b[0m\u001b[1;34m&quot;%s is not supported&quot;\u001b[0m \u001b[1;33m%\u001b[0m \u001b[0my_type\u001b[0m\u001b[1;33m)\u001b[0m\u001b[1;33m\u001b[0m\u001b[1;33m\u001b[0m\u001b[0m\n",
      "\u001b[1;32md:\\GitHub\\WPy64-3850\\python-3.8.5.amd64\\lib\\site-packages\\sklearn\\metrics\\_classification.py\u001b[0m in \u001b[0;36m_check_targets\u001b[1;34m(y_true, y_pred)\u001b[0m\n\u001b[0;32m     79\u001b[0m     \u001b[0my_pred\u001b[0m \u001b[1;33m:\u001b[0m \u001b[0marray\u001b[0m \u001b[1;32mor\u001b[0m \u001b[0mindicator\u001b[0m \u001b[0mmatrix\u001b[0m\u001b[1;33m\u001b[0m\u001b[1;33m\u001b[0m\u001b[0m\n\u001b[0;32m     80\u001b[0m     &quot;&quot;&quot;\n\u001b[1;32m---&gt; 81\u001b[1;33m     \u001b[0mcheck_consistent_length\u001b[0m\u001b[1;33m(\u001b[0m\u001b[0my_true\u001b[0m\u001b[1;33m,\u001b[0m \u001b[0my_pred\u001b[0m\u001b[1;33m)\u001b[0m\u001b[1;33m\u001b[0m\u001b[1;33m\u001b[0m\u001b[0m\n\u001b[0m\u001b[0;32m     82\u001b[0m     \u001b[0mtype_true\u001b[0m \u001b[1;33m=\u001b[0m \u001b[0mtype_of_target\u001b[0m\u001b[1;33m(\u001b[0m\u001b[0my_true\u001b[0m\u001b[1;33m)\u001b[0m\u001b[1;33m\u001b[0m\u001b[1;33m\u001b[0m\u001b[0m\n\u001b[0;32m     83\u001b[0m     \u001b[0mtype_pred\u001b[0m \u001b[1;33m=\u001b[0m \u001b[0mtype_of_target\u001b[0m\u001b[1;33m(\u001b[0m\u001b[0my_pred\u001b[0m\u001b[1;33m)\u001b[0m\u001b[1;33m\u001b[0m\u001b[1;33m\u001b[0m\u001b[0m\n",
      "\u001b[1;32md:\\GitHub\\WPy64-3850\\python-3.8.5.amd64\\lib\\site-packages\\sklearn\\utils\\validation.py\u001b[0m in \u001b[0;36mcheck_consistent_length\u001b[1;34m(*arrays)\u001b[0m\n\u001b[0;32m    250\u001b[0m     &quot;&quot;&quot;\n\u001b[0;32m    251\u001b[0m \u001b[1;33m\u001b[0m\u001b[0m\n\u001b[1;32m--&gt; 252\u001b[1;33m     \u001b[0mlengths\u001b[0m \u001b[1;33m=\u001b[0m \u001b[1;33m[\u001b[0m\u001b[0m_num_samples\u001b[0m\u001b[1;33m(\u001b[0m\u001b[0mX\u001b[0m\u001b[1;33m)\u001b[0m \u001b[1;32mfor\u001b[0m \u001b[0mX\u001b[0m \u001b[1;32min\u001b[0m \u001b[0marrays\u001b[0m \u001b[1;32mif\u001b[0m \u001b[0mX\u001b[0m \u001b[1;32mis\u001b[0m \u001b[1;32mnot\u001b[0m \u001b[1;32mNone\u001b[0m\u001b[1;33m]\u001b[0m\u001b[1;33m\u001b[0m\u001b[1;33m\u001b[0m\u001b[0m\n\u001b[0m\u001b[0;32m    253\u001b[0m     \u001b[0muniques\u001b[0m \u001b[1;33m=\u001b[0m \u001b[0mnp\u001b[0m\u001b[1;33m.\u001b[0m\u001b[0munique\u001b[0m\u001b[1;33m(\u001b[0m\u001b[0mlengths\u001b[0m\u001b[1;33m)\u001b[0m\u001b[1;33m\u001b[0m\u001b[1;33m\u001b[0m\u001b[0m\n\u001b[0;32m    254\u001b[0m     \u001b[1;32mif\u001b[0m \u001b[0mlen\u001b[0m\u001b[1;33m(\u001b[0m\u001b[0muniques\u001b[0m\u001b[1;33m)\u001b[0m \u001b[1;33m&gt;\u001b[0m \u001b[1;36m1\u001b[0m\u001b[1;33m:\u001b[0m\u001b[1;33m\u001b[0m\u001b[1;33m\u001b[0m\u001b[0m\n",
      "\u001b[1;32md:\\GitHub\\WPy64-3850\\python-3.8.5.amd64\\lib\\site-packages\\sklearn\\utils\\validation.py\u001b[0m in \u001b[0;36m&lt;listcomp&gt;\u001b[1;34m(.0)\u001b[0m\n\u001b[0;32m    250\u001b[0m     &quot;&quot;&quot;\n\u001b[0;32m    251\u001b[0m \u001b[1;33m\u001b[0m\u001b[0m\n\u001b[1;32m--&gt; 252\u001b[1;33m     \u001b[0mlengths\u001b[0m \u001b[1;33m=\u001b[0m \u001b[1;33m[\u001b[0m\u001b[0m_num_samples\u001b[0m\u001b[1;33m(\u001b[0m\u001b[0mX\u001b[0m\u001b[1;33m)\u001b[0m \u001b[1;32mfor\u001b[0m \u001b[0mX\u001b[0m \u001b[1;32min\u001b[0m \u001b[0marrays\u001b[0m \u001b[1;32mif\u001b[0m \u001b[0mX\u001b[0m \u001b[1;32mis\u001b[0m \u001b[1;32mnot\u001b[0m \u001b[1;32mNone\u001b[0m\u001b[1;33m]\u001b[0m\u001b[1;33m\u001b[0m\u001b[1;33m\u001b[0m\u001b[0m\n\u001b[0m\u001b[0;32m    253\u001b[0m     \u001b[0muniques\u001b[0m \u001b[1;33m=\u001b[0m \u001b[0mnp\u001b[0m\u001b[1;33m.\u001b[0m\u001b[0munique\u001b[0m\u001b[1;33m(\u001b[0m\u001b[0mlengths\u001b[0m\u001b[1;33m)\u001b[0m\u001b[1;33m\u001b[0m\u001b[1;33m\u001b[0m\u001b[0m\n\u001b[0;32m    254\u001b[0m     \u001b[1;32mif\u001b[0m \u001b[0mlen\u001b[0m\u001b[1;33m(\u001b[0m\u001b[0muniques\u001b[0m\u001b[1;33m)\u001b[0m \u001b[1;33m&gt;\u001b[0m \u001b[1;36m1\u001b[0m\u001b[1;33m:\u001b[0m\u001b[1;33m\u001b[0m\u001b[1;33m\u001b[0m\u001b[0m\n",
      "\u001b[1;32md:\\GitHub\\WPy64-3850\\python-3.8.5.amd64\\lib\\site-packages\\sklearn\\utils\\validation.py\u001b[0m in \u001b[0;36m_num_samples\u001b[1;34m(x)\u001b[0m\n\u001b[0;32m    193\u001b[0m     \u001b[1;32mif\u001b[0m \u001b[0mhasattr\u001b[0m\u001b[1;33m(\u001b[0m\u001b[0mx\u001b[0m\u001b[1;33m,\u001b[0m \u001b[1;34m&#39;shape&#39;\u001b[0m\u001b[1;33m)\u001b[0m \u001b[1;32mand\u001b[0m \u001b[0mx\u001b[0m\u001b[1;33m.\u001b[0m\u001b[0mshape\u001b[0m \u001b[1;32mis\u001b[0m \u001b[1;32mnot\u001b[0m \u001b[1;32mNone\u001b[0m\u001b[1;33m:\u001b[0m\u001b[1;33m\u001b[0m\u001b[1;33m\u001b[0m\u001b[0m\n\u001b[0;32m    194\u001b[0m         \u001b[1;32mif\u001b[0m \u001b[0mlen\u001b[0m\u001b[1;33m(\u001b[0m\u001b[0mx\u001b[0m\u001b[1;33m.\u001b[0m\u001b[0mshape\u001b[0m\u001b[1;33m)\u001b[0m \u001b[1;33m==\u001b[0m \u001b[1;36m0\u001b[0m\u001b[1;33m:\u001b[0m\u001b[1;33m\u001b[0m\u001b[1;33m\u001b[0m\u001b[0m\n\u001b[1;32m--&gt; 195\u001b[1;33m             raise TypeError(&quot;Singleton array %r cannot be considered&quot;\n\u001b[0m\u001b[0;32m    196\u001b[0m                             &quot; a valid collection.&quot; % x)\n\u001b[0;32m    197\u001b[0m         \u001b[1;31m# Check that shape is returning an integer or default to len\u001b[0m\u001b[1;33m\u001b[0m\u001b[1;33m\u001b[0m\u001b[1;33m\u001b[0m\u001b[0m\n",
      "\u001b[1;31mTypeError\u001b[0m: Singleton array tensor(0.9747, grad_fn=&lt;CopyBackwards&gt;) cannot be considered a valid collection."
     ]
    }
   ],
   "source": [
    "y_predict = torch.max(torch.nn.functional.softmax(net(torch.from_numpy(np.array(x_test)).float().cuda()),1))\n",
    "matrix = confusion_matrix(y_test, y_predict.cpu())\n",
    "matrix"
   ]
  },
  {
   "cell_type": "code",
   "execution_count": 741,
   "metadata": {
    "tags": []
   },
   "outputs": [
    {
     "output_type": "stream",
     "name": "stdout",
     "text": "              precision    recall  f1-score   support\n\n           0       0.53      0.58      0.55       543\n           1       0.83      0.80      0.81      1378\n\n    accuracy                           0.74      1921\n   macro avg       0.68      0.69      0.68      1921\nweighted avg       0.74      0.74      0.74      1921\n\n"
    }
   ],
   "source": [
    "classification_report = metrics.classification_report(y_test, y_predict)\n",
    "print(classification_report)"
   ]
  },
  {
   "cell_type": "code",
   "execution_count": 595,
   "metadata": {},
   "outputs": [],
   "source": [
    "# from pycaret.classification import *"
   ]
  },
  {
   "cell_type": "code",
   "execution_count": 596,
   "metadata": {},
   "outputs": [],
   "source": [
    "# # mldata = pd.DataFrame()\n",
    "# mldata = mldata.append(data[data['label']==0])\n",
    "# mldata = mldata.append(data[data['label']==1])"
   ]
  },
  {
   "cell_type": "code",
   "execution_count": 597,
   "metadata": {
    "tags": []
   },
   "outputs": [
    {
     "output_type": "stream",
     "name": "stdout",
     "text": "Setup Succesfully Completed!\n"
    },
    {
     "output_type": "display_data",
     "data": {
      "text/plain": "&lt;pandas.io.formats.style.Styler at 0x16459cbbac0&gt;",
      "text/html": "<style  type=\"text/css\" >\n#T_0efa9cba_07a3_11eb_8218_e4a7a072b775row42_col1{\n            background-color:  lightgreen;\n        }</style><table id=\"T_0efa9cba_07a3_11eb_8218_e4a7a072b775\" ><thead>    <tr>        <th class=\"blank level0\" ></th>        <th class=\"col_heading level0 col0\" >Description</th>        <th class=\"col_heading level0 col1\" >Value</th>    </tr></thead><tbody>\n                <tr>\n                        <th id=\"T_0efa9cba_07a3_11eb_8218_e4a7a072b775level0_row0\" class=\"row_heading level0 row0\" >0</th>\n                        <td id=\"T_0efa9cba_07a3_11eb_8218_e4a7a072b775row0_col0\" class=\"data row0 col0\" >session_id</td>\n                        <td id=\"T_0efa9cba_07a3_11eb_8218_e4a7a072b775row0_col1\" class=\"data row0 col1\" >6253</td>\n            </tr>\n            <tr>\n                        <th id=\"T_0efa9cba_07a3_11eb_8218_e4a7a072b775level0_row1\" class=\"row_heading level0 row1\" >1</th>\n                        <td id=\"T_0efa9cba_07a3_11eb_8218_e4a7a072b775row1_col0\" class=\"data row1 col0\" >Target Type</td>\n                        <td id=\"T_0efa9cba_07a3_11eb_8218_e4a7a072b775row1_col1\" class=\"data row1 col1\" >Binary</td>\n            </tr>\n            <tr>\n                        <th id=\"T_0efa9cba_07a3_11eb_8218_e4a7a072b775level0_row2\" class=\"row_heading level0 row2\" >2</th>\n                        <td id=\"T_0efa9cba_07a3_11eb_8218_e4a7a072b775row2_col0\" class=\"data row2 col0\" >Label Encoded</td>\n                        <td id=\"T_0efa9cba_07a3_11eb_8218_e4a7a072b775row2_col1\" class=\"data row2 col1\" >0: 0, 1: 1</td>\n            </tr>\n            <tr>\n                        <th id=\"T_0efa9cba_07a3_11eb_8218_e4a7a072b775level0_row3\" class=\"row_heading level0 row3\" >3</th>\n                        <td id=\"T_0efa9cba_07a3_11eb_8218_e4a7a072b775row3_col0\" class=\"data row3 col0\" >Original Data</td>\n                        <td id=\"T_0efa9cba_07a3_11eb_8218_e4a7a072b775row3_col1\" class=\"data row3 col1\" >(208247, 10)</td>\n            </tr>\n            <tr>\n                        <th id=\"T_0efa9cba_07a3_11eb_8218_e4a7a072b775level0_row4\" class=\"row_heading level0 row4\" >4</th>\n                        <td id=\"T_0efa9cba_07a3_11eb_8218_e4a7a072b775row4_col0\" class=\"data row4 col0\" >Missing Values </td>\n                        <td id=\"T_0efa9cba_07a3_11eb_8218_e4a7a072b775row4_col1\" class=\"data row4 col1\" >False</td>\n            </tr>\n            <tr>\n                        <th id=\"T_0efa9cba_07a3_11eb_8218_e4a7a072b775level0_row5\" class=\"row_heading level0 row5\" >5</th>\n                        <td id=\"T_0efa9cba_07a3_11eb_8218_e4a7a072b775row5_col0\" class=\"data row5 col0\" >Numeric Features </td>\n                        <td id=\"T_0efa9cba_07a3_11eb_8218_e4a7a072b775row5_col1\" class=\"data row5 col1\" >0</td>\n            </tr>\n            <tr>\n                        <th id=\"T_0efa9cba_07a3_11eb_8218_e4a7a072b775level0_row6\" class=\"row_heading level0 row6\" >6</th>\n                        <td id=\"T_0efa9cba_07a3_11eb_8218_e4a7a072b775row6_col0\" class=\"data row6 col0\" >Categorical Features </td>\n                        <td id=\"T_0efa9cba_07a3_11eb_8218_e4a7a072b775row6_col1\" class=\"data row6 col1\" >9</td>\n            </tr>\n            <tr>\n                        <th id=\"T_0efa9cba_07a3_11eb_8218_e4a7a072b775level0_row7\" class=\"row_heading level0 row7\" >7</th>\n                        <td id=\"T_0efa9cba_07a3_11eb_8218_e4a7a072b775row7_col0\" class=\"data row7 col0\" >Ordinal Features </td>\n                        <td id=\"T_0efa9cba_07a3_11eb_8218_e4a7a072b775row7_col1\" class=\"data row7 col1\" >False</td>\n            </tr>\n            <tr>\n                        <th id=\"T_0efa9cba_07a3_11eb_8218_e4a7a072b775level0_row8\" class=\"row_heading level0 row8\" >8</th>\n                        <td id=\"T_0efa9cba_07a3_11eb_8218_e4a7a072b775row8_col0\" class=\"data row8 col0\" >High Cardinality Features </td>\n                        <td id=\"T_0efa9cba_07a3_11eb_8218_e4a7a072b775row8_col1\" class=\"data row8 col1\" >False</td>\n            </tr>\n            <tr>\n                        <th id=\"T_0efa9cba_07a3_11eb_8218_e4a7a072b775level0_row9\" class=\"row_heading level0 row9\" >9</th>\n                        <td id=\"T_0efa9cba_07a3_11eb_8218_e4a7a072b775row9_col0\" class=\"data row9 col0\" >High Cardinality Method </td>\n                        <td id=\"T_0efa9cba_07a3_11eb_8218_e4a7a072b775row9_col1\" class=\"data row9 col1\" >None</td>\n            </tr>\n            <tr>\n                        <th id=\"T_0efa9cba_07a3_11eb_8218_e4a7a072b775level0_row10\" class=\"row_heading level0 row10\" >10</th>\n                        <td id=\"T_0efa9cba_07a3_11eb_8218_e4a7a072b775row10_col0\" class=\"data row10 col0\" >Sampled Data</td>\n                        <td id=\"T_0efa9cba_07a3_11eb_8218_e4a7a072b775row10_col1\" class=\"data row10 col1\" >(62474, 10)</td>\n            </tr>\n            <tr>\n                        <th id=\"T_0efa9cba_07a3_11eb_8218_e4a7a072b775level0_row11\" class=\"row_heading level0 row11\" >11</th>\n                        <td id=\"T_0efa9cba_07a3_11eb_8218_e4a7a072b775row11_col0\" class=\"data row11 col0\" >Transformed Train Set</td>\n                        <td id=\"T_0efa9cba_07a3_11eb_8218_e4a7a072b775row11_col1\" class=\"data row11 col1\" >(43731, 43)</td>\n            </tr>\n            <tr>\n                        <th id=\"T_0efa9cba_07a3_11eb_8218_e4a7a072b775level0_row12\" class=\"row_heading level0 row12\" >12</th>\n                        <td id=\"T_0efa9cba_07a3_11eb_8218_e4a7a072b775row12_col0\" class=\"data row12 col0\" >Transformed Test Set</td>\n                        <td id=\"T_0efa9cba_07a3_11eb_8218_e4a7a072b775row12_col1\" class=\"data row12 col1\" >(18743, 43)</td>\n            </tr>\n            <tr>\n                        <th id=\"T_0efa9cba_07a3_11eb_8218_e4a7a072b775level0_row13\" class=\"row_heading level0 row13\" >13</th>\n                        <td id=\"T_0efa9cba_07a3_11eb_8218_e4a7a072b775row13_col0\" class=\"data row13 col0\" >Numeric Imputer </td>\n                        <td id=\"T_0efa9cba_07a3_11eb_8218_e4a7a072b775row13_col1\" class=\"data row13 col1\" >mean</td>\n            </tr>\n            <tr>\n                        <th id=\"T_0efa9cba_07a3_11eb_8218_e4a7a072b775level0_row14\" class=\"row_heading level0 row14\" >14</th>\n                        <td id=\"T_0efa9cba_07a3_11eb_8218_e4a7a072b775row14_col0\" class=\"data row14 col0\" >Categorical Imputer </td>\n                        <td id=\"T_0efa9cba_07a3_11eb_8218_e4a7a072b775row14_col1\" class=\"data row14 col1\" >constant</td>\n            </tr>\n            <tr>\n                        <th id=\"T_0efa9cba_07a3_11eb_8218_e4a7a072b775level0_row15\" class=\"row_heading level0 row15\" >15</th>\n                        <td id=\"T_0efa9cba_07a3_11eb_8218_e4a7a072b775row15_col0\" class=\"data row15 col0\" >Normalize </td>\n                        <td id=\"T_0efa9cba_07a3_11eb_8218_e4a7a072b775row15_col1\" class=\"data row15 col1\" >False</td>\n            </tr>\n            <tr>\n                        <th id=\"T_0efa9cba_07a3_11eb_8218_e4a7a072b775level0_row16\" class=\"row_heading level0 row16\" >16</th>\n                        <td id=\"T_0efa9cba_07a3_11eb_8218_e4a7a072b775row16_col0\" class=\"data row16 col0\" >Normalize Method </td>\n                        <td id=\"T_0efa9cba_07a3_11eb_8218_e4a7a072b775row16_col1\" class=\"data row16 col1\" >None</td>\n            </tr>\n            <tr>\n                        <th id=\"T_0efa9cba_07a3_11eb_8218_e4a7a072b775level0_row17\" class=\"row_heading level0 row17\" >17</th>\n                        <td id=\"T_0efa9cba_07a3_11eb_8218_e4a7a072b775row17_col0\" class=\"data row17 col0\" >Transformation </td>\n                        <td id=\"T_0efa9cba_07a3_11eb_8218_e4a7a072b775row17_col1\" class=\"data row17 col1\" >False</td>\n            </tr>\n            <tr>\n                        <th id=\"T_0efa9cba_07a3_11eb_8218_e4a7a072b775level0_row18\" class=\"row_heading level0 row18\" >18</th>\n                        <td id=\"T_0efa9cba_07a3_11eb_8218_e4a7a072b775row18_col0\" class=\"data row18 col0\" >Transformation Method </td>\n                        <td id=\"T_0efa9cba_07a3_11eb_8218_e4a7a072b775row18_col1\" class=\"data row18 col1\" >None</td>\n            </tr>\n            <tr>\n                        <th id=\"T_0efa9cba_07a3_11eb_8218_e4a7a072b775level0_row19\" class=\"row_heading level0 row19\" >19</th>\n                        <td id=\"T_0efa9cba_07a3_11eb_8218_e4a7a072b775row19_col0\" class=\"data row19 col0\" >PCA </td>\n                        <td id=\"T_0efa9cba_07a3_11eb_8218_e4a7a072b775row19_col1\" class=\"data row19 col1\" >False</td>\n            </tr>\n            <tr>\n                        <th id=\"T_0efa9cba_07a3_11eb_8218_e4a7a072b775level0_row20\" class=\"row_heading level0 row20\" >20</th>\n                        <td id=\"T_0efa9cba_07a3_11eb_8218_e4a7a072b775row20_col0\" class=\"data row20 col0\" >PCA Method </td>\n                        <td id=\"T_0efa9cba_07a3_11eb_8218_e4a7a072b775row20_col1\" class=\"data row20 col1\" >None</td>\n            </tr>\n            <tr>\n                        <th id=\"T_0efa9cba_07a3_11eb_8218_e4a7a072b775level0_row21\" class=\"row_heading level0 row21\" >21</th>\n                        <td id=\"T_0efa9cba_07a3_11eb_8218_e4a7a072b775row21_col0\" class=\"data row21 col0\" >PCA Components </td>\n                        <td id=\"T_0efa9cba_07a3_11eb_8218_e4a7a072b775row21_col1\" class=\"data row21 col1\" >None</td>\n            </tr>\n            <tr>\n                        <th id=\"T_0efa9cba_07a3_11eb_8218_e4a7a072b775level0_row22\" class=\"row_heading level0 row22\" >22</th>\n                        <td id=\"T_0efa9cba_07a3_11eb_8218_e4a7a072b775row22_col0\" class=\"data row22 col0\" >Ignore Low Variance </td>\n                        <td id=\"T_0efa9cba_07a3_11eb_8218_e4a7a072b775row22_col1\" class=\"data row22 col1\" >False</td>\n            </tr>\n            <tr>\n                        <th id=\"T_0efa9cba_07a3_11eb_8218_e4a7a072b775level0_row23\" class=\"row_heading level0 row23\" >23</th>\n                        <td id=\"T_0efa9cba_07a3_11eb_8218_e4a7a072b775row23_col0\" class=\"data row23 col0\" >Combine Rare Levels </td>\n                        <td id=\"T_0efa9cba_07a3_11eb_8218_e4a7a072b775row23_col1\" class=\"data row23 col1\" >False</td>\n            </tr>\n            <tr>\n                        <th id=\"T_0efa9cba_07a3_11eb_8218_e4a7a072b775level0_row24\" class=\"row_heading level0 row24\" >24</th>\n                        <td id=\"T_0efa9cba_07a3_11eb_8218_e4a7a072b775row24_col0\" class=\"data row24 col0\" >Rare Level Threshold </td>\n                        <td id=\"T_0efa9cba_07a3_11eb_8218_e4a7a072b775row24_col1\" class=\"data row24 col1\" >None</td>\n            </tr>\n            <tr>\n                        <th id=\"T_0efa9cba_07a3_11eb_8218_e4a7a072b775level0_row25\" class=\"row_heading level0 row25\" >25</th>\n                        <td id=\"T_0efa9cba_07a3_11eb_8218_e4a7a072b775row25_col0\" class=\"data row25 col0\" >Numeric Binning </td>\n                        <td id=\"T_0efa9cba_07a3_11eb_8218_e4a7a072b775row25_col1\" class=\"data row25 col1\" >False</td>\n            </tr>\n            <tr>\n                        <th id=\"T_0efa9cba_07a3_11eb_8218_e4a7a072b775level0_row26\" class=\"row_heading level0 row26\" >26</th>\n                        <td id=\"T_0efa9cba_07a3_11eb_8218_e4a7a072b775row26_col0\" class=\"data row26 col0\" >Remove Outliers </td>\n                        <td id=\"T_0efa9cba_07a3_11eb_8218_e4a7a072b775row26_col1\" class=\"data row26 col1\" >False</td>\n            </tr>\n            <tr>\n                        <th id=\"T_0efa9cba_07a3_11eb_8218_e4a7a072b775level0_row27\" class=\"row_heading level0 row27\" >27</th>\n                        <td id=\"T_0efa9cba_07a3_11eb_8218_e4a7a072b775row27_col0\" class=\"data row27 col0\" >Outliers Threshold </td>\n                        <td id=\"T_0efa9cba_07a3_11eb_8218_e4a7a072b775row27_col1\" class=\"data row27 col1\" >None</td>\n            </tr>\n            <tr>\n                        <th id=\"T_0efa9cba_07a3_11eb_8218_e4a7a072b775level0_row28\" class=\"row_heading level0 row28\" >28</th>\n                        <td id=\"T_0efa9cba_07a3_11eb_8218_e4a7a072b775row28_col0\" class=\"data row28 col0\" >Remove Multicollinearity </td>\n                        <td id=\"T_0efa9cba_07a3_11eb_8218_e4a7a072b775row28_col1\" class=\"data row28 col1\" >False</td>\n            </tr>\n            <tr>\n                        <th id=\"T_0efa9cba_07a3_11eb_8218_e4a7a072b775level0_row29\" class=\"row_heading level0 row29\" >29</th>\n                        <td id=\"T_0efa9cba_07a3_11eb_8218_e4a7a072b775row29_col0\" class=\"data row29 col0\" >Multicollinearity Threshold </td>\n                        <td id=\"T_0efa9cba_07a3_11eb_8218_e4a7a072b775row29_col1\" class=\"data row29 col1\" >None</td>\n            </tr>\n            <tr>\n                        <th id=\"T_0efa9cba_07a3_11eb_8218_e4a7a072b775level0_row30\" class=\"row_heading level0 row30\" >30</th>\n                        <td id=\"T_0efa9cba_07a3_11eb_8218_e4a7a072b775row30_col0\" class=\"data row30 col0\" >Clustering </td>\n                        <td id=\"T_0efa9cba_07a3_11eb_8218_e4a7a072b775row30_col1\" class=\"data row30 col1\" >False</td>\n            </tr>\n            <tr>\n                        <th id=\"T_0efa9cba_07a3_11eb_8218_e4a7a072b775level0_row31\" class=\"row_heading level0 row31\" >31</th>\n                        <td id=\"T_0efa9cba_07a3_11eb_8218_e4a7a072b775row31_col0\" class=\"data row31 col0\" >Clustering Iteration </td>\n                        <td id=\"T_0efa9cba_07a3_11eb_8218_e4a7a072b775row31_col1\" class=\"data row31 col1\" >None</td>\n            </tr>\n            <tr>\n                        <th id=\"T_0efa9cba_07a3_11eb_8218_e4a7a072b775level0_row32\" class=\"row_heading level0 row32\" >32</th>\n                        <td id=\"T_0efa9cba_07a3_11eb_8218_e4a7a072b775row32_col0\" class=\"data row32 col0\" >Polynomial Features </td>\n                        <td id=\"T_0efa9cba_07a3_11eb_8218_e4a7a072b775row32_col1\" class=\"data row32 col1\" >False</td>\n            </tr>\n            <tr>\n                        <th id=\"T_0efa9cba_07a3_11eb_8218_e4a7a072b775level0_row33\" class=\"row_heading level0 row33\" >33</th>\n                        <td id=\"T_0efa9cba_07a3_11eb_8218_e4a7a072b775row33_col0\" class=\"data row33 col0\" >Polynomial Degree </td>\n                        <td id=\"T_0efa9cba_07a3_11eb_8218_e4a7a072b775row33_col1\" class=\"data row33 col1\" >None</td>\n            </tr>\n            <tr>\n                        <th id=\"T_0efa9cba_07a3_11eb_8218_e4a7a072b775level0_row34\" class=\"row_heading level0 row34\" >34</th>\n                        <td id=\"T_0efa9cba_07a3_11eb_8218_e4a7a072b775row34_col0\" class=\"data row34 col0\" >Trignometry Features </td>\n                        <td id=\"T_0efa9cba_07a3_11eb_8218_e4a7a072b775row34_col1\" class=\"data row34 col1\" >False</td>\n            </tr>\n            <tr>\n                        <th id=\"T_0efa9cba_07a3_11eb_8218_e4a7a072b775level0_row35\" class=\"row_heading level0 row35\" >35</th>\n                        <td id=\"T_0efa9cba_07a3_11eb_8218_e4a7a072b775row35_col0\" class=\"data row35 col0\" >Polynomial Threshold </td>\n                        <td id=\"T_0efa9cba_07a3_11eb_8218_e4a7a072b775row35_col1\" class=\"data row35 col1\" >None</td>\n            </tr>\n            <tr>\n                        <th id=\"T_0efa9cba_07a3_11eb_8218_e4a7a072b775level0_row36\" class=\"row_heading level0 row36\" >36</th>\n                        <td id=\"T_0efa9cba_07a3_11eb_8218_e4a7a072b775row36_col0\" class=\"data row36 col0\" >Group Features </td>\n                        <td id=\"T_0efa9cba_07a3_11eb_8218_e4a7a072b775row36_col1\" class=\"data row36 col1\" >False</td>\n            </tr>\n            <tr>\n                        <th id=\"T_0efa9cba_07a3_11eb_8218_e4a7a072b775level0_row37\" class=\"row_heading level0 row37\" >37</th>\n                        <td id=\"T_0efa9cba_07a3_11eb_8218_e4a7a072b775row37_col0\" class=\"data row37 col0\" >Feature Selection </td>\n                        <td id=\"T_0efa9cba_07a3_11eb_8218_e4a7a072b775row37_col1\" class=\"data row37 col1\" >False</td>\n            </tr>\n            <tr>\n                        <th id=\"T_0efa9cba_07a3_11eb_8218_e4a7a072b775level0_row38\" class=\"row_heading level0 row38\" >38</th>\n                        <td id=\"T_0efa9cba_07a3_11eb_8218_e4a7a072b775row38_col0\" class=\"data row38 col0\" >Features Selection Threshold </td>\n                        <td id=\"T_0efa9cba_07a3_11eb_8218_e4a7a072b775row38_col1\" class=\"data row38 col1\" >None</td>\n            </tr>\n            <tr>\n                        <th id=\"T_0efa9cba_07a3_11eb_8218_e4a7a072b775level0_row39\" class=\"row_heading level0 row39\" >39</th>\n                        <td id=\"T_0efa9cba_07a3_11eb_8218_e4a7a072b775row39_col0\" class=\"data row39 col0\" >Feature Interaction </td>\n                        <td id=\"T_0efa9cba_07a3_11eb_8218_e4a7a072b775row39_col1\" class=\"data row39 col1\" >False</td>\n            </tr>\n            <tr>\n                        <th id=\"T_0efa9cba_07a3_11eb_8218_e4a7a072b775level0_row40\" class=\"row_heading level0 row40\" >40</th>\n                        <td id=\"T_0efa9cba_07a3_11eb_8218_e4a7a072b775row40_col0\" class=\"data row40 col0\" >Feature Ratio </td>\n                        <td id=\"T_0efa9cba_07a3_11eb_8218_e4a7a072b775row40_col1\" class=\"data row40 col1\" >False</td>\n            </tr>\n            <tr>\n                        <th id=\"T_0efa9cba_07a3_11eb_8218_e4a7a072b775level0_row41\" class=\"row_heading level0 row41\" >41</th>\n                        <td id=\"T_0efa9cba_07a3_11eb_8218_e4a7a072b775row41_col0\" class=\"data row41 col0\" >Interaction Threshold </td>\n                        <td id=\"T_0efa9cba_07a3_11eb_8218_e4a7a072b775row41_col1\" class=\"data row41 col1\" >None</td>\n            </tr>\n            <tr>\n                        <th id=\"T_0efa9cba_07a3_11eb_8218_e4a7a072b775level0_row42\" class=\"row_heading level0 row42\" >42</th>\n                        <td id=\"T_0efa9cba_07a3_11eb_8218_e4a7a072b775row42_col0\" class=\"data row42 col0\" >Fix Imbalance</td>\n                        <td id=\"T_0efa9cba_07a3_11eb_8218_e4a7a072b775row42_col1\" class=\"data row42 col1\" >True</td>\n            </tr>\n            <tr>\n                        <th id=\"T_0efa9cba_07a3_11eb_8218_e4a7a072b775level0_row43\" class=\"row_heading level0 row43\" >43</th>\n                        <td id=\"T_0efa9cba_07a3_11eb_8218_e4a7a072b775row43_col0\" class=\"data row43 col0\" >Fix Imbalance Method</td>\n                        <td id=\"T_0efa9cba_07a3_11eb_8218_e4a7a072b775row43_col1\" class=\"data row43 col1\" >SMOTE</td>\n            </tr>\n    </tbody></table>"
     },
     "metadata": {}
    }
   ],
   "source": [
    "# clf = setup(mldata, target='label')"
   ]
  },
  {
   "cell_type": "code",
   "execution_count": 599,
   "metadata": {},
   "outputs": [],
   "source": [
    "# best_model = compare_models()"
   ]
  },
  {
   "cell_type": "code",
   "execution_count": null,
   "metadata": {},
   "outputs": [],
   "source": []
  }
 ]
}