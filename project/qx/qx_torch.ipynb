{
 "metadata": {
  "language_info": {
   "codemirror_mode": {
    "name": "ipython",
    "version": 3
   },
   "file_extension": ".py",
   "mimetype": "text/x-python",
   "name": "python",
   "nbconvert_exporter": "python",
   "pygments_lexer": "ipython3",
   "version": "3.8.5-final"
  },
  "orig_nbformat": 2,
  "kernelspec": {
   "name": "Python 3.8.5 64-bit",
   "display_name": "Python 3.8.5 64-bit",
   "metadata": {
    "interpreter": {
     "hash": "6b881b2749935116588268fee9d7176cbb8d0c7eeface6b1ec191983ac516378"
    }
   }
  }
 },
 "nbformat": 4,
 "nbformat_minor": 2,
 "cells": [
  {
   "cell_type": "code",
   "execution_count": 1,
   "metadata": {},
   "outputs": [],
   "source": [
    "import torch\n",
    "import numpy as np\n",
    "import pandas as pd\n",
    "from sklearn import preprocessing"
   ]
  },
  {
   "cell_type": "code",
   "execution_count": 2,
   "metadata": {},
   "outputs": [],
   "source": [
    "spdata = pd.read_pickle('SP.pkl')\n",
    "mpdata = pd.read_pickle('MP.pkl')"
   ]
  },
  {
   "cell_type": "code",
   "execution_count": 3,
   "metadata": {},
   "outputs": [],
   "source": [
    "# 指定标签\n",
    "\n",
    "spdata['label'] = 0\n",
    "mpdata['label'] = 1"
   ]
  },
  {
   "cell_type": "code",
   "execution_count": 4,
   "metadata": {},
   "outputs": [],
   "source": [
    "# 提取共有特征\n",
    "\n",
    "intersection_columns = list(set(spdata.columns).intersection(set(mpdata.columns)))"
   ]
  },
  {
   "cell_type": "code",
   "execution_count": 5,
   "metadata": {},
   "outputs": [],
   "source": [
    "# 合并单双原发癌表\n",
    "\n",
    "mixdata = pd.DataFrame()\n",
    "# mixdata = mixdata.append(spdata[intersection_columns].sample(n=8288, random_state=1))\n",
    "mixdata = mixdata.append(spdata[intersection_columns])\n",
    "mixdata = mixdata.append(mpdata[mpdata['Record number recode']==1][intersection_columns])"
   ]
  },
  {
   "cell_type": "code",
   "execution_count": 6,
   "metadata": {},
   "outputs": [
    {
     "output_type": "execute_result",
     "data": {
      "text/plain": "Index([&#39;Radiation sequence with surgery&#39;, &#39;Survival months&#39;,\n       &#39;Age at diagnosis&#39;, &#39;ER Status Recode Breast Cancer (1990+)&#39;,\n       &#39;Derived AJCC M, 7th ed (2010-2015)&#39;, &#39;Derived SEER Combined M (2016+)&#39;,\n       &#39;SEER Combined Mets at DX-liver (2010+)&#39;, &#39;Histologic Type ICD-O-3&#39;,\n       &#39;Breast Subtype (2010+)&#39;, &#39;Derived HER2 Recode (2010+)&#39;,\n       &#39;Derived SEER Combined N (2016+)&#39;, &#39;RX Summ--Surg Prim Site (1998+)&#39;,\n       &#39;Derived AJCC T, 7th ed (2010-2015)&#39;, &#39;Primary Site - labeled&#39;,\n       &#39;Sequence number&#39;, &#39;Derived SEER Cmb Stg Grp (2016+)&#39;,\n       &#39;SEER Combined Mets at DX-bone (2010+)&#39;, &#39;CS tumor size (2004-2015)&#39;,\n       &#39;Grade&#39;, &#39;Patient ID&#39;, &#39;Race recode (W, B, AI, API)&#39;,\n       &#39;SEER Combined Mets at DX-brain (2010+)&#39;, &#39;Radiation recode&#39;,\n       &#39;PR Status Recode Breast Cancer (1990+)&#39;, &#39;Marital status at diagnosis&#39;,\n       &#39;Laterality&#39;, &#39;Chemotherapy recode (yes, no/unk)&#39;, &#39;label&#39;,\n       &#39;COD to site recode&#39;, &#39;Derived SEER Combined T (2016+)&#39;,\n       &#39;Tumor Size Summary (2016+)&#39;, &#39;Site recode ICD-O-3/WHO 2008&#39;,\n       &#39;Derived AJCC N, 7th ed (2010-2015)&#39;, &#39;Year of diagnosis&#39;,\n       &#39;CS site-specific factor 7 (2004+ varying by schema)&#39;,\n       &#39;SEER Combined Mets at DX-lung (2010+)&#39;,\n       &#39;Derived AJCC Stage Group, 7th ed (2010-2015)&#39;],\n      dtype=&#39;object&#39;)"
     },
     "metadata": {},
     "execution_count": 6
    }
   ],
   "source": [
    "mixdata.columns"
   ]
  },
  {
   "cell_type": "code",
   "execution_count": 7,
   "metadata": {
    "tags": []
   },
   "outputs": [],
   "source": [
    "# 指定标签及特征\n",
    "\n",
    "label = mixdata['label']\n",
    "features = mixdata[['Radiation sequence with surgery', 'Survival months',\n",
    "       'Age at diagnosis', 'ER Status Recode Breast Cancer (1990+)',\n",
    "       'Derived AJCC M, 7th ed (2010-2015)', 'Derived SEER Combined M (2016+)',\n",
    "       'SEER Combined Mets at DX-liver (2010+)', 'Histologic Type ICD-O-3',\n",
    "       'Breast Subtype (2010+)', 'Derived HER2 Recode (2010+)',\n",
    "       'Derived SEER Combined N (2016+)', 'RX Summ--Surg Prim Site (1998+)',\n",
    "       'Derived AJCC T, 7th ed (2010-2015)', 'Primary Site - labeled',\n",
    "       'Sequence number', 'Derived SEER Cmb Stg Grp (2016+)',\n",
    "       'SEER Combined Mets at DX-bone (2010+)', 'CS tumor size (2004-2015)',\n",
    "       'Grade', 'Patient ID', 'Race recode (W, B, AI, API)',\n",
    "       'SEER Combined Mets at DX-brain (2010+)', 'Radiation recode',\n",
    "       'PR Status Recode Breast Cancer (1990+)', 'Marital status at diagnosis',\n",
    "       'Laterality', 'Chemotherapy recode (yes, no/unk)', 'label',\n",
    "       'COD to site recode', 'Derived SEER Combined T (2016+)',\n",
    "       'Tumor Size Summary (2016+)', 'Site recode ICD-O-3/WHO 2008',\n",
    "       'Derived AJCC N, 7th ed (2010-2015)', 'Year of diagnosis',\n",
    "       'CS site-specific factor 7 (2004+ varying by schema)',\n",
    "       'SEER Combined Mets at DX-lung (2010+)',\n",
    "       'Derived AJCC Stage Group, 7th ed (2010-2015)']]"
   ]
  },
  {
   "cell_type": "code",
   "execution_count": 8,
   "metadata": {},
   "outputs": [],
   "source": [
    "# One-Hot 编码分类数据\n",
    "\n",
    "features = pd.get_dummies(features)"
   ]
  },
  {
   "cell_type": "code",
   "execution_count": 9,
   "metadata": {},
   "outputs": [],
   "source": [
    "# 数值标准化\n",
    "\n",
    "features = preprocessing.StandardScaler().fit_transform(features)"
   ]
  },
  {
   "cell_type": "code",
   "execution_count": 10,
   "metadata": {},
   "outputs": [],
   "source": [
    "# 指定 x, y\n",
    "\n",
    "x = torch.from_numpy(np.array(features)).float()\n",
    "y = torch.from_numpy(np.array(label))"
   ]
  },
  {
   "cell_type": "code",
   "execution_count": 11,
   "metadata": {},
   "outputs": [
    {
     "output_type": "execute_result",
     "data": {
      "text/plain": "torch.Size([323435, 845])"
     },
     "metadata": {},
     "execution_count": 11
    }
   ],
   "source": [
    "x.shape"
   ]
  },
  {
   "cell_type": "code",
   "execution_count": 12,
   "metadata": {},
   "outputs": [],
   "source": [
    "# 构建网络\n",
    "\n",
    "net = torch.nn.Sequential(\n",
    "    torch.nn.Linear(845, 2000),\n",
    "    torch.nn.ReLU(),\n",
    "    torch.nn.Linear(2000, 2)\n",
    ")\n",
    "\n",
    "optimizer = torch.optim.SGD(net.parameters(), lr=0.5)\n",
    "loss_func = torch.nn.CrossEntropyLoss()"
   ]
  },
  {
   "cell_type": "code",
   "execution_count": 13,
   "metadata": {
    "tags": []
   },
   "outputs": [
    {
     "output_type": "stream",
     "name": "stdout",
     "text": "0 tensor(0.7312, grad_fn=&lt;NllLossBackward&gt;)\n1 tensor(1.1195, grad_fn=&lt;NllLossBackward&gt;)\n2 tensor(0.8644, grad_fn=&lt;NllLossBackward&gt;)\n3 tensor(0.6920, grad_fn=&lt;NllLossBackward&gt;)\n"
    },
    {
     "output_type": "error",
     "ename": "KeyboardInterrupt",
     "evalue": "",
     "traceback": [
      "\u001b[1;31m---------------------------------------------------------------------------\u001b[0m",
      "\u001b[1;31mKeyboardInterrupt\u001b[0m                         Traceback (most recent call last)",
      "\u001b[1;32m&lt;ipython-input-13-daae3a9f9fbe&gt;\u001b[0m in \u001b[0;36m&lt;module&gt;\u001b[1;34m\u001b[0m\n\u001b[0;32m      6\u001b[0m \u001b[1;33m\u001b[0m\u001b[0m\n\u001b[0;32m      7\u001b[0m     \u001b[0moptimizer\u001b[0m\u001b[1;33m.\u001b[0m\u001b[0mzero_grad\u001b[0m\u001b[1;33m(\u001b[0m\u001b[1;33m)\u001b[0m\u001b[1;33m\u001b[0m\u001b[1;33m\u001b[0m\u001b[0m\n\u001b[1;32m----&gt; 8\u001b[1;33m     \u001b[0mloss\u001b[0m\u001b[1;33m.\u001b[0m\u001b[0mbackward\u001b[0m\u001b[1;33m(\u001b[0m\u001b[1;33m)\u001b[0m\u001b[1;33m\u001b[0m\u001b[1;33m\u001b[0m\u001b[0m\n\u001b[0m\u001b[0;32m      9\u001b[0m     \u001b[0moptimizer\u001b[0m\u001b[1;33m.\u001b[0m\u001b[0mstep\u001b[0m\u001b[1;33m(\u001b[0m\u001b[1;33m)\u001b[0m\u001b[1;33m\u001b[0m\u001b[1;33m\u001b[0m\u001b[0m\n",
      "\u001b[1;32md:\\GitHub\\WPy64-3850\\python-3.8.5.amd64\\lib\\site-packages\\torch\\tensor.py\u001b[0m in \u001b[0;36mbackward\u001b[1;34m(self, gradient, retain_graph, create_graph)\u001b[0m\n\u001b[0;32m    183\u001b[0m                 \u001b[0mproducts\u001b[0m\u001b[1;33m.\u001b[0m \u001b[0mDefaults\u001b[0m \u001b[0mto\u001b[0m\u001b[0;31m \u001b[0m\u001b[0;31m`\u001b[0m\u001b[0;31m`\u001b[0m\u001b[1;32mFalse\u001b[0m\u001b[0;31m`\u001b[0m\u001b[0;31m`\u001b[0m\u001b[1;33m.\u001b[0m\u001b[1;33m\u001b[0m\u001b[1;33m\u001b[0m\u001b[0m\n\u001b[0;32m    184\u001b[0m         &quot;&quot;&quot;\n\u001b[1;32m--&gt; 185\u001b[1;33m         \u001b[0mtorch\u001b[0m\u001b[1;33m.\u001b[0m\u001b[0mautograd\u001b[0m\u001b[1;33m.\u001b[0m\u001b[0mbackward\u001b[0m\u001b[1;33m(\u001b[0m\u001b[0mself\u001b[0m\u001b[1;33m,\u001b[0m \u001b[0mgradient\u001b[0m\u001b[1;33m,\u001b[0m \u001b[0mretain_graph\u001b[0m\u001b[1;33m,\u001b[0m \u001b[0mcreate_graph\u001b[0m\u001b[1;33m)\u001b[0m\u001b[1;33m\u001b[0m\u001b[1;33m\u001b[0m\u001b[0m\n\u001b[0m\u001b[0;32m    186\u001b[0m \u001b[1;33m\u001b[0m\u001b[0m\n\u001b[0;32m    187\u001b[0m     \u001b[1;32mdef\u001b[0m \u001b[0mregister_hook\u001b[0m\u001b[1;33m(\u001b[0m\u001b[0mself\u001b[0m\u001b[1;33m,\u001b[0m \u001b[0mhook\u001b[0m\u001b[1;33m)\u001b[0m\u001b[1;33m:\u001b[0m\u001b[1;33m\u001b[0m\u001b[1;33m\u001b[0m\u001b[0m\n",
      "\u001b[1;32md:\\GitHub\\WPy64-3850\\python-3.8.5.amd64\\lib\\site-packages\\torch\\autograd\\__init__.py\u001b[0m in \u001b[0;36mbackward\u001b[1;34m(tensors, grad_tensors, retain_graph, create_graph, grad_variables)\u001b[0m\n\u001b[0;32m    123\u001b[0m         \u001b[0mretain_graph\u001b[0m \u001b[1;33m=\u001b[0m \u001b[0mcreate_graph\u001b[0m\u001b[1;33m\u001b[0m\u001b[1;33m\u001b[0m\u001b[0m\n\u001b[0;32m    124\u001b[0m \u001b[1;33m\u001b[0m\u001b[0m\n\u001b[1;32m--&gt; 125\u001b[1;33m     Variable._execution_engine.run_backward(\n\u001b[0m\u001b[0;32m    126\u001b[0m         \u001b[0mtensors\u001b[0m\u001b[1;33m,\u001b[0m \u001b[0mgrad_tensors\u001b[0m\u001b[1;33m,\u001b[0m \u001b[0mretain_graph\u001b[0m\u001b[1;33m,\u001b[0m \u001b[0mcreate_graph\u001b[0m\u001b[1;33m,\u001b[0m\u001b[1;33m\u001b[0m\u001b[1;33m\u001b[0m\u001b[0m\n\u001b[0;32m    127\u001b[0m         allow_unreachable=True)  # allow_unreachable flag\n",
      "\u001b[1;31mKeyboardInterrupt\u001b[0m: "
     ]
    }
   ],
   "source": [
    "for t in range(100):\n",
    "    prediction = net(x)\n",
    "    loss = loss_func(prediction, y)\n",
    "\n",
    "    print(t, loss)\n",
    "\n",
    "    optimizer.zero_grad()\n",
    "    loss.backward()\n",
    "    optimizer.step()"
   ]
  },
  {
   "cell_type": "code",
   "execution_count": null,
   "metadata": {},
   "outputs": [],
   "source": []
  }
 ]
}