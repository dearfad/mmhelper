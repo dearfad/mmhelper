{
 "metadata": {
  "language_info": {
   "codemirror_mode": {
    "name": "ipython",
    "version": 3
   },
   "file_extension": ".py",
   "mimetype": "text/x-python",
   "name": "python",
   "nbconvert_exporter": "python",
   "pygments_lexer": "ipython3",
   "version": "3.8.5-final"
  },
  "orig_nbformat": 2,
  "kernelspec": {
   "name": "Python 3.8.5 64-bit",
   "display_name": "Python 3.8.5 64-bit",
   "metadata": {
    "interpreter": {
     "hash": "6b881b2749935116588268fee9d7176cbb8d0c7eeface6b1ec191983ac516378"
    }
   }
  }
 },
 "nbformat": 4,
 "nbformat_minor": 2,
 "cells": [
  {
   "cell_type": "code",
   "execution_count": 178,
   "metadata": {},
   "outputs": [],
   "source": [
    "import torch\n",
    "import numpy as np\n",
    "import pandas as pd\n",
    "from sklearn import preprocessing\n",
    "from sklearn.model_selection import train_test_split\n",
    "from sklearn.metrics import confusion_matrix\n",
    "from imblearn.under_sampling import ClusterCentroids\n",
    "from scipy.stats import chi2_contingency\n",
    "from sklearn import metrics\n",
    "\n",
    "# 所有变量格式化\n",
    "from IPython.core.interactiveshell import InteractiveShell\n",
    "InteractiveShell.ast_node_interactivity = 'all'"
   ]
  },
  {
   "cell_type": "code",
   "execution_count": 179,
   "metadata": {},
   "outputs": [],
   "source": [
    "spdata = pd.read_pickle('SP.pkl')\n",
    "mpdata = pd.read_pickle('MP.pkl')"
   ]
  },
  {
   "cell_type": "code",
   "execution_count": 180,
   "metadata": {},
   "outputs": [],
   "source": [
    "# 指定标签\n",
    "\n",
    "spdata['label'] = 0\n",
    "mpdata['label'] = 1"
   ]
  },
  {
   "cell_type": "code",
   "execution_count": 181,
   "metadata": {},
   "outputs": [],
   "source": [
    "# 提取共有特征\n",
    "\n",
    "intersection_columns = list(set(spdata.columns).intersection(set(mpdata.columns)))"
   ]
  },
  {
   "cell_type": "code",
   "execution_count": 182,
   "metadata": {},
   "outputs": [],
   "source": [
    "# 合并单双原发癌表\n",
    "\n",
    "mixdata = pd.DataFrame()\n",
    "# mixdata = mixdata.append(spdata[intersection_columns].sample(n=8288, random_state=1))\n",
    "mixdata = mixdata.append(spdata[intersection_columns])\n",
    "mixdata = mixdata.append(mpdata[mpdata['Record number recode']==1][intersection_columns])"
   ]
  },
  {
   "cell_type": "code",
   "execution_count": 183,
   "metadata": {},
   "outputs": [],
   "source": [
    "# 标记 p < 0.05\n",
    "def highlight_diff(rowdata):\n",
    "    return ['background-color: darkgreen' if rowdata['p'] < 0.05 else '' for v in rowdata]"
   ]
  },
  {
   "cell_type": "code",
   "execution_count": 184,
   "metadata": {},
   "outputs": [],
   "source": [
    "# 对照spdata, mpdata交集列显示统计信息\n",
    "def columninfo(tag, spdata, mpdata):\n",
    "\n",
    "    print('='*90)\n",
    "\n",
    "    # 分项统计\n",
    "    svalue = spdata.groupby(tag).size().sort_values(ascending=False)\n",
    "    print('spdata:', svalue)\n",
    "    print('-'*90)    \n",
    "    mvalue = mpdata[mpdata['Record number recode']==1].groupby(tag).size().sort_values(ascending=False)\n",
    "    print('mpdata:', mvalue)\n",
    "    print('-'*90)\n",
    "\n",
    "    # 项目列表\n",
    "    snunique = spdata[tag].nunique()\n",
    "    mnunique = mpdata[mpdata['Record number recode']==1][tag].nunique()\n",
    "    print(f'spdata: {snunique}, mpdata: {mnunique}')\n",
    "    sunique = spdata[tag].unique()\n",
    "    munique = mpdata[mpdata['Record number recode']==1][tag].unique()\n",
    "    index = list(set(sunique).intersection(set(munique)))\n",
    "    print('difference:\\n')\n",
    "    sdiff = list(set(sunique).difference(set(munique)))\n",
    "    print('spdata: ', sdiff)\n",
    "    mdiff = list(set(munique).difference(set(sunique)))\n",
    "    print('mpdata: ', mdiff)\n",
    "    print('*'*90)\n",
    "\n",
    "    # 同项目卡方检验，排序时用'0'，排序后换回0\n",
    "    obs = np.array([svalue[index], mvalue[index]]).T\n",
    "\n",
    "    obsframe = pd.DataFrame(index=index, columns=['svalue','mvalue','percent'])\n",
    "    obsframe['svalue'] = obs[:,0]\n",
    "    obsframe['mvalue'] = obs[:,1]\n",
    "    obsframe['percent'] = round(obsframe['mvalue']/(obsframe['svalue']+obsframe['mvalue']), 3)\n",
    "    print(obsframe.sort_values(by='percent', ascending=False))\n",
    "    \n",
    "    # 整体差异性\n",
    "    print('p = ', round(chi2_contingency(obs)[1], 3))\n",
    "    print('-'*90)\n",
    "\n",
    "    # 组间两两比较\n",
    "    result = pd.DataFrame()\n",
    "    result_type1 = []\n",
    "    result_percent1 = []\n",
    "    result_type2 = []\n",
    "    result_percent2 = []\n",
    "    result_p = []\n",
    "    for type1 in range(len(obs)):\n",
    "        for type2 in range(type1+1, len(obs)):\n",
    "            result_type1.append(index[type1])\n",
    "            result_percent1.append(obsframe.loc[index[type1], 'percent'])\n",
    "            result_type2.append(index[type2])\n",
    "            result_percent2.append(obsframe.loc[index[type2], 'percent'])\n",
    "            result_p.append(round(chi2_contingency(np.array([obs[type1], obs[type2]]))[1],3))\n",
    "    result['type1'] = result_type1\n",
    "    result['percent1'] = result_percent1\n",
    "    result['type2'] = result_type2\n",
    "    result['percent2'] = result_percent2\n",
    "    result['p'] = result_p\n",
    "\n",
    "    return result.style.apply(highlight_diff, axis=1).format({'p': '{:.3f}', 'percent1': '{:.3f}', 'percent2': '{:.3f}'})"
   ]
  },
  {
   "cell_type": "code",
   "execution_count": 185,
   "metadata": {},
   "outputs": [
    {
     "output_type": "execute_result",
     "data": {
      "text/plain": [
       "Index(['Radiation sequence with surgery', 'Derived AJCC N, 7th ed (2010-2015)',\n",
       "       'SEER Combined Mets at DX-liver (2010+)',\n",
       "       'Derived SEER Combined N (2016+)', 'Derived SEER Combined T (2016+)',\n",
       "       'Radiation recode', 'Tumor Size Summary (2016+)',\n",
       "       'RX Summ--Surg Prim Site (1998+)', 'Year of diagnosis',\n",
       "       'Derived SEER Combined M (2016+)',\n",
       "       'SEER Combined Mets at DX-lung (2010+)',\n",
       "       'Derived SEER Cmb Stg Grp (2016+)', 'Breast Subtype (2010+)',\n",
       "       'Derived AJCC M, 7th ed (2010-2015)',\n",
       "       'Derived AJCC T, 7th ed (2010-2015)', 'Histologic Type ICD-O-3',\n",
       "       'Marital status at diagnosis', 'CS tumor size (2004-2015)',\n",
       "       'Site recode ICD-O-3/WHO 2008', 'Age at diagnosis',\n",
       "       'COD to site recode', 'Sequence number',\n",
       "       'CS site-specific factor 7 (2004+ varying by schema)', 'label', 'Grade',\n",
       "       'Derived HER2 Recode (2010+)', 'Chemotherapy recode (yes, no/unk)',\n",
       "       'SEER Combined Mets at DX-brain (2010+)',\n",
       "       'SEER Combined Mets at DX-bone (2010+)',\n",
       "       'ER Status Recode Breast Cancer (1990+)', 'Survival months',\n",
       "       'PR Status Recode Breast Cancer (1990+)', 'Race recode (W, B, AI, API)',\n",
       "       'Derived AJCC Stage Group, 7th ed (2010-2015)',\n",
       "       'Primary Site - labeled', 'Patient ID', 'Laterality'],\n",
       "      dtype='object')"
      ]
     },
     "metadata": {},
     "execution_count": 185
    }
   ],
   "source": [
    "mixdata.columns"
   ]
  },
  {
   "cell_type": "code",
   "execution_count": 186,
   "metadata": {
    "tags": []
   },
   "outputs": [
    {
     "output_type": "execute_result",
     "data": {
      "text/plain": [
       "(323435, 37)"
      ]
     },
     "metadata": {},
     "execution_count": 186
    }
   ],
   "source": [
    "mixdata.shape"
   ]
  },
  {
   "cell_type": "code",
   "execution_count": 187,
   "metadata": {
    "tags": []
   },
   "outputs": [],
   "source": [
    "# 指定标签及特征\n",
    "\n",
    "data = mixdata[['label', 'Age at diagnosis', 'Derived AJCC Stage Group, 7th ed (2010-2015)', 'Derived AJCC T, 7th ed (2010-2015)', 'Derived AJCC N, 7th ed (2010-2015)', 'Derived AJCC M, 7th ed (2010-2015)', 'Grade', 'Breast Subtype (2010+)', 'ER Status Recode Breast Cancer (1990+)', 'PR Status Recode Breast Cancer (1990+)', 'Derived HER2 Recode (2010+)']]"
   ]
  },
  {
   "cell_type": "code",
   "execution_count": 188,
   "metadata": {},
   "outputs": [],
   "source": [
    "data = data.dropna()"
   ]
  },
  {
   "cell_type": "code",
   "execution_count": 189,
   "metadata": {},
   "outputs": [],
   "source": [
    "# Age按照50岁分组\n",
    "\n",
    "# data['Age'] = pd.cut(data['Age at diagnosis'], bins=[0,50,200], right=False)\n",
    "data['Age'] = data['Age at diagnosis']\n",
    "data = data.drop(columns='Age at diagnosis')"
   ]
  },
  {
   "cell_type": "code",
   "execution_count": 190,
   "metadata": {},
   "outputs": [],
   "source": [
    "# 去掉Stage中无意义项目\n",
    "\n",
    "data = data.drop(data[data['Derived AJCC Stage Group, 7th ed (2010-2015)'].isin(['Blank(s)', 'UNK Stage', 0, 'IIINOS'])].index)\n",
    "data = data.rename(columns={'Derived AJCC Stage Group, 7th ed (2010-2015)': 'Stage'})"
   ]
  },
  {
   "cell_type": "code",
   "execution_count": 191,
   "metadata": {},
   "outputs": [],
   "source": [
    "# 去掉T无意义项目\n",
    "\n",
    "data = data.drop(data[data['Derived AJCC T, 7th ed (2010-2015)'].isin(['T0', 'T1mic', 'TX', 'T4NOS', 'T1NOS'])].index)\n",
    "data = data.rename(columns={'Derived AJCC T, 7th ed (2010-2015)': 'T'})"
   ]
  },
  {
   "cell_type": "code",
   "execution_count": 192,
   "metadata": {},
   "outputs": [],
   "source": [
    "# 去掉N无意义项目\n",
    "\n",
    "data = data.drop(data[data['Derived AJCC N, 7th ed (2010-2015)'].isin(['N1mi', 'N2NOS', 'N1NOS', 'N0(mol-)', 'N3NOS', 'NX', 'N0(mol+)'])].index)\n",
    "data = data.rename(columns={'Derived AJCC N, 7th ed (2010-2015)': 'N'})"
   ]
  },
  {
   "cell_type": "code",
   "execution_count": 193,
   "metadata": {},
   "outputs": [],
   "source": [
    "# 去掉M1\n",
    "\n",
    "data = data.drop(data[data['Derived AJCC M, 7th ed (2010-2015)'].isin(['M1', 'M0(i+)'])].index)\n",
    "data = data.drop(columns='Derived AJCC M, 7th ed (2010-2015)')"
   ]
  },
  {
   "cell_type": "code",
   "execution_count": 194,
   "metadata": {},
   "outputs": [],
   "source": [
    "# 去掉Grade无意义项目\n",
    "\n",
    "data = data.drop(data[data['Grade'].isin(['Unknown'])].index)"
   ]
  },
  {
   "cell_type": "code",
   "execution_count": 195,
   "metadata": {},
   "outputs": [],
   "source": [
    "# 去掉Subtype无意义项目\n",
    "\n",
    "data = data.drop(data[data['Breast Subtype (2010+)'].isin(['Unknown'])].index)\n",
    "data = data.rename(columns={'Breast Subtype (2010+)': 'Subtype'})"
   ]
  },
  {
   "cell_type": "code",
   "execution_count": 196,
   "metadata": {},
   "outputs": [],
   "source": [
    "# 去掉ER无意义项目\n",
    "\n",
    "data = data.drop(data[data['ER Status Recode Breast Cancer (1990+)'].isin(['Unknown', 'Borderline'])].index)\n",
    "data = data.rename(columns={'ER Status Recode Breast Cancer (1990+)': 'ER'})"
   ]
  },
  {
   "cell_type": "code",
   "execution_count": 197,
   "metadata": {},
   "outputs": [],
   "source": [
    "# 去掉PR无意义项目\n",
    "\n",
    "data = data.drop(data[data['PR Status Recode Breast Cancer (1990+)'].isin(['Unknown', 'Borderline'])].index)\n",
    "data = data.rename(columns={'PR Status Recode Breast Cancer (1990+)': 'PR'})"
   ]
  },
  {
   "cell_type": "code",
   "execution_count": 198,
   "metadata": {},
   "outputs": [],
   "source": [
    "# 去掉HER2无意义项目\n",
    "\n",
    "data = data.drop(data[data['Derived HER2 Recode (2010+)'].isin(['Unknown', 'Borderline'])].index)\n",
    "data = data.rename(columns={'Derived HER2 Recode (2010+)': 'HER2'})"
   ]
  },
  {
   "cell_type": "code",
   "execution_count": 199,
   "metadata": {},
   "outputs": [
    {
     "output_type": "execute_result",
     "data": {
      "text/plain": [
       "       label Stage    T       N                                Grade  \\\n",
       "1          0   IIB   T2     N1a  Moderately differentiated; Grade II   \n",
       "2          0   IIB   T2     N1a     Poorly differentiated; Grade III   \n",
       "6          0    IA  T1c      N0  Moderately differentiated; Grade II   \n",
       "11         0  IIIA  T1c     N2a     Poorly differentiated; Grade III   \n",
       "12         0  IIIA   T2     N2a  Moderately differentiated; Grade II   \n",
       "...      ...   ...  ...     ...                                  ...   \n",
       "16214      1   IIA  T1b     N1a     Poorly differentiated; Grade III   \n",
       "16264      1    IA  T1b  N0(i-)         Well differentiated; Grade I   \n",
       "16354      1    IA  T1c  N0(i-)     Poorly differentiated; Grade III   \n",
       "16452      1   IIA   T2      N0     Poorly differentiated; Grade III   \n",
       "16536      1    IA  T1c      N0  Moderately differentiated; Grade II   \n",
       "\n",
       "                           Subtype        ER        PR      HER2  Age  \n",
       "1            HR+/HER2- (Luminal A)  Positive  Positive  Negative   53  \n",
       "2            HR+/HER2- (Luminal A)  Positive  Negative  Negative   59  \n",
       "6            HR+/HER2- (Luminal A)  Negative  Positive  Negative   89  \n",
       "11           HR+/HER2- (Luminal A)  Positive  Positive  Negative   62  \n",
       "12           HR+/HER2- (Luminal A)  Positive  Positive  Negative   65  \n",
       "...                            ...       ...       ...       ...  ...  \n",
       "16214  HR-/HER2- (Triple Negative)  Negative  Negative  Negative   68  \n",
       "16264        HR+/HER2- (Luminal A)  Positive  Positive  Negative   70  \n",
       "16354        HR+/HER2- (Luminal A)  Positive  Positive  Negative   65  \n",
       "16452  HR-/HER2- (Triple Negative)  Negative  Negative  Negative   64  \n",
       "16536        HR+/HER2- (Luminal A)  Positive  Positive  Negative   55  \n",
       "\n",
       "[208247 rows x 10 columns]"
      ],
      "text/html": "<div>\n<style scoped>\n    .dataframe tbody tr th:only-of-type {\n        vertical-align: middle;\n    }\n\n    .dataframe tbody tr th {\n        vertical-align: top;\n    }\n\n    .dataframe thead th {\n        text-align: right;\n    }\n</style>\n<table border=\"1\" class=\"dataframe\">\n  <thead>\n    <tr style=\"text-align: right;\">\n      <th></th>\n      <th>label</th>\n      <th>Stage</th>\n      <th>T</th>\n      <th>N</th>\n      <th>Grade</th>\n      <th>Subtype</th>\n      <th>ER</th>\n      <th>PR</th>\n      <th>HER2</th>\n      <th>Age</th>\n    </tr>\n  </thead>\n  <tbody>\n    <tr>\n      <th>1</th>\n      <td>0</td>\n      <td>IIB</td>\n      <td>T2</td>\n      <td>N1a</td>\n      <td>Moderately differentiated; Grade II</td>\n      <td>HR+/HER2- (Luminal A)</td>\n      <td>Positive</td>\n      <td>Positive</td>\n      <td>Negative</td>\n      <td>53</td>\n    </tr>\n    <tr>\n      <th>2</th>\n      <td>0</td>\n      <td>IIB</td>\n      <td>T2</td>\n      <td>N1a</td>\n      <td>Poorly differentiated; Grade III</td>\n      <td>HR+/HER2- (Luminal A)</td>\n      <td>Positive</td>\n      <td>Negative</td>\n      <td>Negative</td>\n      <td>59</td>\n    </tr>\n    <tr>\n      <th>6</th>\n      <td>0</td>\n      <td>IA</td>\n      <td>T1c</td>\n      <td>N0</td>\n      <td>Moderately differentiated; Grade II</td>\n      <td>HR+/HER2- (Luminal A)</td>\n      <td>Negative</td>\n      <td>Positive</td>\n      <td>Negative</td>\n      <td>89</td>\n    </tr>\n    <tr>\n      <th>11</th>\n      <td>0</td>\n      <td>IIIA</td>\n      <td>T1c</td>\n      <td>N2a</td>\n      <td>Poorly differentiated; Grade III</td>\n      <td>HR+/HER2- (Luminal A)</td>\n      <td>Positive</td>\n      <td>Positive</td>\n      <td>Negative</td>\n      <td>62</td>\n    </tr>\n    <tr>\n      <th>12</th>\n      <td>0</td>\n      <td>IIIA</td>\n      <td>T2</td>\n      <td>N2a</td>\n      <td>Moderately differentiated; Grade II</td>\n      <td>HR+/HER2- (Luminal A)</td>\n      <td>Positive</td>\n      <td>Positive</td>\n      <td>Negative</td>\n      <td>65</td>\n    </tr>\n    <tr>\n      <th>...</th>\n      <td>...</td>\n      <td>...</td>\n      <td>...</td>\n      <td>...</td>\n      <td>...</td>\n      <td>...</td>\n      <td>...</td>\n      <td>...</td>\n      <td>...</td>\n      <td>...</td>\n    </tr>\n    <tr>\n      <th>16214</th>\n      <td>1</td>\n      <td>IIA</td>\n      <td>T1b</td>\n      <td>N1a</td>\n      <td>Poorly differentiated; Grade III</td>\n      <td>HR-/HER2- (Triple Negative)</td>\n      <td>Negative</td>\n      <td>Negative</td>\n      <td>Negative</td>\n      <td>68</td>\n    </tr>\n    <tr>\n      <th>16264</th>\n      <td>1</td>\n      <td>IA</td>\n      <td>T1b</td>\n      <td>N0(i-)</td>\n      <td>Well differentiated; Grade I</td>\n      <td>HR+/HER2- (Luminal A)</td>\n      <td>Positive</td>\n      <td>Positive</td>\n      <td>Negative</td>\n      <td>70</td>\n    </tr>\n    <tr>\n      <th>16354</th>\n      <td>1</td>\n      <td>IA</td>\n      <td>T1c</td>\n      <td>N0(i-)</td>\n      <td>Poorly differentiated; Grade III</td>\n      <td>HR+/HER2- (Luminal A)</td>\n      <td>Positive</td>\n      <td>Positive</td>\n      <td>Negative</td>\n      <td>65</td>\n    </tr>\n    <tr>\n      <th>16452</th>\n      <td>1</td>\n      <td>IIA</td>\n      <td>T2</td>\n      <td>N0</td>\n      <td>Poorly differentiated; Grade III</td>\n      <td>HR-/HER2- (Triple Negative)</td>\n      <td>Negative</td>\n      <td>Negative</td>\n      <td>Negative</td>\n      <td>64</td>\n    </tr>\n    <tr>\n      <th>16536</th>\n      <td>1</td>\n      <td>IA</td>\n      <td>T1c</td>\n      <td>N0</td>\n      <td>Moderately differentiated; Grade II</td>\n      <td>HR+/HER2- (Luminal A)</td>\n      <td>Positive</td>\n      <td>Positive</td>\n      <td>Negative</td>\n      <td>55</td>\n    </tr>\n  </tbody>\n</table>\n<p>208247 rows × 10 columns</p>\n</div>"
     },
     "metadata": {},
     "execution_count": 199
    }
   ],
   "source": [
    "data"
   ]
  },
  {
   "cell_type": "code",
   "execution_count": 200,
   "metadata": {},
   "outputs": [],
   "source": [
    "labels = data['label']\n",
    "\n",
    "features = data[['Age', 'Stage', 'T', 'N', 'Grade', 'Subtype', 'ER', 'PR', 'HER2']]"
   ]
  },
  {
   "cell_type": "code",
   "execution_count": 201,
   "metadata": {},
   "outputs": [],
   "source": [
    "# One-Hot 编码分类数据\n",
    "\n",
    "features = pd.get_dummies(features)"
   ]
  },
  {
   "cell_type": "code",
   "execution_count": 202,
   "metadata": {},
   "outputs": [
    {
     "output_type": "execute_result",
     "data": {
      "text/plain": [
       "       Age  Stage_IA  Stage_IIA  Stage_IIB  Stage_IIIA  Stage_IIIB  \\\n",
       "1       53         0          0          1           0           0   \n",
       "2       59         0          0          1           0           0   \n",
       "6       89         1          0          0           0           0   \n",
       "11      62         0          0          0           1           0   \n",
       "12      65         0          0          0           1           0   \n",
       "...    ...       ...        ...        ...         ...         ...   \n",
       "16214   68         0          1          0           0           0   \n",
       "16264   70         1          0          0           0           0   \n",
       "16354   65         1          0          0           0           0   \n",
       "16452   64         0          1          0           0           0   \n",
       "16536   55         1          0          0           0           0   \n",
       "\n",
       "       Stage_IIIC  T_T1a  T_T1b  T_T1c  ...  Subtype_HR+/HER2+ (Luminal B)  \\\n",
       "1               0      0      0      0  ...                              0   \n",
       "2               0      0      0      0  ...                              0   \n",
       "6               0      0      0      1  ...                              0   \n",
       "11              0      0      0      1  ...                              0   \n",
       "12              0      0      0      0  ...                              0   \n",
       "...           ...    ...    ...    ...  ...                            ...   \n",
       "16214           0      0      1      0  ...                              0   \n",
       "16264           0      0      1      0  ...                              0   \n",
       "16354           0      0      0      1  ...                              0   \n",
       "16452           0      0      0      0  ...                              0   \n",
       "16536           0      0      0      1  ...                              0   \n",
       "\n",
       "       Subtype_HR+/HER2- (Luminal A)  Subtype_HR-/HER2+ (HER2 enriched)  \\\n",
       "1                                  1                                  0   \n",
       "2                                  1                                  0   \n",
       "6                                  1                                  0   \n",
       "11                                 1                                  0   \n",
       "12                                 1                                  0   \n",
       "...                              ...                                ...   \n",
       "16214                              0                                  0   \n",
       "16264                              1                                  0   \n",
       "16354                              1                                  0   \n",
       "16452                              0                                  0   \n",
       "16536                              1                                  0   \n",
       "\n",
       "       Subtype_HR-/HER2- (Triple Negative)  ER_Negative  ER_Positive  \\\n",
       "1                                        0            0            1   \n",
       "2                                        0            0            1   \n",
       "6                                        0            1            0   \n",
       "11                                       0            0            1   \n",
       "12                                       0            0            1   \n",
       "...                                    ...          ...          ...   \n",
       "16214                                    1            1            0   \n",
       "16264                                    0            0            1   \n",
       "16354                                    0            0            1   \n",
       "16452                                    1            1            0   \n",
       "16536                                    0            0            1   \n",
       "\n",
       "       PR_Negative  PR_Positive  HER2_Negative  HER2_Positive  \n",
       "1                0            1              1              0  \n",
       "2                1            0              1              0  \n",
       "6                0            1              1              0  \n",
       "11               0            1              1              0  \n",
       "12               0            1              1              0  \n",
       "...            ...          ...            ...            ...  \n",
       "16214            1            0              1              0  \n",
       "16264            0            1              1              0  \n",
       "16354            0            1              1              0  \n",
       "16452            1            0              1              0  \n",
       "16536            0            1              1              0  \n",
       "\n",
       "[208247 rows x 42 columns]"
      ],
      "text/html": "<div>\n<style scoped>\n    .dataframe tbody tr th:only-of-type {\n        vertical-align: middle;\n    }\n\n    .dataframe tbody tr th {\n        vertical-align: top;\n    }\n\n    .dataframe thead th {\n        text-align: right;\n    }\n</style>\n<table border=\"1\" class=\"dataframe\">\n  <thead>\n    <tr style=\"text-align: right;\">\n      <th></th>\n      <th>Age</th>\n      <th>Stage_IA</th>\n      <th>Stage_IIA</th>\n      <th>Stage_IIB</th>\n      <th>Stage_IIIA</th>\n      <th>Stage_IIIB</th>\n      <th>Stage_IIIC</th>\n      <th>T_T1a</th>\n      <th>T_T1b</th>\n      <th>T_T1c</th>\n      <th>...</th>\n      <th>Subtype_HR+/HER2+ (Luminal B)</th>\n      <th>Subtype_HR+/HER2- (Luminal A)</th>\n      <th>Subtype_HR-/HER2+ (HER2 enriched)</th>\n      <th>Subtype_HR-/HER2- (Triple Negative)</th>\n      <th>ER_Negative</th>\n      <th>ER_Positive</th>\n      <th>PR_Negative</th>\n      <th>PR_Positive</th>\n      <th>HER2_Negative</th>\n      <th>HER2_Positive</th>\n    </tr>\n  </thead>\n  <tbody>\n    <tr>\n      <th>1</th>\n      <td>53</td>\n      <td>0</td>\n      <td>0</td>\n      <td>1</td>\n      <td>0</td>\n      <td>0</td>\n      <td>0</td>\n      <td>0</td>\n      <td>0</td>\n      <td>0</td>\n      <td>...</td>\n      <td>0</td>\n      <td>1</td>\n      <td>0</td>\n      <td>0</td>\n      <td>0</td>\n      <td>1</td>\n      <td>0</td>\n      <td>1</td>\n      <td>1</td>\n      <td>0</td>\n    </tr>\n    <tr>\n      <th>2</th>\n      <td>59</td>\n      <td>0</td>\n      <td>0</td>\n      <td>1</td>\n      <td>0</td>\n      <td>0</td>\n      <td>0</td>\n      <td>0</td>\n      <td>0</td>\n      <td>0</td>\n      <td>...</td>\n      <td>0</td>\n      <td>1</td>\n      <td>0</td>\n      <td>0</td>\n      <td>0</td>\n      <td>1</td>\n      <td>1</td>\n      <td>0</td>\n      <td>1</td>\n      <td>0</td>\n    </tr>\n    <tr>\n      <th>6</th>\n      <td>89</td>\n      <td>1</td>\n      <td>0</td>\n      <td>0</td>\n      <td>0</td>\n      <td>0</td>\n      <td>0</td>\n      <td>0</td>\n      <td>0</td>\n      <td>1</td>\n      <td>...</td>\n      <td>0</td>\n      <td>1</td>\n      <td>0</td>\n      <td>0</td>\n      <td>1</td>\n      <td>0</td>\n      <td>0</td>\n      <td>1</td>\n      <td>1</td>\n      <td>0</td>\n    </tr>\n    <tr>\n      <th>11</th>\n      <td>62</td>\n      <td>0</td>\n      <td>0</td>\n      <td>0</td>\n      <td>1</td>\n      <td>0</td>\n      <td>0</td>\n      <td>0</td>\n      <td>0</td>\n      <td>1</td>\n      <td>...</td>\n      <td>0</td>\n      <td>1</td>\n      <td>0</td>\n      <td>0</td>\n      <td>0</td>\n      <td>1</td>\n      <td>0</td>\n      <td>1</td>\n      <td>1</td>\n      <td>0</td>\n    </tr>\n    <tr>\n      <th>12</th>\n      <td>65</td>\n      <td>0</td>\n      <td>0</td>\n      <td>0</td>\n      <td>1</td>\n      <td>0</td>\n      <td>0</td>\n      <td>0</td>\n      <td>0</td>\n      <td>0</td>\n      <td>...</td>\n      <td>0</td>\n      <td>1</td>\n      <td>0</td>\n      <td>0</td>\n      <td>0</td>\n      <td>1</td>\n      <td>0</td>\n      <td>1</td>\n      <td>1</td>\n      <td>0</td>\n    </tr>\n    <tr>\n      <th>...</th>\n      <td>...</td>\n      <td>...</td>\n      <td>...</td>\n      <td>...</td>\n      <td>...</td>\n      <td>...</td>\n      <td>...</td>\n      <td>...</td>\n      <td>...</td>\n      <td>...</td>\n      <td>...</td>\n      <td>...</td>\n      <td>...</td>\n      <td>...</td>\n      <td>...</td>\n      <td>...</td>\n      <td>...</td>\n      <td>...</td>\n      <td>...</td>\n      <td>...</td>\n      <td>...</td>\n    </tr>\n    <tr>\n      <th>16214</th>\n      <td>68</td>\n      <td>0</td>\n      <td>1</td>\n      <td>0</td>\n      <td>0</td>\n      <td>0</td>\n      <td>0</td>\n      <td>0</td>\n      <td>1</td>\n      <td>0</td>\n      <td>...</td>\n      <td>0</td>\n      <td>0</td>\n      <td>0</td>\n      <td>1</td>\n      <td>1</td>\n      <td>0</td>\n      <td>1</td>\n      <td>0</td>\n      <td>1</td>\n      <td>0</td>\n    </tr>\n    <tr>\n      <th>16264</th>\n      <td>70</td>\n      <td>1</td>\n      <td>0</td>\n      <td>0</td>\n      <td>0</td>\n      <td>0</td>\n      <td>0</td>\n      <td>0</td>\n      <td>1</td>\n      <td>0</td>\n      <td>...</td>\n      <td>0</td>\n      <td>1</td>\n      <td>0</td>\n      <td>0</td>\n      <td>0</td>\n      <td>1</td>\n      <td>0</td>\n      <td>1</td>\n      <td>1</td>\n      <td>0</td>\n    </tr>\n    <tr>\n      <th>16354</th>\n      <td>65</td>\n      <td>1</td>\n      <td>0</td>\n      <td>0</td>\n      <td>0</td>\n      <td>0</td>\n      <td>0</td>\n      <td>0</td>\n      <td>0</td>\n      <td>1</td>\n      <td>...</td>\n      <td>0</td>\n      <td>1</td>\n      <td>0</td>\n      <td>0</td>\n      <td>0</td>\n      <td>1</td>\n      <td>0</td>\n      <td>1</td>\n      <td>1</td>\n      <td>0</td>\n    </tr>\n    <tr>\n      <th>16452</th>\n      <td>64</td>\n      <td>0</td>\n      <td>1</td>\n      <td>0</td>\n      <td>0</td>\n      <td>0</td>\n      <td>0</td>\n      <td>0</td>\n      <td>0</td>\n      <td>0</td>\n      <td>...</td>\n      <td>0</td>\n      <td>0</td>\n      <td>0</td>\n      <td>1</td>\n      <td>1</td>\n      <td>0</td>\n      <td>1</td>\n      <td>0</td>\n      <td>1</td>\n      <td>0</td>\n    </tr>\n    <tr>\n      <th>16536</th>\n      <td>55</td>\n      <td>1</td>\n      <td>0</td>\n      <td>0</td>\n      <td>0</td>\n      <td>0</td>\n      <td>0</td>\n      <td>0</td>\n      <td>0</td>\n      <td>1</td>\n      <td>...</td>\n      <td>0</td>\n      <td>1</td>\n      <td>0</td>\n      <td>0</td>\n      <td>0</td>\n      <td>1</td>\n      <td>0</td>\n      <td>1</td>\n      <td>1</td>\n      <td>0</td>\n    </tr>\n  </tbody>\n</table>\n<p>208247 rows × 42 columns</p>\n</div>"
     },
     "metadata": {},
     "execution_count": 202
    }
   ],
   "source": [
    "features"
   ]
  },
  {
   "cell_type": "code",
   "execution_count": 203,
   "metadata": {},
   "outputs": [],
   "source": [
    "x_train, x_test, y_train, y_test = train_test_split(features, labels, test_size=0.2, random_state=1, stratify=labels)"
   ]
  },
  {
   "cell_type": "code",
   "execution_count": 204,
   "metadata": {},
   "outputs": [],
   "source": [
    "from imblearn.under_sampling import NearMiss\n",
    "\n",
    "nm3 = NearMiss(version=3)\n",
    "\n",
    "x_resample, y_resample = nm3.fit_resample(x_train, y_train)"
   ]
  },
  {
   "cell_type": "code",
   "execution_count": 205,
   "metadata": {},
   "outputs": [],
   "source": [
    "# 数值标准化\n",
    "\n",
    "# features = preprocessing.StandardScaler().fit_transform(features)"
   ]
  },
  {
   "cell_type": "code",
   "execution_count": 206,
   "metadata": {},
   "outputs": [],
   "source": [
    "x_test['label'] = y_test\n"
   ]
  },
  {
   "cell_type": "code",
   "execution_count": 207,
   "metadata": {},
   "outputs": [
    {
     "output_type": "execute_result",
     "data": {
      "text/plain": [
       "        Age  Stage_IA  Stage_IIA  Stage_IIB  Stage_IIIA  Stage_IIIB  \\\n",
       "12310    81         0          0          1           0           0   \n",
       "7072     59         1          0          0           0           0   \n",
       "2404     87         1          0          0           0           0   \n",
       "5672     63         1          0          0           0           0   \n",
       "3058     74         1          0          0           0           0   \n",
       "...     ...       ...        ...        ...         ...         ...   \n",
       "55909    79         1          0          0           0           0   \n",
       "256293   62         1          0          0           0           0   \n",
       "12293    63         0          1          0           0           0   \n",
       "256062   58         0          0          1           0           0   \n",
       "230720   70         1          0          0           0           0   \n",
       "\n",
       "        Stage_IIIC  T_T1a  T_T1b  T_T1c  ...  Subtype_HR+/HER2- (Luminal A)  \\\n",
       "12310            0      0      0      0  ...                              0   \n",
       "7072             0      0      0      1  ...                              1   \n",
       "2404             0      0      0      1  ...                              1   \n",
       "5672             0      0      0      1  ...                              1   \n",
       "3058             0      0      0      1  ...                              1   \n",
       "...            ...    ...    ...    ...  ...                            ...   \n",
       "55909            0      0      0      1  ...                              1   \n",
       "256293           0      0      0      1  ...                              1   \n",
       "12293            0      0      0      0  ...                              1   \n",
       "256062           0      0      0      0  ...                              1   \n",
       "230720           0      0      0      1  ...                              0   \n",
       "\n",
       "        Subtype_HR-/HER2+ (HER2 enriched)  \\\n",
       "12310                                   1   \n",
       "7072                                    0   \n",
       "2404                                    0   \n",
       "5672                                    0   \n",
       "3058                                    0   \n",
       "...                                   ...   \n",
       "55909                                   0   \n",
       "256293                                  0   \n",
       "12293                                   0   \n",
       "256062                                  0   \n",
       "230720                                  0   \n",
       "\n",
       "        Subtype_HR-/HER2- (Triple Negative)  ER_Negative  ER_Positive  \\\n",
       "12310                                     0            1            0   \n",
       "7072                                      0            0            1   \n",
       "2404                                      0            0            1   \n",
       "5672                                      0            0            1   \n",
       "3058                                      0            0            1   \n",
       "...                                     ...          ...          ...   \n",
       "55909                                     0            0            1   \n",
       "256293                                    0            0            1   \n",
       "12293                                     0            0            1   \n",
       "256062                                    0            0            1   \n",
       "230720                                    1            1            0   \n",
       "\n",
       "        PR_Negative  PR_Positive  HER2_Negative  HER2_Positive  label  \n",
       "12310             1            0              0              1      1  \n",
       "7072              0            1              1              0      1  \n",
       "2404              0            1              1              0      1  \n",
       "5672              0            1              1              0      1  \n",
       "3058              0            1              1              0      1  \n",
       "...             ...          ...            ...            ...    ...  \n",
       "55909             0            1              1              0      0  \n",
       "256293            0            1              1              0      0  \n",
       "12293             0            1              1              0      0  \n",
       "256062            1            0              1              0      0  \n",
       "230720            1            0              1              0      0  \n",
       "\n",
       "[1000 rows x 43 columns]"
      ],
      "text/html": "<div>\n<style scoped>\n    .dataframe tbody tr th:only-of-type {\n        vertical-align: middle;\n    }\n\n    .dataframe tbody tr th {\n        vertical-align: top;\n    }\n\n    .dataframe thead th {\n        text-align: right;\n    }\n</style>\n<table border=\"1\" class=\"dataframe\">\n  <thead>\n    <tr style=\"text-align: right;\">\n      <th></th>\n      <th>Age</th>\n      <th>Stage_IA</th>\n      <th>Stage_IIA</th>\n      <th>Stage_IIB</th>\n      <th>Stage_IIIA</th>\n      <th>Stage_IIIB</th>\n      <th>Stage_IIIC</th>\n      <th>T_T1a</th>\n      <th>T_T1b</th>\n      <th>T_T1c</th>\n      <th>...</th>\n      <th>Subtype_HR+/HER2- (Luminal A)</th>\n      <th>Subtype_HR-/HER2+ (HER2 enriched)</th>\n      <th>Subtype_HR-/HER2- (Triple Negative)</th>\n      <th>ER_Negative</th>\n      <th>ER_Positive</th>\n      <th>PR_Negative</th>\n      <th>PR_Positive</th>\n      <th>HER2_Negative</th>\n      <th>HER2_Positive</th>\n      <th>label</th>\n    </tr>\n  </thead>\n  <tbody>\n    <tr>\n      <th>12310</th>\n      <td>81</td>\n      <td>0</td>\n      <td>0</td>\n      <td>1</td>\n      <td>0</td>\n      <td>0</td>\n      <td>0</td>\n      <td>0</td>\n      <td>0</td>\n      <td>0</td>\n      <td>...</td>\n      <td>0</td>\n      <td>1</td>\n      <td>0</td>\n      <td>1</td>\n      <td>0</td>\n      <td>1</td>\n      <td>0</td>\n      <td>0</td>\n      <td>1</td>\n      <td>1</td>\n    </tr>\n    <tr>\n      <th>7072</th>\n      <td>59</td>\n      <td>1</td>\n      <td>0</td>\n      <td>0</td>\n      <td>0</td>\n      <td>0</td>\n      <td>0</td>\n      <td>0</td>\n      <td>0</td>\n      <td>1</td>\n      <td>...</td>\n      <td>1</td>\n      <td>0</td>\n      <td>0</td>\n      <td>0</td>\n      <td>1</td>\n      <td>0</td>\n      <td>1</td>\n      <td>1</td>\n      <td>0</td>\n      <td>1</td>\n    </tr>\n    <tr>\n      <th>2404</th>\n      <td>87</td>\n      <td>1</td>\n      <td>0</td>\n      <td>0</td>\n      <td>0</td>\n      <td>0</td>\n      <td>0</td>\n      <td>0</td>\n      <td>0</td>\n      <td>1</td>\n      <td>...</td>\n      <td>1</td>\n      <td>0</td>\n      <td>0</td>\n      <td>0</td>\n      <td>1</td>\n      <td>0</td>\n      <td>1</td>\n      <td>1</td>\n      <td>0</td>\n      <td>1</td>\n    </tr>\n    <tr>\n      <th>5672</th>\n      <td>63</td>\n      <td>1</td>\n      <td>0</td>\n      <td>0</td>\n      <td>0</td>\n      <td>0</td>\n      <td>0</td>\n      <td>0</td>\n      <td>0</td>\n      <td>1</td>\n      <td>...</td>\n      <td>1</td>\n      <td>0</td>\n      <td>0</td>\n      <td>0</td>\n      <td>1</td>\n      <td>0</td>\n      <td>1</td>\n      <td>1</td>\n      <td>0</td>\n      <td>1</td>\n    </tr>\n    <tr>\n      <th>3058</th>\n      <td>74</td>\n      <td>1</td>\n      <td>0</td>\n      <td>0</td>\n      <td>0</td>\n      <td>0</td>\n      <td>0</td>\n      <td>0</td>\n      <td>0</td>\n      <td>1</td>\n      <td>...</td>\n      <td>1</td>\n      <td>0</td>\n      <td>0</td>\n      <td>0</td>\n      <td>1</td>\n      <td>0</td>\n      <td>1</td>\n      <td>1</td>\n      <td>0</td>\n      <td>1</td>\n    </tr>\n    <tr>\n      <th>...</th>\n      <td>...</td>\n      <td>...</td>\n      <td>...</td>\n      <td>...</td>\n      <td>...</td>\n      <td>...</td>\n      <td>...</td>\n      <td>...</td>\n      <td>...</td>\n      <td>...</td>\n      <td>...</td>\n      <td>...</td>\n      <td>...</td>\n      <td>...</td>\n      <td>...</td>\n      <td>...</td>\n      <td>...</td>\n      <td>...</td>\n      <td>...</td>\n      <td>...</td>\n      <td>...</td>\n    </tr>\n    <tr>\n      <th>55909</th>\n      <td>79</td>\n      <td>1</td>\n      <td>0</td>\n      <td>0</td>\n      <td>0</td>\n      <td>0</td>\n      <td>0</td>\n      <td>0</td>\n      <td>0</td>\n      <td>1</td>\n      <td>...</td>\n      <td>1</td>\n      <td>0</td>\n      <td>0</td>\n      <td>0</td>\n      <td>1</td>\n      <td>0</td>\n      <td>1</td>\n      <td>1</td>\n      <td>0</td>\n      <td>0</td>\n    </tr>\n    <tr>\n      <th>256293</th>\n      <td>62</td>\n      <td>1</td>\n      <td>0</td>\n      <td>0</td>\n      <td>0</td>\n      <td>0</td>\n      <td>0</td>\n      <td>0</td>\n      <td>0</td>\n      <td>1</td>\n      <td>...</td>\n      <td>1</td>\n      <td>0</td>\n      <td>0</td>\n      <td>0</td>\n      <td>1</td>\n      <td>0</td>\n      <td>1</td>\n      <td>1</td>\n      <td>0</td>\n      <td>0</td>\n    </tr>\n    <tr>\n      <th>12293</th>\n      <td>63</td>\n      <td>0</td>\n      <td>1</td>\n      <td>0</td>\n      <td>0</td>\n      <td>0</td>\n      <td>0</td>\n      <td>0</td>\n      <td>0</td>\n      <td>0</td>\n      <td>...</td>\n      <td>1</td>\n      <td>0</td>\n      <td>0</td>\n      <td>0</td>\n      <td>1</td>\n      <td>0</td>\n      <td>1</td>\n      <td>1</td>\n      <td>0</td>\n      <td>0</td>\n    </tr>\n    <tr>\n      <th>256062</th>\n      <td>58</td>\n      <td>0</td>\n      <td>0</td>\n      <td>1</td>\n      <td>0</td>\n      <td>0</td>\n      <td>0</td>\n      <td>0</td>\n      <td>0</td>\n      <td>0</td>\n      <td>...</td>\n      <td>1</td>\n      <td>0</td>\n      <td>0</td>\n      <td>0</td>\n      <td>1</td>\n      <td>1</td>\n      <td>0</td>\n      <td>1</td>\n      <td>0</td>\n      <td>0</td>\n    </tr>\n    <tr>\n      <th>230720</th>\n      <td>70</td>\n      <td>1</td>\n      <td>0</td>\n      <td>0</td>\n      <td>0</td>\n      <td>0</td>\n      <td>0</td>\n      <td>0</td>\n      <td>0</td>\n      <td>1</td>\n      <td>...</td>\n      <td>0</td>\n      <td>0</td>\n      <td>1</td>\n      <td>1</td>\n      <td>0</td>\n      <td>1</td>\n      <td>0</td>\n      <td>1</td>\n      <td>0</td>\n      <td>0</td>\n    </tr>\n  </tbody>\n</table>\n<p>1000 rows × 43 columns</p>\n</div>"
     },
     "metadata": {},
     "execution_count": 207
    }
   ],
   "source": [
    "testframe = pd.DataFrame()\n",
    "testframe = testframe.append(x_test[x_test['label']==1].sample(n=500, random_state=2))\n",
    "testframe = testframe.append(x_test[x_test['label']==0].sample(n=500, random_state=2))\n",
    "testframe"
   ]
  },
  {
   "cell_type": "code",
   "execution_count": 208,
   "metadata": {},
   "outputs": [],
   "source": [
    "y_test = testframe['label']\n",
    "x_test = testframe.drop(columns='label')"
   ]
  },
  {
   "cell_type": "code",
   "execution_count": 209,
   "metadata": {},
   "outputs": [
    {
     "output_type": "execute_result",
     "data": {
      "text/plain": [
       "True"
      ]
     },
     "metadata": {},
     "execution_count": 209
    }
   ],
   "source": [
    "torch.cuda.is_available()"
   ]
  },
  {
   "cell_type": "code",
   "execution_count": 210,
   "metadata": {},
   "outputs": [],
   "source": [
    "# 指定 x, y\n",
    "\n",
    "x_train = torch.from_numpy(np.array(x_resample)).float().cuda()\n",
    "y_train = torch.from_numpy(np.array(y_resample)).cuda()"
   ]
  },
  {
   "cell_type": "code",
   "execution_count": 211,
   "metadata": {},
   "outputs": [],
   "source": [
    "# 构建网络\n",
    "\n",
    "net = torch.nn.Sequential(\n",
    "    torch.nn.Linear(x_train.shape[1], 200),\n",
    "    torch.nn.Sigmoid(),\n",
    "    torch.nn.Linear(200, 2)\n",
    ")\n",
    "\n",
    "optimizer = torch.optim.SGD(net.parameters(), lr=0.5)\n",
    "loss_func = torch.nn.CrossEntropyLoss()"
   ]
  },
  {
   "cell_type": "code",
   "execution_count": 212,
   "metadata": {},
   "outputs": [],
   "source": [
    "net = net.cuda()"
   ]
  },
  {
   "cell_type": "code",
   "execution_count": 213,
   "metadata": {},
   "outputs": [
    {
     "output_type": "execute_result",
     "data": {
      "text/plain": [
       "torch.Size([7262, 42])"
      ]
     },
     "metadata": {},
     "execution_count": 213
    }
   ],
   "source": [
    "x_train.shape"
   ]
  },
  {
   "cell_type": "code",
   "execution_count": 214,
   "metadata": {},
   "outputs": [
    {
     "output_type": "execute_result",
     "data": {
      "text/plain": [
       "torch.Size([7262])"
      ]
     },
     "metadata": {},
     "execution_count": 214
    }
   ],
   "source": [
    "y_train.shape"
   ]
  },
  {
   "cell_type": "code",
   "execution_count": 215,
   "metadata": {
    "tags": []
   },
   "outputs": [
    {
     "output_type": "stream",
     "name": "stdout",
     "text": [
      "0 tensor(0.7190, device='cuda:0', grad_fn=<NllLossBackward>)\n",
      "500 tensor(0.6908, device='cuda:0', grad_fn=<NllLossBackward>)\n",
      "1000 tensor(0.6826, device='cuda:0', grad_fn=<NllLossBackward>)\n",
      "1500 tensor(0.6815, device='cuda:0', grad_fn=<NllLossBackward>)\n",
      "2000 tensor(0.6867, device='cuda:0', grad_fn=<NllLossBackward>)\n",
      "2500 tensor(0.6891, device='cuda:0', grad_fn=<NllLossBackward>)\n",
      "3000 tensor(0.7924, device='cuda:0', grad_fn=<NllLossBackward>)\n",
      "3500 tensor(0.7126, device='cuda:0', grad_fn=<NllLossBackward>)\n",
      "4000 tensor(0.6965, device='cuda:0', grad_fn=<NllLossBackward>)\n",
      "4500 tensor(0.7004, device='cuda:0', grad_fn=<NllLossBackward>)\n",
      "5000 tensor(0.7694, device='cuda:0', grad_fn=<NllLossBackward>)\n",
      "5500 tensor(0.8434, device='cuda:0', grad_fn=<NllLossBackward>)\n",
      "6000 tensor(0.7538, device='cuda:0', grad_fn=<NllLossBackward>)\n",
      "6500 tensor(0.7572, device='cuda:0', grad_fn=<NllLossBackward>)\n",
      "7000 tensor(0.7624, device='cuda:0', grad_fn=<NllLossBackward>)\n",
      "7500 tensor(0.6907, device='cuda:0', grad_fn=<NllLossBackward>)\n",
      "8000 tensor(0.7321, device='cuda:0', grad_fn=<NllLossBackward>)\n",
      "8500 tensor(0.7522, device='cuda:0', grad_fn=<NllLossBackward>)\n",
      "9000 tensor(0.7100, device='cuda:0', grad_fn=<NllLossBackward>)\n",
      "9500 tensor(0.7054, device='cuda:0', grad_fn=<NllLossBackward>)\n"
     ]
    }
   ],
   "source": [
    "for t in range(10000):\n",
    "    prediction = net(x_train)\n",
    "    loss = loss_func(prediction, y_train)\n",
    "\n",
    "    if t%500==0:\n",
    "        print(t, loss)\n",
    "\n",
    "    optimizer.zero_grad()\n",
    "    loss.backward()\n",
    "    optimizer.step()"
   ]
  },
  {
   "cell_type": "code",
   "execution_count": 216,
   "metadata": {},
   "outputs": [
    {
     "output_type": "execute_result",
     "data": {
      "text/plain": [
       "array([[500,   0],\n",
       "       [500,   0]], dtype=int64)"
      ]
     },
     "metadata": {},
     "execution_count": 216
    }
   ],
   "source": [
    "y_predict = torch.max(torch.nn.functional.softmax(net(torch.from_numpy(np.array(x_test)).float().cuda())),1)[1]\n",
    "matrix = confusion_matrix(y_test, y_predict.cpu())\n",
    "matrix"
   ]
  },
  {
   "cell_type": "code",
   "execution_count": 217,
   "metadata": {
    "tags": []
   },
   "outputs": [
    {
     "output_type": "stream",
     "name": "stdout",
     "text": [
      "              precision    recall  f1-score   support\n\n           0       0.50      1.00      0.67       500\n           1       0.00      0.00      0.00       500\n\n    accuracy                           0.50      1000\n   macro avg       0.25      0.50      0.33      1000\nweighted avg       0.25      0.50      0.33      1000\n\n"
     ]
    }
   ],
   "source": [
    "classification_report = metrics.classification_report(y_test, y_predict.cpu())\n",
    "print(classification_report)"
   ]
  },
  {
   "cell_type": "code",
   "execution_count": 218,
   "metadata": {},
   "outputs": [],
   "source": [
    "# from pycaret.classification import *"
   ]
  },
  {
   "cell_type": "code",
   "execution_count": 219,
   "metadata": {},
   "outputs": [],
   "source": [
    "# # mldata = pd.DataFrame()\n",
    "# mldata = mldata.append(data[data['label']==0])\n",
    "# mldata = mldata.append(data[data['label']==1])"
   ]
  },
  {
   "cell_type": "code",
   "execution_count": 220,
   "metadata": {
    "tags": []
   },
   "outputs": [],
   "source": [
    "# clf = setup(mldata, target='label')"
   ]
  },
  {
   "cell_type": "code",
   "execution_count": 221,
   "metadata": {},
   "outputs": [],
   "source": [
    "# best_model = compare_models()"
   ]
  },
  {
   "cell_type": "code",
   "execution_count": null,
   "metadata": {},
   "outputs": [],
   "source": []
  }
 ]
}