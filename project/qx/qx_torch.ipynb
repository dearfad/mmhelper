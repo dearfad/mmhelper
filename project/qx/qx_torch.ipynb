{
 "metadata": {
  "language_info": {
   "codemirror_mode": {
    "name": "ipython",
    "version": 3
   },
   "file_extension": ".py",
   "mimetype": "text/x-python",
   "name": "python",
   "nbconvert_exporter": "python",
   "pygments_lexer": "ipython3",
   "version": "3.8.5-final"
  },
  "orig_nbformat": 2,
  "kernelspec": {
   "name": "Python 3.8.5 64-bit",
   "display_name": "Python 3.8.5 64-bit",
   "metadata": {
    "interpreter": {
     "hash": "6b881b2749935116588268fee9d7176cbb8d0c7eeface6b1ec191983ac516378"
    }
   }
  }
 },
 "nbformat": 4,
 "nbformat_minor": 2,
 "cells": [
  {
   "cell_type": "code",
   "execution_count": 224,
   "metadata": {},
   "outputs": [],
   "source": [
    "import torch\n",
    "import numpy as np\n",
    "import pandas as pd\n",
    "from sklearn import preprocessing"
   ]
  },
  {
   "cell_type": "code",
   "execution_count": 225,
   "metadata": {},
   "outputs": [],
   "source": [
    "spdata = pd.read_pickle('SP.pkl')\n",
    "mpdata = pd.read_pickle('MP.pkl')"
   ]
  },
  {
   "cell_type": "code",
   "execution_count": 226,
   "metadata": {},
   "outputs": [],
   "source": [
    "# 指定标签\n",
    "\n",
    "spdata['label'] = 0\n",
    "mpdata['label'] = 1"
   ]
  },
  {
   "cell_type": "code",
   "execution_count": 227,
   "metadata": {},
   "outputs": [],
   "source": [
    "# 提取共有特征\n",
    "\n",
    "intersection_columns = list(set(spdata.columns).intersection(set(mpdata.columns)))"
   ]
  },
  {
   "cell_type": "code",
   "execution_count": 228,
   "metadata": {},
   "outputs": [],
   "source": [
    "# 合并单双原发癌表\n",
    "\n",
    "mixdata = pd.DataFrame()\n",
    "mixdata = mixdata.append(spdata[intersection_columns].sample(n=8288, random_state=1))\n",
    "mixdata = mixdata.append(mpdata[mpdata['Record number recode']==1][intersection_columns])"
   ]
  },
  {
   "cell_type": "code",
   "execution_count": 229,
   "metadata": {},
   "outputs": [
    {
     "output_type": "execute_result",
     "data": {
      "text/plain": "Index([&#39;Race recode (W, B, AI, API)&#39;, &#39;Age at diagnosis&#39;,\n       &#39;Radiation sequence with surgery&#39;, &#39;Derived AJCC N, 7th ed (2010-2015)&#39;,\n       &#39;Derived SEER Combined M (2016+)&#39;, &#39;Sequence number&#39;,\n       &#39;SEER Combined Mets at DX-liver (2010+)&#39;,\n       &#39;SEER Combined Mets at DX-bone (2010+)&#39;,\n       &#39;CS site-specific factor 7 (2004+ varying by schema)&#39;,\n       &#39;SEER Combined Mets at DX-lung (2010+)&#39;, &#39;Histologic Type ICD-O-3&#39;,\n       &#39;Derived AJCC Stage Group, 7th ed (2010-2015)&#39;,\n       &#39;Derived SEER Cmb Stg Grp (2016+)&#39;, &#39;Survival months&#39;, &#39;Grade&#39;, &#39;label&#39;,\n       &#39;ER Status Recode Breast Cancer (1990+)&#39;,\n       &#39;Derived SEER Combined T (2016+)&#39;,\n       &#39;SEER Combined Mets at DX-brain (2010+)&#39;, &#39;Radiation recode&#39;,\n       &#39;PR Status Recode Breast Cancer (1990+)&#39;, &#39;Breast Subtype (2010+)&#39;,\n       &#39;Patient ID&#39;, &#39;CS tumor size (2004-2015)&#39;, &#39;Tumor Size Summary (2016+)&#39;,\n       &#39;Site recode ICD-O-3/WHO 2008&#39;, &#39;Derived HER2 Recode (2010+)&#39;,\n       &#39;Laterality&#39;, &#39;RX Summ--Surg Prim Site (1998+)&#39;, &#39;Year of diagnosis&#39;,\n       &#39;Derived AJCC T, 7th ed (2010-2015)&#39;,\n       &#39;Derived AJCC M, 7th ed (2010-2015)&#39;, &#39;Primary Site - labeled&#39;,\n       &#39;Chemotherapy recode (yes, no/unk)&#39;, &#39;Marital status at diagnosis&#39;,\n       &#39;Derived SEER Combined N (2016+)&#39;, &#39;COD to site recode&#39;],\n      dtype=&#39;object&#39;)"
     },
     "metadata": {},
     "execution_count": 229
    }
   ],
   "source": [
    "mixdata.columns"
   ]
  },
  {
   "cell_type": "code",
   "execution_count": 239,
   "metadata": {},
   "outputs": [
    {
     "output_type": "execute_result",
     "data": {
      "text/plain": "163549    Moderately differentiated; Grade II\n86190        Poorly differentiated; Grade III\n76855            Well differentiated; Grade I\n255979       Poorly differentiated; Grade III\n155768    Moderately differentiated; Grade II\n                         ...                 \n16566        Poorly differentiated; Grade III\n16568            Well differentiated; Grade I\n16570            Well differentiated; Grade I\n16572     Moderately differentiated; Grade II\n16574                                 Unknown\nName: Grade, Length: 16576, dtype: object"
     },
     "metadata": {},
     "execution_count": 239
    }
   ],
   "source": [
    "mixdata['Grade']"
   ]
  },
  {
   "cell_type": "code",
   "execution_count": 247,
   "metadata": {
    "tags": []
   },
   "outputs": [],
   "source": [
    "# 指定标签及特征\n",
    "\n",
    "label = mixdata['label']\n",
    "features = mixdata[['Age at diagnosis', 'Breast Subtype (2010+)', 'Derived AJCC Stage Group, 7th ed (2010-2015)', 'Grade', 'ER Status Recode Breast Cancer (1990+)']]"
   ]
  },
  {
   "cell_type": "code",
   "execution_count": 248,
   "metadata": {},
   "outputs": [],
   "source": [
    "# One-Hot 编码分类数据\n",
    "\n",
    "features = pd.get_dummies(features)"
   ]
  },
  {
   "cell_type": "code",
   "execution_count": 249,
   "metadata": {},
   "outputs": [],
   "source": [
    "# 数值标准化\n",
    "\n",
    "features = preprocessing.StandardScaler().fit_transform(features)"
   ]
  },
  {
   "cell_type": "code",
   "execution_count": 250,
   "metadata": {},
   "outputs": [],
   "source": [
    "# 指定 x, y\n",
    "\n",
    "x = torch.from_numpy(features).float()\n",
    "y = torch.from_numpy(np.array(label))"
   ]
  },
  {
   "cell_type": "code",
   "execution_count": 251,
   "metadata": {},
   "outputs": [
    {
     "output_type": "execute_result",
     "data": {
      "text/plain": "torch.Size([16576, 27])"
     },
     "metadata": {},
     "execution_count": 251
    }
   ],
   "source": [
    "x.shape"
   ]
  },
  {
   "cell_type": "code",
   "execution_count": 256,
   "metadata": {},
   "outputs": [],
   "source": [
    "# 构建网络\n",
    "\n",
    "net = torch.nn.Sequential(\n",
    "    torch.nn.Linear(27, 50),\n",
    "    torch.nn.ReLU(),\n",
    "    torch.nn.Linear(50, 2)\n",
    ")\n",
    "\n",
    "optimizer = torch.optim.SGD(net.parameters(), lr=0.5)\n",
    "loss_func = torch.nn.CrossEntropyLoss()"
   ]
  },
  {
   "cell_type": "code",
   "execution_count": 257,
   "metadata": {
    "tags": []
   },
   "outputs": [
    {
     "output_type": "stream",
     "name": "stdout",
     "text": "0 tensor(0.7008, grad_fn=&lt;NllLossBackward&gt;)\n1 tensor(0.6890, grad_fn=&lt;NllLossBackward&gt;)\n2 tensor(0.6812, grad_fn=&lt;NllLossBackward&gt;)\n3 tensor(0.6748, grad_fn=&lt;NllLossBackward&gt;)\n4 tensor(0.6694, grad_fn=&lt;NllLossBackward&gt;)\n5 tensor(0.6648, grad_fn=&lt;NllLossBackward&gt;)\n6 tensor(0.6608, grad_fn=&lt;NllLossBackward&gt;)\n7 tensor(0.6574, grad_fn=&lt;NllLossBackward&gt;)\n8 tensor(0.6544, grad_fn=&lt;NllLossBackward&gt;)\n9 tensor(0.6518, grad_fn=&lt;NllLossBackward&gt;)\n10 tensor(0.6495, grad_fn=&lt;NllLossBackward&gt;)\n11 tensor(0.6476, grad_fn=&lt;NllLossBackward&gt;)\n12 tensor(0.6459, grad_fn=&lt;NllLossBackward&gt;)\n13 tensor(0.6445, grad_fn=&lt;NllLossBackward&gt;)\n14 tensor(0.6433, grad_fn=&lt;NllLossBackward&gt;)\n15 tensor(0.6422, grad_fn=&lt;NllLossBackward&gt;)\n16 tensor(0.6412, grad_fn=&lt;NllLossBackward&gt;)\n17 tensor(0.6404, grad_fn=&lt;NllLossBackward&gt;)\n18 tensor(0.6397, grad_fn=&lt;NllLossBackward&gt;)\n19 tensor(0.6391, grad_fn=&lt;NllLossBackward&gt;)\n20 tensor(0.6385, grad_fn=&lt;NllLossBackward&gt;)\n21 tensor(0.6381, grad_fn=&lt;NllLossBackward&gt;)\n22 tensor(0.6376, grad_fn=&lt;NllLossBackward&gt;)\n23 tensor(0.6373, grad_fn=&lt;NllLossBackward&gt;)\n24 tensor(0.6369, grad_fn=&lt;NllLossBackward&gt;)\n25 tensor(0.6366, grad_fn=&lt;NllLossBackward&gt;)\n26 tensor(0.6364, grad_fn=&lt;NllLossBackward&gt;)\n27 tensor(0.6361, grad_fn=&lt;NllLossBackward&gt;)\n28 tensor(0.6359, grad_fn=&lt;NllLossBackward&gt;)\n29 tensor(0.6357, grad_fn=&lt;NllLossBackward&gt;)\n30 tensor(0.6355, grad_fn=&lt;NllLossBackward&gt;)\n31 tensor(0.6354, grad_fn=&lt;NllLossBackward&gt;)\n32 tensor(0.6352, grad_fn=&lt;NllLossBackward&gt;)\n33 tensor(0.6351, grad_fn=&lt;NllLossBackward&gt;)\n34 tensor(0.6350, grad_fn=&lt;NllLossBackward&gt;)\n35 tensor(0.6349, grad_fn=&lt;NllLossBackward&gt;)\n36 tensor(0.6347, grad_fn=&lt;NllLossBackward&gt;)\n37 tensor(0.6346, grad_fn=&lt;NllLossBackward&gt;)\n38 tensor(0.6345, grad_fn=&lt;NllLossBackward&gt;)\n39 tensor(0.6345, grad_fn=&lt;NllLossBackward&gt;)\n40 tensor(0.6344, grad_fn=&lt;NllLossBackward&gt;)\n41 tensor(0.6343, grad_fn=&lt;NllLossBackward&gt;)\n42 tensor(0.6342, grad_fn=&lt;NllLossBackward&gt;)\n43 tensor(0.6341, grad_fn=&lt;NllLossBackward&gt;)\n44 tensor(0.6341, grad_fn=&lt;NllLossBackward&gt;)\n45 tensor(0.6340, grad_fn=&lt;NllLossBackward&gt;)\n46 tensor(0.6339, grad_fn=&lt;NllLossBackward&gt;)\n47 tensor(0.6339, grad_fn=&lt;NllLossBackward&gt;)\n48 tensor(0.6338, grad_fn=&lt;NllLossBackward&gt;)\n49 tensor(0.6337, grad_fn=&lt;NllLossBackward&gt;)\n50 tensor(0.6337, grad_fn=&lt;NllLossBackward&gt;)\n51 tensor(0.6336, grad_fn=&lt;NllLossBackward&gt;)\n52 tensor(0.6336, grad_fn=&lt;NllLossBackward&gt;)\n53 tensor(0.6335, grad_fn=&lt;NllLossBackward&gt;)\n54 tensor(0.6335, grad_fn=&lt;NllLossBackward&gt;)\n55 tensor(0.6334, grad_fn=&lt;NllLossBackward&gt;)\n56 tensor(0.6334, grad_fn=&lt;NllLossBackward&gt;)\n57 tensor(0.6333, grad_fn=&lt;NllLossBackward&gt;)\n58 tensor(0.6333, grad_fn=&lt;NllLossBackward&gt;)\n59 tensor(0.6333, grad_fn=&lt;NllLossBackward&gt;)\n60 tensor(0.6332, grad_fn=&lt;NllLossBackward&gt;)\n61 tensor(0.6332, grad_fn=&lt;NllLossBackward&gt;)\n62 tensor(0.6331, grad_fn=&lt;NllLossBackward&gt;)\n63 tensor(0.6331, grad_fn=&lt;NllLossBackward&gt;)\n64 tensor(0.6331, grad_fn=&lt;NllLossBackward&gt;)\n65 tensor(0.6330, grad_fn=&lt;NllLossBackward&gt;)\n66 tensor(0.6330, grad_fn=&lt;NllLossBackward&gt;)\n67 tensor(0.6329, grad_fn=&lt;NllLossBackward&gt;)\n68 tensor(0.6329, grad_fn=&lt;NllLossBackward&gt;)\n69 tensor(0.6329, grad_fn=&lt;NllLossBackward&gt;)\n70 tensor(0.6328, grad_fn=&lt;NllLossBackward&gt;)\n71 tensor(0.6328, grad_fn=&lt;NllLossBackward&gt;)\n72 tensor(0.6327, grad_fn=&lt;NllLossBackward&gt;)\n73 tensor(0.6327, grad_fn=&lt;NllLossBackward&gt;)\n74 tensor(0.6327, grad_fn=&lt;NllLossBackward&gt;)\n75 tensor(0.6326, grad_fn=&lt;NllLossBackward&gt;)\n76 tensor(0.6326, grad_fn=&lt;NllLossBackward&gt;)\n77 tensor(0.6326, grad_fn=&lt;NllLossBackward&gt;)\n78 tensor(0.6325, grad_fn=&lt;NllLossBackward&gt;)\n79 tensor(0.6325, grad_fn=&lt;NllLossBackward&gt;)\n80 tensor(0.6325, grad_fn=&lt;NllLossBackward&gt;)\n81 tensor(0.6324, grad_fn=&lt;NllLossBackward&gt;)\n82 tensor(0.6324, grad_fn=&lt;NllLossBackward&gt;)\n83 tensor(0.6324, grad_fn=&lt;NllLossBackward&gt;)\n84 tensor(0.6323, grad_fn=&lt;NllLossBackward&gt;)\n85 tensor(0.6323, grad_fn=&lt;NllLossBackward&gt;)\n86 tensor(0.6323, grad_fn=&lt;NllLossBackward&gt;)\n87 tensor(0.6323, grad_fn=&lt;NllLossBackward&gt;)\n88 tensor(0.6322, grad_fn=&lt;NllLossBackward&gt;)\n89 tensor(0.6322, grad_fn=&lt;NllLossBackward&gt;)\n90 tensor(0.6322, grad_fn=&lt;NllLossBackward&gt;)\n91 tensor(0.6322, grad_fn=&lt;NllLossBackward&gt;)\n92 tensor(0.6321, grad_fn=&lt;NllLossBackward&gt;)\n93 tensor(0.6321, grad_fn=&lt;NllLossBackward&gt;)\n94 tensor(0.6321, grad_fn=&lt;NllLossBackward&gt;)\n95 tensor(0.6320, grad_fn=&lt;NllLossBackward&gt;)\n96 tensor(0.6320, grad_fn=&lt;NllLossBackward&gt;)\n97 tensor(0.6320, grad_fn=&lt;NllLossBackward&gt;)\n98 tensor(0.6320, grad_fn=&lt;NllLossBackward&gt;)\n99 tensor(0.6319, grad_fn=&lt;NllLossBackward&gt;)\n"
    }
   ],
   "source": [
    "for t in range(100):\n",
    "    prediction = net(x)\n",
    "    loss = loss_func(prediction, y)\n",
    "\n",
    "    print(t, loss)\n",
    "\n",
    "    optimizer.zero_grad()\n",
    "    loss.backward()\n",
    "    optimizer.step()"
   ]
  },
  {
   "cell_type": "code",
   "execution_count": null,
   "metadata": {},
   "outputs": [],
   "source": []
  }
 ]
}