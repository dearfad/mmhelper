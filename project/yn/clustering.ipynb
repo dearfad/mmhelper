{
 "cells": [
  {
   "cell_type": "code",
   "execution_count": 1,
   "metadata": {},
   "outputs": [
    {
     "data": {
      "text/html": [
       "<div>\n",
       "<style scoped>\n",
       "    .dataframe tbody tr th:only-of-type {\n",
       "        vertical-align: middle;\n",
       "    }\n",
       "\n",
       "    .dataframe tbody tr th {\n",
       "        vertical-align: top;\n",
       "    }\n",
       "\n",
       "    .dataframe thead th {\n",
       "        text-align: right;\n",
       "    }\n",
       "</style>\n",
       "<table border=\"1\" class=\"dataframe\">\n",
       "  <thead>\n",
       "    <tr style=\"text-align: right;\">\n",
       "      <th></th>\n",
       "      <th>malignant</th>\n",
       "      <th>bilateral</th>\n",
       "      <th>age</th>\n",
       "      <th>month</th>\n",
       "      <th>height</th>\n",
       "      <th>weight</th>\n",
       "      <th>bmi</th>\n",
       "      <th>diabetes</th>\n",
       "      <th>hypertension</th>\n",
       "      <th>surgery</th>\n",
       "      <th>...</th>\n",
       "      <th>nummass</th>\n",
       "      <th>ussize</th>\n",
       "      <th>usposition</th>\n",
       "      <th>usdistance</th>\n",
       "      <th>usshape</th>\n",
       "      <th>usboundary</th>\n",
       "      <th>bloodflow</th>\n",
       "      <th>bloodflow2</th>\n",
       "      <th>calcification</th>\n",
       "      <th>birads</th>\n",
       "    </tr>\n",
       "  </thead>\n",
       "  <tbody>\n",
       "    <tr>\n",
       "      <th>0</th>\n",
       "      <td>1</td>\n",
       "      <td>0</td>\n",
       "      <td>32</td>\n",
       "      <td>18.00</td>\n",
       "      <td>167</td>\n",
       "      <td>78</td>\n",
       "      <td>28.0</td>\n",
       "      <td>0</td>\n",
       "      <td>0</td>\n",
       "      <td>0</td>\n",
       "      <td>...</td>\n",
       "      <td>1</td>\n",
       "      <td>3</td>\n",
       "      <td>2</td>\n",
       "      <td>1</td>\n",
       "      <td>2</td>\n",
       "      <td>1</td>\n",
       "      <td>1</td>\n",
       "      <td>1</td>\n",
       "      <td>0</td>\n",
       "      <td>1</td>\n",
       "    </tr>\n",
       "    <tr>\n",
       "      <th>1</th>\n",
       "      <td>1</td>\n",
       "      <td>1</td>\n",
       "      <td>42</td>\n",
       "      <td>7.00</td>\n",
       "      <td>156</td>\n",
       "      <td>57</td>\n",
       "      <td>23.4</td>\n",
       "      <td>0</td>\n",
       "      <td>1</td>\n",
       "      <td>1</td>\n",
       "      <td>...</td>\n",
       "      <td>2</td>\n",
       "      <td>1</td>\n",
       "      <td>1</td>\n",
       "      <td>1</td>\n",
       "      <td>1</td>\n",
       "      <td>1</td>\n",
       "      <td>1</td>\n",
       "      <td>1</td>\n",
       "      <td>0</td>\n",
       "      <td>1</td>\n",
       "    </tr>\n",
       "    <tr>\n",
       "      <th>2</th>\n",
       "      <td>1</td>\n",
       "      <td>0</td>\n",
       "      <td>61</td>\n",
       "      <td>0.75</td>\n",
       "      <td>163</td>\n",
       "      <td>65</td>\n",
       "      <td>24.5</td>\n",
       "      <td>0</td>\n",
       "      <td>0</td>\n",
       "      <td>0</td>\n",
       "      <td>...</td>\n",
       "      <td>2</td>\n",
       "      <td>3</td>\n",
       "      <td>1</td>\n",
       "      <td>1</td>\n",
       "      <td>2</td>\n",
       "      <td>2</td>\n",
       "      <td>2</td>\n",
       "      <td>3</td>\n",
       "      <td>0</td>\n",
       "      <td>2</td>\n",
       "    </tr>\n",
       "    <tr>\n",
       "      <th>3</th>\n",
       "      <td>1</td>\n",
       "      <td>0</td>\n",
       "      <td>39</td>\n",
       "      <td>6.00</td>\n",
       "      <td>160</td>\n",
       "      <td>65</td>\n",
       "      <td>25.4</td>\n",
       "      <td>0</td>\n",
       "      <td>0</td>\n",
       "      <td>0</td>\n",
       "      <td>...</td>\n",
       "      <td>0</td>\n",
       "      <td>0</td>\n",
       "      <td>0</td>\n",
       "      <td>0</td>\n",
       "      <td>0</td>\n",
       "      <td>0</td>\n",
       "      <td>0</td>\n",
       "      <td>0</td>\n",
       "      <td>0</td>\n",
       "      <td>1</td>\n",
       "    </tr>\n",
       "    <tr>\n",
       "      <th>4</th>\n",
       "      <td>1</td>\n",
       "      <td>0</td>\n",
       "      <td>69</td>\n",
       "      <td>0.50</td>\n",
       "      <td>156</td>\n",
       "      <td>67</td>\n",
       "      <td>27.5</td>\n",
       "      <td>1</td>\n",
       "      <td>1</td>\n",
       "      <td>0</td>\n",
       "      <td>...</td>\n",
       "      <td>2</td>\n",
       "      <td>1</td>\n",
       "      <td>5</td>\n",
       "      <td>1</td>\n",
       "      <td>1</td>\n",
       "      <td>1</td>\n",
       "      <td>1</td>\n",
       "      <td>1</td>\n",
       "      <td>0</td>\n",
       "      <td>2</td>\n",
       "    </tr>\n",
       "    <tr>\n",
       "      <th>...</th>\n",
       "      <td>...</td>\n",
       "      <td>...</td>\n",
       "      <td>...</td>\n",
       "      <td>...</td>\n",
       "      <td>...</td>\n",
       "      <td>...</td>\n",
       "      <td>...</td>\n",
       "      <td>...</td>\n",
       "      <td>...</td>\n",
       "      <td>...</td>\n",
       "      <td>...</td>\n",
       "      <td>...</td>\n",
       "      <td>...</td>\n",
       "      <td>...</td>\n",
       "      <td>...</td>\n",
       "      <td>...</td>\n",
       "      <td>...</td>\n",
       "      <td>...</td>\n",
       "      <td>...</td>\n",
       "      <td>...</td>\n",
       "      <td>...</td>\n",
       "    </tr>\n",
       "    <tr>\n",
       "      <th>350</th>\n",
       "      <td>0</td>\n",
       "      <td>0</td>\n",
       "      <td>55</td>\n",
       "      <td>12.00</td>\n",
       "      <td>154</td>\n",
       "      <td>52</td>\n",
       "      <td>21.9</td>\n",
       "      <td>0</td>\n",
       "      <td>0</td>\n",
       "      <td>0</td>\n",
       "      <td>...</td>\n",
       "      <td>2</td>\n",
       "      <td>3</td>\n",
       "      <td>4</td>\n",
       "      <td>1</td>\n",
       "      <td>1</td>\n",
       "      <td>2</td>\n",
       "      <td>1</td>\n",
       "      <td>1</td>\n",
       "      <td>0</td>\n",
       "      <td>2</td>\n",
       "    </tr>\n",
       "    <tr>\n",
       "      <th>351</th>\n",
       "      <td>0</td>\n",
       "      <td>1</td>\n",
       "      <td>47</td>\n",
       "      <td>0.10</td>\n",
       "      <td>155</td>\n",
       "      <td>60</td>\n",
       "      <td>25.0</td>\n",
       "      <td>0</td>\n",
       "      <td>0</td>\n",
       "      <td>0</td>\n",
       "      <td>...</td>\n",
       "      <td>1</td>\n",
       "      <td>2</td>\n",
       "      <td>2</td>\n",
       "      <td>1</td>\n",
       "      <td>1</td>\n",
       "      <td>2</td>\n",
       "      <td>1</td>\n",
       "      <td>1</td>\n",
       "      <td>0</td>\n",
       "      <td>2</td>\n",
       "    </tr>\n",
       "    <tr>\n",
       "      <th>352</th>\n",
       "      <td>0</td>\n",
       "      <td>1</td>\n",
       "      <td>47</td>\n",
       "      <td>0.10</td>\n",
       "      <td>155</td>\n",
       "      <td>60</td>\n",
       "      <td>25.0</td>\n",
       "      <td>0</td>\n",
       "      <td>0</td>\n",
       "      <td>0</td>\n",
       "      <td>...</td>\n",
       "      <td>2</td>\n",
       "      <td>2</td>\n",
       "      <td>1</td>\n",
       "      <td>1</td>\n",
       "      <td>1</td>\n",
       "      <td>1</td>\n",
       "      <td>1</td>\n",
       "      <td>1</td>\n",
       "      <td>0</td>\n",
       "      <td>1</td>\n",
       "    </tr>\n",
       "    <tr>\n",
       "      <th>353</th>\n",
       "      <td>0</td>\n",
       "      <td>0</td>\n",
       "      <td>40</td>\n",
       "      <td>1.00</td>\n",
       "      <td>163</td>\n",
       "      <td>60</td>\n",
       "      <td>22.6</td>\n",
       "      <td>0</td>\n",
       "      <td>0</td>\n",
       "      <td>0</td>\n",
       "      <td>...</td>\n",
       "      <td>2</td>\n",
       "      <td>1</td>\n",
       "      <td>5</td>\n",
       "      <td>1</td>\n",
       "      <td>1</td>\n",
       "      <td>1</td>\n",
       "      <td>1</td>\n",
       "      <td>1</td>\n",
       "      <td>0</td>\n",
       "      <td>1</td>\n",
       "    </tr>\n",
       "    <tr>\n",
       "      <th>354</th>\n",
       "      <td>0</td>\n",
       "      <td>0</td>\n",
       "      <td>54</td>\n",
       "      <td>1.00</td>\n",
       "      <td>162</td>\n",
       "      <td>75</td>\n",
       "      <td>28.6</td>\n",
       "      <td>0</td>\n",
       "      <td>0</td>\n",
       "      <td>0</td>\n",
       "      <td>...</td>\n",
       "      <td>1</td>\n",
       "      <td>2</td>\n",
       "      <td>2</td>\n",
       "      <td>1</td>\n",
       "      <td>1</td>\n",
       "      <td>1</td>\n",
       "      <td>1</td>\n",
       "      <td>1</td>\n",
       "      <td>0</td>\n",
       "      <td>1</td>\n",
       "    </tr>\n",
       "  </tbody>\n",
       "</table>\n",
       "<p>355 rows × 46 columns</p>\n",
       "</div>"
      ],
      "text/plain": [
       "     malignant  bilateral  age  month  height  weight   bmi  diabetes  \\\n",
       "0            1          0   32  18.00     167      78  28.0         0   \n",
       "1            1          1   42   7.00     156      57  23.4         0   \n",
       "2            1          0   61   0.75     163      65  24.5         0   \n",
       "3            1          0   39   6.00     160      65  25.4         0   \n",
       "4            1          0   69   0.50     156      67  27.5         1   \n",
       "..         ...        ...  ...    ...     ...     ...   ...       ...   \n",
       "350          0          0   55  12.00     154      52  21.9         0   \n",
       "351          0          1   47   0.10     155      60  25.0         0   \n",
       "352          0          1   47   0.10     155      60  25.0         0   \n",
       "353          0          0   40   1.00     163      60  22.6         0   \n",
       "354          0          0   54   1.00     162      75  28.6         0   \n",
       "\n",
       "     hypertension  surgery  ...  nummass  ussize  usposition  usdistance  \\\n",
       "0               0        0  ...        1       3           2           1   \n",
       "1               1        1  ...        2       1           1           1   \n",
       "2               0        0  ...        2       3           1           1   \n",
       "3               0        0  ...        0       0           0           0   \n",
       "4               1        0  ...        2       1           5           1   \n",
       "..            ...      ...  ...      ...     ...         ...         ...   \n",
       "350             0        0  ...        2       3           4           1   \n",
       "351             0        0  ...        1       2           2           1   \n",
       "352             0        0  ...        2       2           1           1   \n",
       "353             0        0  ...        2       1           5           1   \n",
       "354             0        0  ...        1       2           2           1   \n",
       "\n",
       "     usshape  usboundary  bloodflow  bloodflow2  calcification  birads  \n",
       "0          2           1          1           1              0       1  \n",
       "1          1           1          1           1              0       1  \n",
       "2          2           2          2           3              0       2  \n",
       "3          0           0          0           0              0       1  \n",
       "4          1           1          1           1              0       2  \n",
       "..       ...         ...        ...         ...            ...     ...  \n",
       "350        1           2          1           1              0       2  \n",
       "351        1           2          1           1              0       2  \n",
       "352        1           1          1           1              0       1  \n",
       "353        1           1          1           1              0       1  \n",
       "354        1           1          1           1              0       1  \n",
       "\n",
       "[355 rows x 46 columns]"
      ]
     },
     "execution_count": 1,
     "metadata": {},
     "output_type": "execute_result"
    }
   ],
   "source": [
    "import pandas as pd\n",
    "\n",
    "data = pd.read_csv(\"duct.csv\")\n",
    "\n",
    "data"
   ]
  },
  {
   "cell_type": "code",
   "execution_count": 2,
   "metadata": {},
   "outputs": [
    {
     "data": {
      "text/plain": [
       "(355, 46)"
      ]
     },
     "execution_count": 2,
     "metadata": {},
     "output_type": "execute_result"
    }
   ],
   "source": [
    "data.shape"
   ]
  },
  {
   "cell_type": "code",
   "execution_count": 3,
   "metadata": {},
   "outputs": [
    {
     "name": "stdout",
     "output_type": "stream",
     "text": [
      "\n",
      "Setup Succesfully Completed!\n"
     ]
    },
    {
     "data": {
      "text/html": [
       "<style  type=\"text/css\" >\n",
       "    #T_c7752d25_bb6e_11ea_a410_107b44a389e7row10_col1 {\n",
       "            background-color:  lightgreen;\n",
       "        }</style><table id=\"T_c7752d25_bb6e_11ea_a410_107b44a389e7\" ><thead>    <tr>        <th class=\"blank level0\" ></th>        <th class=\"col_heading level0 col0\" >Description</th>        <th class=\"col_heading level0 col1\" >Value</th>    </tr></thead><tbody>\n",
       "                <tr>\n",
       "                        <th id=\"T_c7752d25_bb6e_11ea_a410_107b44a389e7level0_row0\" class=\"row_heading level0 row0\" >0</th>\n",
       "                        <td id=\"T_c7752d25_bb6e_11ea_a410_107b44a389e7row0_col0\" class=\"data row0 col0\" >session_id </td>\n",
       "                        <td id=\"T_c7752d25_bb6e_11ea_a410_107b44a389e7row0_col1\" class=\"data row0 col1\" >4220</td>\n",
       "            </tr>\n",
       "            <tr>\n",
       "                        <th id=\"T_c7752d25_bb6e_11ea_a410_107b44a389e7level0_row1\" class=\"row_heading level0 row1\" >1</th>\n",
       "                        <td id=\"T_c7752d25_bb6e_11ea_a410_107b44a389e7row1_col0\" class=\"data row1 col0\" >Original Data </td>\n",
       "                        <td id=\"T_c7752d25_bb6e_11ea_a410_107b44a389e7row1_col1\" class=\"data row1 col1\" >(355, 46)</td>\n",
       "            </tr>\n",
       "            <tr>\n",
       "                        <th id=\"T_c7752d25_bb6e_11ea_a410_107b44a389e7level0_row2\" class=\"row_heading level0 row2\" >2</th>\n",
       "                        <td id=\"T_c7752d25_bb6e_11ea_a410_107b44a389e7row2_col0\" class=\"data row2 col0\" >Missing Values </td>\n",
       "                        <td id=\"T_c7752d25_bb6e_11ea_a410_107b44a389e7row2_col1\" class=\"data row2 col1\" >False</td>\n",
       "            </tr>\n",
       "            <tr>\n",
       "                        <th id=\"T_c7752d25_bb6e_11ea_a410_107b44a389e7level0_row3\" class=\"row_heading level0 row3\" >3</th>\n",
       "                        <td id=\"T_c7752d25_bb6e_11ea_a410_107b44a389e7row3_col0\" class=\"data row3 col0\" >Numeric Features </td>\n",
       "                        <td id=\"T_c7752d25_bb6e_11ea_a410_107b44a389e7row3_col1\" class=\"data row3 col1\" >5</td>\n",
       "            </tr>\n",
       "            <tr>\n",
       "                        <th id=\"T_c7752d25_bb6e_11ea_a410_107b44a389e7level0_row4\" class=\"row_heading level0 row4\" >4</th>\n",
       "                        <td id=\"T_c7752d25_bb6e_11ea_a410_107b44a389e7row4_col0\" class=\"data row4 col0\" >Categorical Features </td>\n",
       "                        <td id=\"T_c7752d25_bb6e_11ea_a410_107b44a389e7row4_col1\" class=\"data row4 col1\" >41</td>\n",
       "            </tr>\n",
       "            <tr>\n",
       "                        <th id=\"T_c7752d25_bb6e_11ea_a410_107b44a389e7level0_row5\" class=\"row_heading level0 row5\" >5</th>\n",
       "                        <td id=\"T_c7752d25_bb6e_11ea_a410_107b44a389e7row5_col0\" class=\"data row5 col0\" >Ordinal Features </td>\n",
       "                        <td id=\"T_c7752d25_bb6e_11ea_a410_107b44a389e7row5_col1\" class=\"data row5 col1\" >False</td>\n",
       "            </tr>\n",
       "            <tr>\n",
       "                        <th id=\"T_c7752d25_bb6e_11ea_a410_107b44a389e7level0_row6\" class=\"row_heading level0 row6\" >6</th>\n",
       "                        <td id=\"T_c7752d25_bb6e_11ea_a410_107b44a389e7row6_col0\" class=\"data row6 col0\" >High Cardinality Features </td>\n",
       "                        <td id=\"T_c7752d25_bb6e_11ea_a410_107b44a389e7row6_col1\" class=\"data row6 col1\" >False</td>\n",
       "            </tr>\n",
       "            <tr>\n",
       "                        <th id=\"T_c7752d25_bb6e_11ea_a410_107b44a389e7level0_row7\" class=\"row_heading level0 row7\" >7</th>\n",
       "                        <td id=\"T_c7752d25_bb6e_11ea_a410_107b44a389e7row7_col0\" class=\"data row7 col0\" >Transformed Data </td>\n",
       "                        <td id=\"T_c7752d25_bb6e_11ea_a410_107b44a389e7row7_col1\" class=\"data row7 col1\" >(355, 150)</td>\n",
       "            </tr>\n",
       "            <tr>\n",
       "                        <th id=\"T_c7752d25_bb6e_11ea_a410_107b44a389e7level0_row8\" class=\"row_heading level0 row8\" >8</th>\n",
       "                        <td id=\"T_c7752d25_bb6e_11ea_a410_107b44a389e7row8_col0\" class=\"data row8 col0\" >Numeric Imputer </td>\n",
       "                        <td id=\"T_c7752d25_bb6e_11ea_a410_107b44a389e7row8_col1\" class=\"data row8 col1\" >mean</td>\n",
       "            </tr>\n",
       "            <tr>\n",
       "                        <th id=\"T_c7752d25_bb6e_11ea_a410_107b44a389e7level0_row9\" class=\"row_heading level0 row9\" >9</th>\n",
       "                        <td id=\"T_c7752d25_bb6e_11ea_a410_107b44a389e7row9_col0\" class=\"data row9 col0\" >Categorical Imputer </td>\n",
       "                        <td id=\"T_c7752d25_bb6e_11ea_a410_107b44a389e7row9_col1\" class=\"data row9 col1\" >constant</td>\n",
       "            </tr>\n",
       "            <tr>\n",
       "                        <th id=\"T_c7752d25_bb6e_11ea_a410_107b44a389e7level0_row10\" class=\"row_heading level0 row10\" >10</th>\n",
       "                        <td id=\"T_c7752d25_bb6e_11ea_a410_107b44a389e7row10_col0\" class=\"data row10 col0\" >Normalize </td>\n",
       "                        <td id=\"T_c7752d25_bb6e_11ea_a410_107b44a389e7row10_col1\" class=\"data row10 col1\" >True</td>\n",
       "            </tr>\n",
       "            <tr>\n",
       "                        <th id=\"T_c7752d25_bb6e_11ea_a410_107b44a389e7level0_row11\" class=\"row_heading level0 row11\" >11</th>\n",
       "                        <td id=\"T_c7752d25_bb6e_11ea_a410_107b44a389e7row11_col0\" class=\"data row11 col0\" >Normalize Method </td>\n",
       "                        <td id=\"T_c7752d25_bb6e_11ea_a410_107b44a389e7row11_col1\" class=\"data row11 col1\" >zscore</td>\n",
       "            </tr>\n",
       "            <tr>\n",
       "                        <th id=\"T_c7752d25_bb6e_11ea_a410_107b44a389e7level0_row12\" class=\"row_heading level0 row12\" >12</th>\n",
       "                        <td id=\"T_c7752d25_bb6e_11ea_a410_107b44a389e7row12_col0\" class=\"data row12 col0\" >Transformation </td>\n",
       "                        <td id=\"T_c7752d25_bb6e_11ea_a410_107b44a389e7row12_col1\" class=\"data row12 col1\" >False</td>\n",
       "            </tr>\n",
       "            <tr>\n",
       "                        <th id=\"T_c7752d25_bb6e_11ea_a410_107b44a389e7level0_row13\" class=\"row_heading level0 row13\" >13</th>\n",
       "                        <td id=\"T_c7752d25_bb6e_11ea_a410_107b44a389e7row13_col0\" class=\"data row13 col0\" >Transformation Method </td>\n",
       "                        <td id=\"T_c7752d25_bb6e_11ea_a410_107b44a389e7row13_col1\" class=\"data row13 col1\" >None</td>\n",
       "            </tr>\n",
       "            <tr>\n",
       "                        <th id=\"T_c7752d25_bb6e_11ea_a410_107b44a389e7level0_row14\" class=\"row_heading level0 row14\" >14</th>\n",
       "                        <td id=\"T_c7752d25_bb6e_11ea_a410_107b44a389e7row14_col0\" class=\"data row14 col0\" >PCA </td>\n",
       "                        <td id=\"T_c7752d25_bb6e_11ea_a410_107b44a389e7row14_col1\" class=\"data row14 col1\" >False</td>\n",
       "            </tr>\n",
       "            <tr>\n",
       "                        <th id=\"T_c7752d25_bb6e_11ea_a410_107b44a389e7level0_row15\" class=\"row_heading level0 row15\" >15</th>\n",
       "                        <td id=\"T_c7752d25_bb6e_11ea_a410_107b44a389e7row15_col0\" class=\"data row15 col0\" >PCA Method </td>\n",
       "                        <td id=\"T_c7752d25_bb6e_11ea_a410_107b44a389e7row15_col1\" class=\"data row15 col1\" >None</td>\n",
       "            </tr>\n",
       "            <tr>\n",
       "                        <th id=\"T_c7752d25_bb6e_11ea_a410_107b44a389e7level0_row16\" class=\"row_heading level0 row16\" >16</th>\n",
       "                        <td id=\"T_c7752d25_bb6e_11ea_a410_107b44a389e7row16_col0\" class=\"data row16 col0\" >PCA components </td>\n",
       "                        <td id=\"T_c7752d25_bb6e_11ea_a410_107b44a389e7row16_col1\" class=\"data row16 col1\" >None</td>\n",
       "            </tr>\n",
       "            <tr>\n",
       "                        <th id=\"T_c7752d25_bb6e_11ea_a410_107b44a389e7level0_row17\" class=\"row_heading level0 row17\" >17</th>\n",
       "                        <td id=\"T_c7752d25_bb6e_11ea_a410_107b44a389e7row17_col0\" class=\"data row17 col0\" >Ignore Low Variance </td>\n",
       "                        <td id=\"T_c7752d25_bb6e_11ea_a410_107b44a389e7row17_col1\" class=\"data row17 col1\" >False</td>\n",
       "            </tr>\n",
       "            <tr>\n",
       "                        <th id=\"T_c7752d25_bb6e_11ea_a410_107b44a389e7level0_row18\" class=\"row_heading level0 row18\" >18</th>\n",
       "                        <td id=\"T_c7752d25_bb6e_11ea_a410_107b44a389e7row18_col0\" class=\"data row18 col0\" >Combine Rare Levels </td>\n",
       "                        <td id=\"T_c7752d25_bb6e_11ea_a410_107b44a389e7row18_col1\" class=\"data row18 col1\" >False</td>\n",
       "            </tr>\n",
       "            <tr>\n",
       "                        <th id=\"T_c7752d25_bb6e_11ea_a410_107b44a389e7level0_row19\" class=\"row_heading level0 row19\" >19</th>\n",
       "                        <td id=\"T_c7752d25_bb6e_11ea_a410_107b44a389e7row19_col0\" class=\"data row19 col0\" >Rare Level Threshold </td>\n",
       "                        <td id=\"T_c7752d25_bb6e_11ea_a410_107b44a389e7row19_col1\" class=\"data row19 col1\" >None</td>\n",
       "            </tr>\n",
       "            <tr>\n",
       "                        <th id=\"T_c7752d25_bb6e_11ea_a410_107b44a389e7level0_row20\" class=\"row_heading level0 row20\" >20</th>\n",
       "                        <td id=\"T_c7752d25_bb6e_11ea_a410_107b44a389e7row20_col0\" class=\"data row20 col0\" >Numeric Binning </td>\n",
       "                        <td id=\"T_c7752d25_bb6e_11ea_a410_107b44a389e7row20_col1\" class=\"data row20 col1\" >False</td>\n",
       "            </tr>\n",
       "            <tr>\n",
       "                        <th id=\"T_c7752d25_bb6e_11ea_a410_107b44a389e7level0_row21\" class=\"row_heading level0 row21\" >21</th>\n",
       "                        <td id=\"T_c7752d25_bb6e_11ea_a410_107b44a389e7row21_col0\" class=\"data row21 col0\" >Remove Multicollinearity </td>\n",
       "                        <td id=\"T_c7752d25_bb6e_11ea_a410_107b44a389e7row21_col1\" class=\"data row21 col1\" >False</td>\n",
       "            </tr>\n",
       "            <tr>\n",
       "                        <th id=\"T_c7752d25_bb6e_11ea_a410_107b44a389e7level0_row22\" class=\"row_heading level0 row22\" >22</th>\n",
       "                        <td id=\"T_c7752d25_bb6e_11ea_a410_107b44a389e7row22_col0\" class=\"data row22 col0\" >Multicollinearity Threshold </td>\n",
       "                        <td id=\"T_c7752d25_bb6e_11ea_a410_107b44a389e7row22_col1\" class=\"data row22 col1\" >None</td>\n",
       "            </tr>\n",
       "            <tr>\n",
       "                        <th id=\"T_c7752d25_bb6e_11ea_a410_107b44a389e7level0_row23\" class=\"row_heading level0 row23\" >23</th>\n",
       "                        <td id=\"T_c7752d25_bb6e_11ea_a410_107b44a389e7row23_col0\" class=\"data row23 col0\" >Group Features </td>\n",
       "                        <td id=\"T_c7752d25_bb6e_11ea_a410_107b44a389e7row23_col1\" class=\"data row23 col1\" >False</td>\n",
       "            </tr>\n",
       "    </tbody></table>"
      ],
      "text/plain": [
       "<pandas.io.formats.style.Styler at 0x1dcd305b640>"
      ]
     },
     "metadata": {},
     "output_type": "display_data"
    }
   ],
   "source": [
    "from pycaret.clustering import *\n",
    "exp_clu101 = setup(data, normalize = True)"
   ]
  },
  {
   "cell_type": "code",
   "execution_count": 16,
   "metadata": {},
   "outputs": [
    {
     "name": "stdout",
     "output_type": "stream",
     "text": [
      "KMeans(algorithm='auto', copy_x=True, init='k-means++', max_iter=300,\n",
      "       n_clusters=4, n_init=10, n_jobs=None, precompute_distances='auto',\n",
      "       random_state=4220, tol=0.0001, verbose=0)\n"
     ]
    }
   ],
   "source": [
    "kmeans = create_model('kmeans', num_clusters = 4)\n",
    "print(kmeans)"
   ]
  },
  {
   "cell_type": "code",
   "execution_count": 17,
   "metadata": {},
   "outputs": [
    {
     "data": {
      "text/html": [
       "<div>\n",
       "<style scoped>\n",
       "    .dataframe tbody tr th:only-of-type {\n",
       "        vertical-align: middle;\n",
       "    }\n",
       "\n",
       "    .dataframe tbody tr th {\n",
       "        vertical-align: top;\n",
       "    }\n",
       "\n",
       "    .dataframe thead th {\n",
       "        text-align: right;\n",
       "    }\n",
       "</style>\n",
       "<table border=\"1\" class=\"dataframe\">\n",
       "  <thead>\n",
       "    <tr style=\"text-align: right;\">\n",
       "      <th></th>\n",
       "      <th>malignant</th>\n",
       "      <th>bilateral</th>\n",
       "      <th>age</th>\n",
       "      <th>month</th>\n",
       "      <th>height</th>\n",
       "      <th>weight</th>\n",
       "      <th>bmi</th>\n",
       "      <th>diabetes</th>\n",
       "      <th>hypertension</th>\n",
       "      <th>surgery</th>\n",
       "      <th>...</th>\n",
       "      <th>ussize</th>\n",
       "      <th>usposition</th>\n",
       "      <th>usdistance</th>\n",
       "      <th>usshape</th>\n",
       "      <th>usboundary</th>\n",
       "      <th>bloodflow</th>\n",
       "      <th>bloodflow2</th>\n",
       "      <th>calcification</th>\n",
       "      <th>birads</th>\n",
       "      <th>Cluster</th>\n",
       "    </tr>\n",
       "  </thead>\n",
       "  <tbody>\n",
       "    <tr>\n",
       "      <th>0</th>\n",
       "      <td>1</td>\n",
       "      <td>0</td>\n",
       "      <td>32</td>\n",
       "      <td>18.00</td>\n",
       "      <td>167</td>\n",
       "      <td>78</td>\n",
       "      <td>28.0</td>\n",
       "      <td>0</td>\n",
       "      <td>0</td>\n",
       "      <td>0</td>\n",
       "      <td>...</td>\n",
       "      <td>3</td>\n",
       "      <td>2</td>\n",
       "      <td>1</td>\n",
       "      <td>2</td>\n",
       "      <td>1</td>\n",
       "      <td>1</td>\n",
       "      <td>1</td>\n",
       "      <td>0</td>\n",
       "      <td>1</td>\n",
       "      <td>Cluster 2</td>\n",
       "    </tr>\n",
       "    <tr>\n",
       "      <th>1</th>\n",
       "      <td>1</td>\n",
       "      <td>1</td>\n",
       "      <td>42</td>\n",
       "      <td>7.00</td>\n",
       "      <td>156</td>\n",
       "      <td>57</td>\n",
       "      <td>23.4</td>\n",
       "      <td>0</td>\n",
       "      <td>1</td>\n",
       "      <td>1</td>\n",
       "      <td>...</td>\n",
       "      <td>1</td>\n",
       "      <td>1</td>\n",
       "      <td>1</td>\n",
       "      <td>1</td>\n",
       "      <td>1</td>\n",
       "      <td>1</td>\n",
       "      <td>1</td>\n",
       "      <td>0</td>\n",
       "      <td>1</td>\n",
       "      <td>Cluster 3</td>\n",
       "    </tr>\n",
       "    <tr>\n",
       "      <th>2</th>\n",
       "      <td>1</td>\n",
       "      <td>0</td>\n",
       "      <td>61</td>\n",
       "      <td>0.75</td>\n",
       "      <td>163</td>\n",
       "      <td>65</td>\n",
       "      <td>24.5</td>\n",
       "      <td>0</td>\n",
       "      <td>0</td>\n",
       "      <td>0</td>\n",
       "      <td>...</td>\n",
       "      <td>3</td>\n",
       "      <td>1</td>\n",
       "      <td>1</td>\n",
       "      <td>2</td>\n",
       "      <td>2</td>\n",
       "      <td>2</td>\n",
       "      <td>3</td>\n",
       "      <td>0</td>\n",
       "      <td>2</td>\n",
       "      <td>Cluster 0</td>\n",
       "    </tr>\n",
       "    <tr>\n",
       "      <th>3</th>\n",
       "      <td>1</td>\n",
       "      <td>0</td>\n",
       "      <td>39</td>\n",
       "      <td>6.00</td>\n",
       "      <td>160</td>\n",
       "      <td>65</td>\n",
       "      <td>25.4</td>\n",
       "      <td>0</td>\n",
       "      <td>0</td>\n",
       "      <td>0</td>\n",
       "      <td>...</td>\n",
       "      <td>0</td>\n",
       "      <td>0</td>\n",
       "      <td>0</td>\n",
       "      <td>0</td>\n",
       "      <td>0</td>\n",
       "      <td>0</td>\n",
       "      <td>0</td>\n",
       "      <td>0</td>\n",
       "      <td>1</td>\n",
       "      <td>Cluster 1</td>\n",
       "    </tr>\n",
       "    <tr>\n",
       "      <th>4</th>\n",
       "      <td>1</td>\n",
       "      <td>0</td>\n",
       "      <td>69</td>\n",
       "      <td>0.50</td>\n",
       "      <td>156</td>\n",
       "      <td>67</td>\n",
       "      <td>27.5</td>\n",
       "      <td>1</td>\n",
       "      <td>1</td>\n",
       "      <td>0</td>\n",
       "      <td>...</td>\n",
       "      <td>1</td>\n",
       "      <td>5</td>\n",
       "      <td>1</td>\n",
       "      <td>1</td>\n",
       "      <td>1</td>\n",
       "      <td>1</td>\n",
       "      <td>1</td>\n",
       "      <td>0</td>\n",
       "      <td>2</td>\n",
       "      <td>Cluster 2</td>\n",
       "    </tr>\n",
       "  </tbody>\n",
       "</table>\n",
       "<p>5 rows × 47 columns</p>\n",
       "</div>"
      ],
      "text/plain": [
       "   malignant  bilateral  age  month  height  weight   bmi  diabetes  \\\n",
       "0          1          0   32  18.00     167      78  28.0         0   \n",
       "1          1          1   42   7.00     156      57  23.4         0   \n",
       "2          1          0   61   0.75     163      65  24.5         0   \n",
       "3          1          0   39   6.00     160      65  25.4         0   \n",
       "4          1          0   69   0.50     156      67  27.5         1   \n",
       "\n",
       "   hypertension  surgery  ...  ussize  usposition  usdistance  usshape  \\\n",
       "0             0        0  ...       3           2           1        2   \n",
       "1             1        1  ...       1           1           1        1   \n",
       "2             0        0  ...       3           1           1        2   \n",
       "3             0        0  ...       0           0           0        0   \n",
       "4             1        0  ...       1           5           1        1   \n",
       "\n",
       "   usboundary  bloodflow  bloodflow2  calcification  birads    Cluster  \n",
       "0           1          1           1              0       1  Cluster 2  \n",
       "1           1          1           1              0       1  Cluster 3  \n",
       "2           2          2           3              0       2  Cluster 0  \n",
       "3           0          0           0              0       1  Cluster 1  \n",
       "4           1          1           1              0       2  Cluster 2  \n",
       "\n",
       "[5 rows x 47 columns]"
      ]
     },
     "execution_count": 17,
     "metadata": {},
     "output_type": "execute_result"
    }
   ],
   "source": [
    "kmean_results = assign_model(kmeans)\n",
    "kmean_results.head()"
   ]
  },
  {
   "cell_type": "code",
   "execution_count": 18,
   "metadata": {},
   "outputs": [
    {
     "data": {
      "text/html": [
       "        <script type=\"text/javascript\">\n",
       "        window.PlotlyConfig = {MathJaxConfig: 'local'};\n",
       "        if (window.MathJax) {MathJax.Hub.Config({SVG: {font: \"STIX-Web\"}});}\n",
       "        if (typeof require !== 'undefined') {\n",
       "        require.undef(\"plotly\");\n",
       "        requirejs.config({\n",
       "            paths: {\n",
       "                'plotly': ['https://cdn.plot.ly/plotly-latest.min']\n",
       "            }\n",
       "        });\n",
       "        require(['plotly'], function(Plotly) {\n",
       "            window._Plotly = Plotly;\n",
       "        });\n",
       "        }\n",
       "        </script>\n",
       "        "
      ]
     },
     "metadata": {},
     "output_type": "display_data"
    },
    {
     "data": {
      "application/vnd.plotly.v1+json": {
       "config": {
        "plotlyServerURL": "https://plot.ly"
       },
       "data": [
        {
         "customdata": [
          [
           1
          ],
          [
           1
          ],
          [
           1
          ],
          [
           1
          ],
          [
           1
          ],
          [
           1
          ],
          [
           1
          ],
          [
           1
          ],
          [
           1
          ],
          [
           1
          ],
          [
           1
          ],
          [
           1
          ],
          [
           1
          ],
          [
           1
          ],
          [
           1
          ],
          [
           1
          ],
          [
           0
          ],
          [
           1
          ],
          [
           1
          ],
          [
           1
          ],
          [
           1
          ],
          [
           1
          ],
          [
           1
          ],
          [
           1
          ],
          [
           1
          ],
          [
           1
          ],
          [
           1
          ],
          [
           1
          ],
          [
           1
          ],
          [
           1
          ],
          [
           1
          ],
          [
           1
          ],
          [
           1
          ],
          [
           1
          ],
          [
           1
          ],
          [
           1
          ],
          [
           1
          ],
          [
           1
          ],
          [
           1
          ],
          [
           1
          ],
          [
           1
          ],
          [
           1
          ],
          [
           1
          ],
          [
           1
          ],
          [
           1
          ]
         ],
         "hoverlabel": {
          "namelength": 0
         },
         "hovertemplate": "Cluster=Cluster 0<br>PCA1=%{x}<br>PCA2=%{y}<br>Feature=%{customdata[0]}",
         "legendgroup": "Cluster=Cluster 0",
         "marker": {
          "color": "#636efa",
          "opacity": 0.5,
          "symbol": "circle"
         },
         "mode": "markers",
         "name": "Cluster=Cluster 0",
         "showlegend": true,
         "textposition": "top center",
         "type": "scatter",
         "x": [
          -2.2546181501367215,
          1.8136388746553682,
          -1.3392614276154244,
          -2.004963596686714,
          -1.9026055248546156,
          -1.3608509122026264,
          -1.8530508284319536,
          1.792767998909934,
          -0.9662133322052578,
          -2.286501919691732,
          -1.148664184601189,
          -2.0344603216652244,
          1.744339522534558,
          -2.1637570865531313,
          -1.8197805146711077,
          -1.5387203644258056,
          -1.6800237211289384,
          -1.6581117648372734,
          1.6255640185416944,
          1.8080162088973801,
          -1.5074501021463198,
          -1.2905836175156542,
          1.5126631893146094,
          -1.366759732815599,
          -1.818032830835002,
          -2.4539784797108166,
          -1.862771086790971,
          -0.8372244827821124,
          -2.28601038215345,
          1.864888098260405,
          -2.133469052977238,
          -2.0189233547121908,
          -1.7908923764130025,
          -2.5286228521444767,
          -2.178579283964143,
          -2.1814403347073927,
          -1.969857548078388,
          -1.6782830516646388,
          -2.2757049162057075,
          -1.874975244323894,
          -1.983043666545506,
          -2.0387407005141034,
          -1.691294980215223,
          1.562622658319724,
          1.6880470740007372
         ],
         "xaxis": "x",
         "y": [
          -1.3699963580651722,
          0.7394645815463619,
          2.0346990932080034,
          -0.1349744454255328,
          -1.1357962725713973,
          2.96402429608709,
          -1.3382932376234775,
          0.08876823795611241,
          0.609165970815355,
          -0.004497270996111709,
          3.971332017198186,
          -0.1331849256995289,
          0.21111851086803998,
          -1.5166662268843312,
          1.27712864415289,
          -0.4666819407684006,
          -0.008215867285235538,
          -0.3647062455640674,
          -0.7973543701923709,
          0.12735006552172376,
          0.2831729831982677,
          -1.0599873019058956,
          -0.8986175116140936,
          1.1642697381733786,
          -0.09706012397026638,
          -2.032542130725717,
          -0.303432555908287,
          1.2301071530660335,
          -0.15317734371386096,
          0.6754349650996803,
          -0.8533225639395244,
          0.40968605817381015,
          -0.07648297948905759,
          -2.017146977138902,
          -0.6288001310145633,
          -2.946019561220726,
          -0.5634294861298428,
          -2.3732279749275667,
          -0.43239820558731695,
          -0.3190769480596877,
          -0.9294922320270506,
          -1.0866688184823747,
          0.05805442985603561,
          -1.110138544763506,
          -0.3354999664901082
         ],
         "yaxis": "y"
        },
        {
         "customdata": [
          [
           1
          ],
          [
           1
          ],
          [
           1
          ],
          [
           1
          ],
          [
           1
          ],
          [
           1
          ],
          [
           1
          ],
          [
           1
          ],
          [
           1
          ],
          [
           1
          ],
          [
           1
          ],
          [
           1
          ],
          [
           1
          ],
          [
           1
          ],
          [
           1
          ],
          [
           1
          ],
          [
           1
          ],
          [
           1
          ],
          [
           1
          ],
          [
           1
          ],
          [
           1
          ],
          [
           1
          ],
          [
           1
          ],
          [
           1
          ],
          [
           1
          ],
          [
           1
          ],
          [
           1
          ],
          [
           1
          ],
          [
           1
          ],
          [
           1
          ],
          [
           1
          ],
          [
           1
          ],
          [
           1
          ],
          [
           1
          ],
          [
           1
          ],
          [
           1
          ],
          [
           1
          ],
          [
           1
          ],
          [
           0
          ],
          [
           0
          ],
          [
           1
          ],
          [
           1
          ],
          [
           1
          ],
          [
           1
          ],
          [
           0
          ],
          [
           1
          ],
          [
           1
          ],
          [
           1
          ],
          [
           1
          ],
          [
           1
          ],
          [
           1
          ],
          [
           0
          ],
          [
           0
          ],
          [
           0
          ],
          [
           0
          ],
          [
           0
          ],
          [
           0
          ],
          [
           0
          ],
          [
           0
          ],
          [
           0
          ],
          [
           0
          ],
          [
           0
          ],
          [
           0
          ],
          [
           0
          ],
          [
           0
          ],
          [
           0
          ],
          [
           0
          ],
          [
           0
          ],
          [
           0
          ],
          [
           0
          ],
          [
           0
          ],
          [
           0
          ],
          [
           0
          ],
          [
           0
          ],
          [
           0
          ],
          [
           0
          ],
          [
           0
          ],
          [
           0
          ],
          [
           0
          ],
          [
           0
          ],
          [
           0
          ],
          [
           0
          ],
          [
           0
          ],
          [
           0
          ],
          [
           0
          ],
          [
           0
          ],
          [
           0
          ],
          [
           0
          ],
          [
           0
          ]
         ],
         "hoverlabel": {
          "namelength": 0
         },
         "hovertemplate": "Cluster=Cluster 1<br>PCA1=%{x}<br>PCA2=%{y}<br>Feature=%{customdata[0]}",
         "legendgroup": "Cluster=Cluster 1",
         "marker": {
          "color": "#EF553B",
          "opacity": 0.5,
          "symbol": "circle"
         },
         "mode": "markers",
         "name": "Cluster=Cluster 1",
         "showlegend": true,
         "textposition": "top center",
         "type": "scatter",
         "x": [
          2.84476396927902,
          2.151489182205294,
          2.6121695138919776,
          3.2429309019081245,
          2.2811483872548446,
          1.8306998263281107,
          2.5083946369269663,
          2.627294901523313,
          2.582314526916546,
          2.6252993851979336,
          2.6599505099822256,
          3.092365692565429,
          3.045956830246319,
          3.0751049864958677,
          2.6303381174205978,
          2.472927484724149,
          2.7229443125182464,
          2.183945143345733,
          2.46670117425953,
          2.5924318376272666,
          2.7711189770835074,
          2.4517779350685807,
          2.960949278809465,
          2.273525794853254,
          2.3442889912827463,
          2.3986998996156284,
          2.2065506482169512,
          3.039335785427162,
          2.7203410912740815,
          2.4968650398638945,
          2.679480013386444,
          2.442880095188538,
          2.417290138966938,
          2.363737607213595,
          2.8145918067651414,
          2.2343462165218524,
          1.6598373767483714,
          2.427094963497764,
          2.6557485040759437,
          2.993710054029795,
          2.9091065696758434,
          2.33771429776732,
          2.3848093288733208,
          2.568657245691302,
          2.463983600197178,
          2.4082574620639154,
          2.4450013694646264,
          2.7165062622947667,
          2.403459845869579,
          2.714940162920425,
          2.7845129780726356,
          2.191478884108185,
          2.782029656481384,
          2.322651813944246,
          2.8378356528833826,
          2.2683967430165426,
          2.3916795201153747,
          2.8478941166606084,
          2.514581919567253,
          2.7987362374340043,
          2.8993677346473867,
          2.3654774584742695,
          2.636051740816088,
          2.6066747771701264,
          2.2109460345847416,
          2.491086430504949,
          2.83499884593947,
          2.9426569555190834,
          2.4282382284232638,
          2.3991098696645725,
          2.8346537171262782,
          3.0574464509256645,
          2.70248526578761,
          2.4587421568953847,
          2.8507213126643456,
          2.8662260785285483,
          2.202257193503134,
          2.875240724668047,
          2.9448988210419667,
          3.057985084828805,
          2.686671126335372,
          2.703848051706603,
          2.609426641133825,
          2.6386075582686517,
          2.464139926728408,
          2.618220568417259,
          2.7241025873353664,
          3.048865261661581,
          2.60532476318213
         ],
         "xaxis": "x",
         "y": [
          1.268545886898604,
          -2.489874836455784,
          -0.8499062911750556,
          1.9755118761397998,
          -2.429994375801247,
          -3.43089324152702,
          -0.6003776890130139,
          -0.7366778532538837,
          -0.29183022388152685,
          -0.41920154159624906,
          -0.5065345112214786,
          2.005138498345019,
          1.580588416650891,
          1.4338840222026057,
          -1.1990512216713762,
          -1.315860364629787,
          0.8952900330521211,
          -1.3160812756469915,
          -0.9843714462579792,
          -0.0616608897103511,
          -1.039249502254369,
          -1.265092237562996,
          2.8983489371541866,
          -2.1364126940910553,
          -1.8302389413544886,
          -2.400495420677099,
          -0.5637328742118869,
          0.7449338698407397,
          -0.9117959057307418,
          -1.4715248714721765,
          -0.5942275631801618,
          -1.8248158745746934,
          -2.000087819499514,
          -1.8091401812916756,
          0.6161005895318803,
          -2.5907274935124662,
          -2.4798152105657625,
          -0.9505313679329849,
          -1.458201647572824,
          1.805048561022529,
          0.6518908411986148,
          -2.0639504887796893,
          0.30191553294571816,
          -0.4345938956348458,
          -2.161362792683237,
          -0.8845870293485874,
          -0.6741787903236321,
          -0.5598366915138709,
          -1.6307570124628061,
          0.5692944463213462,
          -0.16841432441828424,
          -3.0632821023736856,
          0.514752665564361,
          -2.9979947384167946,
          0.32319195652006877,
          0.6715394736062186,
          0.705077123804046,
          0.7391982265641107,
          -1.5314380079369907,
          0.325466928538603,
          1.065925531262171,
          -1.9753352371939565,
          -0.3091566531887451,
          -0.28410185339131977,
          -0.9273485355207102,
          -0.7413882713733068,
          1.4314802127405237,
          1.3693175428168078,
          -0.9482557199179926,
          0.7756079969131777,
          0.3853573689093104,
          0.9431794105754323,
          0.9338741242191262,
          -0.7266132058681765,
          0.8951196491802249,
          0.6782347416850538,
          -2.9021653853509086,
          1.4135343517468886,
          0.5659215756813769,
          0.8563633424411436,
          -0.7046472357200693,
          -0.5140623301890866,
          -0.733853106339482,
          -0.31727549051747217,
          0.26052151919339417,
          -1.1518516115810327,
          -0.45050562024562235,
          1.220343574905375,
          -1.3381951587575924
         ],
         "yaxis": "y"
        },
        {
         "customdata": [
          [
           0
          ],
          [
           0
          ],
          [
           0
          ],
          [
           0
          ],
          [
           0
          ],
          [
           0
          ],
          [
           0
          ],
          [
           0
          ],
          [
           0
          ],
          [
           0
          ],
          [
           0
          ],
          [
           0
          ],
          [
           0
          ],
          [
           0
          ],
          [
           0
          ],
          [
           0
          ],
          [
           0
          ],
          [
           0
          ],
          [
           0
          ],
          [
           0
          ],
          [
           0
          ],
          [
           0
          ],
          [
           0
          ],
          [
           0
          ],
          [
           0
          ],
          [
           0
          ],
          [
           0
          ],
          [
           0
          ],
          [
           0
          ],
          [
           0
          ],
          [
           0
          ],
          [
           0
          ],
          [
           0
          ],
          [
           0
          ],
          [
           0
          ],
          [
           0
          ],
          [
           0
          ],
          [
           0
          ],
          [
           0
          ],
          [
           0
          ],
          [
           0
          ],
          [
           0
          ],
          [
           0
          ],
          [
           0
          ],
          [
           0
          ],
          [
           0
          ],
          [
           0
          ],
          [
           0
          ],
          [
           0
          ],
          [
           0
          ],
          [
           0
          ],
          [
           0
          ],
          [
           0
          ],
          [
           0
          ],
          [
           0
          ],
          [
           0
          ],
          [
           0
          ],
          [
           0
          ],
          [
           0
          ],
          [
           0
          ],
          [
           0
          ],
          [
           0
          ],
          [
           0
          ],
          [
           0
          ],
          [
           0
          ],
          [
           0
          ],
          [
           0
          ],
          [
           0
          ],
          [
           0
          ],
          [
           0
          ],
          [
           1
          ],
          [
           0
          ],
          [
           0
          ],
          [
           0
          ],
          [
           0
          ],
          [
           0
          ],
          [
           0
          ],
          [
           0
          ],
          [
           0
          ],
          [
           0
          ],
          [
           0
          ],
          [
           0
          ],
          [
           0
          ],
          [
           0
          ],
          [
           0
          ],
          [
           0
          ],
          [
           0
          ],
          [
           0
          ],
          [
           0
          ],
          [
           0
          ],
          [
           0
          ],
          [
           0
          ],
          [
           0
          ],
          [
           0
          ],
          [
           0
          ],
          [
           0
          ],
          [
           0
          ],
          [
           0
          ],
          [
           0
          ],
          [
           0
          ],
          [
           0
          ]
         ],
         "hoverlabel": {
          "namelength": 0
         },
         "hovertemplate": "Cluster=Cluster 2<br>PCA1=%{x}<br>PCA2=%{y}<br>Feature=%{customdata[0]}",
         "legendgroup": "Cluster=Cluster 2",
         "marker": {
          "color": "#00cc96",
          "opacity": 0.5,
          "symbol": "circle"
         },
         "mode": "markers",
         "name": "Cluster=Cluster 2",
         "showlegend": true,
         "textposition": "top center",
         "type": "scatter",
         "x": [
          -0.6148974133521977,
          -1.1530146602048008,
          -0.5375723623124004,
          -0.6055199366317748,
          -0.7839299905970385,
          -0.5251310469190031,
          -0.5528120562861247,
          -1.0326992392670313,
          -0.7370289053575257,
          -1.1622304565508486,
          -0.6512312551333386,
          -0.852742599217369,
          -1.1795099263925473,
          -0.4894232197193225,
          -0.13656555095242512,
          -1.014940582902498,
          -1.4480435266923828,
          -2.0813486792609828,
          -2.191718811555947,
          -0.3171583669460442,
          -0.4516877325827095,
          -0.34203050280221675,
          -0.16514374778643068,
          -1.0547143876049945,
          -0.9268985733247318,
          -0.5823733986942193,
          -0.3470740688272168,
          -0.8858396810081907,
          -0.4113942277266925,
          -0.7316820846053833,
          -0.4999720838293797,
          0.06053164108608051,
          -0.6826630628805479,
          -0.410074131543814,
          -0.7497660923877895,
          -0.6821194499529948,
          -0.7462132183358655,
          -0.6372102002164777,
          -1.11624719028349,
          -0.6061147412320105,
          -0.7358603046641088,
          0.590723129572457,
          -0.27341411539020405,
          -0.4189047625670024,
          -0.19321589240022335,
          -0.18955048259838828,
          0.32071190820837814,
          -0.6676772335885957,
          -0.7023214548075735,
          -0.24643777296390748,
          -0.06462932900145975,
          -0.9000710425713466,
          -0.6729762320246265,
          -0.37901991803984314,
          -1.1103931019841147,
          -0.19245215396494575,
          -0.8007101293870416,
          0.030217658584459448,
          -0.6632754221966203,
          -0.42637377724252035,
          -0.15198486514179607,
          -0.3381438943591253,
          -0.7993943556186459,
          -0.573989954514461,
          -0.544345266602129,
          -0.41516096436551936,
          -0.10747588993204168,
          -0.527812206809973,
          -0.7534232343914562,
          -0.2852213213864296,
          -0.5878695316772741,
          -0.6660394582897805,
          0.04067915963319622,
          -0.952088031716119,
          -0.07810945302208859,
          -0.6157116950861687,
          -0.4071831296496012,
          -1.2847767735782407,
          -0.9444099349188825,
          -1.0391940847637966,
          -1.2040679934016942,
          -0.5913819049789016,
          -0.3500229923522969,
          -0.4299256929401129,
          -0.5666925304244838,
          -0.5428583686585572,
          -0.38097058464526096,
          -0.6596126805051323,
          -0.8603527568212046,
          -1.3207454908552678,
          -0.8472087998887655,
          -0.23463772143727643,
          -1.0870553637339435,
          -0.8488835093616144,
          -0.43908025633728054,
          -0.8918987231395249,
          -0.09474934112364122,
          -0.6480465906501857,
          -0.25169171033854487,
          -0.4778083339186538,
          -0.6698832034710506
         ],
         "xaxis": "x",
         "y": [
          1.0606080838376417,
          1.780129944915732,
          2.7116682111193344,
          0.7701677774097572,
          0.9237347954059902,
          2.5069076095031453,
          1.7100440100786154,
          2.8573072099588823,
          0.8955408402563305,
          1.4542032243271041,
          0.821471189584151,
          1.0229422923155647,
          0.9848995324657209,
          2.6512455115321343,
          2.5529774936939855,
          0.8584338067817757,
          0.7466675101168504,
          0.6218591355184916,
          0.694847994360765,
          2.205159042774061,
          2.2549406435581814,
          0.3487550004386737,
          0.9344270762219591,
          2.482868200097307,
          1.373306153576085,
          1.5921784250569713,
          1.9515179193554368,
          1.9012426140218412,
          1.855504847546513,
          1.4070005893003135,
          2.0526117114409943,
          4.89458786744309,
          1.4549835156253401,
          2.071116864501281,
          0.39906258489895124,
          0.32318392829645387,
          1.0537192158650508,
          2.1383779682633173,
          2.1815275509211407,
          1.4689959955087422,
          1.1382740291514137,
          4.170169331412899,
          1.1798936863845741,
          2.5446593712484464,
          2.5288589530114245,
          1.807631645519609,
          2.916637505286343,
          0.8781426343014693,
          1.2872683949213053,
          0.40541281361350534,
          0.9850111444423494,
          1.4046947771266396,
          0.9116214650283027,
          1.2724512276493922,
          2.1741078359966566,
          4.069011866896519,
          0.4379809340984094,
          1.3568510737812156,
          1.0402804270371007,
          1.8439957825396398,
          4.082390574485332,
          1.173503937612598,
          0.2879405309215335,
          0.45487452371935605,
          0.7528585309268424,
          1.4047332215113129,
          1.9854535366228996,
          0.7411862758252225,
          0.52890354341856,
          2.1622286074750177,
          1.7906413079812988,
          2.321354386896547,
          5.184580127133132,
          1.3829527459333435,
          2.044247899071759,
          2.917203182448703,
          2.4463174084797843,
          1.5209082809808614,
          0.8856382499405865,
          1.5608511185475455,
          1.708973427870389,
          0.8201980041173861,
          3.6403217267517065,
          2.4254941483872874,
          2.3973427692425964,
          0.35361858357699694,
          2.3791949620697506,
          1.3532177341410918,
          1.1285631839976313,
          1.1832361860099887,
          0.25652190086591936,
          1.2079651287193454,
          0.41973414415492794,
          0.9207128281547643,
          1.8359485019486101,
          1.1710658665069134,
          1.700926217246749,
          2.4426414212626817,
          2.6415919926696203,
          1.5118535177175483,
          0.4712363943754549
         ],
         "yaxis": "y"
        },
        {
         "customdata": [
          [
           0
          ],
          [
           0
          ],
          [
           0
          ],
          [
           0
          ],
          [
           0
          ],
          [
           0
          ],
          [
           0
          ],
          [
           0
          ],
          [
           0
          ],
          [
           0
          ],
          [
           0
          ],
          [
           0
          ],
          [
           0
          ],
          [
           0
          ],
          [
           0
          ],
          [
           0
          ],
          [
           0
          ],
          [
           0
          ],
          [
           0
          ],
          [
           0
          ],
          [
           0
          ],
          [
           0
          ],
          [
           0
          ],
          [
           0
          ],
          [
           0
          ],
          [
           0
          ],
          [
           0
          ],
          [
           0
          ],
          [
           0
          ],
          [
           0
          ],
          [
           0
          ],
          [
           0
          ],
          [
           0
          ],
          [
           0
          ],
          [
           0
          ],
          [
           0
          ],
          [
           1
          ],
          [
           0
          ],
          [
           0
          ],
          [
           0
          ],
          [
           0
          ],
          [
           0
          ],
          [
           0
          ],
          [
           0
          ],
          [
           0
          ],
          [
           0
          ],
          [
           0
          ],
          [
           0
          ],
          [
           0
          ],
          [
           0
          ],
          [
           0
          ],
          [
           0
          ],
          [
           0
          ],
          [
           0
          ],
          [
           0
          ],
          [
           0
          ],
          [
           0
          ],
          [
           0
          ],
          [
           0
          ],
          [
           0
          ],
          [
           0
          ],
          [
           0
          ],
          [
           0
          ],
          [
           0
          ],
          [
           0
          ],
          [
           0
          ],
          [
           0
          ],
          [
           0
          ],
          [
           0
          ],
          [
           0
          ],
          [
           0
          ],
          [
           0
          ],
          [
           0
          ],
          [
           0
          ],
          [
           0
          ],
          [
           1
          ],
          [
           1
          ],
          [
           0
          ],
          [
           0
          ],
          [
           0
          ],
          [
           0
          ],
          [
           0
          ],
          [
           0
          ],
          [
           0
          ],
          [
           0
          ],
          [
           0
          ],
          [
           0
          ],
          [
           0
          ],
          [
           0
          ],
          [
           0
          ],
          [
           0
          ],
          [
           0
          ],
          [
           0
          ],
          [
           0
          ],
          [
           0
          ],
          [
           0
          ],
          [
           0
          ],
          [
           0
          ],
          [
           0
          ],
          [
           0
          ],
          [
           0
          ],
          [
           0
          ],
          [
           0
          ],
          [
           0
          ],
          [
           0
          ],
          [
           0
          ],
          [
           0
          ],
          [
           0
          ],
          [
           0
          ],
          [
           0
          ],
          [
           0
          ],
          [
           0
          ],
          [
           0
          ],
          [
           0
          ],
          [
           0
          ],
          [
           0
          ],
          [
           0
          ],
          [
           0
          ],
          [
           0
          ],
          [
           0
          ]
         ],
         "hoverlabel": {
          "namelength": 0
         },
         "hovertemplate": "Cluster=Cluster 3<br>PCA1=%{x}<br>PCA2=%{y}<br>Feature=%{customdata[0]}",
         "legendgroup": "Cluster=Cluster 3",
         "marker": {
          "color": "#ab63fa",
          "opacity": 0.5,
          "symbol": "circle"
         },
         "mode": "markers",
         "name": "Cluster=Cluster 3",
         "showlegend": true,
         "textposition": "top center",
         "type": "scatter",
         "x": [
          -1.0502085008339908,
          -1.2050518411625,
          -1.118165162911638,
          -1.5462931331007645,
          -0.7114711316773038,
          -0.7365907880653109,
          -0.16002254548121994,
          -0.6167371872933975,
          -1.0679240303033952,
          -1.1401742377091226,
          -0.9536550551026521,
          -1.0148651001933255,
          -1.5147249552889575,
          -0.5712258542641713,
          -1.0449196953451547,
          -1.1119086557082725,
          -1.4192758872623759,
          -0.29748199791184227,
          -1.1182868019937877,
          -1.1537059130618506,
          -1.4835344725596573,
          -1.4978161033766428,
          -1.0710106965943604,
          -0.7702831509516272,
          -0.9433079752194697,
          -0.9549531571695214,
          -1.0104778070824005,
          -0.8929271665098955,
          -0.9882725457454974,
          -0.22163724388006353,
          -1.510799708295509,
          -0.8677008326335313,
          -1.3154935144716802,
          -1.0390048278377106,
          -0.631516418875752,
          -1.6224031978242266,
          -1.1255155832614225,
          -1.0862372669943734,
          -0.5351672743156728,
          -0.9036364558676063,
          -0.9927352447336562,
          -0.85036827964948,
          -0.8295047368240991,
          -1.4943878857866555,
          -0.9296986493610564,
          -0.9245222118157084,
          -0.35318832729423677,
          -1.3365768271092493,
          -0.41117202486993787,
          -1.3023363516834463,
          -1.1231190705887655,
          -1.0588920880481938,
          -1.3779573475907883,
          -0.1859697779844853,
          -0.9809432608763128,
          -0.7954042943145259,
          -0.6568125862276132,
          -0.2897397194731143,
          -1.0650225273292062,
          -0.7775825713787586,
          -1.3208813187433253,
          -0.9861322335213963,
          -0.612610073199346,
          -0.8059009015262348,
          -1.1822588116973753,
          -1.5348769862769551,
          -0.6542551647527899,
          -1.0485806234421275,
          -1.0791040496790572,
          -1.6519220849565925,
          -1.1658434414278591,
          -0.9010816275640968,
          -1.0213150053105593,
          -0.7487362927727997,
          -1.2183142277033794,
          -1.0663327077380484,
          -1.3516491789658014,
          -0.9731863207332142,
          -1.054391851743838,
          -0.8207559373548488,
          -1.4525713340040238,
          -0.8140509676497059,
          -0.40619038385079703,
          -1.3404985539007725,
          -0.9189736563638121,
          -0.43422058778609146,
          -0.08266574093402179,
          -0.795077344924937,
          -0.970380943451284,
          -1.9731642315573903,
          -2.8227554756065563,
          -1.5737255210600591,
          -1.3349773176451245,
          -0.392840216993623,
          -0.6856912918978397,
          -1.0422897723333684,
          -0.3717202214604202,
          -0.5786783943858033,
          -0.5754960110302366,
          -1.0397266556096982,
          -0.3369158450625299,
          -1.1303235290613878,
          -1.955089866609409,
          -1.0575852058254969,
          -1.4443857618937204,
          -0.6539943296603565,
          -0.887404079926962,
          -1.1043668395176074,
          -1.2718513368541482,
          -0.7045903897196699,
          -1.5031777692918409,
          -1.2246632767302577,
          -1.0346216830471242,
          -0.2148550207757253,
          -0.8842442046922669,
          -0.9939697919884583,
          -1.4087829138924026,
          -1.2776727917978283,
          -0.8637962411671601,
          -0.4148751074646641
         ],
         "xaxis": "x",
         "y": [
          -0.9021261873954479,
          -0.9748333612678579,
          -0.07013660571216082,
          -0.3032671940514024,
          -1.2119591731555102,
          0.37626130630384036,
          -0.6244089322242519,
          -1.1387471627585355,
          -0.4751561971525821,
          -0.7364562212043894,
          -0.06647786951469128,
          -0.8463445728289403,
          -1.1389058514053836,
          -1.0864114664050903,
          -0.4146392292263917,
          -0.8461950017920956,
          -2.4326345860168836,
          -0.8183060743197489,
          -1.0619400128116971,
          -1.0590231406597386,
          -2.894428109227761,
          -1.382036668191958,
          -2.3320930281100836,
          0.34969772580684394,
          -1.424440018673876,
          0.44017809457935403,
          -0.9925355753662578,
          -0.169134920422469,
          -0.6322871597113024,
          0.009707716477781262,
          -0.39695416965672675,
          -0.6655771993202976,
          -1.2462301714873472,
          -0.5194188311810715,
          -2.0237072132309497,
          -2.7203385152951185,
          -0.2953534391113145,
          -0.5867279298276068,
          -0.016161577041829904,
          -2.3333499852669086,
          -0.541305851228111,
          -2.085538908352814,
          -0.166311924711292,
          -1.0219907551145297,
          -0.5651864470772099,
          -0.5579035533717913,
          -0.4483532957388415,
          -0.40453702957962956,
          -0.18841735644076693,
          -0.2066652252328467,
          -0.8723426701371547,
          -0.448824981448463,
          -0.36176904035406166,
          -0.16515231358267693,
          -1.2556439088387161,
          0.06035349733343594,
          -0.025167878035512223,
          -0.2740589104957452,
          -1.2177407837481118,
          -2.324811469108625,
          -2.8278540526000793,
          -0.6944679702152534,
          0.03274845232142595,
          -0.8831581552929174,
          -0.7167683484382119,
          -1.1769928820671645,
          0.16942489174091857,
          -1.9289379002400326,
          -1.2675093783946372,
          -0.9876863914088901,
          -2.3584205544150016,
          -1.3911056763738772,
          -0.5098641933681931,
          -0.7423498475857693,
          -1.1319549845543087,
          -0.012937064892038407,
          -0.633786858776898,
          -1.7781718397106134,
          -0.11830867627182726,
          -1.1349636111886976,
          0.19971411086870253,
          0.19476413408252063,
          -0.6976952377867247,
          -1.669626039982214,
          -0.8915973014826702,
          0.23730118364199504,
          -0.3967217749376968,
          0.22132387016939614,
          -0.44643981606649985,
          -2.0279254881506343,
          -1.9933739273318634,
          -2.6195876824107547,
          -1.5713436665493903,
          -0.43081456292721304,
          -0.25393066368879597,
          -2.699823820981923,
          -1.5236341587454296,
          -0.9296798045288015,
          -0.8524369422651226,
          -0.8349157212285344,
          -0.47436693301333366,
          -2.9960905848233823,
          -1.6562077168928575,
          -1.7708557706492745,
          -1.9476113790908294,
          -1.1172334152731531,
          -0.33792646359851036,
          -0.9485958086270858,
          -3.51103665317613,
          -2.304657579957526,
          -2.1940280925013655,
          -0.5771530632314731,
          -0.8059347391694661,
          -0.2665907563377198,
          -0.5444230412606669,
          -3.2308137433275936,
          -1.1473405328214568,
          -1.4647589692130873,
          -0.11477551013408488,
          -1.7224593973403528
         ],
         "yaxis": "y"
        }
       ],
       "layout": {
        "height": 600,
        "legend": {
         "tracegroupgap": 0
        },
        "margin": {
         "t": 60
        },
        "plot_bgcolor": "rgb(240,240,240)",
        "template": {
         "data": {
          "bar": [
           {
            "error_x": {
             "color": "#2a3f5f"
            },
            "error_y": {
             "color": "#2a3f5f"
            },
            "marker": {
             "line": {
              "color": "#E5ECF6",
              "width": 0.5
             }
            },
            "type": "bar"
           }
          ],
          "barpolar": [
           {
            "marker": {
             "line": {
              "color": "#E5ECF6",
              "width": 0.5
             }
            },
            "type": "barpolar"
           }
          ],
          "carpet": [
           {
            "aaxis": {
             "endlinecolor": "#2a3f5f",
             "gridcolor": "white",
             "linecolor": "white",
             "minorgridcolor": "white",
             "startlinecolor": "#2a3f5f"
            },
            "baxis": {
             "endlinecolor": "#2a3f5f",
             "gridcolor": "white",
             "linecolor": "white",
             "minorgridcolor": "white",
             "startlinecolor": "#2a3f5f"
            },
            "type": "carpet"
           }
          ],
          "choropleth": [
           {
            "colorbar": {
             "outlinewidth": 0,
             "ticks": ""
            },
            "type": "choropleth"
           }
          ],
          "contour": [
           {
            "colorbar": {
             "outlinewidth": 0,
             "ticks": ""
            },
            "colorscale": [
             [
              0,
              "#0d0887"
             ],
             [
              0.1111111111111111,
              "#46039f"
             ],
             [
              0.2222222222222222,
              "#7201a8"
             ],
             [
              0.3333333333333333,
              "#9c179e"
             ],
             [
              0.4444444444444444,
              "#bd3786"
             ],
             [
              0.5555555555555556,
              "#d8576b"
             ],
             [
              0.6666666666666666,
              "#ed7953"
             ],
             [
              0.7777777777777778,
              "#fb9f3a"
             ],
             [
              0.8888888888888888,
              "#fdca26"
             ],
             [
              1,
              "#f0f921"
             ]
            ],
            "type": "contour"
           }
          ],
          "contourcarpet": [
           {
            "colorbar": {
             "outlinewidth": 0,
             "ticks": ""
            },
            "type": "contourcarpet"
           }
          ],
          "heatmap": [
           {
            "colorbar": {
             "outlinewidth": 0,
             "ticks": ""
            },
            "colorscale": [
             [
              0,
              "#0d0887"
             ],
             [
              0.1111111111111111,
              "#46039f"
             ],
             [
              0.2222222222222222,
              "#7201a8"
             ],
             [
              0.3333333333333333,
              "#9c179e"
             ],
             [
              0.4444444444444444,
              "#bd3786"
             ],
             [
              0.5555555555555556,
              "#d8576b"
             ],
             [
              0.6666666666666666,
              "#ed7953"
             ],
             [
              0.7777777777777778,
              "#fb9f3a"
             ],
             [
              0.8888888888888888,
              "#fdca26"
             ],
             [
              1,
              "#f0f921"
             ]
            ],
            "type": "heatmap"
           }
          ],
          "heatmapgl": [
           {
            "colorbar": {
             "outlinewidth": 0,
             "ticks": ""
            },
            "colorscale": [
             [
              0,
              "#0d0887"
             ],
             [
              0.1111111111111111,
              "#46039f"
             ],
             [
              0.2222222222222222,
              "#7201a8"
             ],
             [
              0.3333333333333333,
              "#9c179e"
             ],
             [
              0.4444444444444444,
              "#bd3786"
             ],
             [
              0.5555555555555556,
              "#d8576b"
             ],
             [
              0.6666666666666666,
              "#ed7953"
             ],
             [
              0.7777777777777778,
              "#fb9f3a"
             ],
             [
              0.8888888888888888,
              "#fdca26"
             ],
             [
              1,
              "#f0f921"
             ]
            ],
            "type": "heatmapgl"
           }
          ],
          "histogram": [
           {
            "marker": {
             "colorbar": {
              "outlinewidth": 0,
              "ticks": ""
             }
            },
            "type": "histogram"
           }
          ],
          "histogram2d": [
           {
            "colorbar": {
             "outlinewidth": 0,
             "ticks": ""
            },
            "colorscale": [
             [
              0,
              "#0d0887"
             ],
             [
              0.1111111111111111,
              "#46039f"
             ],
             [
              0.2222222222222222,
              "#7201a8"
             ],
             [
              0.3333333333333333,
              "#9c179e"
             ],
             [
              0.4444444444444444,
              "#bd3786"
             ],
             [
              0.5555555555555556,
              "#d8576b"
             ],
             [
              0.6666666666666666,
              "#ed7953"
             ],
             [
              0.7777777777777778,
              "#fb9f3a"
             ],
             [
              0.8888888888888888,
              "#fdca26"
             ],
             [
              1,
              "#f0f921"
             ]
            ],
            "type": "histogram2d"
           }
          ],
          "histogram2dcontour": [
           {
            "colorbar": {
             "outlinewidth": 0,
             "ticks": ""
            },
            "colorscale": [
             [
              0,
              "#0d0887"
             ],
             [
              0.1111111111111111,
              "#46039f"
             ],
             [
              0.2222222222222222,
              "#7201a8"
             ],
             [
              0.3333333333333333,
              "#9c179e"
             ],
             [
              0.4444444444444444,
              "#bd3786"
             ],
             [
              0.5555555555555556,
              "#d8576b"
             ],
             [
              0.6666666666666666,
              "#ed7953"
             ],
             [
              0.7777777777777778,
              "#fb9f3a"
             ],
             [
              0.8888888888888888,
              "#fdca26"
             ],
             [
              1,
              "#f0f921"
             ]
            ],
            "type": "histogram2dcontour"
           }
          ],
          "mesh3d": [
           {
            "colorbar": {
             "outlinewidth": 0,
             "ticks": ""
            },
            "type": "mesh3d"
           }
          ],
          "parcoords": [
           {
            "line": {
             "colorbar": {
              "outlinewidth": 0,
              "ticks": ""
             }
            },
            "type": "parcoords"
           }
          ],
          "pie": [
           {
            "automargin": true,
            "type": "pie"
           }
          ],
          "scatter": [
           {
            "marker": {
             "colorbar": {
              "outlinewidth": 0,
              "ticks": ""
             }
            },
            "type": "scatter"
           }
          ],
          "scatter3d": [
           {
            "line": {
             "colorbar": {
              "outlinewidth": 0,
              "ticks": ""
             }
            },
            "marker": {
             "colorbar": {
              "outlinewidth": 0,
              "ticks": ""
             }
            },
            "type": "scatter3d"
           }
          ],
          "scattercarpet": [
           {
            "marker": {
             "colorbar": {
              "outlinewidth": 0,
              "ticks": ""
             }
            },
            "type": "scattercarpet"
           }
          ],
          "scattergeo": [
           {
            "marker": {
             "colorbar": {
              "outlinewidth": 0,
              "ticks": ""
             }
            },
            "type": "scattergeo"
           }
          ],
          "scattergl": [
           {
            "marker": {
             "colorbar": {
              "outlinewidth": 0,
              "ticks": ""
             }
            },
            "type": "scattergl"
           }
          ],
          "scattermapbox": [
           {
            "marker": {
             "colorbar": {
              "outlinewidth": 0,
              "ticks": ""
             }
            },
            "type": "scattermapbox"
           }
          ],
          "scatterpolar": [
           {
            "marker": {
             "colorbar": {
              "outlinewidth": 0,
              "ticks": ""
             }
            },
            "type": "scatterpolar"
           }
          ],
          "scatterpolargl": [
           {
            "marker": {
             "colorbar": {
              "outlinewidth": 0,
              "ticks": ""
             }
            },
            "type": "scatterpolargl"
           }
          ],
          "scatterternary": [
           {
            "marker": {
             "colorbar": {
              "outlinewidth": 0,
              "ticks": ""
             }
            },
            "type": "scatterternary"
           }
          ],
          "surface": [
           {
            "colorbar": {
             "outlinewidth": 0,
             "ticks": ""
            },
            "colorscale": [
             [
              0,
              "#0d0887"
             ],
             [
              0.1111111111111111,
              "#46039f"
             ],
             [
              0.2222222222222222,
              "#7201a8"
             ],
             [
              0.3333333333333333,
              "#9c179e"
             ],
             [
              0.4444444444444444,
              "#bd3786"
             ],
             [
              0.5555555555555556,
              "#d8576b"
             ],
             [
              0.6666666666666666,
              "#ed7953"
             ],
             [
              0.7777777777777778,
              "#fb9f3a"
             ],
             [
              0.8888888888888888,
              "#fdca26"
             ],
             [
              1,
              "#f0f921"
             ]
            ],
            "type": "surface"
           }
          ],
          "table": [
           {
            "cells": {
             "fill": {
              "color": "#EBF0F8"
             },
             "line": {
              "color": "white"
             }
            },
            "header": {
             "fill": {
              "color": "#C8D4E3"
             },
             "line": {
              "color": "white"
             }
            },
            "type": "table"
           }
          ]
         },
         "layout": {
          "annotationdefaults": {
           "arrowcolor": "#2a3f5f",
           "arrowhead": 0,
           "arrowwidth": 1
          },
          "coloraxis": {
           "colorbar": {
            "outlinewidth": 0,
            "ticks": ""
           }
          },
          "colorscale": {
           "diverging": [
            [
             0,
             "#8e0152"
            ],
            [
             0.1,
             "#c51b7d"
            ],
            [
             0.2,
             "#de77ae"
            ],
            [
             0.3,
             "#f1b6da"
            ],
            [
             0.4,
             "#fde0ef"
            ],
            [
             0.5,
             "#f7f7f7"
            ],
            [
             0.6,
             "#e6f5d0"
            ],
            [
             0.7,
             "#b8e186"
            ],
            [
             0.8,
             "#7fbc41"
            ],
            [
             0.9,
             "#4d9221"
            ],
            [
             1,
             "#276419"
            ]
           ],
           "sequential": [
            [
             0,
             "#0d0887"
            ],
            [
             0.1111111111111111,
             "#46039f"
            ],
            [
             0.2222222222222222,
             "#7201a8"
            ],
            [
             0.3333333333333333,
             "#9c179e"
            ],
            [
             0.4444444444444444,
             "#bd3786"
            ],
            [
             0.5555555555555556,
             "#d8576b"
            ],
            [
             0.6666666666666666,
             "#ed7953"
            ],
            [
             0.7777777777777778,
             "#fb9f3a"
            ],
            [
             0.8888888888888888,
             "#fdca26"
            ],
            [
             1,
             "#f0f921"
            ]
           ],
           "sequentialminus": [
            [
             0,
             "#0d0887"
            ],
            [
             0.1111111111111111,
             "#46039f"
            ],
            [
             0.2222222222222222,
             "#7201a8"
            ],
            [
             0.3333333333333333,
             "#9c179e"
            ],
            [
             0.4444444444444444,
             "#bd3786"
            ],
            [
             0.5555555555555556,
             "#d8576b"
            ],
            [
             0.6666666666666666,
             "#ed7953"
            ],
            [
             0.7777777777777778,
             "#fb9f3a"
            ],
            [
             0.8888888888888888,
             "#fdca26"
            ],
            [
             1,
             "#f0f921"
            ]
           ]
          },
          "colorway": [
           "#636efa",
           "#EF553B",
           "#00cc96",
           "#ab63fa",
           "#FFA15A",
           "#19d3f3",
           "#FF6692",
           "#B6E880",
           "#FF97FF",
           "#FECB52"
          ],
          "font": {
           "color": "#2a3f5f"
          },
          "geo": {
           "bgcolor": "white",
           "lakecolor": "white",
           "landcolor": "#E5ECF6",
           "showlakes": true,
           "showland": true,
           "subunitcolor": "white"
          },
          "hoverlabel": {
           "align": "left"
          },
          "hovermode": "closest",
          "mapbox": {
           "style": "light"
          },
          "paper_bgcolor": "white",
          "plot_bgcolor": "#E5ECF6",
          "polar": {
           "angularaxis": {
            "gridcolor": "white",
            "linecolor": "white",
            "ticks": ""
           },
           "bgcolor": "#E5ECF6",
           "radialaxis": {
            "gridcolor": "white",
            "linecolor": "white",
            "ticks": ""
           }
          },
          "scene": {
           "xaxis": {
            "backgroundcolor": "#E5ECF6",
            "gridcolor": "white",
            "gridwidth": 2,
            "linecolor": "white",
            "showbackground": true,
            "ticks": "",
            "zerolinecolor": "white"
           },
           "yaxis": {
            "backgroundcolor": "#E5ECF6",
            "gridcolor": "white",
            "gridwidth": 2,
            "linecolor": "white",
            "showbackground": true,
            "ticks": "",
            "zerolinecolor": "white"
           },
           "zaxis": {
            "backgroundcolor": "#E5ECF6",
            "gridcolor": "white",
            "gridwidth": 2,
            "linecolor": "white",
            "showbackground": true,
            "ticks": "",
            "zerolinecolor": "white"
           }
          },
          "shapedefaults": {
           "line": {
            "color": "#2a3f5f"
           }
          },
          "ternary": {
           "aaxis": {
            "gridcolor": "white",
            "linecolor": "white",
            "ticks": ""
           },
           "baxis": {
            "gridcolor": "white",
            "linecolor": "white",
            "ticks": ""
           },
           "bgcolor": "#E5ECF6",
           "caxis": {
            "gridcolor": "white",
            "linecolor": "white",
            "ticks": ""
           }
          },
          "title": {
           "x": 0.05
          },
          "xaxis": {
           "automargin": true,
           "gridcolor": "white",
           "linecolor": "white",
           "ticks": "",
           "title": {
            "standoff": 15
           },
           "zerolinecolor": "white",
           "zerolinewidth": 2
          },
          "yaxis": {
           "automargin": true,
           "gridcolor": "white",
           "linecolor": "white",
           "ticks": "",
           "title": {
            "standoff": 15
           },
           "zerolinecolor": "white",
           "zerolinewidth": 2
          }
         }
        },
        "title": {
         "text": "2D Cluster PCA Plot"
        },
        "xaxis": {
         "anchor": "y",
         "domain": [
          0,
          1
         ],
         "title": {
          "text": "PCA1"
         }
        },
        "yaxis": {
         "anchor": "x",
         "domain": [
          0,
          1
         ],
         "title": {
          "text": "PCA2"
         }
        }
       }
      },
      "text/html": [
       "<div>\n",
       "        \n",
       "        \n",
       "            <div id=\"8178d554-fa24-4fd3-a34e-5efea328270e\" class=\"plotly-graph-div\" style=\"height:600px; width:100%;\"></div>\n",
       "            <script type=\"text/javascript\">\n",
       "                require([\"plotly\"], function(Plotly) {\n",
       "                    window.PLOTLYENV=window.PLOTLYENV || {};\n",
       "                    \n",
       "                if (document.getElementById(\"8178d554-fa24-4fd3-a34e-5efea328270e\")) {\n",
       "                    Plotly.newPlot(\n",
       "                        '8178d554-fa24-4fd3-a34e-5efea328270e',\n",
       "                        [{\"customdata\": [[1], [1], [1], [1], [1], [1], [1], [1], [1], [1], [1], [1], [1], [1], [1], [1], [0], [1], [1], [1], [1], [1], [1], [1], [1], [1], [1], [1], [1], [1], [1], [1], [1], [1], [1], [1], [1], [1], [1], [1], [1], [1], [1], [1], [1]], \"hoverlabel\": {\"namelength\": 0}, \"hovertemplate\": \"Cluster=Cluster 0<br>PCA1=%{x}<br>PCA2=%{y}<br>Feature=%{customdata[0]}\", \"legendgroup\": \"Cluster=Cluster 0\", \"marker\": {\"color\": \"#636efa\", \"opacity\": 0.5, \"symbol\": \"circle\"}, \"mode\": \"markers\", \"name\": \"Cluster=Cluster 0\", \"showlegend\": true, \"textposition\": \"top center\", \"type\": \"scatter\", \"x\": [-2.2546181501367215, 1.8136388746553682, -1.3392614276154244, -2.004963596686714, -1.9026055248546156, -1.3608509122026264, -1.8530508284319536, 1.792767998909934, -0.9662133322052578, -2.286501919691732, -1.148664184601189, -2.0344603216652244, 1.744339522534558, -2.1637570865531313, -1.8197805146711077, -1.5387203644258056, -1.6800237211289384, -1.6581117648372734, 1.6255640185416944, 1.8080162088973801, -1.5074501021463198, -1.2905836175156542, 1.5126631893146094, -1.366759732815599, -1.818032830835002, -2.4539784797108166, -1.862771086790971, -0.8372244827821124, -2.28601038215345, 1.864888098260405, -2.133469052977238, -2.0189233547121908, -1.7908923764130025, -2.5286228521444767, -2.178579283964143, -2.1814403347073927, -1.969857548078388, -1.6782830516646388, -2.2757049162057075, -1.874975244323894, -1.983043666545506, -2.0387407005141034, -1.691294980215223, 1.562622658319724, 1.6880470740007372], \"xaxis\": \"x\", \"y\": [-1.3699963580651722, 0.7394645815463619, 2.0346990932080034, -0.1349744454255328, -1.1357962725713973, 2.96402429608709, -1.3382932376234775, 0.08876823795611241, 0.609165970815355, -0.004497270996111709, 3.971332017198186, -0.1331849256995289, 0.21111851086803998, -1.5166662268843312, 1.27712864415289, -0.4666819407684006, -0.008215867285235538, -0.3647062455640674, -0.7973543701923709, 0.12735006552172376, 0.2831729831982677, -1.0599873019058956, -0.8986175116140936, 1.1642697381733786, -0.09706012397026638, -2.032542130725717, -0.303432555908287, 1.2301071530660335, -0.15317734371386096, 0.6754349650996803, -0.8533225639395244, 0.40968605817381015, -0.07648297948905759, -2.017146977138902, -0.6288001310145633, -2.946019561220726, -0.5634294861298428, -2.3732279749275667, -0.43239820558731695, -0.3190769480596877, -0.9294922320270506, -1.0866688184823747, 0.05805442985603561, -1.110138544763506, -0.3354999664901082], \"yaxis\": \"y\"}, {\"customdata\": [[1], [1], [1], [1], [1], [1], [1], [1], [1], [1], [1], [1], [1], [1], [1], [1], [1], [1], [1], [1], [1], [1], [1], [1], [1], [1], [1], [1], [1], [1], [1], [1], [1], [1], [1], [1], [1], [1], [0], [0], [1], [1], [1], [1], [0], [1], [1], [1], [1], [1], [1], [0], [0], [0], [0], [0], [0], [0], [0], [0], [0], [0], [0], [0], [0], [0], [0], [0], [0], [0], [0], [0], [0], [0], [0], [0], [0], [0], [0], [0], [0], [0], [0], [0], [0], [0], [0], [0], [0]], \"hoverlabel\": {\"namelength\": 0}, \"hovertemplate\": \"Cluster=Cluster 1<br>PCA1=%{x}<br>PCA2=%{y}<br>Feature=%{customdata[0]}\", \"legendgroup\": \"Cluster=Cluster 1\", \"marker\": {\"color\": \"#EF553B\", \"opacity\": 0.5, \"symbol\": \"circle\"}, \"mode\": \"markers\", \"name\": \"Cluster=Cluster 1\", \"showlegend\": true, \"textposition\": \"top center\", \"type\": \"scatter\", \"x\": [2.84476396927902, 2.151489182205294, 2.6121695138919776, 3.2429309019081245, 2.2811483872548446, 1.8306998263281107, 2.5083946369269663, 2.627294901523313, 2.582314526916546, 2.6252993851979336, 2.6599505099822256, 3.092365692565429, 3.045956830246319, 3.0751049864958677, 2.6303381174205978, 2.472927484724149, 2.7229443125182464, 2.183945143345733, 2.46670117425953, 2.5924318376272666, 2.7711189770835074, 2.4517779350685807, 2.960949278809465, 2.273525794853254, 2.3442889912827463, 2.3986998996156284, 2.2065506482169512, 3.039335785427162, 2.7203410912740815, 2.4968650398638945, 2.679480013386444, 2.442880095188538, 2.417290138966938, 2.363737607213595, 2.8145918067651414, 2.2343462165218524, 1.6598373767483714, 2.427094963497764, 2.6557485040759437, 2.993710054029795, 2.9091065696758434, 2.33771429776732, 2.3848093288733208, 2.568657245691302, 2.463983600197178, 2.4082574620639154, 2.4450013694646264, 2.7165062622947667, 2.403459845869579, 2.714940162920425, 2.7845129780726356, 2.191478884108185, 2.782029656481384, 2.322651813944246, 2.8378356528833826, 2.2683967430165426, 2.3916795201153747, 2.8478941166606084, 2.514581919567253, 2.7987362374340043, 2.8993677346473867, 2.3654774584742695, 2.636051740816088, 2.6066747771701264, 2.2109460345847416, 2.491086430504949, 2.83499884593947, 2.9426569555190834, 2.4282382284232638, 2.3991098696645725, 2.8346537171262782, 3.0574464509256645, 2.70248526578761, 2.4587421568953847, 2.8507213126643456, 2.8662260785285483, 2.202257193503134, 2.875240724668047, 2.9448988210419667, 3.057985084828805, 2.686671126335372, 2.703848051706603, 2.609426641133825, 2.6386075582686517, 2.464139926728408, 2.618220568417259, 2.7241025873353664, 3.048865261661581, 2.60532476318213], \"xaxis\": \"x\", \"y\": [1.268545886898604, -2.489874836455784, -0.8499062911750556, 1.9755118761397998, -2.429994375801247, -3.43089324152702, -0.6003776890130139, -0.7366778532538837, -0.29183022388152685, -0.41920154159624906, -0.5065345112214786, 2.005138498345019, 1.580588416650891, 1.4338840222026057, -1.1990512216713762, -1.315860364629787, 0.8952900330521211, -1.3160812756469915, -0.9843714462579792, -0.0616608897103511, -1.039249502254369, -1.265092237562996, 2.8983489371541866, -2.1364126940910553, -1.8302389413544886, -2.400495420677099, -0.5637328742118869, 0.7449338698407397, -0.9117959057307418, -1.4715248714721765, -0.5942275631801618, -1.8248158745746934, -2.000087819499514, -1.8091401812916756, 0.6161005895318803, -2.5907274935124662, -2.4798152105657625, -0.9505313679329849, -1.458201647572824, 1.805048561022529, 0.6518908411986148, -2.0639504887796893, 0.30191553294571816, -0.4345938956348458, -2.161362792683237, -0.8845870293485874, -0.6741787903236321, -0.5598366915138709, -1.6307570124628061, 0.5692944463213462, -0.16841432441828424, -3.0632821023736856, 0.514752665564361, -2.9979947384167946, 0.32319195652006877, 0.6715394736062186, 0.705077123804046, 0.7391982265641107, -1.5314380079369907, 0.325466928538603, 1.065925531262171, -1.9753352371939565, -0.3091566531887451, -0.28410185339131977, -0.9273485355207102, -0.7413882713733068, 1.4314802127405237, 1.3693175428168078, -0.9482557199179926, 0.7756079969131777, 0.3853573689093104, 0.9431794105754323, 0.9338741242191262, -0.7266132058681765, 0.8951196491802249, 0.6782347416850538, -2.9021653853509086, 1.4135343517468886, 0.5659215756813769, 0.8563633424411436, -0.7046472357200693, -0.5140623301890866, -0.733853106339482, -0.31727549051747217, 0.26052151919339417, -1.1518516115810327, -0.45050562024562235, 1.220343574905375, -1.3381951587575924], \"yaxis\": \"y\"}, {\"customdata\": [[0], [0], [0], [0], [0], [0], [0], [0], [0], [0], [0], [0], [0], [0], [0], [0], [0], [0], [0], [0], [0], [0], [0], [0], [0], [0], [0], [0], [0], [0], [0], [0], [0], [0], [0], [0], [0], [0], [0], [0], [0], [0], [0], [0], [0], [0], [0], [0], [0], [0], [0], [0], [0], [0], [0], [0], [0], [0], [0], [0], [0], [0], [0], [0], [0], [0], [0], [0], [0], [0], [1], [0], [0], [0], [0], [0], [0], [0], [0], [0], [0], [0], [0], [0], [0], [0], [0], [0], [0], [0], [0], [0], [0], [0], [0], [0], [0], [0], [0], [0], [0]], \"hoverlabel\": {\"namelength\": 0}, \"hovertemplate\": \"Cluster=Cluster 2<br>PCA1=%{x}<br>PCA2=%{y}<br>Feature=%{customdata[0]}\", \"legendgroup\": \"Cluster=Cluster 2\", \"marker\": {\"color\": \"#00cc96\", \"opacity\": 0.5, \"symbol\": \"circle\"}, \"mode\": \"markers\", \"name\": \"Cluster=Cluster 2\", \"showlegend\": true, \"textposition\": \"top center\", \"type\": \"scatter\", \"x\": [-0.6148974133521977, -1.1530146602048008, -0.5375723623124004, -0.6055199366317748, -0.7839299905970385, -0.5251310469190031, -0.5528120562861247, -1.0326992392670313, -0.7370289053575257, -1.1622304565508486, -0.6512312551333386, -0.852742599217369, -1.1795099263925473, -0.4894232197193225, -0.13656555095242512, -1.014940582902498, -1.4480435266923828, -2.0813486792609828, -2.191718811555947, -0.3171583669460442, -0.4516877325827095, -0.34203050280221675, -0.16514374778643068, -1.0547143876049945, -0.9268985733247318, -0.5823733986942193, -0.3470740688272168, -0.8858396810081907, -0.4113942277266925, -0.7316820846053833, -0.4999720838293797, 0.06053164108608051, -0.6826630628805479, -0.410074131543814, -0.7497660923877895, -0.6821194499529948, -0.7462132183358655, -0.6372102002164777, -1.11624719028349, -0.6061147412320105, -0.7358603046641088, 0.590723129572457, -0.27341411539020405, -0.4189047625670024, -0.19321589240022335, -0.18955048259838828, 0.32071190820837814, -0.6676772335885957, -0.7023214548075735, -0.24643777296390748, -0.06462932900145975, -0.9000710425713466, -0.6729762320246265, -0.37901991803984314, -1.1103931019841147, -0.19245215396494575, -0.8007101293870416, 0.030217658584459448, -0.6632754221966203, -0.42637377724252035, -0.15198486514179607, -0.3381438943591253, -0.7993943556186459, -0.573989954514461, -0.544345266602129, -0.41516096436551936, -0.10747588993204168, -0.527812206809973, -0.7534232343914562, -0.2852213213864296, -0.5878695316772741, -0.6660394582897805, 0.04067915963319622, -0.952088031716119, -0.07810945302208859, -0.6157116950861687, -0.4071831296496012, -1.2847767735782407, -0.9444099349188825, -1.0391940847637966, -1.2040679934016942, -0.5913819049789016, -0.3500229923522969, -0.4299256929401129, -0.5666925304244838, -0.5428583686585572, -0.38097058464526096, -0.6596126805051323, -0.8603527568212046, -1.3207454908552678, -0.8472087998887655, -0.23463772143727643, -1.0870553637339435, -0.8488835093616144, -0.43908025633728054, -0.8918987231395249, -0.09474934112364122, -0.6480465906501857, -0.25169171033854487, -0.4778083339186538, -0.6698832034710506], \"xaxis\": \"x\", \"y\": [1.0606080838376417, 1.780129944915732, 2.7116682111193344, 0.7701677774097572, 0.9237347954059902, 2.5069076095031453, 1.7100440100786154, 2.8573072099588823, 0.8955408402563305, 1.4542032243271041, 0.821471189584151, 1.0229422923155647, 0.9848995324657209, 2.6512455115321343, 2.5529774936939855, 0.8584338067817757, 0.7466675101168504, 0.6218591355184916, 0.694847994360765, 2.205159042774061, 2.2549406435581814, 0.3487550004386737, 0.9344270762219591, 2.482868200097307, 1.373306153576085, 1.5921784250569713, 1.9515179193554368, 1.9012426140218412, 1.855504847546513, 1.4070005893003135, 2.0526117114409943, 4.89458786744309, 1.4549835156253401, 2.071116864501281, 0.39906258489895124, 0.32318392829645387, 1.0537192158650508, 2.1383779682633173, 2.1815275509211407, 1.4689959955087422, 1.1382740291514137, 4.170169331412899, 1.1798936863845741, 2.5446593712484464, 2.5288589530114245, 1.807631645519609, 2.916637505286343, 0.8781426343014693, 1.2872683949213053, 0.40541281361350534, 0.9850111444423494, 1.4046947771266396, 0.9116214650283027, 1.2724512276493922, 2.1741078359966566, 4.069011866896519, 0.4379809340984094, 1.3568510737812156, 1.0402804270371007, 1.8439957825396398, 4.082390574485332, 1.173503937612598, 0.2879405309215335, 0.45487452371935605, 0.7528585309268424, 1.4047332215113129, 1.9854535366228996, 0.7411862758252225, 0.52890354341856, 2.1622286074750177, 1.7906413079812988, 2.321354386896547, 5.184580127133132, 1.3829527459333435, 2.044247899071759, 2.917203182448703, 2.4463174084797843, 1.5209082809808614, 0.8856382499405865, 1.5608511185475455, 1.708973427870389, 0.8201980041173861, 3.6403217267517065, 2.4254941483872874, 2.3973427692425964, 0.35361858357699694, 2.3791949620697506, 1.3532177341410918, 1.1285631839976313, 1.1832361860099887, 0.25652190086591936, 1.2079651287193454, 0.41973414415492794, 0.9207128281547643, 1.8359485019486101, 1.1710658665069134, 1.700926217246749, 2.4426414212626817, 2.6415919926696203, 1.5118535177175483, 0.4712363943754549], \"yaxis\": \"y\"}, {\"customdata\": [[0], [0], [0], [0], [0], [0], [0], [0], [0], [0], [0], [0], [0], [0], [0], [0], [0], [0], [0], [0], [0], [0], [0], [0], [0], [0], [0], [0], [0], [0], [0], [0], [0], [0], [0], [0], [1], [0], [0], [0], [0], [0], [0], [0], [0], [0], [0], [0], [0], [0], [0], [0], [0], [0], [0], [0], [0], [0], [0], [0], [0], [0], [0], [0], [0], [0], [0], [0], [0], [0], [0], [0], [0], [0], [0], [1], [1], [0], [0], [0], [0], [0], [0], [0], [0], [0], [0], [0], [0], [0], [0], [0], [0], [0], [0], [0], [0], [0], [0], [0], [0], [0], [0], [0], [0], [0], [0], [0], [0], [0], [0], [0], [0], [0], [0], [0], [0], [0], [0], [0]], \"hoverlabel\": {\"namelength\": 0}, \"hovertemplate\": \"Cluster=Cluster 3<br>PCA1=%{x}<br>PCA2=%{y}<br>Feature=%{customdata[0]}\", \"legendgroup\": \"Cluster=Cluster 3\", \"marker\": {\"color\": \"#ab63fa\", \"opacity\": 0.5, \"symbol\": \"circle\"}, \"mode\": \"markers\", \"name\": \"Cluster=Cluster 3\", \"showlegend\": true, \"textposition\": \"top center\", \"type\": \"scatter\", \"x\": [-1.0502085008339908, -1.2050518411625, -1.118165162911638, -1.5462931331007645, -0.7114711316773038, -0.7365907880653109, -0.16002254548121994, -0.6167371872933975, -1.0679240303033952, -1.1401742377091226, -0.9536550551026521, -1.0148651001933255, -1.5147249552889575, -0.5712258542641713, -1.0449196953451547, -1.1119086557082725, -1.4192758872623759, -0.29748199791184227, -1.1182868019937877, -1.1537059130618506, -1.4835344725596573, -1.4978161033766428, -1.0710106965943604, -0.7702831509516272, -0.9433079752194697, -0.9549531571695214, -1.0104778070824005, -0.8929271665098955, -0.9882725457454974, -0.22163724388006353, -1.510799708295509, -0.8677008326335313, -1.3154935144716802, -1.0390048278377106, -0.631516418875752, -1.6224031978242266, -1.1255155832614225, -1.0862372669943734, -0.5351672743156728, -0.9036364558676063, -0.9927352447336562, -0.85036827964948, -0.8295047368240991, -1.4943878857866555, -0.9296986493610564, -0.9245222118157084, -0.35318832729423677, -1.3365768271092493, -0.41117202486993787, -1.3023363516834463, -1.1231190705887655, -1.0588920880481938, -1.3779573475907883, -0.1859697779844853, -0.9809432608763128, -0.7954042943145259, -0.6568125862276132, -0.2897397194731143, -1.0650225273292062, -0.7775825713787586, -1.3208813187433253, -0.9861322335213963, -0.612610073199346, -0.8059009015262348, -1.1822588116973753, -1.5348769862769551, -0.6542551647527899, -1.0485806234421275, -1.0791040496790572, -1.6519220849565925, -1.1658434414278591, -0.9010816275640968, -1.0213150053105593, -0.7487362927727997, -1.2183142277033794, -1.0663327077380484, -1.3516491789658014, -0.9731863207332142, -1.054391851743838, -0.8207559373548488, -1.4525713340040238, -0.8140509676497059, -0.40619038385079703, -1.3404985539007725, -0.9189736563638121, -0.43422058778609146, -0.08266574093402179, -0.795077344924937, -0.970380943451284, -1.9731642315573903, -2.8227554756065563, -1.5737255210600591, -1.3349773176451245, -0.392840216993623, -0.6856912918978397, -1.0422897723333684, -0.3717202214604202, -0.5786783943858033, -0.5754960110302366, -1.0397266556096982, -0.3369158450625299, -1.1303235290613878, -1.955089866609409, -1.0575852058254969, -1.4443857618937204, -0.6539943296603565, -0.887404079926962, -1.1043668395176074, -1.2718513368541482, -0.7045903897196699, -1.5031777692918409, -1.2246632767302577, -1.0346216830471242, -0.2148550207757253, -0.8842442046922669, -0.9939697919884583, -1.4087829138924026, -1.2776727917978283, -0.8637962411671601, -0.4148751074646641], \"xaxis\": \"x\", \"y\": [-0.9021261873954479, -0.9748333612678579, -0.07013660571216082, -0.3032671940514024, -1.2119591731555102, 0.37626130630384036, -0.6244089322242519, -1.1387471627585355, -0.4751561971525821, -0.7364562212043894, -0.06647786951469128, -0.8463445728289403, -1.1389058514053836, -1.0864114664050903, -0.4146392292263917, -0.8461950017920956, -2.4326345860168836, -0.8183060743197489, -1.0619400128116971, -1.0590231406597386, -2.894428109227761, -1.382036668191958, -2.3320930281100836, 0.34969772580684394, -1.424440018673876, 0.44017809457935403, -0.9925355753662578, -0.169134920422469, -0.6322871597113024, 0.009707716477781262, -0.39695416965672675, -0.6655771993202976, -1.2462301714873472, -0.5194188311810715, -2.0237072132309497, -2.7203385152951185, -0.2953534391113145, -0.5867279298276068, -0.016161577041829904, -2.3333499852669086, -0.541305851228111, -2.085538908352814, -0.166311924711292, -1.0219907551145297, -0.5651864470772099, -0.5579035533717913, -0.4483532957388415, -0.40453702957962956, -0.18841735644076693, -0.2066652252328467, -0.8723426701371547, -0.448824981448463, -0.36176904035406166, -0.16515231358267693, -1.2556439088387161, 0.06035349733343594, -0.025167878035512223, -0.2740589104957452, -1.2177407837481118, -2.324811469108625, -2.8278540526000793, -0.6944679702152534, 0.03274845232142595, -0.8831581552929174, -0.7167683484382119, -1.1769928820671645, 0.16942489174091857, -1.9289379002400326, -1.2675093783946372, -0.9876863914088901, -2.3584205544150016, -1.3911056763738772, -0.5098641933681931, -0.7423498475857693, -1.1319549845543087, -0.012937064892038407, -0.633786858776898, -1.7781718397106134, -0.11830867627182726, -1.1349636111886976, 0.19971411086870253, 0.19476413408252063, -0.6976952377867247, -1.669626039982214, -0.8915973014826702, 0.23730118364199504, -0.3967217749376968, 0.22132387016939614, -0.44643981606649985, -2.0279254881506343, -1.9933739273318634, -2.6195876824107547, -1.5713436665493903, -0.43081456292721304, -0.25393066368879597, -2.699823820981923, -1.5236341587454296, -0.9296798045288015, -0.8524369422651226, -0.8349157212285344, -0.47436693301333366, -2.9960905848233823, -1.6562077168928575, -1.7708557706492745, -1.9476113790908294, -1.1172334152731531, -0.33792646359851036, -0.9485958086270858, -3.51103665317613, -2.304657579957526, -2.1940280925013655, -0.5771530632314731, -0.8059347391694661, -0.2665907563377198, -0.5444230412606669, -3.2308137433275936, -1.1473405328214568, -1.4647589692130873, -0.11477551013408488, -1.7224593973403528], \"yaxis\": \"y\"}],\n",
       "                        {\"height\": 600, \"legend\": {\"tracegroupgap\": 0}, \"margin\": {\"t\": 60}, \"plot_bgcolor\": \"rgb(240,240,240)\", \"template\": {\"data\": {\"bar\": [{\"error_x\": {\"color\": \"#2a3f5f\"}, \"error_y\": {\"color\": \"#2a3f5f\"}, \"marker\": {\"line\": {\"color\": \"#E5ECF6\", \"width\": 0.5}}, \"type\": \"bar\"}], \"barpolar\": [{\"marker\": {\"line\": {\"color\": \"#E5ECF6\", \"width\": 0.5}}, \"type\": \"barpolar\"}], \"carpet\": [{\"aaxis\": {\"endlinecolor\": \"#2a3f5f\", \"gridcolor\": \"white\", \"linecolor\": \"white\", \"minorgridcolor\": \"white\", \"startlinecolor\": \"#2a3f5f\"}, \"baxis\": {\"endlinecolor\": \"#2a3f5f\", \"gridcolor\": \"white\", \"linecolor\": \"white\", \"minorgridcolor\": \"white\", \"startlinecolor\": \"#2a3f5f\"}, \"type\": \"carpet\"}], \"choropleth\": [{\"colorbar\": {\"outlinewidth\": 0, \"ticks\": \"\"}, \"type\": \"choropleth\"}], \"contour\": [{\"colorbar\": {\"outlinewidth\": 0, \"ticks\": \"\"}, \"colorscale\": [[0.0, \"#0d0887\"], [0.1111111111111111, \"#46039f\"], [0.2222222222222222, \"#7201a8\"], [0.3333333333333333, \"#9c179e\"], [0.4444444444444444, \"#bd3786\"], [0.5555555555555556, \"#d8576b\"], [0.6666666666666666, \"#ed7953\"], [0.7777777777777778, \"#fb9f3a\"], [0.8888888888888888, \"#fdca26\"], [1.0, \"#f0f921\"]], \"type\": \"contour\"}], \"contourcarpet\": [{\"colorbar\": {\"outlinewidth\": 0, \"ticks\": \"\"}, \"type\": \"contourcarpet\"}], \"heatmap\": [{\"colorbar\": {\"outlinewidth\": 0, \"ticks\": \"\"}, \"colorscale\": [[0.0, \"#0d0887\"], [0.1111111111111111, \"#46039f\"], [0.2222222222222222, \"#7201a8\"], [0.3333333333333333, \"#9c179e\"], [0.4444444444444444, \"#bd3786\"], [0.5555555555555556, \"#d8576b\"], [0.6666666666666666, \"#ed7953\"], [0.7777777777777778, \"#fb9f3a\"], [0.8888888888888888, \"#fdca26\"], [1.0, \"#f0f921\"]], \"type\": \"heatmap\"}], \"heatmapgl\": [{\"colorbar\": {\"outlinewidth\": 0, \"ticks\": \"\"}, \"colorscale\": [[0.0, \"#0d0887\"], [0.1111111111111111, \"#46039f\"], [0.2222222222222222, \"#7201a8\"], [0.3333333333333333, \"#9c179e\"], [0.4444444444444444, \"#bd3786\"], [0.5555555555555556, \"#d8576b\"], [0.6666666666666666, \"#ed7953\"], [0.7777777777777778, \"#fb9f3a\"], [0.8888888888888888, \"#fdca26\"], [1.0, \"#f0f921\"]], \"type\": \"heatmapgl\"}], \"histogram\": [{\"marker\": {\"colorbar\": {\"outlinewidth\": 0, \"ticks\": \"\"}}, \"type\": \"histogram\"}], \"histogram2d\": [{\"colorbar\": {\"outlinewidth\": 0, \"ticks\": \"\"}, \"colorscale\": [[0.0, \"#0d0887\"], [0.1111111111111111, \"#46039f\"], [0.2222222222222222, \"#7201a8\"], [0.3333333333333333, \"#9c179e\"], [0.4444444444444444, \"#bd3786\"], [0.5555555555555556, \"#d8576b\"], [0.6666666666666666, \"#ed7953\"], [0.7777777777777778, \"#fb9f3a\"], [0.8888888888888888, \"#fdca26\"], [1.0, \"#f0f921\"]], \"type\": \"histogram2d\"}], \"histogram2dcontour\": [{\"colorbar\": {\"outlinewidth\": 0, \"ticks\": \"\"}, \"colorscale\": [[0.0, \"#0d0887\"], [0.1111111111111111, \"#46039f\"], [0.2222222222222222, \"#7201a8\"], [0.3333333333333333, \"#9c179e\"], [0.4444444444444444, \"#bd3786\"], [0.5555555555555556, \"#d8576b\"], [0.6666666666666666, \"#ed7953\"], [0.7777777777777778, \"#fb9f3a\"], [0.8888888888888888, \"#fdca26\"], [1.0, \"#f0f921\"]], \"type\": \"histogram2dcontour\"}], \"mesh3d\": [{\"colorbar\": {\"outlinewidth\": 0, \"ticks\": \"\"}, \"type\": \"mesh3d\"}], \"parcoords\": [{\"line\": {\"colorbar\": {\"outlinewidth\": 0, \"ticks\": \"\"}}, \"type\": \"parcoords\"}], \"pie\": [{\"automargin\": true, \"type\": \"pie\"}], \"scatter\": [{\"marker\": {\"colorbar\": {\"outlinewidth\": 0, \"ticks\": \"\"}}, \"type\": \"scatter\"}], \"scatter3d\": [{\"line\": {\"colorbar\": {\"outlinewidth\": 0, \"ticks\": \"\"}}, \"marker\": {\"colorbar\": {\"outlinewidth\": 0, \"ticks\": \"\"}}, \"type\": \"scatter3d\"}], \"scattercarpet\": [{\"marker\": {\"colorbar\": {\"outlinewidth\": 0, \"ticks\": \"\"}}, \"type\": \"scattercarpet\"}], \"scattergeo\": [{\"marker\": {\"colorbar\": {\"outlinewidth\": 0, \"ticks\": \"\"}}, \"type\": \"scattergeo\"}], \"scattergl\": [{\"marker\": {\"colorbar\": {\"outlinewidth\": 0, \"ticks\": \"\"}}, \"type\": \"scattergl\"}], \"scattermapbox\": [{\"marker\": {\"colorbar\": {\"outlinewidth\": 0, \"ticks\": \"\"}}, \"type\": \"scattermapbox\"}], \"scatterpolar\": [{\"marker\": {\"colorbar\": {\"outlinewidth\": 0, \"ticks\": \"\"}}, \"type\": \"scatterpolar\"}], \"scatterpolargl\": [{\"marker\": {\"colorbar\": {\"outlinewidth\": 0, \"ticks\": \"\"}}, \"type\": \"scatterpolargl\"}], \"scatterternary\": [{\"marker\": {\"colorbar\": {\"outlinewidth\": 0, \"ticks\": \"\"}}, \"type\": \"scatterternary\"}], \"surface\": [{\"colorbar\": {\"outlinewidth\": 0, \"ticks\": \"\"}, \"colorscale\": [[0.0, \"#0d0887\"], [0.1111111111111111, \"#46039f\"], [0.2222222222222222, \"#7201a8\"], [0.3333333333333333, \"#9c179e\"], [0.4444444444444444, \"#bd3786\"], [0.5555555555555556, \"#d8576b\"], [0.6666666666666666, \"#ed7953\"], [0.7777777777777778, \"#fb9f3a\"], [0.8888888888888888, \"#fdca26\"], [1.0, \"#f0f921\"]], \"type\": \"surface\"}], \"table\": [{\"cells\": {\"fill\": {\"color\": \"#EBF0F8\"}, \"line\": {\"color\": \"white\"}}, \"header\": {\"fill\": {\"color\": \"#C8D4E3\"}, \"line\": {\"color\": \"white\"}}, \"type\": \"table\"}]}, \"layout\": {\"annotationdefaults\": {\"arrowcolor\": \"#2a3f5f\", \"arrowhead\": 0, \"arrowwidth\": 1}, \"coloraxis\": {\"colorbar\": {\"outlinewidth\": 0, \"ticks\": \"\"}}, \"colorscale\": {\"diverging\": [[0, \"#8e0152\"], [0.1, \"#c51b7d\"], [0.2, \"#de77ae\"], [0.3, \"#f1b6da\"], [0.4, \"#fde0ef\"], [0.5, \"#f7f7f7\"], [0.6, \"#e6f5d0\"], [0.7, \"#b8e186\"], [0.8, \"#7fbc41\"], [0.9, \"#4d9221\"], [1, \"#276419\"]], \"sequential\": [[0.0, \"#0d0887\"], [0.1111111111111111, \"#46039f\"], [0.2222222222222222, \"#7201a8\"], [0.3333333333333333, \"#9c179e\"], [0.4444444444444444, \"#bd3786\"], [0.5555555555555556, \"#d8576b\"], [0.6666666666666666, \"#ed7953\"], [0.7777777777777778, \"#fb9f3a\"], [0.8888888888888888, \"#fdca26\"], [1.0, \"#f0f921\"]], \"sequentialminus\": [[0.0, \"#0d0887\"], [0.1111111111111111, \"#46039f\"], [0.2222222222222222, \"#7201a8\"], [0.3333333333333333, \"#9c179e\"], [0.4444444444444444, \"#bd3786\"], [0.5555555555555556, \"#d8576b\"], [0.6666666666666666, \"#ed7953\"], [0.7777777777777778, \"#fb9f3a\"], [0.8888888888888888, \"#fdca26\"], [1.0, \"#f0f921\"]]}, \"colorway\": [\"#636efa\", \"#EF553B\", \"#00cc96\", \"#ab63fa\", \"#FFA15A\", \"#19d3f3\", \"#FF6692\", \"#B6E880\", \"#FF97FF\", \"#FECB52\"], \"font\": {\"color\": \"#2a3f5f\"}, \"geo\": {\"bgcolor\": \"white\", \"lakecolor\": \"white\", \"landcolor\": \"#E5ECF6\", \"showlakes\": true, \"showland\": true, \"subunitcolor\": \"white\"}, \"hoverlabel\": {\"align\": \"left\"}, \"hovermode\": \"closest\", \"mapbox\": {\"style\": \"light\"}, \"paper_bgcolor\": \"white\", \"plot_bgcolor\": \"#E5ECF6\", \"polar\": {\"angularaxis\": {\"gridcolor\": \"white\", \"linecolor\": \"white\", \"ticks\": \"\"}, \"bgcolor\": \"#E5ECF6\", \"radialaxis\": {\"gridcolor\": \"white\", \"linecolor\": \"white\", \"ticks\": \"\"}}, \"scene\": {\"xaxis\": {\"backgroundcolor\": \"#E5ECF6\", \"gridcolor\": \"white\", \"gridwidth\": 2, \"linecolor\": \"white\", \"showbackground\": true, \"ticks\": \"\", \"zerolinecolor\": \"white\"}, \"yaxis\": {\"backgroundcolor\": \"#E5ECF6\", \"gridcolor\": \"white\", \"gridwidth\": 2, \"linecolor\": \"white\", \"showbackground\": true, \"ticks\": \"\", \"zerolinecolor\": \"white\"}, \"zaxis\": {\"backgroundcolor\": \"#E5ECF6\", \"gridcolor\": \"white\", \"gridwidth\": 2, \"linecolor\": \"white\", \"showbackground\": true, \"ticks\": \"\", \"zerolinecolor\": \"white\"}}, \"shapedefaults\": {\"line\": {\"color\": \"#2a3f5f\"}}, \"ternary\": {\"aaxis\": {\"gridcolor\": \"white\", \"linecolor\": \"white\", \"ticks\": \"\"}, \"baxis\": {\"gridcolor\": \"white\", \"linecolor\": \"white\", \"ticks\": \"\"}, \"bgcolor\": \"#E5ECF6\", \"caxis\": {\"gridcolor\": \"white\", \"linecolor\": \"white\", \"ticks\": \"\"}}, \"title\": {\"x\": 0.05}, \"xaxis\": {\"automargin\": true, \"gridcolor\": \"white\", \"linecolor\": \"white\", \"ticks\": \"\", \"title\": {\"standoff\": 15}, \"zerolinecolor\": \"white\", \"zerolinewidth\": 2}, \"yaxis\": {\"automargin\": true, \"gridcolor\": \"white\", \"linecolor\": \"white\", \"ticks\": \"\", \"title\": {\"standoff\": 15}, \"zerolinecolor\": \"white\", \"zerolinewidth\": 2}}}, \"title\": {\"text\": \"2D Cluster PCA Plot\"}, \"xaxis\": {\"anchor\": \"y\", \"domain\": [0.0, 1.0], \"title\": {\"text\": \"PCA1\"}}, \"yaxis\": {\"anchor\": \"x\", \"domain\": [0.0, 1.0], \"title\": {\"text\": \"PCA2\"}}},\n",
       "                        {\"responsive\": true}\n",
       "                    ).then(function(){\n",
       "                            \n",
       "var gd = document.getElementById('8178d554-fa24-4fd3-a34e-5efea328270e');\n",
       "var x = new MutationObserver(function (mutations, observer) {{\n",
       "        var display = window.getComputedStyle(gd).display;\n",
       "        if (!display || display === 'none') {{\n",
       "            console.log([gd, 'removed!']);\n",
       "            Plotly.purge(gd);\n",
       "            observer.disconnect();\n",
       "        }}\n",
       "}});\n",
       "\n",
       "// Listen for the removal of the full notebook cells\n",
       "var notebookContainer = gd.closest('#notebook-container');\n",
       "if (notebookContainer) {{\n",
       "    x.observe(notebookContainer, {childList: true});\n",
       "}}\n",
       "\n",
       "// Listen for the clearing of the current output cell\n",
       "var outputEl = gd.closest('.output');\n",
       "if (outputEl) {{\n",
       "    x.observe(outputEl, {childList: true});\n",
       "}}\n",
       "\n",
       "                        })\n",
       "                };\n",
       "                });\n",
       "            </script>\n",
       "        </div>"
      ]
     },
     "metadata": {},
     "output_type": "display_data"
    }
   ],
   "source": [
    "plot_model(kmeans)"
   ]
  },
  {
   "cell_type": "code",
   "execution_count": 19,
   "metadata": {},
   "outputs": [
    {
     "data": {
      "text/html": [
       "        <script type=\"text/javascript\">\n",
       "        window.PlotlyConfig = {MathJaxConfig: 'local'};\n",
       "        if (window.MathJax) {MathJax.Hub.Config({SVG: {font: \"STIX-Web\"}});}\n",
       "        if (typeof require !== 'undefined') {\n",
       "        require.undef(\"plotly\");\n",
       "        requirejs.config({\n",
       "            paths: {\n",
       "                'plotly': ['https://cdn.plot.ly/plotly-latest.min']\n",
       "            }\n",
       "        });\n",
       "        require(['plotly'], function(Plotly) {\n",
       "            window._Plotly = Plotly;\n",
       "        });\n",
       "        }\n",
       "        </script>\n",
       "        "
      ]
     },
     "metadata": {},
     "output_type": "display_data"
    },
    {
     "data": {
      "image/png": "[encoded data removed]",
      "text/plain": [
       "<Figure size 576x396 with 1 Axes>"
      ]
     },
     "metadata": {},
     "output_type": "display_data"
    }
   ],
   "source": [
    "plot_model(kmeans, plot = 'elbow')"
   ]
  },
  {
   "cell_type": "code",
   "execution_count": 20,
   "metadata": {},
   "outputs": [],
   "source": [
    "# kmean_results.to_csv('kmeans.csv')"
   ]
  },
  {
   "cell_type": "code",
   "execution_count": 21,
   "metadata": {},
   "outputs": [
    {
     "data": {
      "text/html": [
       "        <script type=\"text/javascript\">\n",
       "        window.PlotlyConfig = {MathJaxConfig: 'local'};\n",
       "        if (window.MathJax) {MathJax.Hub.Config({SVG: {font: \"STIX-Web\"}});}\n",
       "        if (typeof require !== 'undefined') {\n",
       "        require.undef(\"plotly\");\n",
       "        requirejs.config({\n",
       "            paths: {\n",
       "                'plotly': ['https://cdn.plot.ly/plotly-latest.min']\n",
       "            }\n",
       "        });\n",
       "        require(['plotly'], function(Plotly) {\n",
       "            window._Plotly = Plotly;\n",
       "        });\n",
       "        }\n",
       "        </script>\n",
       "        "
      ]
     },
     "metadata": {},
     "output_type": "display_data"
    },
    {
     "data": {
      "image/png": "[encoded data removed]",
      "text/plain": [
       "<Figure size 576x396 with 1 Axes>"
      ]
     },
     "metadata": {},
     "output_type": "display_data"
    }
   ],
   "source": [
    "plot_model(kmeans, plot = 'silhouette')"
   ]
  },
  {
   "cell_type": "code",
   "execution_count": null,
   "metadata": {},
   "outputs": [],
   "source": []
  },
  {
   "cell_type": "code",
   "execution_count": null,
   "metadata": {},
   "outputs": [],
   "source": []
  }
 ],
 "metadata": {
  "kernelspec": {
   "display_name": "Python 3",
   "language": "python",
   "name": "python3"
  },
  "language_info": {
   "codemirror_mode": {
    "name": "ipython",
    "version": 3
   },
   "file_extension": ".py",
   "mimetype": "text/x-python",
   "name": "python",
   "nbconvert_exporter": "python",
   "pygments_lexer": "ipython3",
   "version": "3.8.3"
  }
 },
 "nbformat": 4,
 "nbformat_minor": 4
}
