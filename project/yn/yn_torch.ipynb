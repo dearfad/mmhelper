{
 "metadata": {
  "language_info": {
   "codemirror_mode": {
    "name": "ipython",
    "version": 3
   },
   "file_extension": ".py",
   "mimetype": "text/x-python",
   "name": "python",
   "nbconvert_exporter": "python",
   "pygments_lexer": "ipython3",
   "version": "3.8.5-final"
  },
  "orig_nbformat": 2,
  "kernelspec": {
   "name": "Python 3.8.5 64-bit",
   "display_name": "Python 3.8.5 64-bit",
   "metadata": {
    "interpreter": {
     "hash": "6b881b2749935116588268fee9d7176cbb8d0c7eeface6b1ec191983ac516378"
    }
   }
  }
 },
 "nbformat": 4,
 "nbformat_minor": 2,
 "cells": [
  {
   "cell_type": "code",
   "execution_count": 155,
   "metadata": {},
   "outputs": [],
   "source": [
    "import torch\n",
    "import numpy as np\n",
    "import pandas as pd\n",
    "from sklearn import preprocessing\n",
    "from sklearn.metrics import confusion_matrix\n",
    "from sklearn.model_selection import train_test_split"
   ]
  },
  {
   "cell_type": "code",
   "execution_count": 156,
   "metadata": {},
   "outputs": [
    {
     "output_type": "execute_result",
     "data": {
      "text/plain": "Index([&#39;malignant&#39;, &#39;bilateral&#39;, &#39;age&#39;, &#39;month&#39;, &#39;bmi&#39;, &#39;diabetes&#39;,\n       &#39;hypertension&#39;, &#39;surgery&#39;, &#39;smoking&#39;, &#39;family&#39;, &#39;menarche&#39;, &#39;menopause&#39;,\n       &#39;miscarriage&#39;, &#39;pregnancy&#39;, &#39;childbearing&#39;, &#39;nd_blood&#39;, &#39;nd_milk&#39;,\n       &#39;nd_serous&#39;, &#39;nd_change&#39;, &#39;nd_number&#39;, &#39;nd_mass&#39;, &#39;nd_position&#39;,\n       &#39;nd_distance&#39;, &#39;nd_shape&#39;, &#39;nd_surface&#39;, &#39;nd_dispersion&#39;, &#39;nd_quantity&#39;,\n       &#39;nd_distribution&#39;, &#39;nd_retraction&#39;, &#39;nd_appearance&#39;, &#39;us_ductectasia&#39;,\n       &#39;us_intramass&#39;, &#39;us_cysmass&#39;, &#39;us_mass&#39;, &#39;us_size&#39;, &#39;us_position&#39;,\n       &#39;us_distance&#39;, &#39;us_shape&#39;, &#39;us_boundary&#39;, &#39;us_bloodflow&#39;,\n       &#39;us_calcification&#39;, &#39;us_birads&#39;, &#39;xray&#39;],\n      dtype=&#39;object&#39;)"
     },
     "metadata": {},
     "execution_count": 156
    }
   ],
   "source": [
    "# Read .csv\n",
    "data = pd.read_csv('data.csv')\n",
    "data.columns"
   ]
  },
  {
   "cell_type": "code",
   "execution_count": 157,
   "metadata": {
    "tags": []
   },
   "outputs": [],
   "source": [
    "# 指定标签及特征\n",
    "\n",
    "label = data['malignant']\n",
    "features = data.drop(columns=['malignant'])"
   ]
  },
  {
   "cell_type": "code",
   "execution_count": 158,
   "metadata": {},
   "outputs": [],
   "source": [
    "# One-Hot 编码分类数据\n",
    "\n",
    "features = pd.get_dummies(features)"
   ]
  },
  {
   "cell_type": "code",
   "execution_count": 159,
   "metadata": {},
   "outputs": [],
   "source": [
    "# 数值标准化\n",
    "\n",
    "features = preprocessing.StandardScaler().fit_transform(features)"
   ]
  },
  {
   "cell_type": "code",
   "execution_count": 160,
   "metadata": {},
   "outputs": [],
   "source": [
    "# 指定 x, y\n",
    "\n",
    "x = torch.from_numpy(np.array(features)).float().cuda()\n",
    "y = torch.from_numpy(np.array(label)).cuda()"
   ]
  },
  {
   "cell_type": "code",
   "execution_count": 161,
   "metadata": {},
   "outputs": [
    {
     "output_type": "execute_result",
     "data": {
      "text/plain": "torch.Size([355, 42])"
     },
     "metadata": {},
     "execution_count": 161
    }
   ],
   "source": [
    "x.shape"
   ]
  },
  {
   "cell_type": "code",
   "execution_count": 162,
   "metadata": {},
   "outputs": [],
   "source": [
    "x_train, x_test, y_train, y_test = train_test_split(x, y, test_size=0.3, random_state=12)"
   ]
  },
  {
   "cell_type": "code",
   "execution_count": 163,
   "metadata": {},
   "outputs": [],
   "source": [
    "# 构建网络\n",
    "\n",
    "net = torch.nn.Sequential(\n",
    "    torch.nn.Linear(x.shape[1], 1028),\n",
    "    torch.nn.ReLU(),\n",
    "    torch.nn.Linear(1028, 2)\n",
    ")\n",
    "\n",
    "optimizer = torch.optim.SGD(net.parameters(), lr=0.05)\n",
    "loss_func = torch.nn.CrossEntropyLoss()"
   ]
  },
  {
   "cell_type": "code",
   "execution_count": 164,
   "metadata": {},
   "outputs": [],
   "source": [
    "net = net.cuda()"
   ]
  },
  {
   "cell_type": "code",
   "execution_count": 165,
   "metadata": {
    "tags": [
     "outputPrepend"
    ]
   },
   "outputs": [
    {
     "output_type": "stream",
     "name": "stdout",
     "text": "evice=&#39;cuda:0&#39;, grad_fn=&lt;NllLossBackward&gt;)\n241 tensor(0.1089, device=&#39;cuda:0&#39;, grad_fn=&lt;NllLossBackward&gt;)\n242 tensor(0.1084, device=&#39;cuda:0&#39;, grad_fn=&lt;NllLossBackward&gt;)\n243 tensor(0.1080, device=&#39;cuda:0&#39;, grad_fn=&lt;NllLossBackward&gt;)\n244 tensor(0.1075, device=&#39;cuda:0&#39;, grad_fn=&lt;NllLossBackward&gt;)\n245 tensor(0.1071, device=&#39;cuda:0&#39;, grad_fn=&lt;NllLossBackward&gt;)\n246 tensor(0.1066, device=&#39;cuda:0&#39;, grad_fn=&lt;NllLossBackward&gt;)\n247 tensor(0.1062, device=&#39;cuda:0&#39;, grad_fn=&lt;NllLossBackward&gt;)\n248 tensor(0.1058, device=&#39;cuda:0&#39;, grad_fn=&lt;NllLossBackward&gt;)\n249 tensor(0.1053, device=&#39;cuda:0&#39;, grad_fn=&lt;NllLossBackward&gt;)\n250 tensor(0.1049, device=&#39;cuda:0&#39;, grad_fn=&lt;NllLossBackward&gt;)\n251 tensor(0.1045, device=&#39;cuda:0&#39;, grad_fn=&lt;NllLossBackward&gt;)\n252 tensor(0.1041, device=&#39;cuda:0&#39;, grad_fn=&lt;NllLossBackward&gt;)\n253 tensor(0.1036, device=&#39;cuda:0&#39;, grad_fn=&lt;NllLossBackward&gt;)\n254 tensor(0.1032, device=&#39;cuda:0&#39;, grad_fn=&lt;NllLossBackward&gt;)\n255 tensor(0.1028, device=&#39;cuda:0&#39;, grad_fn=&lt;NllLossBackward&gt;)\n256 tensor(0.1024, device=&#39;cuda:0&#39;, grad_fn=&lt;NllLossBackward&gt;)\n257 tensor(0.1020, device=&#39;cuda:0&#39;, grad_fn=&lt;NllLossBackward&gt;)\n258 tensor(0.1016, device=&#39;cuda:0&#39;, grad_fn=&lt;NllLossBackward&gt;)\n259 tensor(0.1011, device=&#39;cuda:0&#39;, grad_fn=&lt;NllLossBackward&gt;)\n260 tensor(0.1007, device=&#39;cuda:0&#39;, grad_fn=&lt;NllLossBackward&gt;)\n261 tensor(0.1003, device=&#39;cuda:0&#39;, grad_fn=&lt;NllLossBackward&gt;)\n262 tensor(0.0999, device=&#39;cuda:0&#39;, grad_fn=&lt;NllLossBackward&gt;)\n263 tensor(0.0995, device=&#39;cuda:0&#39;, grad_fn=&lt;NllLossBackward&gt;)\n264 tensor(0.0991, device=&#39;cuda:0&#39;, grad_fn=&lt;NllLossBackward&gt;)\n265 tensor(0.0987, device=&#39;cuda:0&#39;, grad_fn=&lt;NllLossBackward&gt;)\n266 tensor(0.0983, device=&#39;cuda:0&#39;, grad_fn=&lt;NllLossBackward&gt;)\n267 tensor(0.0979, device=&#39;cuda:0&#39;, grad_fn=&lt;NllLossBackward&gt;)\n268 tensor(0.0976, device=&#39;cuda:0&#39;, grad_fn=&lt;NllLossBackward&gt;)\n269 tensor(0.0972, device=&#39;cuda:0&#39;, grad_fn=&lt;NllLossBackward&gt;)\n270 tensor(0.0968, device=&#39;cuda:0&#39;, grad_fn=&lt;NllLossBackward&gt;)\n271 tensor(0.0964, device=&#39;cuda:0&#39;, grad_fn=&lt;NllLossBackward&gt;)\n272 tensor(0.0960, device=&#39;cuda:0&#39;, grad_fn=&lt;NllLossBackward&gt;)\n273 tensor(0.0956, device=&#39;cuda:0&#39;, grad_fn=&lt;NllLossBackward&gt;)\n274 tensor(0.0952, device=&#39;cuda:0&#39;, grad_fn=&lt;NllLossBackward&gt;)\n275 tensor(0.0949, device=&#39;cuda:0&#39;, grad_fn=&lt;NllLossBackward&gt;)\n276 tensor(0.0945, device=&#39;cuda:0&#39;, grad_fn=&lt;NllLossBackward&gt;)\n277 tensor(0.0941, device=&#39;cuda:0&#39;, grad_fn=&lt;NllLossBackward&gt;)\n278 tensor(0.0937, device=&#39;cuda:0&#39;, grad_fn=&lt;NllLossBackward&gt;)\n279 tensor(0.0934, device=&#39;cuda:0&#39;, grad_fn=&lt;NllLossBackward&gt;)\n280 tensor(0.0930, device=&#39;cuda:0&#39;, grad_fn=&lt;NllLossBackward&gt;)\n281 tensor(0.0926, device=&#39;cuda:0&#39;, grad_fn=&lt;NllLossBackward&gt;)\n282 tensor(0.0923, device=&#39;cuda:0&#39;, grad_fn=&lt;NllLossBackward&gt;)\n283 tensor(0.0919, device=&#39;cuda:0&#39;, grad_fn=&lt;NllLossBackward&gt;)\n284 tensor(0.0916, device=&#39;cuda:0&#39;, grad_fn=&lt;NllLossBackward&gt;)\n285 tensor(0.0912, device=&#39;cuda:0&#39;, grad_fn=&lt;NllLossBackward&gt;)\n286 tensor(0.0908, device=&#39;cuda:0&#39;, grad_fn=&lt;NllLossBackward&gt;)\n287 tensor(0.0905, device=&#39;cuda:0&#39;, grad_fn=&lt;NllLossBackward&gt;)\n288 tensor(0.0901, device=&#39;cuda:0&#39;, grad_fn=&lt;NllLossBackward&gt;)\n289 tensor(0.0898, device=&#39;cuda:0&#39;, grad_fn=&lt;NllLossBackward&gt;)\n290 tensor(0.0894, device=&#39;cuda:0&#39;, grad_fn=&lt;NllLossBackward&gt;)\n291 tensor(0.0891, device=&#39;cuda:0&#39;, grad_fn=&lt;NllLossBackward&gt;)\n292 tensor(0.0887, device=&#39;cuda:0&#39;, grad_fn=&lt;NllLossBackward&gt;)\n293 tensor(0.0884, device=&#39;cuda:0&#39;, grad_fn=&lt;NllLossBackward&gt;)\n294 tensor(0.0880, device=&#39;cuda:0&#39;, grad_fn=&lt;NllLossBackward&gt;)\n295 tensor(0.0877, device=&#39;cuda:0&#39;, grad_fn=&lt;NllLossBackward&gt;)\n296 tensor(0.0874, device=&#39;cuda:0&#39;, grad_fn=&lt;NllLossBackward&gt;)\n297 tensor(0.0870, device=&#39;cuda:0&#39;, grad_fn=&lt;NllLossBackward&gt;)\n298 tensor(0.0867, device=&#39;cuda:0&#39;, grad_fn=&lt;NllLossBackward&gt;)\n299 tensor(0.0864, device=&#39;cuda:0&#39;, grad_fn=&lt;NllLossBackward&gt;)\n300 tensor(0.0860, device=&#39;cuda:0&#39;, grad_fn=&lt;NllLossBackward&gt;)\n301 tensor(0.0857, device=&#39;cuda:0&#39;, grad_fn=&lt;NllLossBackward&gt;)\n302 tensor(0.0854, device=&#39;cuda:0&#39;, grad_fn=&lt;NllLossBackward&gt;)\n303 tensor(0.0850, device=&#39;cuda:0&#39;, grad_fn=&lt;NllLossBackward&gt;)\n304 tensor(0.0847, device=&#39;cuda:0&#39;, grad_fn=&lt;NllLossBackward&gt;)\n305 tensor(0.0844, device=&#39;cuda:0&#39;, grad_fn=&lt;NllLossBackward&gt;)\n306 tensor(0.0841, device=&#39;cuda:0&#39;, grad_fn=&lt;NllLossBackward&gt;)\n307 tensor(0.0837, device=&#39;cuda:0&#39;, grad_fn=&lt;NllLossBackward&gt;)\n308 tensor(0.0834, device=&#39;cuda:0&#39;, grad_fn=&lt;NllLossBackward&gt;)\n309 tensor(0.0831, device=&#39;cuda:0&#39;, grad_fn=&lt;NllLossBackward&gt;)\n310 tensor(0.0828, device=&#39;cuda:0&#39;, grad_fn=&lt;NllLossBackward&gt;)\n311 tensor(0.0825, device=&#39;cuda:0&#39;, grad_fn=&lt;NllLossBackward&gt;)\n312 tensor(0.0822, device=&#39;cuda:0&#39;, grad_fn=&lt;NllLossBackward&gt;)\n313 tensor(0.0818, device=&#39;cuda:0&#39;, grad_fn=&lt;NllLossBackward&gt;)\n314 tensor(0.0815, device=&#39;cuda:0&#39;, grad_fn=&lt;NllLossBackward&gt;)\n315 tensor(0.0812, device=&#39;cuda:0&#39;, grad_fn=&lt;NllLossBackward&gt;)\n316 tensor(0.0809, device=&#39;cuda:0&#39;, grad_fn=&lt;NllLossBackward&gt;)\n317 tensor(0.0806, device=&#39;cuda:0&#39;, grad_fn=&lt;NllLossBackward&gt;)\n318 tensor(0.0803, device=&#39;cuda:0&#39;, grad_fn=&lt;NllLossBackward&gt;)\n319 tensor(0.0800, device=&#39;cuda:0&#39;, grad_fn=&lt;NllLossBackward&gt;)\n320 tensor(0.0797, device=&#39;cuda:0&#39;, grad_fn=&lt;NllLossBackward&gt;)\n321 tensor(0.0794, device=&#39;cuda:0&#39;, grad_fn=&lt;NllLossBackward&gt;)\n322 tensor(0.0791, device=&#39;cuda:0&#39;, grad_fn=&lt;NllLossBackward&gt;)\n323 tensor(0.0788, device=&#39;cuda:0&#39;, grad_fn=&lt;NllLossBackward&gt;)\n324 tensor(0.0785, device=&#39;cuda:0&#39;, grad_fn=&lt;NllLossBackward&gt;)\n325 tensor(0.0782, device=&#39;cuda:0&#39;, grad_fn=&lt;NllLossBackward&gt;)\n326 tensor(0.0779, device=&#39;cuda:0&#39;, grad_fn=&lt;NllLossBackward&gt;)\n327 tensor(0.0776, device=&#39;cuda:0&#39;, grad_fn=&lt;NllLossBackward&gt;)\n328 tensor(0.0774, device=&#39;cuda:0&#39;, grad_fn=&lt;NllLossBackward&gt;)\n329 tensor(0.0771, device=&#39;cuda:0&#39;, grad_fn=&lt;NllLossBackward&gt;)\n330 tensor(0.0768, device=&#39;cuda:0&#39;, grad_fn=&lt;NllLossBackward&gt;)\n331 tensor(0.0765, device=&#39;cuda:0&#39;, grad_fn=&lt;NllLossBackward&gt;)\n332 tensor(0.0762, device=&#39;cuda:0&#39;, grad_fn=&lt;NllLossBackward&gt;)\n333 tensor(0.0759, device=&#39;cuda:0&#39;, grad_fn=&lt;NllLossBackward&gt;)\n334 tensor(0.0757, device=&#39;cuda:0&#39;, grad_fn=&lt;NllLossBackward&gt;)\n335 tensor(0.0754, device=&#39;cuda:0&#39;, grad_fn=&lt;NllLossBackward&gt;)\n336 tensor(0.0751, device=&#39;cuda:0&#39;, grad_fn=&lt;NllLossBackward&gt;)\n337 tensor(0.0748, device=&#39;cuda:0&#39;, grad_fn=&lt;NllLossBackward&gt;)\n338 tensor(0.0745, device=&#39;cuda:0&#39;, grad_fn=&lt;NllLossBackward&gt;)\n339 tensor(0.0743, device=&#39;cuda:0&#39;, grad_fn=&lt;NllLossBackward&gt;)\n340 tensor(0.0740, device=&#39;cuda:0&#39;, grad_fn=&lt;NllLossBackward&gt;)\n341 tensor(0.0737, device=&#39;cuda:0&#39;, grad_fn=&lt;NllLossBackward&gt;)\n342 tensor(0.0735, device=&#39;cuda:0&#39;, grad_fn=&lt;NllLossBackward&gt;)\n343 tensor(0.0732, device=&#39;cuda:0&#39;, grad_fn=&lt;NllLossBackward&gt;)\n344 tensor(0.0729, device=&#39;cuda:0&#39;, grad_fn=&lt;NllLossBackward&gt;)\n345 tensor(0.0727, device=&#39;cuda:0&#39;, grad_fn=&lt;NllLossBackward&gt;)\n346 tensor(0.0724, device=&#39;cuda:0&#39;, grad_fn=&lt;NllLossBackward&gt;)\n347 tensor(0.0721, device=&#39;cuda:0&#39;, grad_fn=&lt;NllLossBackward&gt;)\n348 tensor(0.0719, device=&#39;cuda:0&#39;, grad_fn=&lt;NllLossBackward&gt;)\n349 tensor(0.0716, device=&#39;cuda:0&#39;, grad_fn=&lt;NllLossBackward&gt;)\n350 tensor(0.0714, device=&#39;cuda:0&#39;, grad_fn=&lt;NllLossBackward&gt;)\n351 tensor(0.0711, device=&#39;cuda:0&#39;, grad_fn=&lt;NllLossBackward&gt;)\n352 tensor(0.0708, device=&#39;cuda:0&#39;, grad_fn=&lt;NllLossBackward&gt;)\n353 tensor(0.0706, device=&#39;cuda:0&#39;, grad_fn=&lt;NllLossBackward&gt;)\n354 tensor(0.0703, device=&#39;cuda:0&#39;, grad_fn=&lt;NllLossBackward&gt;)\n355 tensor(0.0701, device=&#39;cuda:0&#39;, grad_fn=&lt;NllLossBackward&gt;)\n356 tensor(0.0698, device=&#39;cuda:0&#39;, grad_fn=&lt;NllLossBackward&gt;)\n357 tensor(0.0696, device=&#39;cuda:0&#39;, grad_fn=&lt;NllLossBackward&gt;)\n358 tensor(0.0693, device=&#39;cuda:0&#39;, grad_fn=&lt;NllLossBackward&gt;)\n359 tensor(0.0691, device=&#39;cuda:0&#39;, grad_fn=&lt;NllLossBackward&gt;)\n360 tensor(0.0688, device=&#39;cuda:0&#39;, grad_fn=&lt;NllLossBackward&gt;)\n361 tensor(0.0686, device=&#39;cuda:0&#39;, grad_fn=&lt;NllLossBackward&gt;)\n362 tensor(0.0683, device=&#39;cuda:0&#39;, grad_fn=&lt;NllLossBackward&gt;)\n363 tensor(0.0681, device=&#39;cuda:0&#39;, grad_fn=&lt;NllLossBackward&gt;)\n364 tensor(0.0678, device=&#39;cuda:0&#39;, grad_fn=&lt;NllLossBackward&gt;)\n365 tensor(0.0676, device=&#39;cuda:0&#39;, grad_fn=&lt;NllLossBackward&gt;)\n366 tensor(0.0674, device=&#39;cuda:0&#39;, grad_fn=&lt;NllLossBackward&gt;)\n367 tensor(0.0671, device=&#39;cuda:0&#39;, grad_fn=&lt;NllLossBackward&gt;)\n368 tensor(0.0669, device=&#39;cuda:0&#39;, grad_fn=&lt;NllLossBackward&gt;)\n369 tensor(0.0666, device=&#39;cuda:0&#39;, grad_fn=&lt;NllLossBackward&gt;)\n370 tensor(0.0664, device=&#39;cuda:0&#39;, grad_fn=&lt;NllLossBackward&gt;)\n371 tensor(0.0662, device=&#39;cuda:0&#39;, grad_fn=&lt;NllLossBackward&gt;)\n372 tensor(0.0659, device=&#39;cuda:0&#39;, grad_fn=&lt;NllLossBackward&gt;)\n373 tensor(0.0657, device=&#39;cuda:0&#39;, grad_fn=&lt;NllLossBackward&gt;)\n374 tensor(0.0655, device=&#39;cuda:0&#39;, grad_fn=&lt;NllLossBackward&gt;)\n375 tensor(0.0652, device=&#39;cuda:0&#39;, grad_fn=&lt;NllLossBackward&gt;)\n376 tensor(0.0650, device=&#39;cuda:0&#39;, grad_fn=&lt;NllLossBackward&gt;)\n377 tensor(0.0648, device=&#39;cuda:0&#39;, grad_fn=&lt;NllLossBackward&gt;)\n378 tensor(0.0646, device=&#39;cuda:0&#39;, grad_fn=&lt;NllLossBackward&gt;)\n379 tensor(0.0643, device=&#39;cuda:0&#39;, grad_fn=&lt;NllLossBackward&gt;)\n380 tensor(0.0641, device=&#39;cuda:0&#39;, grad_fn=&lt;NllLossBackward&gt;)\n381 tensor(0.0639, device=&#39;cuda:0&#39;, grad_fn=&lt;NllLossBackward&gt;)\n382 tensor(0.0637, device=&#39;cuda:0&#39;, grad_fn=&lt;NllLossBackward&gt;)\n383 tensor(0.0634, device=&#39;cuda:0&#39;, grad_fn=&lt;NllLossBackward&gt;)\n384 tensor(0.0632, device=&#39;cuda:0&#39;, grad_fn=&lt;NllLossBackward&gt;)\n385 tensor(0.0630, device=&#39;cuda:0&#39;, grad_fn=&lt;NllLossBackward&gt;)\n386 tensor(0.0628, device=&#39;cuda:0&#39;, grad_fn=&lt;NllLossBackward&gt;)\n387 tensor(0.0626, device=&#39;cuda:0&#39;, grad_fn=&lt;NllLossBackward&gt;)\n388 tensor(0.0624, device=&#39;cuda:0&#39;, grad_fn=&lt;NllLossBackward&gt;)\n389 tensor(0.0621, device=&#39;cuda:0&#39;, grad_fn=&lt;NllLossBackward&gt;)\n390 tensor(0.0619, device=&#39;cuda:0&#39;, grad_fn=&lt;NllLossBackward&gt;)\n391 tensor(0.0617, device=&#39;cuda:0&#39;, grad_fn=&lt;NllLossBackward&gt;)\n392 tensor(0.0615, device=&#39;cuda:0&#39;, grad_fn=&lt;NllLossBackward&gt;)\n393 tensor(0.0613, device=&#39;cuda:0&#39;, grad_fn=&lt;NllLossBackward&gt;)\n394 tensor(0.0611, device=&#39;cuda:0&#39;, grad_fn=&lt;NllLossBackward&gt;)\n395 tensor(0.0609, device=&#39;cuda:0&#39;, grad_fn=&lt;NllLossBackward&gt;)\n396 tensor(0.0607, device=&#39;cuda:0&#39;, grad_fn=&lt;NllLossBackward&gt;)\n397 tensor(0.0605, device=&#39;cuda:0&#39;, grad_fn=&lt;NllLossBackward&gt;)\n398 tensor(0.0603, device=&#39;cuda:0&#39;, grad_fn=&lt;NllLossBackward&gt;)\n399 tensor(0.0600, device=&#39;cuda:0&#39;, grad_fn=&lt;NllLossBackward&gt;)\n400 tensor(0.0598, device=&#39;cuda:0&#39;, grad_fn=&lt;NllLossBackward&gt;)\n401 tensor(0.0596, device=&#39;cuda:0&#39;, grad_fn=&lt;NllLossBackward&gt;)\n402 tensor(0.0594, device=&#39;cuda:0&#39;, grad_fn=&lt;NllLossBackward&gt;)\n403 tensor(0.0592, device=&#39;cuda:0&#39;, grad_fn=&lt;NllLossBackward&gt;)\n404 tensor(0.0590, device=&#39;cuda:0&#39;, grad_fn=&lt;NllLossBackward&gt;)\n405 tensor(0.0588, device=&#39;cuda:0&#39;, grad_fn=&lt;NllLossBackward&gt;)\n406 tensor(0.0586, device=&#39;cuda:0&#39;, grad_fn=&lt;NllLossBackward&gt;)\n407 tensor(0.0584, device=&#39;cuda:0&#39;, grad_fn=&lt;NllLossBackward&gt;)\n408 tensor(0.0582, device=&#39;cuda:0&#39;, grad_fn=&lt;NllLossBackward&gt;)\n409 tensor(0.0581, device=&#39;cuda:0&#39;, grad_fn=&lt;NllLossBackward&gt;)\n410 tensor(0.0579, device=&#39;cuda:0&#39;, grad_fn=&lt;NllLossBackward&gt;)\n411 tensor(0.0577, device=&#39;cuda:0&#39;, grad_fn=&lt;NllLossBackward&gt;)\n412 tensor(0.0575, device=&#39;cuda:0&#39;, grad_fn=&lt;NllLossBackward&gt;)\n413 tensor(0.0573, device=&#39;cuda:0&#39;, grad_fn=&lt;NllLossBackward&gt;)\n414 tensor(0.0571, device=&#39;cuda:0&#39;, grad_fn=&lt;NllLossBackward&gt;)\n415 tensor(0.0569, device=&#39;cuda:0&#39;, grad_fn=&lt;NllLossBackward&gt;)\n416 tensor(0.0567, device=&#39;cuda:0&#39;, grad_fn=&lt;NllLossBackward&gt;)\n417 tensor(0.0565, device=&#39;cuda:0&#39;, grad_fn=&lt;NllLossBackward&gt;)\n418 tensor(0.0563, device=&#39;cuda:0&#39;, grad_fn=&lt;NllLossBackward&gt;)\n419 tensor(0.0562, device=&#39;cuda:0&#39;, grad_fn=&lt;NllLossBackward&gt;)\n420 tensor(0.0560, device=&#39;cuda:0&#39;, grad_fn=&lt;NllLossBackward&gt;)\n421 tensor(0.0558, device=&#39;cuda:0&#39;, grad_fn=&lt;NllLossBackward&gt;)\n422 tensor(0.0556, device=&#39;cuda:0&#39;, grad_fn=&lt;NllLossBackward&gt;)\n423 tensor(0.0554, device=&#39;cuda:0&#39;, grad_fn=&lt;NllLossBackward&gt;)\n424 tensor(0.0552, device=&#39;cuda:0&#39;, grad_fn=&lt;NllLossBackward&gt;)\n425 tensor(0.0551, device=&#39;cuda:0&#39;, grad_fn=&lt;NllLossBackward&gt;)\n426 tensor(0.0549, device=&#39;cuda:0&#39;, grad_fn=&lt;NllLossBackward&gt;)\n427 tensor(0.0547, device=&#39;cuda:0&#39;, grad_fn=&lt;NllLossBackward&gt;)\n428 tensor(0.0545, device=&#39;cuda:0&#39;, grad_fn=&lt;NllLossBackward&gt;)\n429 tensor(0.0543, device=&#39;cuda:0&#39;, grad_fn=&lt;NllLossBackward&gt;)\n430 tensor(0.0542, device=&#39;cuda:0&#39;, grad_fn=&lt;NllLossBackward&gt;)\n431 tensor(0.0540, device=&#39;cuda:0&#39;, grad_fn=&lt;NllLossBackward&gt;)\n432 tensor(0.0538, device=&#39;cuda:0&#39;, grad_fn=&lt;NllLossBackward&gt;)\n433 tensor(0.0536, device=&#39;cuda:0&#39;, grad_fn=&lt;NllLossBackward&gt;)\n434 tensor(0.0535, device=&#39;cuda:0&#39;, grad_fn=&lt;NllLossBackward&gt;)\n435 tensor(0.0533, device=&#39;cuda:0&#39;, grad_fn=&lt;NllLossBackward&gt;)\n436 tensor(0.0531, device=&#39;cuda:0&#39;, grad_fn=&lt;NllLossBackward&gt;)\n437 tensor(0.0529, device=&#39;cuda:0&#39;, grad_fn=&lt;NllLossBackward&gt;)\n438 tensor(0.0528, device=&#39;cuda:0&#39;, grad_fn=&lt;NllLossBackward&gt;)\n439 tensor(0.0526, device=&#39;cuda:0&#39;, grad_fn=&lt;NllLossBackward&gt;)\n440 tensor(0.0524, device=&#39;cuda:0&#39;, grad_fn=&lt;NllLossBackward&gt;)\n441 tensor(0.0523, device=&#39;cuda:0&#39;, grad_fn=&lt;NllLossBackward&gt;)\n442 tensor(0.0521, device=&#39;cuda:0&#39;, grad_fn=&lt;NllLossBackward&gt;)\n443 tensor(0.0519, device=&#39;cuda:0&#39;, grad_fn=&lt;NllLossBackward&gt;)\n444 tensor(0.0518, device=&#39;cuda:0&#39;, grad_fn=&lt;NllLossBackward&gt;)\n445 tensor(0.0516, device=&#39;cuda:0&#39;, grad_fn=&lt;NllLossBackward&gt;)\n446 tensor(0.0514, device=&#39;cuda:0&#39;, grad_fn=&lt;NllLossBackward&gt;)\n447 tensor(0.0513, device=&#39;cuda:0&#39;, grad_fn=&lt;NllLossBackward&gt;)\n448 tensor(0.0511, device=&#39;cuda:0&#39;, grad_fn=&lt;NllLossBackward&gt;)\n449 tensor(0.0510, device=&#39;cuda:0&#39;, grad_fn=&lt;NllLossBackward&gt;)\n450 tensor(0.0508, device=&#39;cuda:0&#39;, grad_fn=&lt;NllLossBackward&gt;)\n451 tensor(0.0506, device=&#39;cuda:0&#39;, grad_fn=&lt;NllLossBackward&gt;)\n452 tensor(0.0505, device=&#39;cuda:0&#39;, grad_fn=&lt;NllLossBackward&gt;)\n453 tensor(0.0503, device=&#39;cuda:0&#39;, grad_fn=&lt;NllLossBackward&gt;)\n454 tensor(0.0502, device=&#39;cuda:0&#39;, grad_fn=&lt;NllLossBackward&gt;)\n455 tensor(0.0500, device=&#39;cuda:0&#39;, grad_fn=&lt;NllLossBackward&gt;)\n456 tensor(0.0498, device=&#39;cuda:0&#39;, grad_fn=&lt;NllLossBackward&gt;)\n457 tensor(0.0497, device=&#39;cuda:0&#39;, grad_fn=&lt;NllLossBackward&gt;)\n458 tensor(0.0495, device=&#39;cuda:0&#39;, grad_fn=&lt;NllLossBackward&gt;)\n459 tensor(0.0494, device=&#39;cuda:0&#39;, grad_fn=&lt;NllLossBackward&gt;)\n460 tensor(0.0492, device=&#39;cuda:0&#39;, grad_fn=&lt;NllLossBackward&gt;)\n461 tensor(0.0491, device=&#39;cuda:0&#39;, grad_fn=&lt;NllLossBackward&gt;)\n462 tensor(0.0489, device=&#39;cuda:0&#39;, grad_fn=&lt;NllLossBackward&gt;)\n463 tensor(0.0488, device=&#39;cuda:0&#39;, grad_fn=&lt;NllLossBackward&gt;)\n464 tensor(0.0486, device=&#39;cuda:0&#39;, grad_fn=&lt;NllLossBackward&gt;)\n465 tensor(0.0485, device=&#39;cuda:0&#39;, grad_fn=&lt;NllLossBackward&gt;)\n466 tensor(0.0483, device=&#39;cuda:0&#39;, grad_fn=&lt;NllLossBackward&gt;)\n467 tensor(0.0482, device=&#39;cuda:0&#39;, grad_fn=&lt;NllLossBackward&gt;)\n468 tensor(0.0480, device=&#39;cuda:0&#39;, grad_fn=&lt;NllLossBackward&gt;)\n469 tensor(0.0479, device=&#39;cuda:0&#39;, grad_fn=&lt;NllLossBackward&gt;)\n470 tensor(0.0477, device=&#39;cuda:0&#39;, grad_fn=&lt;NllLossBackward&gt;)\n471 tensor(0.0476, device=&#39;cuda:0&#39;, grad_fn=&lt;NllLossBackward&gt;)\n472 tensor(0.0474, device=&#39;cuda:0&#39;, grad_fn=&lt;NllLossBackward&gt;)\n473 tensor(0.0473, device=&#39;cuda:0&#39;, grad_fn=&lt;NllLossBackward&gt;)\n474 tensor(0.0471, device=&#39;cuda:0&#39;, grad_fn=&lt;NllLossBackward&gt;)\n475 tensor(0.0470, device=&#39;cuda:0&#39;, grad_fn=&lt;NllLossBackward&gt;)\n476 tensor(0.0468, device=&#39;cuda:0&#39;, grad_fn=&lt;NllLossBackward&gt;)\n477 tensor(0.0467, device=&#39;cuda:0&#39;, grad_fn=&lt;NllLossBackward&gt;)\n478 tensor(0.0466, device=&#39;cuda:0&#39;, grad_fn=&lt;NllLossBackward&gt;)\n479 tensor(0.0464, device=&#39;cuda:0&#39;, grad_fn=&lt;NllLossBackward&gt;)\n480 tensor(0.0463, device=&#39;cuda:0&#39;, grad_fn=&lt;NllLossBackward&gt;)\n481 tensor(0.0461, device=&#39;cuda:0&#39;, grad_fn=&lt;NllLossBackward&gt;)\n482 tensor(0.0460, device=&#39;cuda:0&#39;, grad_fn=&lt;NllLossBackward&gt;)\n483 tensor(0.0459, device=&#39;cuda:0&#39;, grad_fn=&lt;NllLossBackward&gt;)\n484 tensor(0.0457, device=&#39;cuda:0&#39;, grad_fn=&lt;NllLossBackward&gt;)\n485 tensor(0.0456, device=&#39;cuda:0&#39;, grad_fn=&lt;NllLossBackward&gt;)\n486 tensor(0.0454, device=&#39;cuda:0&#39;, grad_fn=&lt;NllLossBackward&gt;)\n487 tensor(0.0453, device=&#39;cuda:0&#39;, grad_fn=&lt;NllLossBackward&gt;)\n488 tensor(0.0452, device=&#39;cuda:0&#39;, grad_fn=&lt;NllLossBackward&gt;)\n489 tensor(0.0450, device=&#39;cuda:0&#39;, grad_fn=&lt;NllLossBackward&gt;)\n490 tensor(0.0449, device=&#39;cuda:0&#39;, grad_fn=&lt;NllLossBackward&gt;)\n491 tensor(0.0448, device=&#39;cuda:0&#39;, grad_fn=&lt;NllLossBackward&gt;)\n492 tensor(0.0446, device=&#39;cuda:0&#39;, grad_fn=&lt;NllLossBackward&gt;)\n493 tensor(0.0445, device=&#39;cuda:0&#39;, grad_fn=&lt;NllLossBackward&gt;)\n494 tensor(0.0444, device=&#39;cuda:0&#39;, grad_fn=&lt;NllLossBackward&gt;)\n495 tensor(0.0442, device=&#39;cuda:0&#39;, grad_fn=&lt;NllLossBackward&gt;)\n496 tensor(0.0441, device=&#39;cuda:0&#39;, grad_fn=&lt;NllLossBackward&gt;)\n497 tensor(0.0440, device=&#39;cuda:0&#39;, grad_fn=&lt;NllLossBackward&gt;)\n498 tensor(0.0438, device=&#39;cuda:0&#39;, grad_fn=&lt;NllLossBackward&gt;)\n499 tensor(0.0437, device=&#39;cuda:0&#39;, grad_fn=&lt;NllLossBackward&gt;)\n"
    }
   ],
   "source": [
    "for t in range(500):\n",
    "    prediction = net(x_train)\n",
    "    loss = loss_func(prediction, y_train)\n",
    "    print(t, loss)\n",
    "    optimizer.zero_grad()\n",
    "    loss.backward()\n",
    "    optimizer.step()"
   ]
  },
  {
   "cell_type": "code",
   "execution_count": 166,
   "metadata": {},
   "outputs": [],
   "source": [
    "y_predict = torch.max(torch.nn.functional.softmax(net(x_test)),1)[1]"
   ]
  },
  {
   "cell_type": "code",
   "execution_count": 167,
   "metadata": {},
   "outputs": [
    {
     "output_type": "execute_result",
     "data": {
      "text/plain": "tensor([1, 0, 0, 1, 0, 0, 0, 0, 0, 0, 1, 0, 0, 1, 0, 0, 1, 1, 0, 1, 0, 0, 0, 0,\n        1, 0, 1, 1, 0, 0, 1, 0, 0, 0, 0, 1, 0, 1, 0, 1, 1, 0, 0, 0, 0, 0, 0, 0,\n        0, 1, 0, 0, 0, 0, 0, 0, 0, 0, 0, 0, 0, 0, 1, 0, 1, 0, 0, 0, 0, 0, 0, 1,\n        0, 1, 0, 1, 0, 0, 0, 1, 0, 0, 1, 0, 0, 0, 1, 0, 0, 1, 0, 0, 1, 0, 0, 0,\n        1, 0, 0, 0, 1, 0, 0, 1, 1, 1, 0], device=&#39;cuda:0&#39;)"
     },
     "metadata": {},
     "execution_count": 167
    }
   ],
   "source": [
    "y_predict"
   ]
  },
  {
   "cell_type": "code",
   "execution_count": 168,
   "metadata": {},
   "outputs": [],
   "source": [
    "maxtrix = confusion_matrix(y_test.cpu(), y_predict.cpu())"
   ]
  },
  {
   "cell_type": "code",
   "execution_count": 169,
   "metadata": {},
   "outputs": [
    {
     "output_type": "execute_result",
     "data": {
      "text/plain": "array([[65, 10],\n       [11, 21]], dtype=int64)"
     },
     "metadata": {},
     "execution_count": 169
    }
   ],
   "source": [
    "maxtrix"
   ]
  },
  {
   "cell_type": "code",
   "execution_count": null,
   "metadata": {},
   "outputs": [],
   "source": []
  }
 ]
}