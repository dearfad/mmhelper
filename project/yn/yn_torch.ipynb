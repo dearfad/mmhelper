{
 "metadata": {
  "language_info": {
   "codemirror_mode": {
    "name": "ipython",
    "version": 3
   },
   "file_extension": ".py",
   "mimetype": "text/x-python",
   "name": "python",
   "nbconvert_exporter": "python",
   "pygments_lexer": "ipython3",
   "version": "3.8.5-final"
  },
  "orig_nbformat": 2,
  "kernelspec": {
   "name": "Python 3.8.5 64-bit",
   "display_name": "Python 3.8.5 64-bit",
   "metadata": {
    "interpreter": {
     "hash": "6b881b2749935116588268fee9d7176cbb8d0c7eeface6b1ec191983ac516378"
    }
   }
  }
 },
 "nbformat": 4,
 "nbformat_minor": 2,
 "cells": [
  {
   "cell_type": "code",
   "execution_count": 186,
   "metadata": {},
   "outputs": [],
   "source": [
    "import torch\n",
    "import numpy as np\n",
    "import pandas as pd\n",
    "from sklearn import preprocessing"
   ]
  },
  {
   "cell_type": "code",
   "execution_count": 187,
   "metadata": {},
   "outputs": [
    {
     "output_type": "execute_result",
     "data": {
      "text/plain": "Index([&#39;malignant&#39;, &#39;bilateral&#39;, &#39;age&#39;, &#39;month&#39;, &#39;bmi&#39;, &#39;diabetes&#39;,\n       &#39;hypertension&#39;, &#39;surgery&#39;, &#39;smoking&#39;, &#39;family&#39;, &#39;menarche&#39;, &#39;menopause&#39;,\n       &#39;miscarriage&#39;, &#39;pregnancy&#39;, &#39;childbearing&#39;, &#39;nd_blood&#39;, &#39;nd_milk&#39;,\n       &#39;nd_serous&#39;, &#39;nd_change&#39;, &#39;nd_number&#39;, &#39;nd_mass&#39;, &#39;nd_position&#39;,\n       &#39;nd_distance&#39;, &#39;nd_shape&#39;, &#39;nd_surface&#39;, &#39;nd_dispersion&#39;, &#39;nd_quantity&#39;,\n       &#39;nd_distribution&#39;, &#39;nd_retraction&#39;, &#39;nd_appearance&#39;, &#39;us_ductectasia&#39;,\n       &#39;us_intramass&#39;, &#39;us_cysmass&#39;, &#39;us_mass&#39;, &#39;us_size&#39;, &#39;us_position&#39;,\n       &#39;us_distance&#39;, &#39;us_shape&#39;, &#39;us_boundary&#39;, &#39;us_bloodflow&#39;,\n       &#39;us_calcification&#39;, &#39;us_birads&#39;, &#39;xray&#39;],\n      dtype=&#39;object&#39;)"
     },
     "metadata": {},
     "execution_count": 187
    }
   ],
   "source": [
    "# Read .csv\n",
    "data = pd.read_csv('data.csv')\n",
    "data.columns"
   ]
  },
  {
   "cell_type": "code",
   "execution_count": 188,
   "metadata": {
    "tags": []
   },
   "outputs": [],
   "source": [
    "# 指定标签及特征\n",
    "\n",
    "label = data['malignant']\n",
    "features = data[['bilateral', 'age', 'month', 'bmi', 'diabetes',\n",
    "       'hypertension', 'surgery', 'smoking', 'family', 'menarche', 'menopause',\n",
    "       'miscarriage', 'pregnancy', 'childbearing', 'nd_blood', 'nd_milk',\n",
    "       'nd_serous', 'nd_change', 'nd_number', 'nd_mass', 'nd_position',\n",
    "       'nd_distance', 'nd_shape', 'nd_surface', 'nd_dispersion', 'nd_quantity',\n",
    "       'nd_distribution', 'nd_retraction', 'nd_appearance', 'us_ductectasia',\n",
    "       'us_intramass', 'us_cysmass', 'us_mass', 'us_size', 'us_position',\n",
    "       'us_distance', 'us_shape', 'us_boundary', 'us_bloodflow',\n",
    "       'us_calcification', 'us_birads', 'xray']]"
   ]
  },
  {
   "cell_type": "code",
   "execution_count": 189,
   "metadata": {},
   "outputs": [],
   "source": [
    "# One-Hot 编码分类数据\n",
    "\n",
    "# features = pd.get_dummies(features)"
   ]
  },
  {
   "cell_type": "code",
   "execution_count": 190,
   "metadata": {},
   "outputs": [],
   "source": [
    "# 数值标准化\n",
    "\n",
    "# features = preprocessing.StandardScaler().fit_transform(features)"
   ]
  },
  {
   "cell_type": "code",
   "execution_count": 191,
   "metadata": {},
   "outputs": [],
   "source": [
    "# 指定 x, y\n",
    "\n",
    "X = torch.from_numpy(np.array(features)).float()\n",
    "y = torch.from_numpy(np.array(label))"
   ]
  },
  {
   "cell_type": "code",
   "execution_count": 192,
   "metadata": {},
   "outputs": [
    {
     "output_type": "execute_result",
     "data": {
      "text/plain": "torch.Size([355, 42])"
     },
     "metadata": {},
     "execution_count": 192
    }
   ],
   "source": [
    "X.shape"
   ]
  },
  {
   "cell_type": "code",
   "execution_count": 193,
   "metadata": {},
   "outputs": [],
   "source": [
    "from sklearn.model_selection import train_test_split\n",
    "from sklearn.model_selection import StratifiedKFold\n",
    "seed = 42\n",
    "testsize = 0.2\n",
    "\n",
    "X_train, X_test, y_train, y_test = train_test_split(X, y, test_size=testsize, random_state=seed)"
   ]
  },
  {
   "cell_type": "code",
   "execution_count": 194,
   "metadata": {},
   "outputs": [],
   "source": [
    "# 构建网络\n",
    "\n",
    "net = torch.nn.Sequential(\n",
    "    torch.nn.Linear(42, 128),\n",
    "    torch.nn.ReLU(),\n",
    "    torch.nn.Linear(128, 2)\n",
    ")\n",
    "\n",
    "optimizer = torch.optim.SGD(net.parameters(), lr=0.02)\n",
    "loss_func = torch.nn.CrossEntropyLoss()"
   ]
  },
  {
   "cell_type": "code",
   "execution_count": 195,
   "metadata": {
    "tags": []
   },
   "outputs": [],
   "source": [
    "for t in range(300):\n",
    "    prediction = net(X_train)\n",
    "    loss = loss_func(prediction, y_train)\n",
    "\n",
    "    optimizer.zero_grad()\n",
    "    loss.backward()\n",
    "    optimizer.step()"
   ]
  },
  {
   "cell_type": "code",
   "execution_count": 196,
   "metadata": {},
   "outputs": [],
   "source": [
    "y_predict = torch.max(torch.nn.functional.softmax(net(X_test)),1)[1]"
   ]
  },
  {
   "cell_type": "code",
   "execution_count": 197,
   "metadata": {},
   "outputs": [
    {
     "output_type": "execute_result",
     "data": {
      "text/plain": "tensor([0, 1, 0, 0, 0, 0, 0, 0, 0, 0, 0, 1, 1, 0, 0, 0, 0, 0, 0, 0, 0, 0, 0, 1,\n        0, 1, 0, 0, 1, 0, 0, 1, 0, 0, 0, 1, 1, 0, 0, 0, 0, 1, 0, 0, 0, 0, 0, 1,\n        1, 0, 0, 0, 0, 0, 0, 0, 1, 0, 0, 0, 0, 1, 0, 0, 0, 0, 0, 1, 0, 1, 0])"
     },
     "metadata": {},
     "execution_count": 197
    }
   ],
   "source": [
    "y_predict"
   ]
  },
  {
   "cell_type": "code",
   "execution_count": 198,
   "metadata": {},
   "outputs": [],
   "source": [
    "from sklearn.metrics import confusion_matrix"
   ]
  },
  {
   "cell_type": "code",
   "execution_count": 199,
   "metadata": {},
   "outputs": [],
   "source": [
    "maxtrix = confusion_matrix(y_test, y_predict)"
   ]
  },
  {
   "cell_type": "code",
   "execution_count": 200,
   "metadata": {},
   "outputs": [
    {
     "output_type": "execute_result",
     "data": {
      "text/plain": "array([[42,  4],\n       [13, 12]], dtype=int64)"
     },
     "metadata": {},
     "execution_count": 200
    }
   ],
   "source": [
    "maxtrix"
   ]
  },
  {
   "cell_type": "code",
   "execution_count": null,
   "metadata": {},
   "outputs": [],
   "source": []
  }
 ]
}