{
 "cells": [
  {
   "cell_type": "markdown",
   "metadata": {},
   "source": [
    "# 大月亮的机器学习实战"
   ]
  },
  {
   "cell_type": "markdown",
   "metadata": {},
   "source": [
    "## 1. 导入库及设定"
   ]
  },
  {
   "cell_type": "code",
   "execution_count": 4,
   "metadata": {},
   "outputs": [
    {
     "ename": "ModuleNotFoundError",
     "evalue": "No module named 'pydotplus'",
     "output_type": "error",
     "traceback": [
      "\u001b[1;31m---------------------------------------------------------------------------\u001b[0m",
      "\u001b[1;31mModuleNotFoundError\u001b[0m                       Traceback (most recent call last)",
      "\u001b[1;32m<ipython-input-4-30eceb7cf390>\u001b[0m in \u001b[0;36m<module>\u001b[1;34m\u001b[0m\n\u001b[0;32m     37\u001b[0m \u001b[1;31m## Creat Tree Image\u001b[0m\u001b[1;33m\u001b[0m\u001b[1;33m\u001b[0m\u001b[1;33m\u001b[0m\u001b[0m\n\u001b[0;32m     38\u001b[0m \u001b[1;32mfrom\u001b[0m \u001b[0msklearn\u001b[0m \u001b[1;32mimport\u001b[0m \u001b[0mtree\u001b[0m\u001b[1;33m\u001b[0m\u001b[1;33m\u001b[0m\u001b[0m\n\u001b[1;32m---> 39\u001b[1;33m \u001b[1;32mimport\u001b[0m \u001b[0mpydotplus\u001b[0m\u001b[1;33m\u001b[0m\u001b[1;33m\u001b[0m\u001b[0m\n\u001b[0m\u001b[0;32m     40\u001b[0m \u001b[1;32mfrom\u001b[0m \u001b[0mIPython\u001b[0m\u001b[1;33m.\u001b[0m\u001b[0mdisplay\u001b[0m \u001b[1;32mimport\u001b[0m \u001b[0mImage\u001b[0m\u001b[1;33m\u001b[0m\u001b[1;33m\u001b[0m\u001b[0m\n\u001b[0;32m     41\u001b[0m \u001b[1;33m\u001b[0m\u001b[0m\n",
      "\u001b[1;31mModuleNotFoundError\u001b[0m: No module named 'pydotplus'"
     ]
    }
   ],
   "source": [
    "# Data\n",
    "import numpy as np\n",
    "import pandas as pd\n",
    "\n",
    "# Image\n",
    "import matplotlib.pyplot as plt\n",
    "import seaborn as sns\n",
    "import scikitplot as skplt\n",
    "\n",
    "# Machine-learning\n",
    "\n",
    "## Model\n",
    "from sklearn.linear_model import LogisticRegression\n",
    "from sklearn.discriminant_analysis import LinearDiscriminantAnalysis, QuadraticDiscriminantAnalysis\n",
    "from sklearn.svm import SVC\n",
    "from sklearn.neighbors import KNeighborsClassifier\n",
    "from sklearn.tree import DecisionTreeClassifier\n",
    "from sklearn.ensemble import RandomForestClassifier, AdaBoostClassifier\n",
    "from sklearn.ensemble import GradientBoostingClassifier, ExtraTreesClassifier\n",
    "from sklearn.ensemble import VotingClassifier\n",
    "from sklearn.neural_network import MLPClassifier\n",
    "# from xgboost import XGBClassifier\n",
    "\n",
    "## Model selection\n",
    "from sklearn.model_selection import train_test_split\n",
    "from sklearn.model_selection import StratifiedKFold\n",
    "from sklearn.model_selection import cross_val_score\n",
    "from sklearn.model_selection import learning_curve\n",
    "from sklearn.model_selection import GridSearchCV\n",
    "\n",
    "## Model metrics\n",
    "from sklearn.metrics import classification_report\n",
    "from sklearn.metrics import confusion_matrix\n",
    "\n",
    "# Others\n",
    "\n",
    "## Creat Tree Image\n",
    "from sklearn import tree\n",
    "import pydotplus\n",
    "from IPython.display import Image\n",
    "\n",
    "## Config warnings\n",
    "import warnings\n",
    "\n",
    "# Settings\n",
    "warnings.filterwarnings('ignore')\n",
    "pd.set_option('precision', 2)\n",
    "pd.options.display.max_columns = None # Show all columns\n",
    "pd.options.display.max_rows = None # Show all columns\n",
    "%matplotlib inline\n",
    "%config InlineBackend.figure_format = 'svg'"
   ]
  },
  {
   "cell_type": "markdown",
   "metadata": {},
   "source": [
    "## 2. 读取数据"
   ]
  },
  {
   "cell_type": "code",
   "execution_count": null,
   "metadata": {},
   "outputs": [],
   "source": [
    "datafile = 'moon.xlsx'\n",
    "data = pd.read_excel(datafile)"
   ]
  },
  {
   "cell_type": "markdown",
   "metadata": {},
   "source": [
    "## 3. 数据描述"
   ]
  },
  {
   "cell_type": "markdown",
   "metadata": {},
   "source": [
    "### 3.1 基本数据形式"
   ]
  },
  {
   "cell_type": "code",
   "execution_count": null,
   "metadata": {},
   "outputs": [],
   "source": [
    "data.head()"
   ]
  },
  {
   "cell_type": "markdown",
   "metadata": {},
   "source": [
    "### 3.2 相关热图"
   ]
  },
  {
   "cell_type": "code",
   "execution_count": null,
   "metadata": {},
   "outputs": [],
   "source": [
    "plt.figure(figsize=(15,12))\n",
    "\n",
    "sns.heatmap(round(data.corr(method='kendall'),2),\n",
    "            linewidths=0.1,\n",
    "            square=True,\n",
    "            cmap='coolwarm',\n",
    "            linecolor='white',\n",
    "            annot=True,\n",
    "            vmax=1,\n",
    "            vmin=-1);\n",
    "#plt.savefig('Heatmap.svg')"
   ]
  },
  {
   "cell_type": "markdown",
   "metadata": {},
   "source": [
    "### 3.3 其他描述"
   ]
  },
  {
   "cell_type": "markdown",
   "metadata": {},
   "source": [
    "好多种方法都可以使用，可逐项分析整体和各项特征"
   ]
  },
  {
   "cell_type": "code",
   "execution_count": null,
   "metadata": {},
   "outputs": [],
   "source": [
    "sns.countplot(x='Stage', hue='Label',  palette='seismic',data=data)\n",
    "plt.show"
   ]
  },
  {
   "cell_type": "code",
   "execution_count": null,
   "metadata": {},
   "outputs": [],
   "source": [
    "sns.countplot(x='Luminal', hue='Label', palette='seismic', data=data)\n",
    "plt.show()"
   ]
  },
  {
   "cell_type": "code",
   "execution_count": null,
   "metadata": {},
   "outputs": [],
   "source": [
    "sns.countplot(x='Risk', hue='Label', palette='seismic', data=data)\n",
    "plt.show()"
   ]
  },
  {
   "cell_type": "code",
   "execution_count": null,
   "metadata": {},
   "outputs": [],
   "source": [
    "data[['Risk', 'Stage','Luminal','Label']].groupby(['Risk','Stage','Luminal'], \n",
    "    as_index=False).mean().sort_values(by='Label', ascending=False)\n",
    "#单分组。data[['Stage', 'Label']].groupby([Stage], as_index=False).mean().sort_values(by='Label', ascending=False)"
   ]
  },
  {
   "cell_type": "code",
   "execution_count": null,
   "metadata": {},
   "outputs": [],
   "source": [
    "g = sns.catplot(x=\"Luminal\", y=\"Stage\", hue=\"Risk\",col=\"Label\", kind=\"swarm\", \n",
    "                data=data, height=5, aspect=1,palette=None);\n",
    "y = range(1,5,1)\n",
    "plt.yticks(y);"
   ]
  },
  {
   "cell_type": "markdown",
   "metadata": {},
   "source": [
    "## 4. 数据分离"
   ]
  },
  {
   "cell_type": "code",
   "execution_count": null,
   "metadata": {},
   "outputs": [],
   "source": [
    "seed = 42\n",
    "testsize = 0.15\n",
    "kfold = StratifiedKFold(n_splits=10, random_state =seed)\n",
    "X, y = data.values[:,1:], data.values[:, 0]\n",
    "X_train, X_test, y_train, y_test = train_test_split(X, y, test_size=testsize, random_state=seed)"
   ]
  },
  {
   "cell_type": "markdown",
   "metadata": {},
   "source": [
    "## 5. 模型选择"
   ]
  },
  {
   "cell_type": "markdown",
   "metadata": {},
   "source": [
    "### 5.1 初步筛选，决定使用决策树模型"
   ]
  },
  {
   "cell_type": "code",
   "execution_count": null,
   "metadata": {},
   "outputs": [],
   "source": [
    "models = {\n",
    "    'LR'  : LogisticRegression(),\n",
    "    'LDA' : LinearDiscriminantAnalysis(),\n",
    "    'QDA' : QuadraticDiscriminantAnalysis(),\n",
    "    'SVM' : SVC(),\n",
    "    'KNN' : KNeighborsClassifier(),\n",
    "    'CART': DecisionTreeClassifier(random_state=seed),\n",
    "    'RFC' : RandomForestClassifier(random_state=seed),\n",
    "    'ETC' : ExtraTreesClassifier(random_state=seed),\n",
    "    'ABC' : AdaBoostClassifier(),\n",
    "    'GBC' : GradientBoostingClassifier(random_state=seed),\n",
    "#     'XGBC' : XGBClassifier(),\n",
    "    'MLPC': MLPClassifier(hidden_layer_sizes=(7,), solver='lbfgs',random_state=seed)\n",
    "}\n",
    "\n",
    "cv_results = []\n",
    "for key in models: \n",
    "        cv_score = cross_val_score(models[key], X_train, y_train, cv=kfold, scoring=\"recall\")\n",
    "        cv_mean = round(cv_score.mean(), 2)\n",
    "        cv_std = round(cv_score.std(), 2)\n",
    "        cv_result = {'models': key, 'cv_mean': cv_mean, 'cv_std': cv_std}\n",
    "        cv_results.append(cv_result)\n",
    "cv_results = pd.DataFrame(cv_results)\n",
    "\n",
    "plt.figure(figsize=(12, 6))\n",
    "sns.set(style=\"whitegrid\")\n",
    "cv_plot = sns.barplot(x='models', y='cv_mean', data=cv_results, palette=\"muted\", **{'yerr': cv_results['cv_std']});\n",
    "cv_plot.set_yticks(np.arange(0, 1.05, 0.05));\n",
    "#plt.savefig('Model_Selection.svg')\n",
    "print(cv_results)"
   ]
  },
  {
   "cell_type": "code",
   "execution_count": null,
   "metadata": {},
   "outputs": [],
   "source": [
    "cv_results = []\n",
    "\n",
    "key = 'CART' \n",
    "# All data\n",
    "cv_score = cross_val_score(models[key], X_train, y_train, cv=kfold, scoring=\"recall\")\n",
    "cv_mean = round(cv_score.mean(), 2)\n",
    "cv_std = round(cv_score.std(), 2)\n",
    "cv_result = {'models': key, 'cv_mean': cv_mean, 'cv_std': cv_std, 'type': 'ALL'}\n",
    "cv_results.append(cv_result)\n",
    "\n",
    "# ONLY USE TNM,HR,KI67,HER2\n",
    "cv_score = cross_val_score(models[key], X_train[:, 3:], y_train, cv=kfold, scoring=\"recall\")\n",
    "cv_mean = round(cv_score.mean(), 2)\n",
    "cv_std = round(cv_score.std(), 2)\n",
    "cv_result = {'models': key, 'cv_mean': cv_mean, 'cv_std': cv_std, 'type': 'BASE'}\n",
    "cv_results.append(cv_result)\n",
    "\n",
    "# ONLY USE STAGE, LUMINAL, RISK\n",
    "cv_score = cross_val_score(models[key], X_train[:, :3], y_train, cv=kfold, scoring=\"recall\")\n",
    "cv_mean = round(cv_score.mean(), 2)\n",
    "cv_std = round(cv_score.std(), 2)\n",
    "cv_result = {'models': key, 'cv_mean': cv_mean, 'cv_std': cv_std, 'type': 'RISK'}\n",
    "cv_results.append(cv_result)\n",
    "\n",
    "cv_results = pd.DataFrame(cv_results)\n",
    "\n",
    "cv_results\n",
    "plt.figure(figsize=(8, 4))\n",
    "sns.set(style=\"whitegrid\")\n",
    "g = sns.barplot(x='cv_mean', y='type',data=cv_results, palette=\"muted\",**{'xerr': cv_results['cv_std']});\n",
    "g.set_xticks(np.arange(0, 1.0, 0.1));\n",
    "print(cv_results)"
   ]
  },
  {
   "cell_type": "markdown",
   "metadata": {},
   "source": [
    "### 5.3 调参，比较初始提高CV平均值，降低了标准差"
   ]
  },
  {
   "cell_type": "code",
   "execution_count": null,
   "metadata": {},
   "outputs": [],
   "source": [
    "parameters = {\n",
    "                'max_depth': range(1,20),\n",
    "                'max_features': range(1,15)\n",
    "                \n",
    "}#'min_samples_leaf':range(1,2,3), 'min_samples_split':range(2,3,4),'max_features': range(1,15),\n",
    "\n",
    "grid_init = GridSearchCV(models['CART'], param_grid=parameters,scoring='recall', cv=kfold)\n",
    "grid_fit = grid_init.fit(X_train, y_train)\n",
    "model = grid_fit.best_estimator_\n",
    "cv_score = cross_val_score(model, X_train, y_train, cv=kfold, scoring=\"recall\")\n",
    "cv_mean = round(cv_score.mean(), 2)\n",
    "cv_std = round(cv_score.std(), 2)\n",
    "print('cv_mean: ', cv_mean)\n",
    "print('cv_std: ', cv_std)\n",
    "best_estimator = grid_fit.best_estimator_\n",
    "best_estimator.fit(X_train, y_train)"
   ]
  },
  {
   "cell_type": "markdown",
   "metadata": {},
   "source": [
    "## 6. 校验模型"
   ]
  },
  {
   "cell_type": "markdown",
   "metadata": {},
   "source": [
    "### 6.1 数据预测"
   ]
  },
  {
   "cell_type": "code",
   "execution_count": null,
   "metadata": {},
   "outputs": [],
   "source": [
    "model.fit(X_train, y_train)\n",
    "y_pred = model.predict(X_test)\n",
    "y_proba = model.predict_proba(X_test) # 决策树的二分类每个点proba是0或者1\n",
    "result = pd.DataFrame(X_test, columns=data.columns[1:])\n",
    "result['label'] = y_test\n",
    "result['pred'] = y_pred\n",
    "result['result'] = y_pred - y_test\n",
    "correct_data = result[result['result']==0]\n",
    "wrong_data = result[result['result']!=0]"
   ]
  },
  {
   "cell_type": "code",
   "execution_count": null,
   "metadata": {},
   "outputs": [],
   "source": [
    "correct_data"
   ]
  },
  {
   "cell_type": "code",
   "execution_count": null,
   "metadata": {},
   "outputs": [],
   "source": [
    "wrong_data"
   ]
  },
  {
   "cell_type": "markdown",
   "metadata": {},
   "source": [
    "### 6.2 混淆矩阵"
   ]
  },
  {
   "cell_type": "code",
   "execution_count": null,
   "metadata": {},
   "outputs": [],
   "source": [
    "skplt.metrics.plot_confusion_matrix(y_test, y_pred, normalize=False, labels=[1,0], figsize=(12,6), title=key);\n",
    "# plt.savefig('Confusion_Matrix.svg')"
   ]
  },
  {
   "cell_type": "markdown",
   "metadata": {},
   "source": [
    "### 6.3 分类评估报告"
   ]
  },
  {
   "cell_type": "code",
   "execution_count": null,
   "metadata": {},
   "outputs": [],
   "source": [
    "print(classification_report(y_test, y_pred))"
   ]
  },
  {
   "cell_type": "markdown",
   "metadata": {},
   "source": [
    "### 6.4 特征重要性"
   ]
  },
  {
   "cell_type": "code",
   "execution_count": null,
   "metadata": {},
   "outputs": [],
   "source": [
    "skplt.estimators.plot_feature_importances(model, feature_names=data.columns[1:], figsize=(12,6), text_fontsize=9);\n",
    "# plt.savefig('Feature_Importance.svg')"
   ]
  },
  {
   "cell_type": "markdown",
   "metadata": {},
   "source": [
    "### 6.5 树图"
   ]
  },
  {
   "cell_type": "code",
   "execution_count": null,
   "metadata": {},
   "outputs": [],
   "source": [
    "# dot_data = tree.export_graphviz(model, out_file=None, \n",
    "#                          feature_names=data.columns[1:],  \n",
    "#                          class_names=['alive','dead'],  \n",
    "#                          filled=True, rounded=True,  \n",
    "#                          special_characters=True,\n",
    "#                          max_depth=2)  \n",
    "# graph = pydotplus.graph_from_dot_data(dot_data)  \n",
    "# Image(graph.create_png()) \n",
    "# graph.write_svg('CART_Tree.svg')"
   ]
  },
  {
   "cell_type": "markdown",
   "metadata": {},
   "source": [
    "## 7. 效能评估"
   ]
  },
  {
   "cell_type": "markdown",
   "metadata": {},
   "source": [
    "### 7.1 学习曲线"
   ]
  },
  {
   "cell_type": "code",
   "execution_count": null,
   "metadata": {},
   "outputs": [],
   "source": [
    "skplt.estimators.plot_learning_curve(model, X, y, cv=kfold, random_state=seed, scoring='recall', title='Learning Curve By Recall');\n",
    "# plt.savefig('Learning_Curve.svg')"
   ]
  },
  {
   "cell_type": "markdown",
   "metadata": {},
   "source": [
    "### 7.2 PR曲线"
   ]
  },
  {
   "cell_type": "code",
   "execution_count": null,
   "metadata": {},
   "outputs": [],
   "source": [
    "skplt.metrics.plot_precision_recall(y_test, y_proba);\n",
    "# plt.savefig('PR_Curve.svg')"
   ]
  },
  {
   "cell_type": "markdown",
   "metadata": {},
   "source": [
    "### 7.3 ROC曲线"
   ]
  },
  {
   "cell_type": "code",
   "execution_count": null,
   "metadata": {},
   "outputs": [],
   "source": [
    "skplt.metrics.plot_roc(y_test, y_proba);\n",
    "# plt.savefig('ROC_Curve.svg')"
   ]
  },
  {
   "cell_type": "markdown",
   "metadata": {},
   "source": [
    "### 7.4 校正曲线"
   ]
  },
  {
   "cell_type": "code",
   "execution_count": null,
   "metadata": {},
   "outputs": [],
   "source": [
    "model_name = ['CART']\n",
    "probas_list = [y_proba]\n",
    "skplt.metrics.plot_calibration_curve(y_test, probas_list, model_name);\n",
    "# plt.savefig('Calibration_Curve.svg')"
   ]
  },
  {
   "cell_type": "code",
   "execution_count": null,
   "metadata": {},
   "outputs": [],
   "source": [
    "# import joblib\n",
    "\n",
    "\n",
    "# joblib.dump(model, 'moon.pkl')"
   ]
  },
  {
   "cell_type": "code",
   "execution_count": 5,
   "metadata": {
    "scrolled": false
   },
   "outputs": [
    {
     "ename": "NameError",
     "evalue": "name 'i' is not defined",
     "output_type": "error",
     "traceback": [
      "\u001b[1;31m---------------------------------------------------------------------------\u001b[0m",
      "\u001b[1;31mNameError\u001b[0m                                 Traceback (most recent call last)",
      "\u001b[1;32m<ipython-input-5-120193bb4657>\u001b[0m in \u001b[0;36m<module>\u001b[1;34m\u001b[0m\n\u001b[0;32m      1\u001b[0m models = {\n\u001b[1;32m----> 2\u001b[1;33m     \u001b[1;34m'MLPC'\u001b[0m\u001b[1;33m:\u001b[0m \u001b[0mMLPClassifier\u001b[0m\u001b[1;33m(\u001b[0m\u001b[0mhidden_layer_sizes\u001b[0m\u001b[1;33m=\u001b[0m\u001b[1;33m(\u001b[0m\u001b[0mi\u001b[0m\u001b[1;33m,\u001b[0m\u001b[1;33m)\u001b[0m\u001b[1;33m,\u001b[0m \u001b[0msolver\u001b[0m\u001b[1;33m=\u001b[0m\u001b[1;34m'lbfgs'\u001b[0m\u001b[1;33m,\u001b[0m\u001b[0mrandom_state\u001b[0m\u001b[1;33m=\u001b[0m\u001b[0mseed\u001b[0m\u001b[1;33m)\u001b[0m\u001b[1;33m\u001b[0m\u001b[1;33m\u001b[0m\u001b[0m\n\u001b[0m\u001b[0;32m      3\u001b[0m }\n\u001b[0;32m      4\u001b[0m \u001b[1;33m\u001b[0m\u001b[0m\n\u001b[0;32m      5\u001b[0m parameters = {\n",
      "\u001b[1;31mNameError\u001b[0m: name 'i' is not defined"
     ]
    }
   ],
   "source": [
    "models = {\n",
    "    'MLPC': MLPClassifier(hidden_layer_sizes=(i,), solver='lbfgs',random_state=seed)\n",
    "}\n",
    "    \n",
    "parameters = {\n",
    "                'hidden_layer_sizes': range(1,20),  \n",
    "                'activation': ['identity','logistic','tanh','relu'], \n",
    "                'solver': ['adam', 'lbfgs', 'sgd'],\n",
    "                'random_state': [42]\n",
    "                \n",
    "}#'min_samples_leaf':range(1,2,3), 'min_samples_split':range(2,3,4),'max_features': range(1,15),\n",
    "\n",
    "grid_init = GridSearchCV(models['MLPC'], param_grid=parameters,scoring='f1', cv=kfold)\n",
    "grid_fit = grid_init.fit(X_train, y_train)\n",
    "model = grid_fit.best_estimator_\n",
    "cv_score = cross_val_score(model, X_train, y_train, cv=kfold, scoring=\"f1\")\n",
    "cv_mean = round(cv_score.mean(), 2)\n",
    "cv_std = round(cv_score.std(), 2)\n",
    "print('cv_mean: ', cv_mean)\n",
    "print('cv_std: ', cv_std)\n",
    "best_estimator = grid_fit.best_estimator_\n",
    "best_estimator.fit(X_train, y_train)"
   ]
  },
  {
   "cell_type": "code",
   "execution_count": null,
   "metadata": {},
   "outputs": [],
   "source": [
    "model.fit(X_train, y_train)\n",
    "y_pred = model.predict(X_test)\n",
    "y_proba = model.predict_proba(X_test) # 决策树的二分类每个点proba是0或者1\n",
    "result = pd.DataFrame(X_test, columns=data.columns[1:])\n",
    "result['label'] = y_test\n",
    "result['pred'] = y_pred\n",
    "result['result'] = y_pred - y_test\n",
    "correct_data = result[result['result']==0]\n",
    "wrong_data = result[result['result']!=0]"
   ]
  },
  {
   "cell_type": "code",
   "execution_count": null,
   "metadata": {},
   "outputs": [],
   "source": [
    "wrong_data"
   ]
  },
  {
   "cell_type": "code",
   "execution_count": null,
   "metadata": {},
   "outputs": [],
   "source": [
    "skplt.metrics.plot_confusion_matrix(y_test, y_pred, normalize=False, labels=[1,0], figsize=(12,6), title=key);"
   ]
  },
  {
   "cell_type": "code",
   "execution_count": null,
   "metadata": {},
   "outputs": [],
   "source": [
    "skplt.metrics.plot_precision_recall(y_test, y_proba);"
   ]
  },
  {
   "cell_type": "code",
   "execution_count": null,
   "metadata": {},
   "outputs": [],
   "source": []
  }
 ],
 "metadata": {
  "kernelspec": {
   "display_name": "Python 3",
   "language": "python",
   "name": "python3"
  },
  "language_info": {
   "codemirror_mode": {
    "name": "ipython",
    "version": 3
   },
   "file_extension": ".py",
   "mimetype": "text/x-python",
   "name": "python",
   "nbconvert_exporter": "python",
   "pygments_lexer": "ipython3",
   "version": "3.8.3"
  }
 },
 "nbformat": 4,
 "nbformat_minor": 2
}
