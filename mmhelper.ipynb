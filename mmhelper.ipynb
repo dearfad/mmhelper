{
 "cells": [
  {
   "cell_type": "markdown",
   "metadata": {},
   "outputs": [],
   "source": [
    "---"
   ]
  },
  {
   "cell_type": "code",
   "metadata": {},
   "outputs": [],
   "source": [
    "# 1. Creat demo.xlsx"
   ]
  },
  {
   "cell_type": "code",
   "metadata": {},
   "outputs": [],
   "source": [
    "# import numpy as np\n",
    "# import pandas as pd\n",
    "# np.random.seed(1)\n",
    "# data = pd.DataFrame({\n",
    "#     'label': np.random.randint(0, 2, 500),\n",
    "#     'age': np.random.randint(18, 70, 500),\n",
    "#     'sex': np.random.randint(0, 2, 500),\n",
    "#     'height': np.random.randint(140, 200, 500),\n",
    "#     'weight': np.random.randint(40, 100, 500)\n",
    "# })\n",
    "# data['bsa'] = round(0.0061 * data['height'] + 0.0128 * data['weight'] - 0.1529, 3)\n",
    "# data['bmi'] = round(data['weight'] / (data['height']/100)**2, 1)\n",
    "\n",
    "# data['label'] = data['height'].apply(lambda x : 1 if x in range(155,180) else 0) & \\\n",
    "#                 data['weight'].apply(lambda x : 1 if x in range(45,70) else 0)\n",
    "\n",
    "# data.to_excel('demo.xlsx', index=False)"
   ]
  },
  {
   "cell_type": "code",
   "metadata": {},
   "outputs": [],
   "source": [
    "# 2. Fast Evaluation"
   ]
  },
  {
   "cell_type": "code",
   "metadata": {},
   "outputs": [],
   "source": [
    "# import pandas as pd\n",
    "# from sklearn.model_selection import train_test_split\n",
    "# from sklearn.tree import DecisionTreeClassifier\n",
    "# from sklearn.metrics import accuracy_score\n",
    "\n",
    "# datafile = 'demo.xlsx'\n",
    "# data = pd.read_excel(datafile)\n",
    "# X, y = data.values[:, 1:], data.values[:, 0]\n",
    "# X_train, X_test, y_train, y_test = train_test_split(X, y)\n",
    "# model = DecisionTreeClassifier()\n",
    "# model.fit(X_train, y_train)\n",
    "# y_predict = model.predict(X_test)\n",
    "# result = accuracy_score(y_test, y_predict)\n",
    "# print(result)"
   ]
  },
  {
   "cell_type": "code",
   "metadata": {},
   "outputs": [],
   "source": [
    "# 3. Try It Yourself"
   ]
  },
  {
   "cell_type": "code",
   "metadata": {},
   "outputs": [],
   "source": [
    "# test = pd.DataFrame({\n",
    "#     'age':[23],\n",
    "#     'sex':[1],\n",
    "#     'height':[140],\n",
    "#     'weight':[65]\n",
    "# })\n",
    "# print(model.predict(test))"
   ]
  },
  {
   "cell_type": "markdown",
   "metadata": {},
   "outputs": [],
   "source": [
    "---"
   ]
  },
  {
   "cell_type": "code",
   "metadata": {},
   "outputs": [],
   "source": [
    "# 4. Chi Square Test"
   ]
  },
  {
   "cell_type": "code",
   "metadata": {},
   "outputs": [],
   "source": [
    "# * 卡方检验（2*2表格）\n",
    "#     - 所有的理论数T≥5并且总样本量n≥40，用Pearson卡方进行检验。\n",
    "#     - 如果理论数T＜5但T≥1，并且n≥40，用连续性校正的卡方进行检验。\n",
    "#     - 如果有理论数T＜1或n＜40，则用Fisher’s检验。\n",
    "#     - 非2*2表格直接使用stats.chi2_contingency(cross_table)\n",
    "\n",
    "# * R×C表卡方检验应用条件：\n",
    "#   - R×C表中理论数小于5的格子不能超过1／5；\n",
    "#   - 不能有小于1的理论数。如果实验中有不符合R×C表的卡方检验，可以通过增加样本数、列合并来实现。"
   ]
  },
  {
   "cell_type": "code",
   "metadata": {},
   "outputs": [],
   "source": [
    "# import numpy as np\n",
    "# import pandas as pd\n",
    "# from scipy import stats\n",
    "\n",
    "# data = pd.read_excel('demo.xlsx')\n",
    "# cross_table = pd.crosstab(data['label'], data['sex'], margins=True)\n",
    "# print(cross_table)\n",
    "\n",
    "# # cross_table = np.array([\n",
    "# #     [43, 96],\n",
    "# #     [28, 84]\n",
    "# #     ])\n",
    "\n",
    "# result = stats.chi2_contingency(cross_table, correction=False)  # Pearson Test\n",
    "# # result = stats.chi2_contingency(cross_table, correction=True) # 连续性校正\n",
    "# # result = stats.fisher_exact(cross_table) # Fisher's Test\n",
    "\n",
    "# print(pd.DataFrame(result[3])) # 理论数表\n",
    "# print(f'X2= {round(result[0],3)}, p= {round(result[1],3)}')"
   ]
  },
  {
   "cell_type": "code",
   "execution_count": null,
   "metadata": {},
   "outputs": [],
   "source": [
    "# 5. Independent two-sample t-test"
   ]
  },
  {
   "cell_type": "code",
   "execution_count": 83,
   "metadata": {},
   "outputs": [],
   "source": [
    "# from scipy import stats\n",
    "# import pandas as pd\n",
    "\n",
    "# data = pd.read_excel('demo.xlsx')\n",
    "\n",
    "# group = 'label'\n",
    "# feature = 'height'\n",
    "# print(round(data.groupby(group).mean(),2))\n",
    "\n",
    "# group_0, group_1 = data[data[group]==0], data[data[group]==1]\n",
    "# levene_p = round(stats.levene(group_0[feature], group_1[feature])[1], 3)\n",
    "# print(\"Levene's Test p =\", levene_p)\n",
    "\n",
    "# if levene_p > 0.05:\n",
    "#     test = 'Student'\n",
    "#     statistic, pvalue = stats.ttest_ind(group_0[feature], group_1[feature], equal_var=True) # if p>0.05 Student's t-test\n",
    "# else:\n",
    "#     test = 'Welch'\n",
    "#     statistic, pvalue = stats.ttest_ind(group_0[feature], group_1[feature], equal_var=False) # if p<0.05 Welch's t-test \n",
    "\n",
    "# print(f'test = {test}, stat = {round(statistic,4)}, p = {round(pvalue,3)}')"
   ]
  }
 ],
 "metadata": {
  "kernelspec": {
   "display_name": "Python 3",
   "language": "python",
   "name": "python3"
  },
  "language_info": {
   "codemirror_mode": {
    "name": "ipython",
    "version": 3
   },
   "file_extension": ".py",
   "mimetype": "text/x-python",
   "name": "python",
   "nbconvert_exporter": "python",
   "pygments_lexer": "ipython3",
   "version": "3.7.4"
  }
 },
 "nbformat": 4,
 "nbformat_minor": 2
}