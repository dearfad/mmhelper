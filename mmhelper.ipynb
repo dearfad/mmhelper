{
 "cells": [
  {
   "cell_type": "code",
   "execution_count": 5,
   "metadata": {},
   "outputs": [],
   "source": [
    "# Creat demo.xlsx"
   ]
  },
  {
   "cell_type": "code",
   "execution_count": 6,
   "metadata": {},
   "outputs": [],
   "source": [
    "# import numpy as np\n",
    "# import pandas as pd\n",
    "# np.random.seed(1)\n",
    "# data = pd.DataFrame({\n",
    "#     'label': np.random.randint(0, 2, 500),\n",
    "#     'age': np.random.randint(18, 70, 500),\n",
    "#     'sex': np.random.randint(0, 2, 500),\n",
    "#     'height': np.random.randint(140, 200, 500),\n",
    "#     'weight': np.random.randint(40, 100, 500)\n",
    "# })\n",
    "# data.to_excel('demo.xlsx', index=False)"
   ]
  },
  {
   "cell_type": "code",
   "execution_count": 7,
   "metadata": {},
   "outputs": [],
   "source": [
    "# Fast Evaluation"
   ]
  },
  {
   "cell_type": "code",
   "execution_count": null,
   "metadata": {},
   "outputs": [],
   "source": [
    "import pandas as pd\n",
    "from sklearn.model_selection import train_test_split\n",
    "from sklearn.tree import DecisionTreeClassifier\n",
    "from sklearn.metrics import accuracy_score\n",
    "\n",
    "datafile = 'demo.xlsx'\n",
    "data = pd.read_excel(datafile)\n",
    "X, y = data.values[:, 1:], data.values[:, 0]\n",
    "X_train, X_test, y_train, y_test = train_test_split(X, y)\n",
    "model = DecisionTreeClassifier()\n",
    "model.fit(X_train, y_train)\n",
    "y_predict = model.predict(X_test)\n",
    "result = accuracy_score(y_test, y_predict)\n",
    "print(result)"
   ]
  },
  {
   "cell_type": "code",
   "execution_count": null,
   "metadata": {},
   "outputs": [],
   "source": []
  }
 ],
 "metadata": {
  "kernelspec": {
   "display_name": "Python 3",
   "language": "python",
   "name": "python3"
  },
  "language_info": {
   "codemirror_mode": {
    "name": "ipython",
    "version": 3
   },
   "file_extension": ".py",
   "mimetype": "text/x-python",
   "name": "python",
   "nbconvert_exporter": "python",
   "pygments_lexer": "ipython3",
   "version": "3.7.4"
  }
 },
 "nbformat": 4,
 "nbformat_minor": 2
}
