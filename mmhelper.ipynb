{
 "cells": [
  {
   "cell_type": "code",
   "execution_count": 1,
   "metadata": {
    "deletable": false,
    "editable": false
   },
   "outputs": [
    {
     "data": {
      "application/javascript": [
       "IPython.notebook.execute_cells_below()"
      ],
      "text/plain": [
       "<IPython.core.display.Javascript object>"
      ]
     },
     "metadata": {},
     "output_type": "display_data"
    },
    {
     "data": {
      "application/vnd.jupyter.widget-view+json": {
       "model_id": "063558bf08904aa58b9cf6ce3f6cbbed",
       "version_major": 2,
       "version_minor": 0
      },
      "text/plain": [
       "Button(button_style='info', description='开始', icon='check', style=ButtonStyle(), tooltip='点击运行本项目')"
      ]
     },
     "metadata": {},
     "output_type": "display_data"
    },
    {
     "data": {
      "application/vnd.jupyter.widget-view+json": {
       "model_id": "d786368744394bad82c985a83c51e289",
       "version_major": 2,
       "version_minor": 0
      },
      "text/plain": [
       "Button(button_style='info', description='开始', icon='check', style=ButtonStyle(), tooltip='点击运行本项目')"
      ]
     },
     "metadata": {},
     "output_type": "display_data"
    }
   ],
   "source": [
    "from IPython.display import Javascript, display\n",
    "from ipywidgets import widgets\n",
    "\n",
    "def run_all(event):\n",
    "    display(Javascript('IPython.notebook.execute_cells_below()'))\n",
    "\n",
    "button = widgets.Button(description='开始', button_style='info', tooltip='点击运行本项目', icon='check')\n",
    "button.on_click(run_all)\n",
    "display(button)"
   ]
  },
  {
   "cell_type": "markdown",
   "metadata": {
    "deletable": false,
    "editable": false,
    "hide_input": true,
    "run_control": {
     "frozen": true
    }
   },
   "source": [
    "# <center>医学论文助手 - <b>M</b>edical <b>M</b>anuscript <b>Helper</b></center>"
   ]
  },
  {
   "cell_type": "markdown",
   "metadata": {
    "ExecuteTime": {
     "end_time": "2019-05-22T07:48:41.175226Z",
     "start_time": "2019-05-22T07:48:41.058227Z"
    },
    "cell_style": "split",
    "deletable": false,
    "editable": false,
    "run_control": {
     "frozen": true
    }
   },
   "source": [
    "<b>说明</b>：仅适用于 <b>机器学习</b> - <b>监督学习</b> - <b>分类</b> 的医学论文"
   ]
  },
  {
   "cell_type": "markdown",
   "metadata": {
    "cell_style": "split",
    "deletable": false,
    "editable": false,
    "run_control": {
     "frozen": true
    }
   },
   "source": [
    "<b>操作</b>：点击 <b>菜单栏</b> - <b>Cell</b> - <b>Run All</b>，点击 <b>工具栏</b> - <b>眼睛</b> - <b>显示代码</b>"
   ]
  },
  {
   "cell_type": "markdown",
   "metadata": {
    "deletable": false,
    "editable": false,
    "run_control": {
     "frozen": true
    }
   },
   "source": [
    "<b>注意</b>：查看结果需等待运行结束待机状态。右上角<b>Python 3</b>右侧圆圈 <b>空心</b> 待机状态， <b>实心</b> 正在运行。"
   ]
  },
  {
   "cell_type": "markdown",
   "metadata": {
    "deletable": false,
    "editable": false,
    "run_control": {
     "frozen": true
    }
   },
   "source": [
    "## 前言"
   ]
  },
  {
   "cell_type": "markdown",
   "metadata": {},
   "source": [
    "- 本项目范例数据集基于：[Breast Cancer Wisconsin (Diagnostic) Data Set](https://www.kaggle.com/uciml/breast-cancer-wisconsin-data)\n",
    "- 参考相关Kernels：[Feature Selection and Data Visualization](https://www.kaggle.com/kanncaa1/feature-selection-and-data-visualization) 和 [Intro to Keras with breast cancer data[ANN]](https://www.kaggle.com/thebrownviking20/intro-to-keras-with-breast-cancer-data-ann)"
   ]
  },
  {
   "cell_type": "markdown",
   "metadata": {
    "cell_style": "center",
    "deletable": false,
    "editable": false,
    "hide_input": false,
    "run_control": {
     "frozen": true
    }
   },
   "source": [
    "## 导入数据"
   ]
  },
  {
   "cell_type": "markdown",
   "metadata": {
    "deletable": false,
    "editable": false,
    "run_control": {
     "frozen": true
    }
   },
   "source": [
    "<b>备注</b>：默认为当前目录下的data.xlsx文件，确认数据文件是否正确。"
   ]
  },
  {
   "cell_type": "code",
   "execution_count": 2,
   "metadata": {
    "ExecuteTime": {
     "end_time": "2019-05-22T09:24:33.230097Z",
     "start_time": "2019-05-22T09:24:33.099094Z"
    },
    "code_folding": [],
    "scrolled": false
   },
   "outputs": [
    {
     "name": "stdout",
     "output_type": "stream",
     "text": [
      "共计： 495 行 ， 15 列\n"
     ]
    },
    {
     "data": {
      "text/html": [
       "<div>\n",
       "<style scoped>\n",
       "    .dataframe tbody tr th:only-of-type {\n",
       "        vertical-align: middle;\n",
       "    }\n",
       "\n",
       "    .dataframe tbody tr th {\n",
       "        vertical-align: top;\n",
       "    }\n",
       "\n",
       "    .dataframe thead th {\n",
       "        text-align: right;\n",
       "    }\n",
       "</style>\n",
       "<table border=\"1\" class=\"dataframe\">\n",
       "  <thead>\n",
       "    <tr style=\"text-align: right;\">\n",
       "      <th></th>\n",
       "      <th>tumor</th>\n",
       "      <th>age</th>\n",
       "      <th>history</th>\n",
       "      <th>menarche</th>\n",
       "      <th>menopause</th>\n",
       "      <th>gestation</th>\n",
       "      <th>abortion</th>\n",
       "      <th>pain</th>\n",
       "      <th>birads</th>\n",
       "      <th>ectasia</th>\n",
       "      <th>multiple</th>\n",
       "      <th>distance</th>\n",
       "      <th>size</th>\n",
       "      <th>margin</th>\n",
       "      <th>blood</th>\n",
       "    </tr>\n",
       "  </thead>\n",
       "  <tbody>\n",
       "    <tr>\n",
       "      <th>0</th>\n",
       "      <td>0</td>\n",
       "      <td>47</td>\n",
       "      <td>0</td>\n",
       "      <td>13</td>\n",
       "      <td>0</td>\n",
       "      <td>3</td>\n",
       "      <td>1</td>\n",
       "      <td>1</td>\n",
       "      <td>0</td>\n",
       "      <td>0</td>\n",
       "      <td>1</td>\n",
       "      <td>0</td>\n",
       "      <td>1</td>\n",
       "      <td>1</td>\n",
       "      <td>0</td>\n",
       "    </tr>\n",
       "    <tr>\n",
       "      <th>1</th>\n",
       "      <td>0</td>\n",
       "      <td>47</td>\n",
       "      <td>0</td>\n",
       "      <td>13</td>\n",
       "      <td>0</td>\n",
       "      <td>3</td>\n",
       "      <td>1</td>\n",
       "      <td>1</td>\n",
       "      <td>0</td>\n",
       "      <td>0</td>\n",
       "      <td>1</td>\n",
       "      <td>0</td>\n",
       "      <td>0</td>\n",
       "      <td>1</td>\n",
       "      <td>0</td>\n",
       "    </tr>\n",
       "    <tr>\n",
       "      <th>2</th>\n",
       "      <td>0</td>\n",
       "      <td>44</td>\n",
       "      <td>1</td>\n",
       "      <td>14</td>\n",
       "      <td>0</td>\n",
       "      <td>2</td>\n",
       "      <td>1</td>\n",
       "      <td>0</td>\n",
       "      <td>0</td>\n",
       "      <td>0</td>\n",
       "      <td>1</td>\n",
       "      <td>0</td>\n",
       "      <td>0</td>\n",
       "      <td>1</td>\n",
       "      <td>0</td>\n",
       "    </tr>\n",
       "    <tr>\n",
       "      <th>3</th>\n",
       "      <td>0</td>\n",
       "      <td>44</td>\n",
       "      <td>1</td>\n",
       "      <td>14</td>\n",
       "      <td>0</td>\n",
       "      <td>2</td>\n",
       "      <td>1</td>\n",
       "      <td>0</td>\n",
       "      <td>0</td>\n",
       "      <td>0</td>\n",
       "      <td>1</td>\n",
       "      <td>0</td>\n",
       "      <td>1</td>\n",
       "      <td>1</td>\n",
       "      <td>0</td>\n",
       "    </tr>\n",
       "    <tr>\n",
       "      <th>4</th>\n",
       "      <td>0</td>\n",
       "      <td>44</td>\n",
       "      <td>1</td>\n",
       "      <td>14</td>\n",
       "      <td>0</td>\n",
       "      <td>4</td>\n",
       "      <td>3</td>\n",
       "      <td>0</td>\n",
       "      <td>0</td>\n",
       "      <td>0</td>\n",
       "      <td>1</td>\n",
       "      <td>0</td>\n",
       "      <td>1</td>\n",
       "      <td>0</td>\n",
       "      <td>0</td>\n",
       "    </tr>\n",
       "  </tbody>\n",
       "</table>\n",
       "</div>"
      ],
      "text/plain": [
       "   tumor  age  history  menarche  menopause  gestation  abortion  pain  \\\n",
       "0      0   47        0        13          0          3         1     1   \n",
       "1      0   47        0        13          0          3         1     1   \n",
       "2      0   44        1        14          0          2         1     0   \n",
       "3      0   44        1        14          0          2         1     0   \n",
       "4      0   44        1        14          0          4         3     0   \n",
       "\n",
       "   birads  ectasia  multiple  distance  size  margin  blood  \n",
       "0       0        0         1         0     1       1      0  \n",
       "1       0        0         1         0     0       1      0  \n",
       "2       0        0         1         0     0       1      0  \n",
       "3       0        0         1         0     1       1      0  \n",
       "4       0        0         1         0     1       0      0  "
      ]
     },
     "execution_count": 2,
     "metadata": {},
     "output_type": "execute_result"
    }
   ],
   "source": [
    "import pandas as pd\n",
    "data = pd.read_excel('./data.xlsx')\n",
    "print('共计：', data.shape[0],'行','，',data.shape[1],'列')\n",
    "data.head()"
   ]
  },
  {
   "cell_type": "markdown",
   "metadata": {
    "deletable": false,
    "editable": false,
    "run_control": {
     "frozen": true
    }
   },
   "source": [
    "## 评估可行性"
   ]
  },
  {
   "cell_type": "markdown",
   "metadata": {
    "deletable": false,
    "editable": false,
    "run_control": {
     "frozen": true
    }
   },
   "source": [
    "### 查看相关性"
   ]
  },
  {
   "cell_type": "markdown",
   "metadata": {
    "deletable": false,
    "editable": false,
    "run_control": {
     "frozen": true
    }
   },
   "source": [
    "<b>备注</b>：注意有无有预测值高度相关的特征，红色正相关，蓝色负相关。"
   ]
  },
  {
   "cell_type": "code",
   "execution_count": 3,
   "metadata": {
    "ExecuteTime": {
     "end_time": "2019-05-22T09:24:33.096098Z",
     "start_time": "2019-05-22T09:24:33.086095Z"
    },
    "code_folding": [],
    "deletable": false,
    "editable": false
   },
   "outputs": [],
   "source": [
    "import numpy as np\n",
    "import scipy.stats as scs\n",
    "\n",
    "import matplotlib.pyplot as plt\n",
    "import seaborn as sns\n",
    "\n",
    "from sklearn.model_selection import train_test_split\n",
    "from sklearn.model_selection import StratifiedKFold\n",
    "from sklearn.model_selection import cross_val_score\n",
    "from sklearn.model_selection import learning_curve\n",
    "\n",
    "from sklearn.metrics import classification_report\n",
    "from sklearn.metrics import confusion_matrix\n",
    "from sklearn.metrics import accuracy_score\n",
    "\n",
    "from sklearn.linear_model import LogisticRegression\n",
    "from sklearn.discriminant_analysis import LinearDiscriminantAnalysis, QuadraticDiscriminantAnalysis\n",
    "from sklearn.naive_bayes import GaussianNB\n",
    "from sklearn.neighbors import KNeighborsClassifier\n",
    "from sklearn.svm import SVC\n",
    "from sklearn.tree import DecisionTreeClassifier\n",
    "from sklearn.ensemble import RandomForestClassifier, AdaBoostClassifier, GradientBoostingClassifier, ExtraTreesClassifier\n",
    "from sklearn.ensemble import VotingClassifier\n",
    "\n",
    "from xgboost import XGBClassifier\n",
    "\n",
    "import warnings\n",
    "warnings.filterwarnings('ignore')\n",
    "\n",
    "# view corr map\n",
    "\n",
    "plt.figure(figsize=(26, 22))\n",
    "sns.heatmap(data.astype(float).corr(),\n",
    "            linewidths=0.1,\n",
    "            square=True,\n",
    "            cmap='coolwarm',\n",
    "            linecolor='white',\n",
    "            annot=True,\n",
    "            vmax=1,\n",
    "            vmin=-1);"
   ]
  },
  {
   "cell_type": "markdown",
   "metadata": {
    "deletable": false,
    "editable": false,
    "run_control": {
     "frozen": true
    }
   },
   "source": [
    "### 查看预测准确度"
   ]
  },
  {
   "cell_type": "code",
   "execution_count": null,
   "metadata": {
    "ExecuteTime": {
     "end_time": "2019-05-22T09:24:34.794094Z",
     "start_time": "2019-05-22T09:24:34.772095Z"
    },
    "code_folding": [],
    "scrolled": false
   },
   "outputs": [
    {
     "data": {
      "image/png": "[encoded data removed]",
      "text/plain": [
       "<Figure size 1008x720 with 1 Axes>"
      ]
     },
     "metadata": {
      "needs_background": "light"
     },
     "output_type": "display_data"
    }
   ],
   "source": [
    "data = data.dropna()\n",
    "X, y = data.values[:, 1:], data.values[:, 0]\n",
    "X_train, X_test, y_train, y_test = train_test_split(X, y)\n",
    "\n",
    "models = {\n",
    "    'LR': LogisticRegression(solver='liblinear', multi_class='auto'),\n",
    "    'LDA': LinearDiscriminantAnalysis(),\n",
    "    'QDA': QuadraticDiscriminantAnalysis(),\n",
    "    'NB': GaussianNB(),\n",
    "    'KNN': KNeighborsClassifier(),\n",
    "    'SVM': SVC(gamma='scale'),\n",
    "    'CART': DecisionTreeClassifier(),\n",
    "    'RFC': RandomForestClassifier(n_estimators=100),\n",
    "    'ABC': AdaBoostClassifier(),\n",
    "    'GBC': GradientBoostingClassifier(),\n",
    "    'ETC': ExtraTreesClassifier(n_estimators=100),\n",
    "    'XGB': XGBClassifier(),\n",
    "}\n",
    "\n",
    "models['VC'] = VotingClassifier(estimators=[('lr', models['LR']), ('lda', models['LDA']), ('qda', models['QDA']),\n",
    "                                            ('nb', models['NB']), ('knn', models['KNN']), ('svm', models['SVM']),\n",
    "                                            ('cart', models['CART']), ('rfc', models['RFC']), ('abc', models['ABC']),\n",
    "                                            ('gbc', models['GBC']), ('etc', models['ETC']), ('xgb', models['XGB'])], voting='hard')\n",
    "\n",
    "kfold = StratifiedKFold(n_splits=10)\n",
    "cv_result = []\n",
    "\n",
    "for key in models:\n",
    "        models[key].fit(X_train, y_train)\n",
    "        cv_score = cross_val_score(\n",
    "            models[key], X_train, y_train, scoring=\"accuracy\", cv=kfold)\n",
    "        cv_means = round(cv_score.mean(), 2)\n",
    "    #     cv_std = round(cv_score.std(), 2)\n",
    "        acc_score = round(models[key].score(X_test, y_test), 2)\n",
    "        cvresult = {'models': key, 'score': cv_means, 'type': 'cv'}\n",
    "        cv_result.append(cvresult)\n",
    "        cvresult = {'models': key, 'score': acc_score, 'type': 'acc'}\n",
    "        cv_result.append(cvresult)\n",
    "    #     print(confusion_matrix(y_test, models[key].predict(X_test)))\n",
    "    #     print(key)\n",
    "    #     print('='*80)\n",
    "    #     print(classification_report(y_test, models[key].predict(X_test)))\n",
    "\n",
    "cv_results = pd.DataFrame(cv_result)\n",
    "\n",
    "plt.figure(figsize=(14, 10))\n",
    "sns.set(style=\"whitegrid\")\n",
    "g = sns.barplot(x='score', y='models', hue='type', data=cv_results, palette=\"muted\");\n",
    "# g = sns.barplot(x='score', y='models', hue='type', data=cv_results, **{'xerr': cv_std})\n",
    "g.set_xticks(np.arange(0, 1.05, 0.05));\n"
   ]
  },
  {
   "cell_type": "markdown",
   "metadata": {
    "deletable": false,
    "editable": false,
    "run_control": {
     "frozen": true
    }
   },
   "source": [
    "### 学习曲线"
   ]
  },
  {
   "cell_type": "code",
   "execution_count": null,
   "metadata": {
    "ExecuteTime": {
     "end_time": "2019-05-22T09:24:34.805093Z",
     "start_time": "2019-05-22T09:24:33.114Z"
    },
    "code_folding": [],
    "scrolled": false
   },
   "outputs": [],
   "source": [
    "def plot_learning_curve(estimator, title, X, y, ylim=None, cv=None, n_jobs=None, train_sizes=np.linspace(.1, 1.0, 5)):\n",
    "    plt.figure()\n",
    "    plt.title(title)\n",
    "    if ylim is not None:\n",
    "        plt.ylim(*ylim)\n",
    "    plt.xlabel(\"Training examples\")\n",
    "    plt.ylabel(\"Score\")\n",
    "    train_sizes, train_scores, test_scores = learning_curve(\n",
    "        estimator, X, y, cv=cv, n_jobs=n_jobs, train_sizes=train_sizes)\n",
    "    train_scores_mean = np.mean(train_scores, axis=1)\n",
    "    train_scores_std = np.std(train_scores, axis=1)\n",
    "    test_scores_mean = np.mean(test_scores, axis=1)\n",
    "    test_scores_std = np.std(test_scores, axis=1)\n",
    "    plt.grid()\n",
    "    plt.fill_between(train_sizes, train_scores_mean - train_scores_std,\n",
    "                     train_scores_mean + train_scores_std, alpha=0.1,  color=\"r\")\n",
    "    plt.fill_between(train_sizes, test_scores_mean - test_scores_std,\n",
    "                     test_scores_mean + test_scores_std, alpha=0.1, color=\"g\")\n",
    "    plt.plot(train_sizes, train_scores_mean, 'o-',\n",
    "             color=\"r\", label=\"Training score\")\n",
    "    plt.plot(train_sizes, test_scores_mean, 'o-',\n",
    "             color=\"g\", label=\"Cross-validation score\")\n",
    "    plt.legend(loc=\"best\")\n",
    "    return plt\n",
    "\n",
    "\n",
    "for key in models:\n",
    "    plot_learning_curve(models[key], key, X_train, y_train, cv=5)\n"
   ]
  },
  {
   "cell_type": "markdown",
   "metadata": {
    "heading_collapsed": true
   },
   "source": [
    "## 提出问题"
   ]
  },
  {
   "cell_type": "markdown",
   "metadata": {
    "hidden": true
   },
   "source": [
    "* 明确数据分析想解决或者了解的信息是什么？"
   ]
  },
  {
   "cell_type": "markdown",
   "metadata": {},
   "source": [
    "## 理解数据"
   ]
  },
  {
   "cell_type": "markdown",
   "metadata": {
    "heading_collapsed": true
   },
   "source": [
    "### 设定相关参数"
   ]
  },
  {
   "cell_type": "code",
   "execution_count": null,
   "metadata": {
    "ExecuteTime": {
     "end_time": "2019-05-22T09:24:34.807093Z",
     "start_time": "2019-05-22T09:24:33.120Z"
    },
    "hidden": true
   },
   "outputs": [],
   "source": [
    "# pd.set_option('precision', 2)  # 显示小数位数\n",
    "# pd.set_option('max_rows', 11)  # 显示最大行数, describe需要11行\n",
    "# pd.set_option('max_colwidth',40) # 最大列宽\n",
    "# pd.reset_option('precision')  # 重置显示设置，其余选项类似\n",
    "# %config InlineBackend.figure_format = 'svg'"
   ]
  },
  {
   "cell_type": "markdown",
   "metadata": {
    "heading_collapsed": true
   },
   "source": [
    "### 数据基本信息"
   ]
  },
  {
   "cell_type": "markdown",
   "metadata": {
    "heading_collapsed": true,
    "hidden": true
   },
   "source": [
    "#### 查看数据基本结构"
   ]
  },
  {
   "cell_type": "code",
   "execution_count": null,
   "metadata": {
    "ExecuteTime": {
     "end_time": "2019-05-22T09:24:34.809094Z",
     "start_time": "2019-05-22T09:24:33.125Z"
    },
    "hidden": true,
    "scrolled": false
   },
   "outputs": [],
   "source": [
    "# dataframe.head()\n",
    "# dataframe.head(), dataframe.tail(), dataframe.index, dataframe.columns, dataframe.values\n",
    "# dataframe.T  # 行列互换\n",
    "# dataframe.sort_values(by='age')  # 按列值排序\n",
    "# dataframe[dataframe.age < 35]  # 按条件查看数据"
   ]
  },
  {
   "cell_type": "code",
   "execution_count": null,
   "metadata": {
    "ExecuteTime": {
     "end_time": "2019-05-22T09:24:34.811097Z",
     "start_time": "2019-05-22T09:24:33.128Z"
    },
    "hidden": true
   },
   "outputs": [],
   "source": [
    "# dataframe['distance'] = dataframe['distance'].fillna('1.0')\n",
    "# dataframe['size'] = dataframe['size'].fillna('1.0')\n",
    "# X_train = dataframe.drop('group', axis=1)\n",
    "# y_train = dataframe['group']\n",
    "# from sklearn.linear_model import LogisticRegression\n",
    "# logreg = LogisticRegression()\n",
    "# logreg.fit(X_train, y_train)\n",
    "# acc_log = round(logreg.score(X_train, y_train) * 100, 2)\n",
    "# logreg.coef_[0]"
   ]
  },
  {
   "cell_type": "markdown",
   "metadata": {
    "heading_collapsed": true,
    "hidden": true
   },
   "source": [
    "#### 设定数据类型"
   ]
  },
  {
   "cell_type": "code",
   "execution_count": null,
   "metadata": {
    "ExecuteTime": {
     "end_time": "2019-05-22T09:24:34.819095Z",
     "start_time": "2019-05-22T09:24:33.132Z"
    },
    "hidden": true
   },
   "outputs": [],
   "source": [
    "# dataframe[['group', 'menopause', 'gestation', 'pain', 'ectasia', 'multiple', 'distance', 'size']] = dataframe[[\n",
    "#     'group', 'menopause', 'gestation', 'pain', 'ectasia', 'multiple', 'distance', 'size']].astype('category')\n",
    "# category, int64, float64, datetime64, object\n",
    "# dataframe.info()\n",
    "# 确认数据结构"
   ]
  },
  {
   "cell_type": "markdown",
   "metadata": {
    "heading_collapsed": true,
    "hidden": true
   },
   "source": [
    "#### 数据基本统计信息"
   ]
  },
  {
   "cell_type": "code",
   "execution_count": null,
   "metadata": {
    "ExecuteTime": {
     "end_time": "2019-05-22T09:24:34.821094Z",
     "start_time": "2019-05-22T09:24:33.136Z"
    },
    "hidden": true,
    "scrolled": true
   },
   "outputs": [],
   "source": [
    "# dataframe.describe(include='all')"
   ]
  },
  {
   "cell_type": "code",
   "execution_count": null,
   "metadata": {
    "ExecuteTime": {
     "end_time": "2019-05-22T09:24:34.822094Z",
     "start_time": "2019-05-22T09:24:33.139Z"
    },
    "hidden": true
   },
   "outputs": [],
   "source": [
    "# dataframe.age.describe(percentiles=[.1, .2, .3, .4, .5, .6, .7, .8, .9, .99])"
   ]
  },
  {
   "cell_type": "code",
   "execution_count": null,
   "metadata": {
    "ExecuteTime": {
     "end_time": "2019-05-22T09:24:34.824096Z",
     "start_time": "2019-05-22T09:24:33.142Z"
    },
    "hidden": true
   },
   "outputs": [],
   "source": [
    "# dataframe.hist(grid=False, bins=20, figsize=(10,10), layout=(3,3));"
   ]
  },
  {
   "cell_type": "markdown",
   "metadata": {
    "hidden": true
   },
   "source": [
    "---"
   ]
  },
  {
   "cell_type": "markdown",
   "metadata": {
    "heading_collapsed": true,
    "hidden": true
   },
   "source": [
    "#### 查看指定数据"
   ]
  },
  {
   "cell_type": "code",
   "execution_count": null,
   "metadata": {
    "ExecuteTime": {
     "end_time": "2019-05-22T09:24:34.826095Z",
     "start_time": "2019-05-22T09:24:33.150Z"
    },
    "hidden": true
   },
   "outputs": [],
   "source": [
    "# dataframe['group'].value_counts()\n",
    "# dataframe.groupby('group').mean()\n",
    "# dataframe[dataframe.age > 70]\n",
    "# dataframe[['size','group']].groupby('size').mean()"
   ]
  },
  {
   "cell_type": "markdown",
   "metadata": {
    "hidden": true
   },
   "source": [
    "* 数据相关性"
   ]
  },
  {
   "cell_type": "code",
   "execution_count": null,
   "metadata": {
    "ExecuteTime": {
     "end_time": "2019-05-22T09:24:34.828097Z",
     "start_time": "2019-05-22T09:24:33.155Z"
    },
    "hidden": true
   },
   "outputs": [],
   "source": [
    "# dataframe.corr(method='spearman')\n",
    "# 'pearson', 'kendall', 'spearman'"
   ]
  },
  {
   "cell_type": "markdown",
   "metadata": {
    "hidden": true
   },
   "source": [
    "* 分组情况（按第一列分组）"
   ]
  },
  {
   "cell_type": "code",
   "execution_count": null,
   "metadata": {
    "ExecuteTime": {
     "end_time": "2019-05-22T09:24:34.830096Z",
     "start_time": "2019-05-22T09:24:33.160Z"
    },
    "hidden": true
   },
   "outputs": [],
   "source": [
    "# chisq = data.groupby([data['group'], data['gestation']]).size()\n",
    "# print(chisq)"
   ]
  },
  {
   "cell_type": "code",
   "execution_count": null,
   "metadata": {
    "ExecuteTime": {
     "end_time": "2019-05-22T09:24:34.832095Z",
     "start_time": "2019-05-22T09:24:33.165Z"
    },
    "hidden": true
   },
   "outputs": [],
   "source": [
    "# pd.crosstab(dataframe['group'], dataframe['gestation'], margins=True)"
   ]
  },
  {
   "cell_type": "markdown",
   "metadata": {
    "hidden": true
   },
   "source": [
    "* 卡方检验（2*2表格）\n",
    "    - 所有的理论数T≥5并且总样本量n≥40，用Pearson卡方进行检验。\n",
    "    - 如果理论数T＜5但T≥1，并且1≥40，用连续性校正的卡方进行检验。\n",
    "    - 如果有理论数T＜1或n＜40，则用Fisher’s检验。\n",
    "    - 非2*2表格直接使用stats.chi2_contingency(chisq_matrix)\n",
    "\n",
    "* R×C表卡方检验应用条件：\n",
    "    - R×C表中理论数小于5的格子不能超过1／5；\n",
    "    - 不能有小于1的理论数。如果实验中有不符合R×C表的卡方检验，可以通过增加样本数、列合并来实现。"
   ]
  },
  {
   "cell_type": "code",
   "execution_count": null,
   "metadata": {
    "ExecuteTime": {
     "end_time": "2019-05-22T09:24:34.834095Z",
     "start_time": "2019-05-22T09:24:33.170Z"
    },
    "hidden": true
   },
   "outputs": [],
   "source": [
    "# chisq_matrix = np.array([[chisq[0, 0], chisq[0, 1]],\n",
    "#                          [chisq[1, 0], chisq[1, 1]]])\n",
    "# stats.chi2_contingency(chisq_matrix, correction=False)  # Pearson\n",
    "# stats.chi2_contingency(chisq_matrix) # 连续性校正\n",
    "# stats.fisher_exact(chisq_matrix)"
   ]
  },
  {
   "cell_type": "markdown",
   "metadata": {
    "heading_collapsed": true
   },
   "source": [
    "### 数据可视化"
   ]
  },
  {
   "cell_type": "code",
   "execution_count": null,
   "metadata": {
    "ExecuteTime": {
     "end_time": "2019-05-22T09:24:34.836097Z",
     "start_time": "2019-05-22T09:24:33.175Z"
    },
    "hidden": true
   },
   "outputs": [],
   "source": [
    "# g = sns.FacetGrid(dataframe, col='group')\n",
    "# g.map(plt.hist, 'age',bins=20)"
   ]
  },
  {
   "cell_type": "code",
   "execution_count": null,
   "metadata": {
    "ExecuteTime": {
     "end_time": "2019-05-22T09:24:34.837094Z",
     "start_time": "2019-05-22T09:24:33.179Z"
    },
    "hidden": true
   },
   "outputs": [],
   "source": [
    "# grid = sns.FacetGrid(dataframe, col='group', row='menopause')\n",
    "# grid.map(plt.hist, 'age', bins=20)\n",
    "# grid.add_legend();"
   ]
  },
  {
   "cell_type": "code",
   "execution_count": null,
   "metadata": {
    "ExecuteTime": {
     "end_time": "2019-05-22T09:24:34.839099Z",
     "start_time": "2019-05-22T09:24:33.183Z"
    },
    "hidden": true
   },
   "outputs": [],
   "source": [
    "# grid = sns.FacetGrid(dataframe, row='menopause')\n",
    "# grid.map(sns.pointplot, 'gestation', 'group', 'ectasia', palette='deep')\n",
    "# grid.add_legend()"
   ]
  },
  {
   "cell_type": "markdown",
   "metadata": {
    "hidden": true
   },
   "source": [
    "* 单变量密度图"
   ]
  },
  {
   "cell_type": "code",
   "execution_count": null,
   "metadata": {
    "ExecuteTime": {
     "end_time": "2019-05-22T09:24:34.841094Z",
     "start_time": "2019-05-22T09:24:33.188Z"
    },
    "hidden": true
   },
   "outputs": [],
   "source": [
    "# data.plot(\n",
    "#     kind='density',\n",
    "#     subplots=True,\n",
    "#     figsize=(10, 10),\n",
    "#     layout=(3, 3),\n",
    "#     sharex=False)"
   ]
  },
  {
   "cell_type": "markdown",
   "metadata": {
    "hidden": true
   },
   "source": [
    "* 单变量箱图"
   ]
  },
  {
   "cell_type": "code",
   "execution_count": null,
   "metadata": {
    "ExecuteTime": {
     "end_time": "2019-05-22T09:24:34.843095Z",
     "start_time": "2019-05-22T09:24:33.193Z"
    },
    "hidden": true
   },
   "outputs": [],
   "source": [
    "# data.plot(\n",
    "#     kind='box', subplots=True, figsize=(10, 10), layout=(3, 3), sharex=False)"
   ]
  },
  {
   "cell_type": "markdown",
   "metadata": {
    "hidden": true
   },
   "source": [
    "* 多变量相关矩阵图"
   ]
  },
  {
   "cell_type": "code",
   "execution_count": null,
   "metadata": {
    "ExecuteTime": {
     "end_time": "2019-05-22T09:24:34.844093Z",
     "start_time": "2019-05-22T09:24:33.197Z"
    },
    "hidden": true
   },
   "outputs": [],
   "source": [
    "# import numpy as np\n",
    "# correlations = data.corr()\n",
    "# fig = pyplot.figure()\n",
    "# ax = fig.add_subplot('111')\n",
    "# ax.matshow(correlations, vmin=-1, vmax=1)\n",
    "# ticks = np.arange(0, 9, 1)\n",
    "# ax.set_xticks(ticks)\n",
    "# ax.set_yticks(ticks)\n",
    "# ax.set_xticklabels(data.columns)\n",
    "# ax.set_yticklabels(data.columns)\n",
    "# fig.set_size_inches(10, 10)"
   ]
  },
  {
   "cell_type": "markdown",
   "metadata": {
    "hidden": true
   },
   "source": [
    "* 散点矩阵图"
   ]
  },
  {
   "cell_type": "code",
   "execution_count": null,
   "metadata": {
    "ExecuteTime": {
     "end_time": "2019-05-22T09:24:34.846094Z",
     "start_time": "2019-05-22T09:24:33.203Z"
    },
    "hidden": true
   },
   "outputs": [],
   "source": [
    "# pd.plotting.scatter_matrix(data, figsize=(15,15));"
   ]
  },
  {
   "cell_type": "markdown",
   "metadata": {
    "heading_collapsed": true
   },
   "source": [
    "### 数据预处理"
   ]
  },
  {
   "cell_type": "markdown",
   "metadata": {
    "hidden": true
   },
   "source": [
    "* 数据缺失值处理"
   ]
  },
  {
   "cell_type": "code",
   "execution_count": null,
   "metadata": {
    "ExecuteTime": {
     "end_time": "2019-05-22T09:24:34.848093Z",
     "start_time": "2019-05-22T09:24:33.210Z"
    },
    "hidden": true
   },
   "outputs": [],
   "source": [
    "# data = dataframe.dropna()"
   ]
  },
  {
   "cell_type": "markdown",
   "metadata": {
    "hidden": true
   },
   "source": [
    "* 分离数据"
   ]
  },
  {
   "cell_type": "code",
   "execution_count": null,
   "metadata": {
    "ExecuteTime": {
     "end_time": "2019-05-22T09:24:34.850098Z",
     "start_time": "2019-05-22T09:24:33.214Z"
    },
    "hidden": true
   },
   "outputs": [],
   "source": [
    "# from sklearn.model_selection import train_test_split\n",
    "# array = data.values\n",
    "# X = array[:, 1:]\n",
    "# y = array[:, 0]"
   ]
  },
  {
   "cell_type": "markdown",
   "metadata": {
    "hidden": true
   },
   "source": [
    "1. 调整尺度"
   ]
  },
  {
   "cell_type": "code",
   "execution_count": null,
   "metadata": {
    "ExecuteTime": {
     "end_time": "2019-05-22T09:24:34.854097Z",
     "start_time": "2019-05-22T09:24:33.220Z"
    },
    "hidden": true
   },
   "outputs": [],
   "source": [
    "# from sklearn.preprocessing import MinMaxScaler\n",
    "# transformer = MinMaxScaler(feature_range=(0,1))\n",
    "# X = transformer.fit_transform(X)"
   ]
  },
  {
   "cell_type": "markdown",
   "metadata": {
    "hidden": true
   },
   "source": [
    "2. 正态化数据"
   ]
  },
  {
   "cell_type": "code",
   "execution_count": null,
   "metadata": {
    "ExecuteTime": {
     "end_time": "2019-05-22T09:24:34.857096Z",
     "start_time": "2019-05-22T09:24:33.224Z"
    },
    "hidden": true
   },
   "outputs": [],
   "source": [
    "# from sklearn.preprocessing import StandardScaler\n",
    "# transformer = StandardScaler().fit(X)\n",
    "# X = transformer.transform(X)"
   ]
  },
  {
   "cell_type": "markdown",
   "metadata": {
    "hidden": true
   },
   "source": [
    "3. 标准化数据"
   ]
  },
  {
   "cell_type": "code",
   "execution_count": null,
   "metadata": {
    "ExecuteTime": {
     "end_time": "2019-05-22T09:24:34.860094Z",
     "start_time": "2019-05-22T09:24:33.229Z"
    },
    "hidden": true
   },
   "outputs": [],
   "source": [
    "# from sklearn.preprocessing import Normalizer\n",
    "# transformer = Normalizer().fit(X)\n",
    "# X = transformer.transform(X)"
   ]
  },
  {
   "cell_type": "markdown",
   "metadata": {
    "hidden": true
   },
   "source": [
    "4. 二值数据"
   ]
  },
  {
   "cell_type": "code",
   "execution_count": null,
   "metadata": {
    "ExecuteTime": {
     "end_time": "2019-05-22T09:24:34.862096Z",
     "start_time": "2019-05-22T09:24:33.235Z"
    },
    "hidden": true
   },
   "outputs": [],
   "source": [
    "# from sklearn.preprocessing import Binarizer\n",
    "# transformer = Binarizer().fit(X)\n",
    "# X = transformer.transform(X)"
   ]
  },
  {
   "cell_type": "markdown",
   "metadata": {
    "heading_collapsed": true
   },
   "source": [
    "### 特征选择"
   ]
  },
  {
   "cell_type": "markdown",
   "metadata": {
    "hidden": true
   },
   "source": [
    "* 单变量特征选择"
   ]
  },
  {
   "cell_type": "code",
   "execution_count": null,
   "metadata": {
    "ExecuteTime": {
     "end_time": "2019-05-22T09:24:34.865097Z",
     "start_time": "2019-05-22T09:24:33.240Z"
    },
    "hidden": true
   },
   "outputs": [],
   "source": [
    "# from sklearn.feature_selection import SelectKBest\n",
    "# from sklearn.feature_selection import chi2\n",
    "# testchi = chi2(X, Y)\n",
    "# test = SelectKBest(score_func=chi2, k=2)\n",
    "# fit = test.fit(X, Y)\n",
    "# print(fit.scores_)\n",
    "# features = fit.transform(X)\n",
    "# test.get_support()"
   ]
  },
  {
   "cell_type": "markdown",
   "metadata": {
    "hidden": true
   },
   "source": [
    "* 递归特征消除（RFE）"
   ]
  },
  {
   "cell_type": "code",
   "execution_count": null,
   "metadata": {
    "ExecuteTime": {
     "end_time": "2019-05-22T09:24:34.867094Z",
     "start_time": "2019-05-22T09:24:33.244Z"
    },
    "hidden": true
   },
   "outputs": [],
   "source": [
    "# from sklearn.feature_selection import RFE\n",
    "# from sklearn.linear_model import LogisticRegression\n",
    "# model = LogisticRegression(solver='lbfgs')\n",
    "# rfe = RFE(model, 3)\n",
    "# fit = rfe.fit(X, Y)\n",
    "# print(fit.n_features_)\n",
    "# print(fit.support_)\n",
    "# print(fit.ranking_)"
   ]
  },
  {
   "cell_type": "markdown",
   "metadata": {
    "hidden": true
   },
   "source": [
    "* 主要成分分析（PCA）"
   ]
  },
  {
   "cell_type": "code",
   "execution_count": null,
   "metadata": {
    "ExecuteTime": {
     "end_time": "2019-05-22T09:24:34.869096Z",
     "start_time": "2019-05-22T09:24:33.252Z"
    },
    "hidden": true
   },
   "outputs": [],
   "source": [
    "# from sklearn.decomposition import PCA\n",
    "# pca = PCA(n_components=3)\n",
    "# fit = pca.fit(X)\n",
    "# print(fit.explained_variance_ratio_)\n",
    "# print(fit.components_)"
   ]
  },
  {
   "cell_type": "markdown",
   "metadata": {
    "hidden": true
   },
   "source": [
    "* 特征重要性"
   ]
  },
  {
   "cell_type": "code",
   "execution_count": null,
   "metadata": {
    "ExecuteTime": {
     "end_time": "2019-05-22T09:24:34.871099Z",
     "start_time": "2019-05-22T09:24:33.260Z"
    },
    "hidden": true
   },
   "outputs": [],
   "source": [
    "# from sklearn.ensemble import ExtraTreesClassifier\n",
    "# model = ExtraTreesClassifier(n_estimators=100)\n",
    "# fit = model.fit(X, Y)\n",
    "# print(fit.feature_importances_)"
   ]
  },
  {
   "cell_type": "markdown",
   "metadata": {
    "heading_collapsed": true
   },
   "source": [
    "### 评估算法"
   ]
  },
  {
   "cell_type": "markdown",
   "metadata": {
    "hidden": true
   },
   "source": [
    "* 数据分组"
   ]
  },
  {
   "cell_type": "code",
   "execution_count": null,
   "metadata": {
    "ExecuteTime": {
     "end_time": "2019-05-22T09:24:34.873096Z",
     "start_time": "2019-05-22T09:24:33.267Z"
    },
    "hidden": true
   },
   "outputs": [],
   "source": [
    "# testsize = 0.2\n",
    "# seed = 4\n",
    "# X_train, X_test, y_train, y_test = train_test_split(\n",
    "#     X, y, test_size=testsize, random_state=seed)"
   ]
  },
  {
   "cell_type": "markdown",
   "metadata": {
    "hidden": true
   },
   "source": [
    "* 评估模型"
   ]
  },
  {
   "cell_type": "code",
   "execution_count": null,
   "metadata": {
    "ExecuteTime": {
     "end_time": "2019-05-22T09:24:34.875096Z",
     "start_time": "2019-05-22T09:24:33.272Z"
    },
    "hidden": true
   },
   "outputs": [],
   "source": [
    "# from sklearn.model_selection import KFold\n",
    "# from sklearn.model_selection import cross_val_score\n",
    "# from sklearn.metrics import classification_report\n",
    "# from sklearn.metrics import confusion_matrix\n",
    "# from sklearn.metrics import accuracy_score\n",
    "\n",
    "# from sklearn.linear_model import LogisticRegression\n",
    "# from sklearn.tree import DecisionTreeClassifier\n",
    "# from sklearn.discriminant_analysis import LinearDiscriminantAnalysis\n",
    "# from sklearn.neighbors import KNeighborsClassifier\n",
    "# from sklearn.naive_bayes import GaussianNB\n",
    "# from sklearn.svm import SVC\n",
    "\n",
    "# from xgboost import XGBClassifier\n",
    "\n",
    "# models = {}\n",
    "# models['LR'] = LogisticRegression(solver='liblinear')\n",
    "# models['LDA'] = LinearDiscriminantAnalysis()\n",
    "# models['KNN'] = KNeighborsClassifier()\n",
    "# models['CART'] = DecisionTreeClassifier()\n",
    "# models['NB'] = GaussianNB()\n",
    "# models['SVM'] = SVC(gamma='scale')\n",
    "# models['XGB'] = XGBClassifier()\n",
    "\n",
    "# results = []\n",
    "# for key in models:\n",
    "#     kfold = KFold(n_splits=10, random_state=seed)\n",
    "#     cv_results = cross_val_score(\n",
    "#         models[key], X_train, y_train, cv=kfold, scoring='accuracy')\n",
    "#     results.append(cv_results)\n"
   ]
  },
  {
   "cell_type": "markdown",
   "metadata": {
    "hidden": true
   },
   "source": [
    "* 箱图比较算法"
   ]
  },
  {
   "cell_type": "code",
   "execution_count": null,
   "metadata": {
    "ExecuteTime": {
     "end_time": "2019-05-22T09:24:34.877098Z",
     "start_time": "2019-05-22T09:24:33.276Z"
    },
    "hidden": true
   },
   "outputs": [],
   "source": [
    "# plt.boxplot(results);"
   ]
  },
  {
   "cell_type": "markdown",
   "metadata": {},
   "source": [
    "### 预测"
   ]
  },
  {
   "cell_type": "code",
   "execution_count": null,
   "metadata": {
    "ExecuteTime": {
     "end_time": "2019-05-22T09:24:34.879095Z",
     "start_time": "2019-05-22T09:24:33.280Z"
    }
   },
   "outputs": [],
   "source": [
    "# svm = SVC(gamma='scale')\n",
    "# svm.fit(X=X_train, y=y_train)\n",
    "# predictions = svm.predict(X_test)\n",
    "# models['XGB'].fit(X_train, y_train)\n",
    "# predictions = models['XGB'].predict(X_test)"
   ]
  },
  {
   "cell_type": "code",
   "execution_count": null,
   "metadata": {
    "ExecuteTime": {
     "end_time": "2019-05-22T09:24:34.881097Z",
     "start_time": "2019-05-22T09:24:33.284Z"
    }
   },
   "outputs": [],
   "source": [
    "# accuracy_score(y_test, predictions)"
   ]
  },
  {
   "cell_type": "code",
   "execution_count": null,
   "metadata": {
    "ExecuteTime": {
     "end_time": "2019-05-22T09:24:34.883095Z",
     "start_time": "2019-05-22T09:24:33.287Z"
    }
   },
   "outputs": [],
   "source": [
    "# confusion_matrix(y_test, predictions)"
   ]
  },
  {
   "cell_type": "code",
   "execution_count": null,
   "metadata": {
    "ExecuteTime": {
     "end_time": "2019-05-22T09:24:34.885099Z",
     "start_time": "2019-05-22T09:24:33.292Z"
    }
   },
   "outputs": [],
   "source": [
    "# print(classification_report(y_test, predictions))"
   ]
  }
 ],
 "metadata": {
  "hide_input": true,
  "kernelspec": {
   "display_name": "Python 3",
   "language": "python",
   "name": "python3"
  },
  "language_info": {
   "codemirror_mode": {
    "name": "ipython",
    "version": 3
   },
   "file_extension": ".py",
   "mimetype": "text/x-python",
   "name": "python",
   "nbconvert_exporter": "python",
   "pygments_lexer": "ipython3",
   "version": "3.7.2"
  },
  "toc": {
   "base_numbering": 1,
   "nav_menu": {},
   "number_sections": true,
   "sideBar": true,
   "skip_h1_title": true,
   "title_cell": "目录",
   "title_sidebar": "目录",
   "toc_cell": false,
   "toc_position": {
    "height": "calc(100% - 180px)",
    "left": "10px",
    "top": "150px",
    "width": "165px"
   },
   "toc_section_display": true,
   "toc_window_display": false
  },
  "varInspector": {
   "cols": {
    "lenName": 16,
    "lenType": 16,
    "lenVar": 40
   },
   "kernels_config": {
    "python": {
     "delete_cmd_postfix": "",
     "delete_cmd_prefix": "del ",
     "library": "var_list.py",
     "varRefreshCmd": "print(var_dic_list())"
    },
    "r": {
     "delete_cmd_postfix": ") ",
     "delete_cmd_prefix": "rm(",
     "library": "var_list.r",
     "varRefreshCmd": "cat(var_dic_list()) "
    }
   },
   "position": {
    "height": "750px",
    "left": "1550px",
    "right": "20px",
    "top": "120px",
    "width": "350px"
   },
   "types_to_exclude": [
    "module",
    "function",
    "builtin_function_or_method",
    "instance",
    "_Feature"
   ],
   "window_display": false
  }
 },
 "nbformat": 4,
 "nbformat_minor": 2
}
