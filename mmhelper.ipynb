{
 "cells": [
  {
   "cell_type": "markdown",
   "metadata": {
    "deletable": false,
    "editable": false,
    "hide_input": true,
    "run_control": {
     "frozen": true
    }
   },
   "source": [
    "# <center>医学论文助手 - <b>M</b>edical <b>M</b>anuscript <b>Helper</b></center>"
   ]
  },
  {
   "cell_type": "markdown",
   "metadata": {
    "ExecuteTime": {
     "end_time": "2019-05-22T07:48:41.175226Z",
     "start_time": "2019-05-22T07:48:41.058227Z"
    },
    "cell_style": "split",
    "deletable": false,
    "editable": false,
    "run_control": {
     "frozen": true
    }
   },
   "source": [
    "<b>说明</b>：仅适用于 <b>机器学习</b> - <b>监督学习</b> - <b>分类</b> 的医学论文"
   ]
  },
  {
   "cell_type": "markdown",
   "metadata": {
    "cell_style": "split",
    "deletable": false,
    "editable": false,
    "run_control": {
     "frozen": true
    }
   },
   "source": [
    "<b>操作</b>：点击 <b>菜单栏</b> - <b>Cell</b> - <b>Run All</b>，点击 <b>工具栏</b> - <b>眼睛</b> - <b>显示代码</b>"
   ]
  },
  {
   "cell_type": "markdown",
   "metadata": {
    "deletable": false,
    "editable": false,
    "run_control": {
     "frozen": true
    }
   },
   "source": [
    "<b>注意</b>：\n",
    "1. 查看结果需等待运行结束待机状态。右上角<b>Python 3</b>右侧圆圈 <b>空心</b> 待机状态， <b>实心</b> 正在运行。\n",
    "2. Untrusted ==> Trusted, Javascript enabled for notebook display."
   ]
  },
  {
   "cell_type": "markdown",
   "metadata": {},
   "source": [
    "winpython 1. ./settings/winpython.ini 2. pip install scikit-plot"
   ]
  },
  {
   "cell_type": "markdown",
   "metadata": {
    "deletable": false,
    "editable": false,
    "run_control": {
     "frozen": true
    }
   },
   "source": [
    "## 前言"
   ]
  },
  {
   "cell_type": "markdown",
   "metadata": {
    "deletable": false,
    "editable": false,
    "run_control": {
     "frozen": true
    }
   },
   "source": [
    "- 本项目范例数据集基于：[Breast Cancer Wisconsin (Diagnostic) Data Set](https://www.kaggle.com/uciml/breast-cancer-wisconsin-data)\n",
    "- 参考相关Kernels：[Feature Selection and Data Visualization](https://www.kaggle.com/kanncaa1/feature-selection-and-data-visualization) 和 [Intro to Keras with breast cancer data[ANN]](https://www.kaggle.com/thebrownviking20/intro-to-keras-with-breast-cancer-data-ann)"
   ]
  },
  {
   "cell_type": "markdown",
   "metadata": {
    "cell_style": "center",
    "deletable": false,
    "editable": false,
    "hide_input": false,
    "run_control": {
     "frozen": true
    }
   },
   "source": [
    "## 导入数据"
   ]
  },
  {
   "cell_type": "markdown",
   "metadata": {
    "deletable": false,
    "editable": false,
    "run_control": {
     "frozen": true
    }
   },
   "source": [
    "<b>备注</b>：默认为当前目录下的data.xlsx文件，确认数据文件是否正确。"
   ]
  },
  {
   "cell_type": "code",
   "execution_count": 3,
   "metadata": {
    "ExecuteTime": {
     "end_time": "2019-05-22T09:24:33.230097Z",
     "start_time": "2019-05-22T09:24:33.099094Z"
    },
    "code_folding": []
   },
   "outputs": [
    {
     "data": {
      "text/html": [
       "<div>\n",
       "<style scoped>\n",
       "    .dataframe tbody tr th:only-of-type {\n",
       "        vertical-align: middle;\n",
       "    }\n",
       "\n",
       "    .dataframe tbody tr th {\n",
       "        vertical-align: top;\n",
       "    }\n",
       "\n",
       "    .dataframe thead th {\n",
       "        text-align: right;\n",
       "    }\n",
       "</style>\n",
       "<table border=\"1\" class=\"dataframe\">\n",
       "  <thead>\n",
       "    <tr style=\"text-align: right;\">\n",
       "      <th></th>\n",
       "      <th>group</th>\n",
       "      <th>age</th>\n",
       "      <th>manarche</th>\n",
       "      <th>men</th>\n",
       "      <th>MBNG</th>\n",
       "      <th>T classifacation</th>\n",
       "      <th>N classifacation</th>\n",
       "      <th>ER status</th>\n",
       "      <th>PR status</th>\n",
       "      <th>Her-2</th>\n",
       "      <th>Ki67</th>\n",
       "    </tr>\n",
       "  </thead>\n",
       "  <tbody>\n",
       "    <tr>\n",
       "      <th>0</th>\n",
       "      <td>1</td>\n",
       "      <td>42</td>\n",
       "      <td>17</td>\n",
       "      <td>0.0</td>\n",
       "      <td>3</td>\n",
       "      <td>2</td>\n",
       "      <td>1</td>\n",
       "      <td>1</td>\n",
       "      <td>1</td>\n",
       "      <td>0</td>\n",
       "      <td>1</td>\n",
       "    </tr>\n",
       "    <tr>\n",
       "      <th>1</th>\n",
       "      <td>1</td>\n",
       "      <td>38</td>\n",
       "      <td>13</td>\n",
       "      <td>0.0</td>\n",
       "      <td>2</td>\n",
       "      <td>1</td>\n",
       "      <td>0</td>\n",
       "      <td>1</td>\n",
       "      <td>1</td>\n",
       "      <td>0</td>\n",
       "      <td>2</td>\n",
       "    </tr>\n",
       "    <tr>\n",
       "      <th>2</th>\n",
       "      <td>1</td>\n",
       "      <td>51</td>\n",
       "      <td>13</td>\n",
       "      <td>0.0</td>\n",
       "      <td>2</td>\n",
       "      <td>1</td>\n",
       "      <td>1</td>\n",
       "      <td>1</td>\n",
       "      <td>1</td>\n",
       "      <td>0</td>\n",
       "      <td>1</td>\n",
       "    </tr>\n",
       "    <tr>\n",
       "      <th>3</th>\n",
       "      <td>2</td>\n",
       "      <td>66</td>\n",
       "      <td>18</td>\n",
       "      <td>1.0</td>\n",
       "      <td>3</td>\n",
       "      <td>2</td>\n",
       "      <td>3</td>\n",
       "      <td>0</td>\n",
       "      <td>0</td>\n",
       "      <td>3</td>\n",
       "      <td>2</td>\n",
       "    </tr>\n",
       "    <tr>\n",
       "      <th>4</th>\n",
       "      <td>1</td>\n",
       "      <td>54</td>\n",
       "      <td>13</td>\n",
       "      <td>1.0</td>\n",
       "      <td>3</td>\n",
       "      <td>2</td>\n",
       "      <td>0</td>\n",
       "      <td>0</td>\n",
       "      <td>0</td>\n",
       "      <td>0</td>\n",
       "      <td>2</td>\n",
       "    </tr>\n",
       "  </tbody>\n",
       "</table>\n",
       "</div>"
      ],
      "text/plain": [
       "   group  age  manarche  men  MBNG  T classifacation  N classifacation  \\\n",
       "0      1   42        17  0.0     3                 2                 1   \n",
       "1      1   38        13  0.0     2                 1                 0   \n",
       "2      1   51        13  0.0     2                 1                 1   \n",
       "3      2   66        18  1.0     3                 2                 3   \n",
       "4      1   54        13  1.0     3                 2                 0   \n",
       "\n",
       "   ER status  PR status  Her-2  Ki67  \n",
       "0          1          1      0     1  \n",
       "1          1          1      0     2  \n",
       "2          1          1      0     1  \n",
       "3          0          0      3     2  \n",
       "4          0          0      0     2  "
      ]
     },
     "execution_count": 3,
     "metadata": {},
     "output_type": "execute_result"
    }
   ],
   "source": [
    "import pandas as pd\n",
    "data = pd.read_excel('./bcdata.xlsx')\n",
    "data.head()"
   ]
  },
  {
   "cell_type": "markdown",
   "metadata": {
    "deletable": false,
    "editable": false,
    "run_control": {
     "frozen": true
    }
   },
   "source": [
    "## 评估可行性"
   ]
  },
  {
   "cell_type": "markdown",
   "metadata": {
    "deletable": false,
    "editable": false,
    "run_control": {
     "frozen": true
    }
   },
   "source": [
    "### 查看相关性"
   ]
  },
  {
   "cell_type": "markdown",
   "metadata": {
    "deletable": false,
    "editable": false,
    "run_control": {
     "frozen": true
    }
   },
   "source": [
    "<b>备注</b>：注意有无有预测值高度相关的特征，红色正相关，蓝色负相关。"
   ]
  },
  {
   "cell_type": "code",
   "execution_count": 5,
   "metadata": {
    "ExecuteTime": {
     "end_time": "2019-05-22T09:24:33.096098Z",
     "start_time": "2019-05-22T09:24:33.086095Z"
    },
    "code_folding": [],
    "deletable": false,
    "editable": false
   },
   "outputs": [
    {
     "data": {
      "image/png": "[encoded data removed]",
      "text/plain": [
       "<Figure size 1872x1584 with 2 Axes>"
      ]
     },
     "metadata": {
      "needs_background": "light"
     },
     "output_type": "display_data"
    }
   ],
   "source": [
    "import matplotlib.pyplot as plt\n",
    "import seaborn as sns\n",
    "\n",
    "plt.figure(figsize=(26, 22))\n",
    "sns.heatmap(data.astype(float).corr(), linewidths=0.1, square=True,\n",
    "            cmap='coolwarm', linecolor='white', annot=True, vmax=1, vmin=-1);"
   ]
  },
  {
   "cell_type": "markdown",
   "metadata": {
    "deletable": false,
    "editable": false,
    "run_control": {
     "frozen": true
    }
   },
   "source": [
    "### 查看预测准确度"
   ]
  },
  {
   "cell_type": "markdown",
   "metadata": {
    "deletable": false,
    "editable": false,
    "run_control": {
     "frozen": true
    }
   },
   "source": [
    "Note: Higher is Better."
   ]
  },
  {
   "cell_type": "code",
   "execution_count": 6,
   "metadata": {
    "ExecuteTime": {
     "end_time": "2019-05-22T09:24:34.794094Z",
     "start_time": "2019-05-22T09:24:34.772095Z"
    },
    "code_folding": []
   },
   "outputs": [
    {
     "data": {
      "text/html": [
       "<div>\n",
       "<style scoped>\n",
       "    .dataframe tbody tr th:only-of-type {\n",
       "        vertical-align: middle;\n",
       "    }\n",
       "\n",
       "    .dataframe tbody tr th {\n",
       "        vertical-align: top;\n",
       "    }\n",
       "\n",
       "    .dataframe thead th {\n",
       "        text-align: right;\n",
       "    }\n",
       "</style>\n",
       "<table border=\"1\" class=\"dataframe\">\n",
       "  <thead>\n",
       "    <tr style=\"text-align: right;\">\n",
       "      <th></th>\n",
       "      <th>models</th>\n",
       "      <th>score</th>\n",
       "      <th>type</th>\n",
       "    </tr>\n",
       "  </thead>\n",
       "  <tbody>\n",
       "    <tr>\n",
       "      <th>0</th>\n",
       "      <td>LR</td>\n",
       "      <td>0.88</td>\n",
       "      <td>cv</td>\n",
       "    </tr>\n",
       "    <tr>\n",
       "      <th>1</th>\n",
       "      <td>LR</td>\n",
       "      <td>0.80</td>\n",
       "      <td>acc</td>\n",
       "    </tr>\n",
       "    <tr>\n",
       "      <th>2</th>\n",
       "      <td>LDA</td>\n",
       "      <td>0.84</td>\n",
       "      <td>cv</td>\n",
       "    </tr>\n",
       "    <tr>\n",
       "      <th>3</th>\n",
       "      <td>LDA</td>\n",
       "      <td>0.80</td>\n",
       "      <td>acc</td>\n",
       "    </tr>\n",
       "    <tr>\n",
       "      <th>4</th>\n",
       "      <td>QDA</td>\n",
       "      <td>0.82</td>\n",
       "      <td>cv</td>\n",
       "    </tr>\n",
       "    <tr>\n",
       "      <th>5</th>\n",
       "      <td>QDA</td>\n",
       "      <td>0.74</td>\n",
       "      <td>acc</td>\n",
       "    </tr>\n",
       "    <tr>\n",
       "      <th>6</th>\n",
       "      <td>SVM</td>\n",
       "      <td>0.85</td>\n",
       "      <td>cv</td>\n",
       "    </tr>\n",
       "    <tr>\n",
       "      <th>7</th>\n",
       "      <td>SVM</td>\n",
       "      <td>0.85</td>\n",
       "      <td>acc</td>\n",
       "    </tr>\n",
       "    <tr>\n",
       "      <th>8</th>\n",
       "      <td>KNN</td>\n",
       "      <td>0.85</td>\n",
       "      <td>cv</td>\n",
       "    </tr>\n",
       "    <tr>\n",
       "      <th>9</th>\n",
       "      <td>KNN</td>\n",
       "      <td>0.83</td>\n",
       "      <td>acc</td>\n",
       "    </tr>\n",
       "    <tr>\n",
       "      <th>10</th>\n",
       "      <td>NB</td>\n",
       "      <td>0.78</td>\n",
       "      <td>cv</td>\n",
       "    </tr>\n",
       "    <tr>\n",
       "      <th>11</th>\n",
       "      <td>NB</td>\n",
       "      <td>0.78</td>\n",
       "      <td>acc</td>\n",
       "    </tr>\n",
       "    <tr>\n",
       "      <th>12</th>\n",
       "      <td>CART</td>\n",
       "      <td>0.75</td>\n",
       "      <td>cv</td>\n",
       "    </tr>\n",
       "    <tr>\n",
       "      <th>13</th>\n",
       "      <td>CART</td>\n",
       "      <td>0.77</td>\n",
       "      <td>acc</td>\n",
       "    </tr>\n",
       "    <tr>\n",
       "      <th>14</th>\n",
       "      <td>RFC</td>\n",
       "      <td>0.86</td>\n",
       "      <td>cv</td>\n",
       "    </tr>\n",
       "    <tr>\n",
       "      <th>15</th>\n",
       "      <td>RFC</td>\n",
       "      <td>0.82</td>\n",
       "      <td>acc</td>\n",
       "    </tr>\n",
       "    <tr>\n",
       "      <th>16</th>\n",
       "      <td>ABC</td>\n",
       "      <td>0.83</td>\n",
       "      <td>cv</td>\n",
       "    </tr>\n",
       "    <tr>\n",
       "      <th>17</th>\n",
       "      <td>ABC</td>\n",
       "      <td>0.77</td>\n",
       "      <td>acc</td>\n",
       "    </tr>\n",
       "    <tr>\n",
       "      <th>18</th>\n",
       "      <td>GBC</td>\n",
       "      <td>0.82</td>\n",
       "      <td>cv</td>\n",
       "    </tr>\n",
       "    <tr>\n",
       "      <th>19</th>\n",
       "      <td>GBC</td>\n",
       "      <td>0.82</td>\n",
       "      <td>acc</td>\n",
       "    </tr>\n",
       "    <tr>\n",
       "      <th>20</th>\n",
       "      <td>ETC</td>\n",
       "      <td>0.87</td>\n",
       "      <td>cv</td>\n",
       "    </tr>\n",
       "    <tr>\n",
       "      <th>21</th>\n",
       "      <td>ETC</td>\n",
       "      <td>0.78</td>\n",
       "      <td>acc</td>\n",
       "    </tr>\n",
       "    <tr>\n",
       "      <th>22</th>\n",
       "      <td>MLPC</td>\n",
       "      <td>0.85</td>\n",
       "      <td>cv</td>\n",
       "    </tr>\n",
       "    <tr>\n",
       "      <th>23</th>\n",
       "      <td>MLPC</td>\n",
       "      <td>0.85</td>\n",
       "      <td>acc</td>\n",
       "    </tr>\n",
       "    <tr>\n",
       "      <th>24</th>\n",
       "      <td>XGB</td>\n",
       "      <td>0.84</td>\n",
       "      <td>cv</td>\n",
       "    </tr>\n",
       "    <tr>\n",
       "      <th>25</th>\n",
       "      <td>XGB</td>\n",
       "      <td>0.85</td>\n",
       "      <td>acc</td>\n",
       "    </tr>\n",
       "    <tr>\n",
       "      <th>26</th>\n",
       "      <td>VC</td>\n",
       "      <td>0.86</td>\n",
       "      <td>cv</td>\n",
       "    </tr>\n",
       "    <tr>\n",
       "      <th>27</th>\n",
       "      <td>VC</td>\n",
       "      <td>0.80</td>\n",
       "      <td>acc</td>\n",
       "    </tr>\n",
       "  </tbody>\n",
       "</table>\n",
       "</div>"
      ],
      "text/plain": [
       "   models  score type\n",
       "0      LR   0.88   cv\n",
       "1      LR   0.80  acc\n",
       "2     LDA   0.84   cv\n",
       "3     LDA   0.80  acc\n",
       "4     QDA   0.82   cv\n",
       "5     QDA   0.74  acc\n",
       "6     SVM   0.85   cv\n",
       "7     SVM   0.85  acc\n",
       "8     KNN   0.85   cv\n",
       "9     KNN   0.83  acc\n",
       "10     NB   0.78   cv\n",
       "11     NB   0.78  acc\n",
       "12   CART   0.75   cv\n",
       "13   CART   0.77  acc\n",
       "14    RFC   0.86   cv\n",
       "15    RFC   0.82  acc\n",
       "16    ABC   0.83   cv\n",
       "17    ABC   0.77  acc\n",
       "18    GBC   0.82   cv\n",
       "19    GBC   0.82  acc\n",
       "20    ETC   0.87   cv\n",
       "21    ETC   0.78  acc\n",
       "22   MLPC   0.85   cv\n",
       "23   MLPC   0.85  acc\n",
       "24    XGB   0.84   cv\n",
       "25    XGB   0.85  acc\n",
       "26     VC   0.86   cv\n",
       "27     VC   0.80  acc"
      ]
     },
     "execution_count": 6,
     "metadata": {},
     "output_type": "execute_result"
    },
    {
     "data": {
      "image/png": "[encoded data removed]",
      "text/plain": [
       "<Figure size 1008x720 with 1 Axes>"
      ]
     },
     "metadata": {
      "needs_background": "light"
     },
     "output_type": "display_data"
    }
   ],
   "source": [
    "import numpy as np\n",
    "import scipy.stats as scs\n",
    "\n",
    "from sklearn.model_selection import train_test_split\n",
    "from sklearn.model_selection import StratifiedKFold\n",
    "from sklearn.model_selection import cross_val_score\n",
    "from sklearn.model_selection import learning_curve\n",
    "\n",
    "from sklearn.metrics import classification_report\n",
    "from sklearn.metrics import confusion_matrix\n",
    "from sklearn.metrics import accuracy_score\n",
    "\n",
    "from sklearn.linear_model import LogisticRegression\n",
    "from sklearn.discriminant_analysis import LinearDiscriminantAnalysis, QuadraticDiscriminantAnalysis\n",
    "from sklearn.svm import SVC\n",
    "from sklearn.neighbors import KNeighborsClassifier\n",
    "from sklearn.naive_bayes import GaussianNB\n",
    "from sklearn.tree import DecisionTreeClassifier\n",
    "from sklearn.ensemble import RandomForestClassifier, AdaBoostClassifier\n",
    "from sklearn.ensemble import GradientBoostingClassifier, ExtraTreesClassifier\n",
    "from sklearn.ensemble import VotingClassifier\n",
    "from sklearn.neural_network import MLPClassifier\n",
    "\n",
    "from xgboost import XGBClassifier\n",
    "\n",
    "import warnings\n",
    "warnings.filterwarnings('ignore')\n",
    "\n",
    "data = data.dropna()\n",
    "X, y = data.values[:, 1:], data.values[:, 0]\n",
    "\n",
    "X_train, X_test, y_train, y_test = train_test_split(X, y)\n",
    "\n",
    "# from sklearn.preprocessing import StandardScaler  \n",
    "# scaler = StandardScaler()  \n",
    "# # Don't cheat - fit only on training data\n",
    "# scaler.fit(X_train)  \n",
    "# X_train = scaler.transform(X_train)  \n",
    "# # apply same transformation to test data\n",
    "# X_test = scaler.transform(X_test)  \n",
    "\n",
    "models = {\n",
    "    'LR': LogisticRegression(solver='liblinear', multi_class='auto'),\n",
    "    'LDA': LinearDiscriminantAnalysis(),\n",
    "    'QDA': QuadraticDiscriminantAnalysis(),\n",
    "    'SVM': SVC(gamma='scale'),\n",
    "    'KNN': KNeighborsClassifier(),\n",
    "    'NB': GaussianNB(),\n",
    "    'CART': DecisionTreeClassifier(),\n",
    "    'RFC': RandomForestClassifier(n_estimators=100),\n",
    "    'ABC': AdaBoostClassifier(),\n",
    "    'GBC': GradientBoostingClassifier(),\n",
    "   'ETC':  ExtraTreesClassifier(n_estimators=100),\n",
    "    'MLPC': MLPClassifier(),\n",
    "    'XGB': XGBClassifier()\n",
    "}\n",
    "\n",
    "models['VC'] = VotingClassifier(estimators=[\n",
    "    ('lr', models['LR']), ('lda', models['LDA']), ('qda', models['QDA']),\n",
    "    ('svm', models['SVM']),('knn', models['KNN']), ('nb', models['NB']), \n",
    "    ('cart', models['CART']), ('rfc', models['RFC']), ('abc', models['ABC']),\n",
    "    ('gbc', models['GBC']), ('etc', models['ETC']), ('mlpc', models['MLPC']),\n",
    "    ('xgb', models['XGB'])], voting='hard')\n",
    "\n",
    "kfold = StratifiedKFold(n_splits=10)\n",
    "cv_result = []\n",
    "\n",
    "for key in models:\n",
    "        models[key].fit(X_train, y_train)\n",
    "        cv_score = cross_val_score(\n",
    "            models[key], X_train, y_train, scoring=\"accuracy\", cv=kfold)\n",
    "        cv_means = round(cv_score.mean(), 2)\n",
    "    #     cv_std = round(cv_score.std(), 2)\n",
    "        acc_score = round(models[key].score(X_test, y_test), 2)\n",
    "        cvresult = {'models': key, 'score': cv_means, 'type': 'cv'}\n",
    "        cv_result.append(cvresult)\n",
    "        cvresult = {'models': key, 'score': acc_score, 'type': 'acc'}\n",
    "        cv_result.append(cvresult)\n",
    "    #     print(confusion_matrix(y_test, models[key].predict(X_test)))\n",
    "    #     print(key)\n",
    "    #     print('='*80)\n",
    "    #     print(classification_report(y_test, models[key].predict(X_test)))\n",
    "    #     print(key,'====',models[key].get_params())\n",
    "\n",
    "cv_results = pd.DataFrame(cv_result)\n",
    "\n",
    "plt.figure(figsize=(14, 10))\n",
    "sns.set(style=\"whitegrid\")\n",
    "g = sns.barplot(x='score', y='models', hue='type', data=cv_results, palette=\"muted\");\n",
    "# g = sns.barplot(x='score', y='models', hue='type', data=cv_results, **{'xerr': cv_std})\n",
    "g.set_xticks(np.arange(0, 1.05, 0.05));\n",
    "cv_results"
   ]
  },
  {
   "cell_type": "markdown",
   "metadata": {
    "deletable": false,
    "editable": false,
    "run_control": {
     "frozen": true
    }
   },
   "source": [
    "### 学习曲线"
   ]
  },
  {
   "cell_type": "markdown",
   "metadata": {
    "deletable": false,
    "editable": false,
    "run_control": {
     "frozen": true
    }
   },
   "source": [
    "Note: Case Number is Enough?"
   ]
  },
  {
   "cell_type": "code",
   "execution_count": 7,
   "metadata": {
    "ExecuteTime": {
     "end_time": "2019-05-22T09:24:34.805093Z",
     "start_time": "2019-05-22T09:24:33.114Z"
    },
    "code_folding": [],
    "scrolled": false
   },
   "outputs": [],
   "source": [
    "# Plotting Validation Curves todo\n",
    "\n",
    "# def plot_learning_curve(estimator, title, X, y, ylim=None, cv=None, n_jobs=None, \n",
    "#                         train_sizes=np.linspace(.1, 1.0, 5)):\n",
    "#     plt.figure()\n",
    "#     plt.title(title)\n",
    "#     if ylim is not None:\n",
    "#         plt.ylim(*ylim)\n",
    "#     plt.xlabel(\"Training examples\")\n",
    "#     plt.ylabel(\"Score\")\n",
    "#     train_sizes, train_scores, test_scores = learning_curve(\n",
    "#         estimator, X, y, cv=cv, n_jobs=n_jobs, train_sizes=train_sizes)\n",
    "#     train_scores_mean = np.mean(train_scores, axis=1)\n",
    "#     train_scores_std = np.std(train_scores, axis=1)\n",
    "#     test_scores_mean = np.mean(test_scores, axis=1)\n",
    "#     test_scores_std = np.std(test_scores, axis=1)\n",
    "#     plt.grid()\n",
    "#     plt.fill_between(train_sizes, train_scores_mean - train_scores_std,\n",
    "#                      train_scores_mean + train_scores_std, alpha=0.1,  color=\"r\")\n",
    "#     plt.fill_between(train_sizes, test_scores_mean - test_scores_std,\n",
    "#                      test_scores_mean + test_scores_std, alpha=0.1, color=\"g\")\n",
    "#     plt.plot(train_sizes, train_scores_mean, 'o-',\n",
    "#              color=\"r\", label=\"Training score\")\n",
    "#     plt.plot(train_sizes, test_scores_mean, 'o-',\n",
    "#              color=\"g\", label=\"Cross-validation score\")\n",
    "#     plt.legend(loc=\"best\")\n",
    "#     return plt\n",
    "\n",
    "\n",
    "# for key in models:\n",
    "#     plot_learning_curve(models[key], key, X_train, y_train, cv=5)\n"
   ]
  },
  {
   "cell_type": "markdown",
   "metadata": {
    "deletable": false,
    "editable": false,
    "run_control": {
     "frozen": true
    }
   },
   "source": [
    "### Feature Selection"
   ]
  },
  {
   "cell_type": "markdown",
   "metadata": {
    "deletable": false,
    "editable": false,
    "run_control": {
     "frozen": true
    }
   },
   "source": [
    "Note: Feature enough or useful?"
   ]
  },
  {
   "cell_type": "code",
   "execution_count": 8,
   "metadata": {},
   "outputs": [
    {
     "data": {
      "text/plain": [
       "11"
      ]
     },
     "execution_count": 8,
     "metadata": {},
     "output_type": "execute_result"
    }
   ],
   "source": [
    "data.shape[1]"
   ]
  },
  {
   "cell_type": "code",
   "execution_count": 9,
   "metadata": {},
   "outputs": [
    {
     "name": "stdout",
     "output_type": "stream",
     "text": [
      "1 0.86 0.83\n",
      "2 0.86 0.85\n",
      "3 0.84 0.78\n",
      "4 0.81 0.88\n",
      "5 0.84 0.85\n",
      "6 0.85 0.83\n",
      "7 0.82 0.88\n",
      "8 0.85 0.88\n",
      "9 0.82 0.89\n",
      "10 0.88 0.85\n"
     ]
    },
    {
     "ename": "ValueError",
     "evalue": "x and y must have same first dimension, but have shapes (28,) and (10,)",
     "output_type": "error",
     "traceback": [
      "\u001b[1;31m---------------------------------------------------------------------------\u001b[0m",
      "\u001b[1;31mValueError\u001b[0m                                Traceback (most recent call last)",
      "\u001b[1;32m<ipython-input-9-db8b2bebdd08>\u001b[0m in \u001b[0;36m<module>\u001b[1;34m\u001b[0m\n\u001b[0;32m     17\u001b[0m     \u001b[0mprint\u001b[0m\u001b[1;33m(\u001b[0m\u001b[0mi\u001b[0m\u001b[1;33m,\u001b[0m \u001b[0mcv_means\u001b[0m\u001b[1;33m,\u001b[0m \u001b[0macc_score\u001b[0m\u001b[1;33m)\u001b[0m\u001b[1;33m\u001b[0m\u001b[1;33m\u001b[0m\u001b[0m\n\u001b[0;32m     18\u001b[0m \u001b[1;33m\u001b[0m\u001b[0m\n\u001b[1;32m---> 19\u001b[1;33m \u001b[0mplt\u001b[0m\u001b[1;33m.\u001b[0m\u001b[0mplot\u001b[0m\u001b[1;33m(\u001b[0m\u001b[0mrange\u001b[0m\u001b[1;33m(\u001b[0m\u001b[1;36m28\u001b[0m\u001b[1;33m)\u001b[0m\u001b[1;33m,\u001b[0m \u001b[0mcv_m\u001b[0m\u001b[1;33m)\u001b[0m\u001b[1;33m\u001b[0m\u001b[1;33m\u001b[0m\u001b[0m\n\u001b[0m",
      "\u001b[1;32mD:\\GitHub\\Winpython\\python-3.7.2.amd64\\lib\\site-packages\\matplotlib\\pyplot.py\u001b[0m in \u001b[0;36mplot\u001b[1;34m(scalex, scaley, data, *args, **kwargs)\u001b[0m\n\u001b[0;32m   2809\u001b[0m     return gca().plot(\n\u001b[0;32m   2810\u001b[0m         *args, scalex=scalex, scaley=scaley, **({\"data\": data} if data\n\u001b[1;32m-> 2811\u001b[1;33m         is not None else {}), **kwargs)\n\u001b[0m\u001b[0;32m   2812\u001b[0m \u001b[1;33m\u001b[0m\u001b[0m\n\u001b[0;32m   2813\u001b[0m \u001b[1;33m\u001b[0m\u001b[0m\n",
      "\u001b[1;32mD:\\GitHub\\Winpython\\python-3.7.2.amd64\\lib\\site-packages\\matplotlib\\__init__.py\u001b[0m in \u001b[0;36minner\u001b[1;34m(ax, data, *args, **kwargs)\u001b[0m\n\u001b[0;32m   1808\u001b[0m                         \u001b[1;34m\"the Matplotlib list!)\"\u001b[0m \u001b[1;33m%\u001b[0m \u001b[1;33m(\u001b[0m\u001b[0mlabel_namer\u001b[0m\u001b[1;33m,\u001b[0m \u001b[0mfunc\u001b[0m\u001b[1;33m.\u001b[0m\u001b[0m__name__\u001b[0m\u001b[1;33m)\u001b[0m\u001b[1;33m,\u001b[0m\u001b[1;33m\u001b[0m\u001b[1;33m\u001b[0m\u001b[0m\n\u001b[0;32m   1809\u001b[0m                         RuntimeWarning, stacklevel=2)\n\u001b[1;32m-> 1810\u001b[1;33m             \u001b[1;32mreturn\u001b[0m \u001b[0mfunc\u001b[0m\u001b[1;33m(\u001b[0m\u001b[0max\u001b[0m\u001b[1;33m,\u001b[0m \u001b[1;33m*\u001b[0m\u001b[0margs\u001b[0m\u001b[1;33m,\u001b[0m \u001b[1;33m**\u001b[0m\u001b[0mkwargs\u001b[0m\u001b[1;33m)\u001b[0m\u001b[1;33m\u001b[0m\u001b[1;33m\u001b[0m\u001b[0m\n\u001b[0m\u001b[0;32m   1811\u001b[0m \u001b[1;33m\u001b[0m\u001b[0m\n\u001b[0;32m   1812\u001b[0m         inner.__doc__ = _add_data_doc(inner.__doc__,\n",
      "\u001b[1;32mD:\\GitHub\\Winpython\\python-3.7.2.amd64\\lib\\site-packages\\matplotlib\\axes\\_axes.py\u001b[0m in \u001b[0;36mplot\u001b[1;34m(self, scalex, scaley, *args, **kwargs)\u001b[0m\n\u001b[0;32m   1609\u001b[0m         \u001b[0mkwargs\u001b[0m \u001b[1;33m=\u001b[0m \u001b[0mcbook\u001b[0m\u001b[1;33m.\u001b[0m\u001b[0mnormalize_kwargs\u001b[0m\u001b[1;33m(\u001b[0m\u001b[0mkwargs\u001b[0m\u001b[1;33m,\u001b[0m \u001b[0mmlines\u001b[0m\u001b[1;33m.\u001b[0m\u001b[0mLine2D\u001b[0m\u001b[1;33m.\u001b[0m\u001b[0m_alias_map\u001b[0m\u001b[1;33m)\u001b[0m\u001b[1;33m\u001b[0m\u001b[1;33m\u001b[0m\u001b[0m\n\u001b[0;32m   1610\u001b[0m \u001b[1;33m\u001b[0m\u001b[0m\n\u001b[1;32m-> 1611\u001b[1;33m         \u001b[1;32mfor\u001b[0m \u001b[0mline\u001b[0m \u001b[1;32min\u001b[0m \u001b[0mself\u001b[0m\u001b[1;33m.\u001b[0m\u001b[0m_get_lines\u001b[0m\u001b[1;33m(\u001b[0m\u001b[1;33m*\u001b[0m\u001b[0margs\u001b[0m\u001b[1;33m,\u001b[0m \u001b[1;33m**\u001b[0m\u001b[0mkwargs\u001b[0m\u001b[1;33m)\u001b[0m\u001b[1;33m:\u001b[0m\u001b[1;33m\u001b[0m\u001b[1;33m\u001b[0m\u001b[0m\n\u001b[0m\u001b[0;32m   1612\u001b[0m             \u001b[0mself\u001b[0m\u001b[1;33m.\u001b[0m\u001b[0madd_line\u001b[0m\u001b[1;33m(\u001b[0m\u001b[0mline\u001b[0m\u001b[1;33m)\u001b[0m\u001b[1;33m\u001b[0m\u001b[1;33m\u001b[0m\u001b[0m\n\u001b[0;32m   1613\u001b[0m             \u001b[0mlines\u001b[0m\u001b[1;33m.\u001b[0m\u001b[0mappend\u001b[0m\u001b[1;33m(\u001b[0m\u001b[0mline\u001b[0m\u001b[1;33m)\u001b[0m\u001b[1;33m\u001b[0m\u001b[1;33m\u001b[0m\u001b[0m\n",
      "\u001b[1;32mD:\\GitHub\\Winpython\\python-3.7.2.amd64\\lib\\site-packages\\matplotlib\\axes\\_base.py\u001b[0m in \u001b[0;36m_grab_next_args\u001b[1;34m(self, *args, **kwargs)\u001b[0m\n\u001b[0;32m    391\u001b[0m                 \u001b[0mthis\u001b[0m \u001b[1;33m+=\u001b[0m \u001b[0margs\u001b[0m\u001b[1;33m[\u001b[0m\u001b[1;36m0\u001b[0m\u001b[1;33m]\u001b[0m\u001b[1;33m,\u001b[0m\u001b[1;33m\u001b[0m\u001b[1;33m\u001b[0m\u001b[0m\n\u001b[0;32m    392\u001b[0m                 \u001b[0margs\u001b[0m \u001b[1;33m=\u001b[0m \u001b[0margs\u001b[0m\u001b[1;33m[\u001b[0m\u001b[1;36m1\u001b[0m\u001b[1;33m:\u001b[0m\u001b[1;33m]\u001b[0m\u001b[1;33m\u001b[0m\u001b[1;33m\u001b[0m\u001b[0m\n\u001b[1;32m--> 393\u001b[1;33m             \u001b[1;32myield\u001b[0m \u001b[1;32mfrom\u001b[0m \u001b[0mself\u001b[0m\u001b[1;33m.\u001b[0m\u001b[0m_plot_args\u001b[0m\u001b[1;33m(\u001b[0m\u001b[0mthis\u001b[0m\u001b[1;33m,\u001b[0m \u001b[0mkwargs\u001b[0m\u001b[1;33m)\u001b[0m\u001b[1;33m\u001b[0m\u001b[1;33m\u001b[0m\u001b[0m\n\u001b[0m\u001b[0;32m    394\u001b[0m \u001b[1;33m\u001b[0m\u001b[0m\n\u001b[0;32m    395\u001b[0m \u001b[1;33m\u001b[0m\u001b[0m\n",
      "\u001b[1;32mD:\\GitHub\\Winpython\\python-3.7.2.amd64\\lib\\site-packages\\matplotlib\\axes\\_base.py\u001b[0m in \u001b[0;36m_plot_args\u001b[1;34m(self, tup, kwargs)\u001b[0m\n\u001b[0;32m    368\u001b[0m             \u001b[0mx\u001b[0m\u001b[1;33m,\u001b[0m \u001b[0my\u001b[0m \u001b[1;33m=\u001b[0m \u001b[0mindex_of\u001b[0m\u001b[1;33m(\u001b[0m\u001b[0mtup\u001b[0m\u001b[1;33m[\u001b[0m\u001b[1;33m-\u001b[0m\u001b[1;36m1\u001b[0m\u001b[1;33m]\u001b[0m\u001b[1;33m)\u001b[0m\u001b[1;33m\u001b[0m\u001b[1;33m\u001b[0m\u001b[0m\n\u001b[0;32m    369\u001b[0m \u001b[1;33m\u001b[0m\u001b[0m\n\u001b[1;32m--> 370\u001b[1;33m         \u001b[0mx\u001b[0m\u001b[1;33m,\u001b[0m \u001b[0my\u001b[0m \u001b[1;33m=\u001b[0m \u001b[0mself\u001b[0m\u001b[1;33m.\u001b[0m\u001b[0m_xy_from_xy\u001b[0m\u001b[1;33m(\u001b[0m\u001b[0mx\u001b[0m\u001b[1;33m,\u001b[0m \u001b[0my\u001b[0m\u001b[1;33m)\u001b[0m\u001b[1;33m\u001b[0m\u001b[1;33m\u001b[0m\u001b[0m\n\u001b[0m\u001b[0;32m    371\u001b[0m \u001b[1;33m\u001b[0m\u001b[0m\n\u001b[0;32m    372\u001b[0m         \u001b[1;32mif\u001b[0m \u001b[0mself\u001b[0m\u001b[1;33m.\u001b[0m\u001b[0mcommand\u001b[0m \u001b[1;33m==\u001b[0m \u001b[1;34m'plot'\u001b[0m\u001b[1;33m:\u001b[0m\u001b[1;33m\u001b[0m\u001b[1;33m\u001b[0m\u001b[0m\n",
      "\u001b[1;32mD:\\GitHub\\Winpython\\python-3.7.2.amd64\\lib\\site-packages\\matplotlib\\axes\\_base.py\u001b[0m in \u001b[0;36m_xy_from_xy\u001b[1;34m(self, x, y)\u001b[0m\n\u001b[0;32m    229\u001b[0m         \u001b[1;32mif\u001b[0m \u001b[0mx\u001b[0m\u001b[1;33m.\u001b[0m\u001b[0mshape\u001b[0m\u001b[1;33m[\u001b[0m\u001b[1;36m0\u001b[0m\u001b[1;33m]\u001b[0m \u001b[1;33m!=\u001b[0m \u001b[0my\u001b[0m\u001b[1;33m.\u001b[0m\u001b[0mshape\u001b[0m\u001b[1;33m[\u001b[0m\u001b[1;36m0\u001b[0m\u001b[1;33m]\u001b[0m\u001b[1;33m:\u001b[0m\u001b[1;33m\u001b[0m\u001b[1;33m\u001b[0m\u001b[0m\n\u001b[0;32m    230\u001b[0m             raise ValueError(\"x and y must have same first dimension, but \"\n\u001b[1;32m--> 231\u001b[1;33m                              \"have shapes {} and {}\".format(x.shape, y.shape))\n\u001b[0m\u001b[0;32m    232\u001b[0m         \u001b[1;32mif\u001b[0m \u001b[0mx\u001b[0m\u001b[1;33m.\u001b[0m\u001b[0mndim\u001b[0m \u001b[1;33m>\u001b[0m \u001b[1;36m2\u001b[0m \u001b[1;32mor\u001b[0m \u001b[0my\u001b[0m\u001b[1;33m.\u001b[0m\u001b[0mndim\u001b[0m \u001b[1;33m>\u001b[0m \u001b[1;36m2\u001b[0m\u001b[1;33m:\u001b[0m\u001b[1;33m\u001b[0m\u001b[1;33m\u001b[0m\u001b[0m\n\u001b[0;32m    233\u001b[0m             raise ValueError(\"x and y can be no greater than 2-D, but have \"\n",
      "\u001b[1;31mValueError\u001b[0m: x and y must have same first dimension, but have shapes (28,) and (10,)"
     ]
    },
    {
     "data": {
      "image/png": "[encoded data removed]",
      "text/plain": [
       "<Figure size 432x288 with 1 Axes>"
      ]
     },
     "metadata": {},
     "output_type": "display_data"
    }
   ],
   "source": [
    "from sklearn.feature_selection import SelectKBest, chi2\n",
    "cv_m = []\n",
    "cv_acc = []\n",
    "X, y = data.values[:, 1:], data.values[:, 0]   \n",
    "for i in range(1,data.shape[1]): \n",
    "    ch2=SelectKBest(chi2, k=i)\n",
    "    X_f = ch2.fit_transform(X, y)\n",
    "    X_train, X_test, y_train, y_test = train_test_split(X_f, y)\n",
    "    m_f = RandomForestClassifier(n_estimators=100)\n",
    "    m_f.fit(X_train, y_train)\n",
    "    cv_score = cross_val_score(m_f, X_train, y_train, scoring=\"accuracy\", cv=kfold)\n",
    "    cv_means = round(cv_score.mean(), 2)\n",
    "    #     cv_std = round(cv_score.std(), 2)\n",
    "    acc_score = round(m_f.score(X_test, y_test), 2)\n",
    "    cv_m.append(cv_means)\n",
    "    cv_acc.append(acc_score)\n",
    "    print(i, cv_means, acc_score)\n",
    "\n",
    "plt.plot(range(28), cv_m)"
   ]
  },
  {
   "cell_type": "code",
   "execution_count": 136,
   "metadata": {},
   "outputs": [
    {
     "data": {
      "image/png": "[encoded data removed]",
      "text/plain": [
       "<Figure size 262.6x216 with 1 Axes>"
      ]
     },
     "metadata": {},
     "output_type": "display_data"
    }
   ],
   "source": []
  },
  {
   "cell_type": "markdown",
   "metadata": {
    "heading_collapsed": true
   },
   "source": [
    "## 提出问题"
   ]
  },
  {
   "cell_type": "markdown",
   "metadata": {
    "hidden": true
   },
   "source": [
    "* 明确数据分析想解决或者了解的信息是什么？"
   ]
  },
  {
   "cell_type": "markdown",
   "metadata": {},
   "source": [
    "## 理解数据"
   ]
  },
  {
   "cell_type": "markdown",
   "metadata": {
    "heading_collapsed": true
   },
   "source": [
    "### 设定相关参数"
   ]
  },
  {
   "cell_type": "code",
   "execution_count": 72,
   "metadata": {
    "ExecuteTime": {
     "end_time": "2019-05-22T09:24:34.807093Z",
     "start_time": "2019-05-22T09:24:33.120Z"
    },
    "hidden": true
   },
   "outputs": [],
   "source": [
    "# pd.set_option('precision', 2)  # 显示小数位数\n",
    "# pd.set_option('max_rows', 11)  # 显示最大行数, describe需要11行\n",
    "# pd.set_option('max_colwidth',40) # 最大列宽\n",
    "# pd.reset_option('precision')  # 重置显示设置，其余选项类似\n",
    "# %config InlineBackend.figure_format = 'svg'"
   ]
  },
  {
   "cell_type": "markdown",
   "metadata": {
    "heading_collapsed": true
   },
   "source": [
    "### 数据基本信息"
   ]
  },
  {
   "cell_type": "markdown",
   "metadata": {
    "heading_collapsed": true,
    "hidden": true
   },
   "source": [
    "#### 查看数据基本结构"
   ]
  },
  {
   "cell_type": "code",
   "execution_count": 73,
   "metadata": {
    "ExecuteTime": {
     "end_time": "2019-05-22T09:24:34.809094Z",
     "start_time": "2019-05-22T09:24:33.125Z"
    },
    "hidden": true
   },
   "outputs": [],
   "source": [
    "# dataframe.head()\n",
    "# dataframe.head(), dataframe.tail(), dataframe.index, dataframe.columns, dataframe.values\n",
    "# dataframe.T  # 行列互换\n",
    "# dataframe.sort_values(by='age')  # 按列值排序\n",
    "# dataframe[dataframe.age < 35]  # 按条件查看数据"
   ]
  },
  {
   "cell_type": "code",
   "execution_count": 74,
   "metadata": {
    "ExecuteTime": {
     "end_time": "2019-05-22T09:24:34.811097Z",
     "start_time": "2019-05-22T09:24:33.128Z"
    },
    "hidden": true
   },
   "outputs": [],
   "source": [
    "# dataframe['distance'] = dataframe['distance'].fillna('1.0')\n",
    "# dataframe['size'] = dataframe['size'].fillna('1.0')\n",
    "# X_train = dataframe.drop('group', axis=1)\n",
    "# y_train = dataframe['group']\n",
    "# from sklearn.linear_model import LogisticRegression\n",
    "# logreg = LogisticRegression()\n",
    "# logreg.fit(X_train, y_train)\n",
    "# acc_log = round(logreg.score(X_train, y_train) * 100, 2)\n",
    "# logreg.coef_[0]"
   ]
  },
  {
   "cell_type": "markdown",
   "metadata": {
    "heading_collapsed": true,
    "hidden": true
   },
   "source": [
    "#### 设定数据类型"
   ]
  },
  {
   "cell_type": "code",
   "execution_count": 75,
   "metadata": {
    "ExecuteTime": {
     "end_time": "2019-05-22T09:24:34.819095Z",
     "start_time": "2019-05-22T09:24:33.132Z"
    },
    "hidden": true
   },
   "outputs": [],
   "source": [
    "# dataframe[['group', 'menopause', 'gestation', 'pain', 'ectasia', 'multiple', 'distance', 'size']] = dataframe[[\n",
    "#     'group', 'menopause', 'gestation', 'pain', 'ectasia', 'multiple', 'distance', 'size']].astype('category')\n",
    "# category, int64, float64, datetime64, object\n",
    "# dataframe.info()\n",
    "# 确认数据结构"
   ]
  },
  {
   "cell_type": "markdown",
   "metadata": {
    "heading_collapsed": true,
    "hidden": true
   },
   "source": [
    "#### 数据基本统计信息"
   ]
  },
  {
   "cell_type": "code",
   "execution_count": 76,
   "metadata": {
    "ExecuteTime": {
     "end_time": "2019-05-22T09:24:34.821094Z",
     "start_time": "2019-05-22T09:24:33.136Z"
    },
    "hidden": true
   },
   "outputs": [],
   "source": [
    "# dataframe.describe(include='all')"
   ]
  },
  {
   "cell_type": "code",
   "execution_count": 77,
   "metadata": {
    "ExecuteTime": {
     "end_time": "2019-05-22T09:24:34.822094Z",
     "start_time": "2019-05-22T09:24:33.139Z"
    },
    "hidden": true
   },
   "outputs": [],
   "source": [
    "# dataframe.age.describe(percentiles=[.1, .2, .3, .4, .5, .6, .7, .8, .9, .99])"
   ]
  },
  {
   "cell_type": "code",
   "execution_count": 78,
   "metadata": {
    "ExecuteTime": {
     "end_time": "2019-05-22T09:24:34.824096Z",
     "start_time": "2019-05-22T09:24:33.142Z"
    },
    "hidden": true
   },
   "outputs": [],
   "source": [
    "# dataframe.hist(grid=False, bins=20, figsize=(10,10), layout=(3,3));"
   ]
  },
  {
   "cell_type": "markdown",
   "metadata": {
    "hidden": true
   },
   "source": [
    "---"
   ]
  },
  {
   "cell_type": "markdown",
   "metadata": {
    "heading_collapsed": true,
    "hidden": true
   },
   "source": [
    "#### 查看指定数据"
   ]
  },
  {
   "cell_type": "code",
   "execution_count": 79,
   "metadata": {
    "ExecuteTime": {
     "end_time": "2019-05-22T09:24:34.826095Z",
     "start_time": "2019-05-22T09:24:33.150Z"
    },
    "hidden": true
   },
   "outputs": [],
   "source": [
    "# \n",
    "# dataframe.groupby('group').mean()\n",
    "# dataframe[dataframe.age > 70]\n",
    "# dataframe[['size','group']].groupby('size').mean()"
   ]
  },
  {
   "cell_type": "markdown",
   "metadata": {
    "hidden": true
   },
   "source": [
    "* 数据相关性"
   ]
  },
  {
   "cell_type": "code",
   "execution_count": 80,
   "metadata": {
    "ExecuteTime": {
     "end_time": "2019-05-22T09:24:34.828097Z",
     "start_time": "2019-05-22T09:24:33.155Z"
    },
    "hidden": true
   },
   "outputs": [],
   "source": [
    "# dataframe.corr(method='spearman')\n",
    "# 'pearson', 'kendall', 'spearman'"
   ]
  },
  {
   "cell_type": "markdown",
   "metadata": {
    "hidden": true
   },
   "source": [
    "* 分组情况（按第一列分组）"
   ]
  },
  {
   "cell_type": "code",
   "execution_count": 81,
   "metadata": {
    "ExecuteTime": {
     "end_time": "2019-05-22T09:24:34.830096Z",
     "start_time": "2019-05-22T09:24:33.160Z"
    },
    "hidden": true
   },
   "outputs": [],
   "source": [
    "# chisq = data.groupby([data['group'], data['gestation']]).size()\n",
    "# print(chisq)"
   ]
  },
  {
   "cell_type": "code",
   "execution_count": 82,
   "metadata": {
    "ExecuteTime": {
     "end_time": "2019-05-22T09:24:34.832095Z",
     "start_time": "2019-05-22T09:24:33.165Z"
    },
    "hidden": true
   },
   "outputs": [],
   "source": [
    "# pd.crosstab(dataframe['group'], dataframe['gestation'], margins=True)"
   ]
  },
  {
   "cell_type": "markdown",
   "metadata": {
    "hidden": true
   },
   "source": [
    "* 卡方检验（2*2表格）\n",
    "    - 所有的理论数T≥5并且总样本量n≥40，用Pearson卡方进行检验。\n",
    "    - 如果理论数T＜5但T≥1，并且1≥40，用连续性校正的卡方进行检验。\n",
    "    - 如果有理论数T＜1或n＜40，则用Fisher’s检验。\n",
    "    - 非2*2表格直接使用stats.chi2_contingency(chisq_matrix)\n",
    "\n",
    "* R×C表卡方检验应用条件：\n",
    "    - R×C表中理论数小于5的格子不能超过1／5；\n",
    "    - 不能有小于1的理论数。如果实验中有不符合R×C表的卡方检验，可以通过增加样本数、列合并来实现。"
   ]
  },
  {
   "cell_type": "code",
   "execution_count": 83,
   "metadata": {
    "ExecuteTime": {
     "end_time": "2019-05-22T09:24:34.834095Z",
     "start_time": "2019-05-22T09:24:33.170Z"
    },
    "hidden": true
   },
   "outputs": [],
   "source": [
    "# chisq_matrix = np.array([[chisq[0, 0], chisq[0, 1]],\n",
    "#                          [chisq[1, 0], chisq[1, 1]]])\n",
    "# stats.chi2_contingency(chisq_matrix, correction=False)  # Pearson\n",
    "# stats.chi2_contingency(chisq_matrix) # 连续性校正\n",
    "# stats.fisher_exact(chisq_matrix)"
   ]
  },
  {
   "cell_type": "markdown",
   "metadata": {
    "heading_collapsed": true
   },
   "source": [
    "### 数据可视化"
   ]
  },
  {
   "cell_type": "code",
   "execution_count": 84,
   "metadata": {
    "ExecuteTime": {
     "end_time": "2019-05-22T09:24:34.836097Z",
     "start_time": "2019-05-22T09:24:33.175Z"
    },
    "hidden": true
   },
   "outputs": [],
   "source": [
    "# g = sns.FacetGrid(dataframe, col='group')\n",
    "# g.map(plt.hist, 'age',bins=20)"
   ]
  },
  {
   "cell_type": "code",
   "execution_count": 85,
   "metadata": {
    "ExecuteTime": {
     "end_time": "2019-05-22T09:24:34.837094Z",
     "start_time": "2019-05-22T09:24:33.179Z"
    },
    "hidden": true
   },
   "outputs": [],
   "source": [
    "# grid = sns.FacetGrid(dataframe, col='group', row='menopause')\n",
    "# grid.map(plt.hist, 'age', bins=20)\n",
    "# grid.add_legend();"
   ]
  },
  {
   "cell_type": "code",
   "execution_count": 86,
   "metadata": {
    "ExecuteTime": {
     "end_time": "2019-05-22T09:24:34.839099Z",
     "start_time": "2019-05-22T09:24:33.183Z"
    },
    "hidden": true
   },
   "outputs": [],
   "source": [
    "# grid = sns.FacetGrid(dataframe, row='menopause')\n",
    "# grid.map(sns.pointplot, 'gestation', 'group', 'ectasia', palette='deep')\n",
    "# grid.add_legend()"
   ]
  },
  {
   "cell_type": "markdown",
   "metadata": {
    "hidden": true
   },
   "source": [
    "* 单变量密度图"
   ]
  },
  {
   "cell_type": "code",
   "execution_count": 87,
   "metadata": {
    "ExecuteTime": {
     "end_time": "2019-05-22T09:24:34.841094Z",
     "start_time": "2019-05-22T09:24:33.188Z"
    },
    "hidden": true
   },
   "outputs": [],
   "source": [
    "# data.plot(\n",
    "#     kind='density',\n",
    "#     subplots=True,\n",
    "#     figsize=(10, 10),\n",
    "#     layout=(3, 3),\n",
    "#     sharex=False)"
   ]
  },
  {
   "cell_type": "markdown",
   "metadata": {
    "hidden": true
   },
   "source": [
    "* 单变量箱图"
   ]
  },
  {
   "cell_type": "code",
   "execution_count": 88,
   "metadata": {
    "ExecuteTime": {
     "end_time": "2019-05-22T09:24:34.843095Z",
     "start_time": "2019-05-22T09:24:33.193Z"
    },
    "hidden": true
   },
   "outputs": [],
   "source": [
    "# data.plot(\n",
    "#     kind='box', subplots=True, figsize=(10, 10), layout=(3, 3), sharex=False)"
   ]
  },
  {
   "cell_type": "markdown",
   "metadata": {
    "hidden": true
   },
   "source": [
    "* 多变量相关矩阵图"
   ]
  },
  {
   "cell_type": "code",
   "execution_count": 89,
   "metadata": {
    "ExecuteTime": {
     "end_time": "2019-05-22T09:24:34.844093Z",
     "start_time": "2019-05-22T09:24:33.197Z"
    },
    "hidden": true
   },
   "outputs": [],
   "source": [
    "# import numpy as np\n",
    "# correlations = data.corr()\n",
    "# fig = pyplot.figure()\n",
    "# ax = fig.add_subplot('111')\n",
    "# ax.matshow(correlations, vmin=-1, vmax=1)\n",
    "# ticks = np.arange(0, 9, 1)\n",
    "# ax.set_xticks(ticks)\n",
    "# ax.set_yticks(ticks)\n",
    "# ax.set_xticklabels(data.columns)\n",
    "# ax.set_yticklabels(data.columns)\n",
    "# fig.set_size_inches(10, 10)"
   ]
  },
  {
   "cell_type": "markdown",
   "metadata": {
    "hidden": true
   },
   "source": [
    "* 散点矩阵图"
   ]
  },
  {
   "cell_type": "code",
   "execution_count": 90,
   "metadata": {
    "ExecuteTime": {
     "end_time": "2019-05-22T09:24:34.846094Z",
     "start_time": "2019-05-22T09:24:33.203Z"
    },
    "hidden": true
   },
   "outputs": [],
   "source": [
    "# pd.plotting.scatter_matrix(data, figsize=(15,15));"
   ]
  },
  {
   "cell_type": "markdown",
   "metadata": {
    "heading_collapsed": true
   },
   "source": [
    "### 数据预处理"
   ]
  },
  {
   "cell_type": "markdown",
   "metadata": {
    "hidden": true
   },
   "source": [
    "* 数据缺失值处理"
   ]
  },
  {
   "cell_type": "code",
   "execution_count": 91,
   "metadata": {
    "ExecuteTime": {
     "end_time": "2019-05-22T09:24:34.848093Z",
     "start_time": "2019-05-22T09:24:33.210Z"
    },
    "hidden": true
   },
   "outputs": [],
   "source": [
    "# data = dataframe.dropna()"
   ]
  },
  {
   "cell_type": "markdown",
   "metadata": {
    "hidden": true
   },
   "source": [
    "* 分离数据"
   ]
  },
  {
   "cell_type": "code",
   "execution_count": 92,
   "metadata": {
    "ExecuteTime": {
     "end_time": "2019-05-22T09:24:34.850098Z",
     "start_time": "2019-05-22T09:24:33.214Z"
    },
    "hidden": true
   },
   "outputs": [],
   "source": [
    "# from sklearn.model_selection import train_test_split\n",
    "# array = data.values\n",
    "# X = array[:, 1:]\n",
    "# y = array[:, 0]"
   ]
  },
  {
   "cell_type": "markdown",
   "metadata": {
    "hidden": true
   },
   "source": [
    "1. 调整尺度"
   ]
  },
  {
   "cell_type": "code",
   "execution_count": 93,
   "metadata": {
    "ExecuteTime": {
     "end_time": "2019-05-22T09:24:34.854097Z",
     "start_time": "2019-05-22T09:24:33.220Z"
    },
    "hidden": true
   },
   "outputs": [],
   "source": [
    "# from sklearn.preprocessing import MinMaxScaler\n",
    "# transformer = MinMaxScaler(feature_range=(0,1))\n",
    "# X = transformer.fit_transform(X)"
   ]
  },
  {
   "cell_type": "markdown",
   "metadata": {
    "hidden": true
   },
   "source": [
    "2. 正态化数据"
   ]
  },
  {
   "cell_type": "code",
   "execution_count": 94,
   "metadata": {
    "ExecuteTime": {
     "end_time": "2019-05-22T09:24:34.857096Z",
     "start_time": "2019-05-22T09:24:33.224Z"
    },
    "hidden": true
   },
   "outputs": [],
   "source": [
    "# from sklearn.preprocessing import StandardScaler\n",
    "# transformer = StandardScaler().fit(X)\n",
    "# X = transformer.transform(X)"
   ]
  },
  {
   "cell_type": "markdown",
   "metadata": {
    "hidden": true
   },
   "source": [
    "3. 标准化数据"
   ]
  },
  {
   "cell_type": "code",
   "execution_count": 95,
   "metadata": {
    "ExecuteTime": {
     "end_time": "2019-05-22T09:24:34.860094Z",
     "start_time": "2019-05-22T09:24:33.229Z"
    },
    "hidden": true
   },
   "outputs": [],
   "source": [
    "# from sklearn.preprocessing import Normalizer\n",
    "# transformer = Normalizer().fit(X)\n",
    "# X = transformer.transform(X)"
   ]
  },
  {
   "cell_type": "markdown",
   "metadata": {
    "hidden": true
   },
   "source": [
    "4. 二值数据"
   ]
  },
  {
   "cell_type": "code",
   "execution_count": 96,
   "metadata": {
    "ExecuteTime": {
     "end_time": "2019-05-22T09:24:34.862096Z",
     "start_time": "2019-05-22T09:24:33.235Z"
    },
    "hidden": true
   },
   "outputs": [],
   "source": [
    "# from sklearn.preprocessing import Binarizer\n",
    "# transformer = Binarizer().fit(X)\n",
    "# X = transformer.transform(X)"
   ]
  },
  {
   "cell_type": "markdown",
   "metadata": {
    "heading_collapsed": true
   },
   "source": [
    "### 特征选择"
   ]
  },
  {
   "cell_type": "markdown",
   "metadata": {
    "hidden": true
   },
   "source": [
    "* 单变量特征选择"
   ]
  },
  {
   "cell_type": "code",
   "execution_count": 97,
   "metadata": {
    "ExecuteTime": {
     "end_time": "2019-05-22T09:24:34.865097Z",
     "start_time": "2019-05-22T09:24:33.240Z"
    },
    "hidden": true
   },
   "outputs": [],
   "source": [
    "# from sklearn.feature_selection import SelectKBest\n",
    "# from sklearn.feature_selection import chi2\n",
    "# testchi = chi2(X, Y)\n",
    "# test = SelectKBest(score_func=chi2, k=2)\n",
    "# fit = test.fit(X, Y)\n",
    "# print(fit.scores_)\n",
    "# features = fit.transform(X)\n",
    "# test.get_support()"
   ]
  },
  {
   "cell_type": "markdown",
   "metadata": {
    "hidden": true
   },
   "source": [
    "* 递归特征消除（RFE）"
   ]
  },
  {
   "cell_type": "code",
   "execution_count": 98,
   "metadata": {
    "ExecuteTime": {
     "end_time": "2019-05-22T09:24:34.867094Z",
     "start_time": "2019-05-22T09:24:33.244Z"
    },
    "hidden": true
   },
   "outputs": [],
   "source": [
    "# from sklearn.feature_selection import RFE\n",
    "# from sklearn.linear_model import LogisticRegression\n",
    "# model = LogisticRegression(solver='lbfgs')\n",
    "# rfe = RFE(model, 3)\n",
    "# fit = rfe.fit(X, Y)\n",
    "# print(fit.n_features_)\n",
    "# print(fit.support_)\n",
    "# print(fit.ranking_)"
   ]
  },
  {
   "cell_type": "markdown",
   "metadata": {
    "hidden": true
   },
   "source": [
    "* 主要成分分析（PCA）"
   ]
  },
  {
   "cell_type": "code",
   "execution_count": 99,
   "metadata": {
    "ExecuteTime": {
     "end_time": "2019-05-22T09:24:34.869096Z",
     "start_time": "2019-05-22T09:24:33.252Z"
    },
    "hidden": true
   },
   "outputs": [],
   "source": [
    "# from sklearn.decomposition import PCA\n",
    "# pca = PCA(n_components=3)\n",
    "# fit = pca.fit(X)\n",
    "# print(fit.explained_variance_ratio_)\n",
    "# print(fit.components_)"
   ]
  },
  {
   "cell_type": "markdown",
   "metadata": {
    "hidden": true
   },
   "source": [
    "* 特征重要性"
   ]
  },
  {
   "cell_type": "code",
   "execution_count": 100,
   "metadata": {
    "ExecuteTime": {
     "end_time": "2019-05-22T09:24:34.871099Z",
     "start_time": "2019-05-22T09:24:33.260Z"
    },
    "hidden": true
   },
   "outputs": [],
   "source": [
    "# from sklearn.ensemble import ExtraTreesClassifier\n",
    "# model = ExtraTreesClassifier(n_estimators=100)\n",
    "# fit = model.fit(X, Y)\n",
    "# print(fit.feature_importances_)"
   ]
  },
  {
   "cell_type": "markdown",
   "metadata": {},
   "source": [
    "* 特征数量选择"
   ]
  },
  {
   "cell_type": "code",
   "execution_count": null,
   "metadata": {},
   "outputs": [],
   "source": [
    "# from sklearn.feature_selection import SelectKBest, chi2\n",
    "# cv_m = []\n",
    "# cv_acc = []\n",
    "# X, y = data.values[:, 1:], data.values[:, 0]   \n",
    "# for i in range(1,data.shape[1]): \n",
    "#     ch2=SelectKBest(chi2, k=i)\n",
    "#     X_f = ch2.fit_transform(X, y)\n",
    "#     X_train, X_test, y_train, y_test = train_test_split(X_f, y)\n",
    "#     m_f = RandomForestClassifier(n_estimators=100)\n",
    "#     m_f.fit(X_train, y_train)\n",
    "#     cv_score = cross_val_score(m_f, X_train, y_train, scoring=\"accuracy\", cv=kfold)\n",
    "#     cv_means = round(cv_score.mean(), 2)\n",
    "#     #     cv_std = round(cv_score.std(), 2)\n",
    "#     acc_score = round(m_f.score(X_test, y_test), 2)\n",
    "#     cv_m.append(cv_means)\n",
    "#     cv_acc.append(acc_score)\n",
    "#     print(i, cv_means, acc_score)\n",
    "\n",
    "# plt.plot(range(28), cv_m)"
   ]
  },
  {
   "cell_type": "markdown",
   "metadata": {
    "heading_collapsed": true
   },
   "source": [
    "### 评估算法"
   ]
  },
  {
   "cell_type": "markdown",
   "metadata": {
    "hidden": true
   },
   "source": [
    "* 数据分组"
   ]
  },
  {
   "cell_type": "code",
   "execution_count": 101,
   "metadata": {
    "ExecuteTime": {
     "end_time": "2019-05-22T09:24:34.873096Z",
     "start_time": "2019-05-22T09:24:33.267Z"
    },
    "hidden": true
   },
   "outputs": [],
   "source": [
    "# testsize = 0.2\n",
    "# seed = 4\n",
    "# X_train, X_test, y_train, y_test = train_test_split(\n",
    "#     X, y, test_size=testsize, random_state=seed)"
   ]
  },
  {
   "cell_type": "markdown",
   "metadata": {
    "hidden": true
   },
   "source": [
    "* 评估模型"
   ]
  },
  {
   "cell_type": "code",
   "execution_count": 102,
   "metadata": {
    "ExecuteTime": {
     "end_time": "2019-05-22T09:24:34.875096Z",
     "start_time": "2019-05-22T09:24:33.272Z"
    },
    "hidden": true
   },
   "outputs": [],
   "source": [
    "# from sklearn.model_selection import KFold\n",
    "# from sklearn.model_selection import cross_val_score\n",
    "# from sklearn.metrics import classification_report\n",
    "# from sklearn.metrics import confusion_matrix\n",
    "# from sklearn.metrics import accuracy_score\n",
    "\n",
    "# from sklearn.linear_model import LogisticRegression\n",
    "# from sklearn.tree import DecisionTreeClassifier\n",
    "# from sklearn.discriminant_analysis import LinearDiscriminantAnalysis\n",
    "# from sklearn.neighbors import KNeighborsClassifier\n",
    "# from sklearn.naive_bayes import GaussianNB\n",
    "# from sklearn.svm import SVC\n",
    "\n",
    "# from xgboost import XGBClassifier\n",
    "\n",
    "# models = {}\n",
    "# models['LR'] = LogisticRegression(solver='liblinear')\n",
    "# models['LDA'] = LinearDiscriminantAnalysis()\n",
    "# models['KNN'] = KNeighborsClassifier()\n",
    "# models['CART'] = DecisionTreeClassifier()\n",
    "# models['NB'] = GaussianNB()\n",
    "# models['SVM'] = SVC(gamma='scale')\n",
    "# models['XGB'] = XGBClassifier()\n",
    "\n",
    "# results = []\n",
    "# for key in models:\n",
    "#     kfold = KFold(n_splits=10, random_state=seed)\n",
    "#     cv_results = cross_val_score(\n",
    "#         models[key], X_train, y_train, cv=kfold, scoring='accuracy')\n",
    "#     results.append(cv_results)\n"
   ]
  },
  {
   "cell_type": "markdown",
   "metadata": {
    "hidden": true
   },
   "source": [
    "* 箱图比较算法"
   ]
  },
  {
   "cell_type": "code",
   "execution_count": 103,
   "metadata": {
    "ExecuteTime": {
     "end_time": "2019-05-22T09:24:34.877098Z",
     "start_time": "2019-05-22T09:24:33.276Z"
    },
    "hidden": true
   },
   "outputs": [],
   "source": [
    "# plt.boxplot(results);"
   ]
  },
  {
   "cell_type": "markdown",
   "metadata": {},
   "source": [
    "* 决策树作图"
   ]
  },
  {
   "cell_type": "code",
   "execution_count": null,
   "metadata": {},
   "outputs": [],
   "source": [
    "# import sklearn\n",
    "# sklearn.__version__\n",
    "# 0.21\n",
    "\n",
    "# from sklearn import tree\n",
    "# tree.plot_tree(models['CART'].fit(X_train, y_train));\n",
    "\n",
    "# export PDF\n",
    "# import graphviz \n",
    "# dot_data = tree.export_graphviz(models['CART'], out_file=None, feature_names=data.columns[1:10], filled=True, rounded=True, special_characters=True) \n",
    "# graph = graphviz.Source(dot_data) \n",
    "# graph.render(\"iris\") "
   ]
  },
  {
   "cell_type": "markdown",
   "metadata": {},
   "source": [
    "### 预测"
   ]
  },
  {
   "cell_type": "code",
   "execution_count": 104,
   "metadata": {
    "ExecuteTime": {
     "end_time": "2019-05-22T09:24:34.879095Z",
     "start_time": "2019-05-22T09:24:33.280Z"
    }
   },
   "outputs": [],
   "source": [
    "# svm = SVC(gamma='scale')\n",
    "# svm.fit(X=X_train, y=y_train)\n",
    "# predictions = svm.predict(X_test)\n",
    "# models['XGB'].fit(X_train, y_train)\n",
    "# predictions = models['XGB'].predict(X_test)"
   ]
  },
  {
   "cell_type": "code",
   "execution_count": 105,
   "metadata": {
    "ExecuteTime": {
     "end_time": "2019-05-22T09:24:34.881097Z",
     "start_time": "2019-05-22T09:24:33.284Z"
    }
   },
   "outputs": [],
   "source": [
    "# accuracy_score(y_test, predictions)"
   ]
  },
  {
   "cell_type": "code",
   "execution_count": 106,
   "metadata": {
    "ExecuteTime": {
     "end_time": "2019-05-22T09:24:34.883095Z",
     "start_time": "2019-05-22T09:24:33.287Z"
    }
   },
   "outputs": [],
   "source": [
    "# confusion_matrix(y_test, predictions)"
   ]
  },
  {
   "cell_type": "code",
   "execution_count": 107,
   "metadata": {
    "ExecuteTime": {
     "end_time": "2019-05-22T09:24:34.885099Z",
     "start_time": "2019-05-22T09:24:33.292Z"
    }
   },
   "outputs": [],
   "source": [
    "# print(classification_report(y_test, predictions))"
   ]
  },
  {
   "cell_type": "code",
   "execution_count": 108,
   "metadata": {},
   "outputs": [],
   "source": [
    "# Probability calibration"
   ]
  }
 ],
 "metadata": {
  "hide_input": false,
  "kernelspec": {
   "display_name": "Python 3",
   "language": "python",
   "name": "python3"
  },
  "language_info": {
   "codemirror_mode": {
    "name": "ipython",
    "version": 3
   },
   "file_extension": ".py",
   "mimetype": "text/x-python",
   "name": "python",
   "nbconvert_exporter": "python",
   "pygments_lexer": "ipython3",
   "version": "3.7.4"
  },
  "toc": {
   "base_numbering": 1,
   "nav_menu": {},
   "number_sections": true,
   "sideBar": true,
   "skip_h1_title": true,
   "title_cell": "目录",
   "title_sidebar": "目录",
   "toc_cell": false,
   "toc_position": {
    "height": "calc(100% - 180px)",
    "left": "10px",
    "top": "150px",
    "width": "165px"
   },
   "toc_section_display": true,
   "toc_window_display": false
  },
  "varInspector": {
   "cols": {
    "lenName": 16,
    "lenType": 16,
    "lenVar": 40
   },
   "kernels_config": {
    "python": {
     "delete_cmd_postfix": "",
     "delete_cmd_prefix": "del ",
     "library": "var_list.py",
     "varRefreshCmd": "print(var_dic_list())"
    },
    "r": {
     "delete_cmd_postfix": ") ",
     "delete_cmd_prefix": "rm(",
     "library": "var_list.r",
     "varRefreshCmd": "cat(var_dic_list()) "
    }
   },
   "position": {
    "height": "750px",
    "left": "1550px",
    "right": "20px",
    "top": "120px",
    "width": "350px"
   },
   "types_to_exclude": [
    "module",
    "function",
    "builtin_function_or_method",
    "instance",
    "_Feature"
   ],
   "window_display": false
  }
 },
 "nbformat": 4,
 "nbformat_minor": 2
}
