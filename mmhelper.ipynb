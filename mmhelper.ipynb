{
 "cells": [
  {
   "cell_type": "code",
   "execution_count": 219,
   "metadata": {},
   "outputs": [],
   "source": [
    "# 1. Creat demo.xlsx"
   ]
  },
  {
   "cell_type": "code",
   "execution_count": 388,
   "metadata": {},
   "outputs": [],
   "source": [
    "# import numpy as np\n",
    "# import pandas as pd\n",
    "# np.random.seed(1)\n",
    "# data = pd.DataFrame({\n",
    "#     'label': np.random.randint(0, 2, 500),\n",
    "#     'age': np.random.randint(18, 70, 500),\n",
    "#     'sex': np.random.randint(0, 2, 500),\n",
    "#     'height': np.random.randint(140, 200, 500),\n",
    "#     'weight': np.random.randint(40, 100, 500)\n",
    "# })\n",
    "# data['bsa'] = round(0.0061 * data['height'] + 0.0128 * data['weight'] - 0.1529, 3)\n",
    "# data['bmi'] = round(data['weight'] / (data['height']/100)**2, 1)\n",
    "\n",
    "# data['label'] = data['height'].apply(lambda x : 1 if x in range(155,180) else 0) & \\\n",
    "#                 data['weight'].apply(lambda x : 1 if x in range(45,70) else 0)\n",
    "\n",
    "# data.to_excel('demo.xlsx', index=False)"
   ]
  },
  {
   "cell_type": "code",
   "execution_count": 221,
   "metadata": {},
   "outputs": [],
   "source": [
    "# 2. Fast Evaluation"
   ]
  },
  {
   "cell_type": "code",
   "execution_count": 389,
   "metadata": {},
   "outputs": [
    {
     "name": "stdout",
     "output_type": "stream",
     "text": "1.0\n"
    }
   ],
   "source": [
    "import pandas as pd\n",
    "from sklearn.model_selection import train_test_split\n",
    "from sklearn.tree import DecisionTreeClassifier\n",
    "from sklearn.metrics import accuracy_score\n",
    "\n",
    "datafile = 'demo.xlsx'\n",
    "data = pd.read_excel(datafile)\n",
    "X, y = data.values[:, 1:], data.values[:, 0]\n",
    "X_train, X_test, y_train, y_test = train_test_split(X, y)\n",
    "model = DecisionTreeClassifier()\n",
    "model.fit(X_train, y_train)\n",
    "y_predict = model.predict(X_test)\n",
    "result = accuracy_score(y_test, y_predict)\n",
    "print(result)"
   ]
  },
  {
   "cell_type": "code",
   "execution_count": 417,
   "metadata": {},
   "outputs": [
    {
     "name": "stdout",
     "output_type": "stream",
     "text": "[0]\n"
    }
   ],
   "source": [
    "test = pd.DataFrame({\n",
    "    'age':[23],\n",
    "    'sex':[1],\n",
    "    'height':[140],\n",
    "    'weight':[65]\n",
    "})\n",
    "print(model.predict(test))"
   ]
  }
 ],
 "metadata": {
  "kernelspec": {
   "display_name": "Python 3",
   "language": "python",
   "name": "python3"
  },
  "language_info": {
   "codemirror_mode": {
    "name": "ipython",
    "version": 3
   },
   "file_extension": ".py",
   "mimetype": "text/x-python",
   "name": "python",
   "nbconvert_exporter": "python",
   "pygments_lexer": "ipython3",
   "version": "3.7.4"
  }
 },
 "nbformat": 4,
 "nbformat_minor": 2
}