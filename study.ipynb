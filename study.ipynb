{
 "cells": [
  {
   "cell_type": "code",
   "execution_count": 1,
   "metadata": {},
   "outputs": [],
   "source": [
    "import numpy as np\n",
    "import scipy.stats as scs\n",
    "import pandas as pd\n",
    "import seaborn as sns\n",
    "import matplotlib.pyplot as plt\n",
    "\n",
    "from sklearn.model_selection import train_test_split\n",
    "from sklearn.model_selection import StratifiedKFold\n",
    "from sklearn.model_selection import cross_val_score\n",
    "from sklearn.model_selection import learning_curve\n",
    "\n",
    "from sklearn.metrics import classification_report\n",
    "from sklearn.metrics import confusion_matrix\n",
    "from sklearn.metrics import accuracy_score\n",
    "\n",
    "from sklearn.linear_model import LogisticRegression\n",
    "from sklearn.discriminant_analysis import LinearDiscriminantAnalysis, QuadraticDiscriminantAnalysis\n",
    "from sklearn.svm import SVC\n",
    "from sklearn.neighbors import KNeighborsClassifier\n",
    "from sklearn.naive_bayes import GaussianNB\n",
    "from sklearn.tree import DecisionTreeClassifier\n",
    "from sklearn.ensemble import RandomForestClassifier, AdaBoostClassifier\n",
    "from sklearn.ensemble import GradientBoostingClassifier, ExtraTreesClassifier\n",
    "from sklearn.ensemble import VotingClassifier\n",
    "from sklearn.neural_network import MLPClassifier\n",
    "\n",
    "from xgboost import XGBClassifier\n",
    "\n",
    "import warnings\n",
    "warnings.filterwarnings('ignore')\n",
    "\n",
    "pd.set_option('precision', 2)\n",
    "pd.options.display.max_columns = None # Show all columns\n",
    "pd.options.display.max_rows = None # Show all columns"
   ]
  },
  {
   "cell_type": "markdown",
   "metadata": {},
   "source": [
    "###  1. 数据统一录入至Excel表格"
   ]
  },
  {
   "cell_type": "code",
   "execution_count": 73,
   "metadata": {
    "scrolled": false
   },
   "outputs": [
    {
     "data": {
      "text/html": [
       "<div>\n",
       "<style scoped>\n",
       "    .dataframe tbody tr th:only-of-type {\n",
       "        vertical-align: middle;\n",
       "    }\n",
       "\n",
       "    .dataframe tbody tr th {\n",
       "        vertical-align: top;\n",
       "    }\n",
       "\n",
       "    .dataframe thead th {\n",
       "        text-align: right;\n",
       "    }\n",
       "</style>\n",
       "<table border=\"1\" class=\"dataframe\">\n",
       "  <thead>\n",
       "    <tr style=\"text-align: right;\">\n",
       "      <th></th>\n",
       "      <th>TIME</th>\n",
       "      <th>GRADE</th>\n",
       "      <th>PRO</th>\n",
       "      <th>SEX</th>\n",
       "      <th>WATER</th>\n",
       "      <th>STEP</th>\n",
       "      <th>DIS</th>\n",
       "      <th>SEQ</th>\n",
       "    </tr>\n",
       "  </thead>\n",
       "  <tbody>\n",
       "    <tr>\n",
       "      <th>count</th>\n",
       "      <td>297</td>\n",
       "      <td>297</td>\n",
       "      <td>297</td>\n",
       "      <td>297</td>\n",
       "      <td>297</td>\n",
       "      <td>297</td>\n",
       "      <td>297</td>\n",
       "      <td>297</td>\n",
       "    </tr>\n",
       "    <tr>\n",
       "      <th>unique</th>\n",
       "      <td>131</td>\n",
       "      <td>2</td>\n",
       "      <td>4</td>\n",
       "      <td>2</td>\n",
       "      <td>4</td>\n",
       "      <td>4</td>\n",
       "      <td>4</td>\n",
       "      <td>4</td>\n",
       "    </tr>\n",
       "    <tr>\n",
       "      <th>top</th>\n",
       "      <td>85</td>\n",
       "      <td>1</td>\n",
       "      <td>0</td>\n",
       "      <td>1</td>\n",
       "      <td>0</td>\n",
       "      <td>1</td>\n",
       "      <td>0</td>\n",
       "      <td>2</td>\n",
       "    </tr>\n",
       "    <tr>\n",
       "      <th>freq</th>\n",
       "      <td>7</td>\n",
       "      <td>282</td>\n",
       "      <td>195</td>\n",
       "      <td>195</td>\n",
       "      <td>156</td>\n",
       "      <td>167</td>\n",
       "      <td>167</td>\n",
       "      <td>220</td>\n",
       "    </tr>\n",
       "  </tbody>\n",
       "</table>\n",
       "</div>"
      ],
      "text/plain": [
       "        TIME  GRADE  PRO  SEX  WATER  STEP  DIS  SEQ\n",
       "count    297    297  297  297    297   297  297  297\n",
       "unique   131      2    4    2      4     4    4    4\n",
       "top       85      1    0    1      0     1    0    2\n",
       "freq       7    282  195  195    156   167  167  220"
      ]
     },
     "execution_count": 73,
     "metadata": {},
     "output_type": "execute_result"
    }
   ],
   "source": [
    "data = pd.read_excel('./studata.xlsx')\n",
    "def devide_grade(x):\n",
    "    return 0 if x=='C.2014年' else 1\n",
    "data['GRADE'] = data['GRADE'].apply(devide_grade)\n",
    "\n",
    "def devide_pro(x):\n",
    "    if x=='A.临床医学':\n",
    "        result = 0\n",
    "    elif x == 'B.药学':\n",
    "        result = 1\n",
    "    elif x == 'C.生物工程':\n",
    "        result = 2\n",
    "    else:\n",
    "        result = 3\n",
    "    return result\n",
    "data['PRO'] = data['PRO'].apply(devide_pro)\n",
    "\n",
    "def devide_sex(x):\n",
    "    return 0 if x=='A.男' else 1\n",
    "data['SEX'] = data['SEX'].apply(devide_sex)\n",
    "\n",
    "\n",
    "def devide_water(x):\n",
    "    if x=='A.矿泉水':\n",
    "        result = 0\n",
    "    elif x == 'B.可乐':\n",
    "        result = 1\n",
    "    elif x == 'C.脉动':\n",
    "        result = 2\n",
    "    else:\n",
    "        result = 3\n",
    "    return result\n",
    "data['WATER'] = data['WATER'].apply(devide_water)\n",
    "\n",
    "def devide_step(x):\n",
    "    if x=='A.建议其把你买的水喝下去':\n",
    "        result = 0\n",
    "    elif x == 'B.检查其生命体征':\n",
    "        result = 1\n",
    "    elif x == 'C.测量其体重':\n",
    "        result = 2\n",
    "    else:\n",
    "        result = 3\n",
    "    return result\n",
    "data['STEP'] = data['STEP'].apply(devide_step)\n",
    "\n",
    "def devide_dis(x):\n",
    "    if x=='A.休克':\n",
    "        result = 0\n",
    "    elif x == 'B.缺水':\n",
    "        result = 1\n",
    "    elif x == 'C.脱水':\n",
    "        result = 2\n",
    "    else:\n",
    "        result = 3\n",
    "    return result\n",
    "data['DIS'] = data['DIS'].apply(devide_dis)\n",
    "\n",
    "def devide_seq(x):\n",
    "    if x=='A.钾钙一起补':\n",
    "        result = 0\n",
    "    elif x == 'B.钾钙都不补':\n",
    "        result = 1\n",
    "    elif x == 'C.先补钾后补钙':\n",
    "        result = 2\n",
    "    else:\n",
    "        result = 3\n",
    "    return result\n",
    "data['SEQ'] = data['SEQ'].apply(devide_seq)\n",
    "\n",
    "data.astype('category').describe()"
   ]
  },
  {
   "cell_type": "markdown",
   "metadata": {},
   "source": [
    "#### Pretest for best classifier."
   ]
  },
  {
   "cell_type": "code",
   "execution_count": 74,
   "metadata": {
    "scrolled": false
   },
   "outputs": [],
   "source": [
    "data = data[data['PRO']<1]\n",
    "data = data[data['GRADE']==1]"
   ]
  },
  {
   "cell_type": "code",
   "execution_count": 76,
   "metadata": {
    "scrolled": false
   },
   "outputs": [
    {
     "data": {
      "image/png": "[encoded data removed]",
      "text/plain": [
       "<Figure size 1008x720 with 1 Axes>"
      ]
     },
     "metadata": {},
     "output_type": "display_data"
    }
   ],
   "source": [
    "X, y = data.values[:, [4,5,6,7]], data.values[:, 3]\n",
    "\n",
    "X_train, X_test, y_train, y_test = train_test_split(X, y)\n",
    "\n",
    "models = {\n",
    "    'LR': LogisticRegression(solver='liblinear', multi_class='auto'),\n",
    "    'LDA': LinearDiscriminantAnalysis(),\n",
    "    'QDA': QuadraticDiscriminantAnalysis(),\n",
    "    'SVM': SVC(gamma='scale'),\n",
    "    'KNN': KNeighborsClassifier(),\n",
    "    'NB': GaussianNB(),\n",
    "    'CART': DecisionTreeClassifier(),\n",
    "    'RFC': RandomForestClassifier(n_estimators=100),\n",
    "    'ABC': AdaBoostClassifier(),\n",
    "    'GBC': GradientBoostingClassifier(),\n",
    "    'ETC': ExtraTreesClassifier(n_estimators=100),\n",
    "    'XGB': XGBClassifier()\n",
    "}\n",
    "\n",
    "models['VC'] = VotingClassifier(estimators=[\n",
    "    ('lr', models['LR']), ('lda', models['LDA']), ('qda', models['QDA']),\n",
    "    ('svm', models['SVM']),('knn', models['KNN']), ('nb', models['NB']), \n",
    "    ('cart', models['CART']), ('rfc', models['RFC']), ('abc', models['ABC']),\n",
    "    ('gbc', models['GBC']), ('etc', models['ETC']), \n",
    "    ('xgb', models['XGB'])], voting='hard')\n",
    "\n",
    "kfold = StratifiedKFold(n_splits=10)\n",
    "cv_result = []\n",
    "\n",
    "for key in models:\n",
    "        models[key].fit(X_train, y_train)\n",
    "        cv_score = cross_val_score(\n",
    "            models[key], X_train, y_train, scoring=\"accuracy\", cv=kfold)\n",
    "        cv_means = round(cv_score.mean(), 2)\n",
    "        cv_std = round(cv_score.std(), 2)\n",
    "        acc_score = round(models[key].score(X_test, y_test), 2)\n",
    "        cvresult = {'models': key, 'score': cv_means, 'type': 'cv'}\n",
    "        cv_result.append(cvresult)\n",
    "        cvresult = {'models': key, 'score': acc_score, 'type': 'acc'}\n",
    "        cv_result.append(cvresult)\n",
    "    #     print(confusion_matrix(y_test, models[key].predict(X_test)))\n",
    "    #     print(key)\n",
    "    #     print('='*80)\n",
    "    #     print(classification_report(y_test, models[key].predict(X_test)))\n",
    "    #     print(key,'====',models[key].get_params())\n",
    "\n",
    "cv_results = pd.DataFrame(cv_result)\n",
    "\n",
    "plt.figure(figsize=(14, 10))\n",
    "sns.set(style=\"whitegrid\")\n",
    "# g = sns.barplot(x='score', y='models', hue='type', data=cv_results, palette=\"muted\");\n",
    "g = sns.barplot(x='score', y='models', hue='type', data=cv_results, **{'xerr': cv_std}, palette='muted')\n",
    "g.set_xticks(np.arange(0, 1.05, 0.05));"
   ]
  },
  {
   "cell_type": "code",
   "execution_count": 67,
   "metadata": {},
   "outputs": [],
   "source": [
    "#### DecisionTreeClassifier is a better choice"
   ]
  },
  {
   "cell_type": "code",
   "execution_count": 256,
   "metadata": {},
   "outputs": [
    {
     "data": {
      "image/png": "[encoded data removed]",
      "text/plain": [
       "<Figure size 432x288 with 1 Axes>"
      ]
     },
     "metadata": {},
     "output_type": "display_data"
    }
   ],
   "source": [
    "# Plotting Validation Curves todo\n",
    "\n",
    "def plot_learning_curve(estimator, title, X, y, ylim=None, cv=None, n_jobs=None, \n",
    "                        train_sizes=np.linspace(.1, 1.0, 5)):\n",
    "    plt.figure()\n",
    "    plt.title(title)\n",
    "    if ylim is not None:\n",
    "        plt.ylim(*ylim)\n",
    "    plt.xlabel(\"Training examples\")\n",
    "    plt.ylabel(\"Score\")\n",
    "    train_sizes, train_scores, test_scores = learning_curve(\n",
    "        estimator, X, y, cv=cv, n_jobs=n_jobs, train_sizes=train_sizes)\n",
    "    train_scores_mean = np.mean(train_scores, axis=1)\n",
    "    train_scores_std = np.std(train_scores, axis=1)\n",
    "    test_scores_mean = np.mean(test_scores, axis=1)\n",
    "    test_scores_std = np.std(test_scores, axis=1)\n",
    "    plt.grid()\n",
    "    plt.fill_between(train_sizes, train_scores_mean - train_scores_std,\n",
    "                     train_scores_mean + train_scores_std, alpha=0.1,  color=\"r\")\n",
    "    plt.fill_between(train_sizes, test_scores_mean - test_scores_std,\n",
    "                     test_scores_mean + test_scores_std, alpha=0.1, color=\"g\")\n",
    "    plt.plot(train_sizes, train_scores_mean, 'o-',\n",
    "             color=\"r\", label=\"Training score\")\n",
    "    plt.plot(train_sizes, test_scores_mean, 'o-',\n",
    "             color=\"g\", label=\"Cross-validation score\")\n",
    "    plt.legend(loc=\"best\")\n",
    "    return plt\n",
    "\n",
    "\n",
    "# for key in models:\n",
    "#     plot_learning_curve(models[key], key, X_train, y_train, cv=5)\n",
    "plot_learning_curve(models['CART'], key, X_train, y_train, cv=5);"
   ]
  },
  {
   "cell_type": "code",
   "execution_count": 257,
   "metadata": {},
   "outputs": [
    {
     "data": {
      "text/plain": [
       "'0.21.2'"
      ]
     },
     "execution_count": 257,
     "metadata": {},
     "output_type": "execute_result"
    }
   ],
   "source": [
    "import sklearn\n",
    "sklearn.__version__"
   ]
  },
  {
   "cell_type": "code",
   "execution_count": 258,
   "metadata": {
    "scrolled": true
   },
   "outputs": [
    {
     "data": {
      "image/png": "[encoded data removed]",
      "text/plain": [
       "<Figure size 432x288 with 1 Axes>"
      ]
     },
     "metadata": {},
     "output_type": "display_data"
    }
   ],
   "source": [
    "#### Hyper\n",
    "\n",
    "### visual\n",
    "\n",
    "from sklearn import tree\n",
    "tree.plot_tree(models['CART'].fit(X_train, y_train));"
   ]
  },
  {
   "cell_type": "code",
   "execution_count": 259,
   "metadata": {},
   "outputs": [
    {
     "data": {
      "text/plain": [
       "'iris.pdf'"
      ]
     },
     "execution_count": 259,
     "metadata": {},
     "output_type": "execute_result"
    }
   ],
   "source": [
    "import graphviz \n",
    "dot_data = tree.export_graphviz(models['CART'], out_file=None, feature_names=data_grp.columns[1:14], filled=True, rounded=True, special_characters=True) \n",
    "graph = graphviz.Source(dot_data) \n",
    "graph.render(\"iris\") "
   ]
  },
  {
   "cell_type": "markdown",
   "metadata": {},
   "source": [
    "## Discusstion"
   ]
  },
  {
   "cell_type": "markdown",
   "metadata": {},
   "source": [
    "## References"
   ]
  },
  {
   "cell_type": "code",
   "execution_count": 260,
   "metadata": {
    "scrolled": false
   },
   "outputs": [
    {
     "name": "stdout",
     "output_type": "stream",
     "text": [
      "Confusion Matrix:\n",
      "================================================================================\n",
      "[[44  2]\n",
      " [ 6 29]]\n",
      "================================================================================\n",
      "\n",
      "Classification Report:\n",
      "================================================================================\n",
      "              precision    recall  f1-score   support\n",
      "\n",
      "           0       0.88      0.96      0.92        46\n",
      "           1       0.94      0.83      0.88        35\n",
      "\n",
      "    accuracy                           0.90        81\n",
      "   macro avg       0.91      0.89      0.90        81\n",
      "weighted avg       0.90      0.90      0.90        81\n",
      "\n",
      "================================================================================\n",
      "\n",
      "Classification Report:\n",
      "================================================================================\n",
      "RFC ==== {'bootstrap': True, 'class_weight': None, 'criterion': 'gini', 'max_depth': None, 'max_features': 'auto', 'max_leaf_nodes': None, 'min_impurity_decrease': 0.0, 'min_impurity_split': None, 'min_samples_leaf': 1, 'min_samples_split': 2, 'min_weight_fraction_leaf': 0.0, 'n_estimators': 100, 'n_jobs': None, 'oob_score': False, 'random_state': None, 'verbose': 0, 'warm_start': False}\n",
      "================================================================================\n"
     ]
    }
   ],
   "source": [
    "key = 'RFC'\n",
    "print('Confusion Matrix:')\n",
    "print('='*80)\n",
    "print(confusion_matrix(y_test, models[key].predict(X_test)))\n",
    "print('='*80)\n",
    "print('')\n",
    "print('Classification Report:')\n",
    "print('='*80)\n",
    "print(classification_report(y_test, models[key].predict(X_test)))\n",
    "print('='*80)\n",
    "print('')\n",
    "print('Classification Report:')\n",
    "print('='*80)\n",
    "print(key,'====',models[key].get_params())\n",
    "print('='*80)"
   ]
  },
  {
   "cell_type": "code",
   "execution_count": 261,
   "metadata": {},
   "outputs": [
    {
     "name": "stdout",
     "output_type": "stream",
     "text": [
      "1 1.0 1.0\n",
      "2 1.0 1.0\n",
      "3 1.0 1.0\n",
      "4 1.0 1.0\n",
      "5 1.0 1.0\n",
      "6 1.0 1.0\n",
      "7 1.0 1.0\n",
      "8 1.0 1.0\n",
      "9 1.0 1.0\n",
      "10 1.0 1.0\n",
      "11 1.0 1.0\n",
      "12 1.0 1.0\n",
      "13 1.0 1.0\n",
      "14 1.0 1.0\n",
      "15 1.0 1.0\n",
      "16 1.0 1.0\n",
      "17 1.0 1.0\n",
      "18 1.0 1.0\n",
      "19 1.0 1.0\n",
      "20 1.0 1.0\n",
      "21 1.0 1.0\n",
      "22 1.0 1.0\n",
      "23 1.0 1.0\n",
      "24 1.0 1.0\n",
      "25 1.0 1.0\n",
      "26 1.0 1.0\n",
      "27 1.0 1.0\n",
      "28 1.0 1.0\n"
     ]
    },
    {
     "data": {
      "text/plain": [
       "[<matplotlib.lines.Line2D at 0x7f0bf8337e80>]"
      ]
     },
     "execution_count": 261,
     "metadata": {},
     "output_type": "execute_result"
    },
    {
     "data": {
      "image/png": "[encoded data removed]",
      "text/plain": [
       "<Figure size 432x288 with 1 Axes>"
      ]
     },
     "metadata": {},
     "output_type": "display_data"
    }
   ],
   "source": [
    "from sklearn.feature_selection import SelectKBest, chi2\n",
    "cv_m = []\n",
    "cv_acc = []\n",
    "X, y = data_grp.values[:, 1:], data_grp.values[:, 0]   \n",
    "for i in range(1,data.shape[1]): \n",
    "    ch2=SelectKBest(chi2, k=i)\n",
    "    X_f = ch2.fit_transform(X, y)\n",
    "    X_train, X_test, y_train, y_test = train_test_split(X_f, y)\n",
    "    m_f = RandomForestClassifier(n_estimators=100)\n",
    "    m_f.fit(X_train, y_train)\n",
    "    cv_score = cross_val_score(m_f, X_train, y_train, scoring=\"accuracy\", cv=kfold)\n",
    "    cv_means = round(cv_score.mean(), 2)\n",
    "    #     cv_std = round(cv_score.std(), 2)\n",
    "    acc_score = round(m_f.score(X_test, y_test), 2)\n",
    "    cv_m.append(cv_means)\n",
    "    cv_acc.append(acc_score)\n",
    "    print(i, cv_means, acc_score)\n",
    "\n",
    "plt.plot(range(28), cv_m)\n"
   ]
  },
  {
   "cell_type": "code",
   "execution_count": 262,
   "metadata": {},
   "outputs": [
    {
     "name": "stdout",
     "output_type": "stream",
     "text": [
      "[nan nan nan nan nan nan nan nan nan nan nan nan nan nan nan nan nan nan\n",
      " nan nan nan nan nan nan nan nan nan nan]\n",
      "[False False False False False False False False False False False False\n",
      " False False False False False False  True  True  True  True  True  True\n",
      "  True  True  True  True]\n"
     ]
    },
    {
     "data": {
      "text/plain": [
       "Index(['GRP', 'AGE', 'SEX', 'CUL', 'PRO', 'INC', 'LOC', 'SEL', 'SRC', 'REA',\n",
       "       'WIL', 'PAY', 'CHI', 'REL', 'IHE', 'IAP', 'INU', 'IIN', 'ILO', 'IRE',\n",
       "       'IME', 'ICA', 'IFR', 'IAC', 'IIN.1', 'IST', 'IFA', 'IPO', 'ICI'],\n",
       "      dtype='object')"
      ]
     },
     "execution_count": 262,
     "metadata": {},
     "output_type": "execute_result"
    }
   ],
   "source": [
    "from sklearn.feature_selection import SelectKBest\n",
    "from sklearn.feature_selection import chi2\n",
    "testchi = chi2(X, y)\n",
    "test = SelectKBest(score_func=chi2, k=10)\n",
    "fit = test.fit(X, y)\n",
    "print(fit.scores_)\n",
    "features = fit.transform(X)\n",
    "test.get_support()\n",
    "print(test.get_support())\n",
    "data_grp.columns"
   ]
  },
  {
   "cell_type": "code",
   "execution_count": 263,
   "metadata": {},
   "outputs": [
    {
     "name": "stdout",
     "output_type": "stream",
     "text": [
      "[0. 0. 0. 0. 0. 0. 0. 0. 0. 0. 0. 0. 0. 0. 0. 0. 0. 0. 0. 0. 0. 0. 0. 0.\n",
      " 0. 0. 0. 0.]\n"
     ]
    }
   ],
   "source": [
    "from sklearn.ensemble import ExtraTreesClassifier\n",
    "model = ExtraTreesClassifier(n_estimators=100)\n",
    "fit = model.fit(X, y)\n",
    "print(fit.feature_importances_)"
   ]
  },
  {
   "cell_type": "code",
   "execution_count": null,
   "metadata": {},
   "outputs": [],
   "source": []
  }
 ],
 "metadata": {
  "hide_input": false,
  "kernelspec": {
   "display_name": "Python 3",
   "language": "python",
   "name": "python3"
  },
  "language_info": {
   "codemirror_mode": {
    "name": "ipython",
    "version": 3
   },
   "file_extension": ".py",
   "mimetype": "text/x-python",
   "name": "python",
   "nbconvert_exporter": "python",
   "pygments_lexer": "ipython3",
   "version": "3.7.2"
  },
  "toc": {
   "base_numbering": 1,
   "nav_menu": {},
   "number_sections": false,
   "sideBar": true,
   "skip_h1_title": true,
   "title_cell": "Table of Contents",
   "title_sidebar": "Contents",
   "toc_cell": false,
   "toc_position": {
    "height": "calc(100% - 180px)",
    "left": "10px",
    "top": "150px",
    "width": "256px"
   },
   "toc_section_display": true,
   "toc_window_display": true
  }
 },
 "nbformat": 4,
 "nbformat_minor": 2
}
